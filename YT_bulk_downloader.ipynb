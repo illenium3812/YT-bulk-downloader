{
  "nbformat": 4,
  "nbformat_minor": 0,
  "metadata": {
    "colab": {
      "name": "YT-bulk-downloader.ipynb",
      "provenance": []
    },
    "kernelspec": {
      "name": "python3",
      "display_name": "Python 3"
    },
    "language_info": {
      "name": "python"
    }
  },
  "cells": [
    {
      "cell_type": "code",
      "execution_count": null,
      "metadata": {
        "id": "p6v52YUO_Sta",
        "colab": {
          "base_uri": "https://localhost:8080/"
        },
        "outputId": "7ccbe9db-57d6-427d-de24-3d3f54ac4776"
      },
      "outputs": [
        {
          "metadata": {
            "tags": null
          },
          "name": "stdout",
          "output_type": "stream",
          "text": [
            "Drive already mounted at /content/drive; to attempt to forcibly remount, call drive.mount(\"/content/drive\", force_remount=True).\n",
            "Total Links found :609\n",
            "Starting from 0\n",
            "Downloading Sure Fire Wrench | size = 39.83875 mb\n",
            "[MoviePy] >>>> Building video drive/My Drive/Colab Notebooks/using a wrench videos/clipped/Sure Fire Wrench.mp4\n",
            "[MoviePy] Writing audio in Sure Fire WrenchTEMP_MPY_wvf_snd.mp3\n"
          ]
        },
        {
          "metadata": {
            "tags": null
          },
          "name": "stderr",
          "output_type": "stream",
          "text": [
            "100%|██████████| 221/221 [00:00<00:00, 490.73it/s]"
          ]
        },
        {
          "metadata": {
            "tags": null
          },
          "name": "stdout",
          "output_type": "stream",
          "text": [
            "[MoviePy] Done.\n",
            "[MoviePy] Writing video drive/My Drive/Colab Notebooks/using a wrench videos/clipped/Sure Fire Wrench.mp4\n"
          ]
        },
        {
          "metadata": {
            "tags": null
          },
          "name": "stderr",
          "output_type": "stream",
          "text": [
            "\n",
            "100%|█████████▉| 240/241 [00:11<00:00, 20.96it/s]\n"
          ]
        },
        {
          "metadata": {
            "tags": null
          },
          "name": "stdout",
          "output_type": "stream",
          "text": [
            "[MoviePy] Done.\n",
            "[MoviePy] >>>> Video ready: drive/My Drive/Colab Notebooks/using a wrench videos/clipped/Sure Fire Wrench.mp4 \n",
            "\n",
            "Downloading Rothenberger Aluminium Pipe Wrench | size = 19.726309 mb\n",
            "[MoviePy] >>>> Building video drive/My Drive/Colab Notebooks/using a wrench videos/clipped/Rothenberger Aluminium Pipe Wrench.mp4\n",
            "[MoviePy] Writing audio in Rothenberger Aluminium Pipe WrenchTEMP_MPY_wvf_snd.mp3\n"
          ]
        },
        {
          "metadata": {
            "tags": null
          },
          "name": "stderr",
          "output_type": "stream",
          "text": [
            "100%|██████████| 221/221 [00:00<00:00, 721.98it/s]"
          ]
        },
        {
          "metadata": {
            "tags": null
          },
          "name": "stdout",
          "output_type": "stream",
          "text": [
            "[MoviePy] Done.\n",
            "[MoviePy] Writing video drive/My Drive/Colab Notebooks/using a wrench videos/clipped/Rothenberger Aluminium Pipe Wrench.mp4\n"
          ]
        },
        {
          "metadata": {
            "tags": null
          },
          "name": "stderr",
          "output_type": "stream",
          "text": [
            "\n",
            "100%|█████████▉| 250/251 [00:12<00:00, 19.94it/s]\n"
          ]
        },
        {
          "metadata": {
            "tags": null
          },
          "name": "stdout",
          "output_type": "stream",
          "text": [
            "[MoviePy] Done.\n",
            "[MoviePy] >>>> Video ready: drive/My Drive/Colab Notebooks/using a wrench videos/clipped/Rothenberger Aluminium Pipe Wrench.mp4 \n",
            "\n",
            "regex_search: could not find match for (?:v=|\\/)([0-9A-Za-z_-]{11}).*\n",
            "regex_search: could not find match for (?:v=|\\/)([0-9A-Za-z_-]{11}).*\n",
            "regex_search: could not find match for (?:v=|\\/)([0-9A-Za-z_-]{11}).*\n",
            "regex_search: could not find match for (?:v=|\\/)([0-9A-Za-z_-]{11}).*\n",
            "regex_search: could not find match for (?:v=|\\/)([0-9A-Za-z_-]{11}).*\n",
            "regex_search: could not find match for (?:v=|\\/)([0-9A-Za-z_-]{11}).*\n",
            "Downloading 8in1 Ratchet Wrench Socket | size = 1.686576 mb\n",
            "[MoviePy] >>>> Building video drive/My Drive/Colab Notebooks/using a wrench videos/clipped/8in1 Ratchet Wrench Socket.mp4\n",
            "[MoviePy] Writing audio in 8in1 Ratchet Wrench SocketTEMP_MPY_wvf_snd.mp3\n"
          ]
        },
        {
          "metadata": {
            "tags": null
          },
          "name": "stderr",
          "output_type": "stream",
          "text": [
            " 98%|█████████▊| 216/221 [00:00<00:00, 840.03it/s]\n"
          ]
        },
        {
          "metadata": {
            "tags": null
          },
          "name": "stdout",
          "output_type": "stream",
          "text": [
            "Error in file drive/My Drive/Colab Notebooks/using a wrench videos/8in1 Ratchet Wrench Socket.mp4, Accessing time t=23.77-23.82 seconds, with clip duration=23 seconds, \n",
            "Downloading Bahco 94 piece Assorted 1 4 & 1 2  Sq  Drive Metric Socket and Spanner Set | size = 95.777821 mb\n",
            "[MoviePy] >>>> Building video drive/My Drive/Colab Notebooks/using a wrench videos/clipped/Bahco 94 piece Assorted 1 4 & 1 2  Sq  Drive Metric Socket and Spanner Set.mp4\n",
            "[MoviePy] Writing audio in Bahco 94 piece Assorted 1 4 & 1 2  Sq  Drive Metric Socket and Spanner SetTEMP_MPY_wvf_snd.mp3\n"
          ]
        },
        {
          "metadata": {
            "tags": null
          },
          "name": "stderr",
          "output_type": "stream",
          "text": [
            "100%|██████████| 221/221 [00:00<00:00, 696.16it/s]"
          ]
        },
        {
          "metadata": {
            "tags": null
          },
          "name": "stdout",
          "output_type": "stream",
          "text": [
            "[MoviePy] Done.\n",
            "[MoviePy] Writing video drive/My Drive/Colab Notebooks/using a wrench videos/clipped/Bahco 94 piece Assorted 1 4 & 1 2  Sq  Drive Metric Socket and Spanner Set.mp4\n"
          ]
        },
        {
          "metadata": {
            "tags": null
          },
          "name": "stderr",
          "output_type": "stream",
          "text": [
            "\n",
            "100%|██████████| 249/249 [00:14<00:00, 16.76it/s]\n"
          ]
        },
        {
          "metadata": {
            "tags": null
          },
          "name": "stdout",
          "output_type": "stream",
          "text": [
            "[MoviePy] Done.\n",
            "[MoviePy] >>>> Video ready: drive/My Drive/Colab Notebooks/using a wrench videos/clipped/Bahco 94 piece Assorted 1 4 & 1 2  Sq  Drive Metric Socket and Spanner Set.mp4 \n",
            "\n",
            "Downloading End wrench to break a padlock | size = 14.389219 mb\n",
            "[MoviePy] >>>> Building video drive/My Drive/Colab Notebooks/using a wrench videos/clipped/End wrench to break a padlock.mp4\n",
            "[MoviePy] Writing audio in End wrench to break a padlockTEMP_MPY_wvf_snd.mp3\n"
          ]
        },
        {
          "metadata": {
            "tags": null
          },
          "name": "stderr",
          "output_type": "stream",
          "text": [
            "100%|██████████| 221/221 [00:00<00:00, 507.71it/s]"
          ]
        },
        {
          "metadata": {
            "tags": null
          },
          "name": "stdout",
          "output_type": "stream",
          "text": [
            "[MoviePy] Done.\n",
            "[MoviePy] Writing video drive/My Drive/Colab Notebooks/using a wrench videos/clipped/End wrench to break a padlock.mp4\n"
          ]
        },
        {
          "metadata": {
            "tags": null
          },
          "name": "stderr",
          "output_type": "stream",
          "text": [
            "\n",
            "100%|█████████▉| 299/300 [00:19<00:00, 15.27it/s]\n"
          ]
        },
        {
          "metadata": {
            "tags": null
          },
          "name": "stdout",
          "output_type": "stream",
          "text": [
            "[MoviePy] Done.\n",
            "[MoviePy] >>>> Video ready: drive/My Drive/Colab Notebooks/using a wrench videos/clipped/End wrench to break a padlock.mp4 \n",
            "\n",
            "Downloading 1911 Barrel Bushing Tool, The Plug Capture Tool | size = 19.217774 mb\n",
            "[MoviePy] >>>> Building video drive/My Drive/Colab Notebooks/using a wrench videos/clipped/1911 Barrel Bushing Tool, The Plug Capture Tool.mp4\n",
            "[MoviePy] Writing audio in 1911 Barrel Bushing Tool, The Plug Capture ToolTEMP_MPY_wvf_snd.mp3\n"
          ]
        },
        {
          "metadata": {
            "tags": null
          },
          "name": "stderr",
          "output_type": "stream",
          "text": [
            "100%|██████████| 221/221 [00:00<00:00, 839.77it/s]"
          ]
        },
        {
          "metadata": {
            "tags": null
          },
          "name": "stdout",
          "output_type": "stream",
          "text": [
            "[MoviePy] Done.\n",
            "[MoviePy] Writing video drive/My Drive/Colab Notebooks/using a wrench videos/clipped/1911 Barrel Bushing Tool, The Plug Capture Tool.mp4\n"
          ]
        },
        {
          "metadata": {
            "tags": null
          },
          "name": "stderr",
          "output_type": "stream",
          "text": [
            "\n",
            "100%|██████████| 300/300 [00:11<00:00, 26.19it/s]\n"
          ]
        },
        {
          "metadata": {
            "tags": null
          },
          "name": "stdout",
          "output_type": "stream",
          "text": [
            "[MoviePy] Done.\n",
            "[MoviePy] >>>> Video ready: drive/My Drive/Colab Notebooks/using a wrench videos/clipped/1911 Barrel Bushing Tool, The Plug Capture Tool.mp4 \n",
            "\n",
            "Downloading Jonard Tools Ratcheting Speed Wrenches (1/12, 7/16, 7/16 Stubby) | size = 24.913597 mb\n",
            "[MoviePy] >>>> Building video drive/My Drive/Colab Notebooks/using a wrench videos/clipped/Jonard Tools Ratcheting Speed Wrenches (112, 716, 716 Stubby).mp4\n",
            "[MoviePy] Writing audio in Jonard Tools Ratcheting Speed Wrenches (112, 716, 716 Stubby)TEMP_MPY_wvf_snd.mp3\n"
          ]
        },
        {
          "metadata": {
            "tags": null
          },
          "name": "stderr",
          "output_type": "stream",
          "text": [
            "100%|██████████| 221/221 [00:00<00:00, 519.57it/s]"
          ]
        },
        {
          "metadata": {
            "tags": null
          },
          "name": "stdout",
          "output_type": "stream",
          "text": [
            "[MoviePy] Done.\n",
            "[MoviePy] Writing video drive/My Drive/Colab Notebooks/using a wrench videos/clipped/Jonard Tools Ratcheting Speed Wrenches (112, 716, 716 Stubby).mp4\n"
          ]
        },
        {
          "metadata": {
            "tags": null
          },
          "name": "stderr",
          "output_type": "stream",
          "text": [
            "\n",
            "100%|██████████| 300/300 [00:15<00:00, 19.13it/s]\n"
          ]
        },
        {
          "metadata": {
            "tags": null
          },
          "name": "stdout",
          "output_type": "stream",
          "text": [
            "[MoviePy] Done.\n",
            "[MoviePy] >>>> Video ready: drive/My Drive/Colab Notebooks/using a wrench videos/clipped/Jonard Tools Ratcheting Speed Wrenches (112, 716, 716 Stubby).mp4 \n",
            "\n",
            "Downloading Rim Repair Wrench - Gammatrade Llc. | size = 2.237359 mb\n",
            "[MoviePy] >>>> Building video drive/My Drive/Colab Notebooks/using a wrench videos/clipped/Rim Repair Wrench - Gammatrade Llc..mp4\n",
            "[MoviePy] Writing audio in Rim Repair Wrench - Gammatrade Llc.TEMP_MPY_wvf_snd.mp3\n"
          ]
        },
        {
          "metadata": {
            "tags": null
          },
          "name": "stderr",
          "output_type": "stream",
          "text": [
            "100%|██████████| 221/221 [00:00<00:00, 496.90it/s]"
          ]
        },
        {
          "metadata": {
            "tags": null
          },
          "name": "stdout",
          "output_type": "stream",
          "text": [
            "[MoviePy] Done.\n",
            "[MoviePy] Writing video drive/My Drive/Colab Notebooks/using a wrench videos/clipped/Rim Repair Wrench - Gammatrade Llc..mp4\n"
          ]
        },
        {
          "metadata": {
            "tags": null
          },
          "name": "stderr",
          "output_type": "stream",
          "text": [
            "\n",
            "100%|██████████| 240/240 [00:02<00:00, 89.32it/s] \n"
          ]
        },
        {
          "metadata": {
            "tags": null
          },
          "name": "stdout",
          "output_type": "stream",
          "text": [
            "[MoviePy] Done.\n",
            "[MoviePy] >>>> Video ready: drive/My Drive/Colab Notebooks/using a wrench videos/clipped/Rim Repair Wrench - Gammatrade Llc..mp4 \n",
            "\n",
            "Downloading Teaching kids how to wrench | size = 13.688059 mb\n",
            "[MoviePy] >>>> Building video drive/My Drive/Colab Notebooks/using a wrench videos/clipped/Teaching kids how to wrench.mp4\n",
            "[MoviePy] Writing audio in Teaching kids how to wrenchTEMP_MPY_wvf_snd.mp3\n"
          ]
        },
        {
          "metadata": {
            "tags": null
          },
          "name": "stderr",
          "output_type": "stream",
          "text": [
            "100%|██████████| 221/221 [00:00<00:00, 697.68it/s]"
          ]
        },
        {
          "metadata": {
            "tags": null
          },
          "name": "stdout",
          "output_type": "stream",
          "text": [
            "[MoviePy] Done.\n",
            "[MoviePy] Writing video drive/My Drive/Colab Notebooks/using a wrench videos/clipped/Teaching kids how to wrench.mp4\n"
          ]
        },
        {
          "metadata": {
            "tags": null
          },
          "name": "stderr",
          "output_type": "stream",
          "text": [
            "\n",
            "100%|██████████| 300/300 [00:19<00:00, 15.25it/s]\n"
          ]
        },
        {
          "metadata": {
            "tags": null
          },
          "name": "stdout",
          "output_type": "stream",
          "text": [
            "[MoviePy] Done.\n",
            "[MoviePy] >>>> Video ready: drive/My Drive/Colab Notebooks/using a wrench videos/clipped/Teaching kids how to wrench.mp4 \n",
            "\n",
            "Downloading ToolsVision - Maxitek 5pce Ratchet Set | size = 1.048174 mb\n",
            "[MoviePy] >>>> Building video drive/My Drive/Colab Notebooks/using a wrench videos/clipped/ToolsVision - Maxitek 5pce Ratchet Set.mp4\n",
            "[MoviePy] Writing audio in ToolsVision - Maxitek 5pce Ratchet SetTEMP_MPY_wvf_snd.mp3\n"
          ]
        },
        {
          "metadata": {
            "tags": null
          },
          "name": "stderr",
          "output_type": "stream",
          "text": [
            "100%|██████████| 221/221 [00:00<00:00, 632.69it/s]"
          ]
        },
        {
          "metadata": {
            "tags": null
          },
          "name": "stdout",
          "output_type": "stream",
          "text": [
            "[MoviePy] Done.\n",
            "[MoviePy] Writing video drive/My Drive/Colab Notebooks/using a wrench videos/clipped/ToolsVision - Maxitek 5pce Ratchet Set.mp4\n"
          ]
        },
        {
          "metadata": {
            "tags": null
          },
          "name": "stderr",
          "output_type": "stream",
          "text": [
            "\n",
            "100%|██████████| 300/300 [00:03<00:00, 75.25it/s]\n"
          ]
        },
        {
          "metadata": {
            "tags": null
          },
          "name": "stdout",
          "output_type": "stream",
          "text": [
            "[MoviePy] Done.\n",
            "[MoviePy] >>>> Video ready: drive/My Drive/Colab Notebooks/using a wrench videos/clipped/ToolsVision - Maxitek 5pce Ratchet Set.mp4 \n",
            "\n",
            "Downloading Basic Bike Tool Use - Pliers, Adjustable Wrenches | size = 32.139673 mb\n",
            "[MoviePy] >>>> Building video drive/My Drive/Colab Notebooks/using a wrench videos/clipped/Basic Bike Tool Use - Pliers, Adjustable Wrenches.mp4\n",
            "[MoviePy] Writing audio in Basic Bike Tool Use - Pliers, Adjustable WrenchesTEMP_MPY_wvf_snd.mp3\n"
          ]
        },
        {
          "metadata": {
            "tags": null
          },
          "name": "stderr",
          "output_type": "stream",
          "text": [
            "100%|██████████| 221/221 [00:00<00:00, 639.21it/s]"
          ]
        },
        {
          "metadata": {
            "tags": null
          },
          "name": "stdout",
          "output_type": "stream",
          "text": [
            "[MoviePy] Done.\n",
            "[MoviePy] Writing video drive/My Drive/Colab Notebooks/using a wrench videos/clipped/Basic Bike Tool Use - Pliers, Adjustable Wrenches.mp4\n"
          ]
        },
        {
          "metadata": {
            "tags": null
          },
          "name": "stderr",
          "output_type": "stream",
          "text": [
            "\n",
            "100%|██████████| 300/300 [00:05<00:00, 58.54it/s]\n"
          ]
        },
        {
          "metadata": {
            "tags": null
          },
          "name": "stdout",
          "output_type": "stream",
          "text": [
            "[MoviePy] Done.\n",
            "[MoviePy] >>>> Video ready: drive/My Drive/Colab Notebooks/using a wrench videos/clipped/Basic Bike Tool Use - Pliers, Adjustable Wrenches.mp4 \n",
            "\n",
            "Downloading Reverse Gear Wrench and Go-Thru Sockets | size = 39.599274 mb\n",
            "[MoviePy] >>>> Building video drive/My Drive/Colab Notebooks/using a wrench videos/clipped/Reverse Gear Wrench and Go-Thru Sockets.mp4\n",
            "[MoviePy] Writing audio in Reverse Gear Wrench and Go-Thru SocketsTEMP_MPY_wvf_snd.mp3\n"
          ]
        },
        {
          "metadata": {
            "tags": null
          },
          "name": "stderr",
          "output_type": "stream",
          "text": [
            "100%|██████████| 221/221 [00:00<00:00, 678.59it/s]"
          ]
        },
        {
          "metadata": {
            "tags": null
          },
          "name": "stdout",
          "output_type": "stream",
          "text": [
            "[MoviePy] Done.\n",
            "[MoviePy] Writing video drive/My Drive/Colab Notebooks/using a wrench videos/clipped/Reverse Gear Wrench and Go-Thru Sockets.mp4\n"
          ]
        },
        {
          "metadata": {
            "tags": null
          },
          "name": "stderr",
          "output_type": "stream",
          "text": [
            "\n",
            "100%|██████████| 300/300 [00:01<00:00, 166.95it/s]\n"
          ]
        },
        {
          "metadata": {
            "tags": null
          },
          "name": "stdout",
          "output_type": "stream",
          "text": [
            "[MoviePy] Done.\n",
            "[MoviePy] >>>> Video ready: drive/My Drive/Colab Notebooks/using a wrench videos/clipped/Reverse Gear Wrench and Go-Thru Sockets.mp4 \n",
            "\n",
            "1K_EAK8H9Tg is unavailable\n",
            "Downloading Squeeze Wrench | size = 5.404526 mb\n",
            "[MoviePy] >>>> Building video drive/My Drive/Colab Notebooks/using a wrench videos/clipped/Squeeze Wrench.mp4\n",
            "[MoviePy] Writing audio in Squeeze WrenchTEMP_MPY_wvf_snd.mp3\n"
          ]
        },
        {
          "metadata": {
            "tags": null
          },
          "name": "stderr",
          "output_type": "stream",
          "text": [
            "100%|██████████| 221/221 [00:00<00:00, 550.33it/s]\n"
          ]
        },
        {
          "metadata": {
            "tags": null
          },
          "name": "stdout",
          "output_type": "stream",
          "text": [
            "[MoviePy] Done.\n",
            "[MoviePy] Writing video drive/My Drive/Colab Notebooks/using a wrench videos/clipped/Squeeze Wrench.mp4\n"
          ]
        },
        {
          "metadata": {
            "tags": null
          },
          "name": "stderr",
          "output_type": "stream",
          "text": [
            "100%|██████████| 300/300 [00:03<00:00, 81.91it/s]\n"
          ]
        },
        {
          "metadata": {
            "tags": null
          },
          "name": "stdout",
          "output_type": "stream",
          "text": [
            "[MoviePy] Done.\n",
            "[MoviePy] >>>> Video ready: drive/My Drive/Colab Notebooks/using a wrench videos/clipped/Squeeze Wrench.mp4 \n",
            "\n",
            "Downloading The Double Spanner Trick (DST) | size = 35.305817 mb\n",
            "[MoviePy] >>>> Building video drive/My Drive/Colab Notebooks/using a wrench videos/clipped/The Double Spanner Trick (DST).mp4\n",
            "[MoviePy] Writing audio in The Double Spanner Trick (DST)TEMP_MPY_wvf_snd.mp3\n"
          ]
        },
        {
          "metadata": {
            "tags": null
          },
          "name": "stderr",
          "output_type": "stream",
          "text": [
            "100%|██████████| 221/221 [00:00<00:00, 486.38it/s]"
          ]
        },
        {
          "metadata": {
            "tags": null
          },
          "name": "stdout",
          "output_type": "stream",
          "text": [
            "[MoviePy] Done.\n",
            "[MoviePy] Writing video drive/My Drive/Colab Notebooks/using a wrench videos/clipped/The Double Spanner Trick (DST).mp4\n"
          ]
        },
        {
          "metadata": {
            "tags": null
          },
          "name": "stderr",
          "output_type": "stream",
          "text": [
            "\n",
            "100%|█████████▉| 300/301 [00:19<00:00, 15.49it/s]\n"
          ]
        },
        {
          "metadata": {
            "tags": null
          },
          "name": "stdout",
          "output_type": "stream",
          "text": [
            "[MoviePy] Done.\n",
            "[MoviePy] >>>> Video ready: drive/My Drive/Colab Notebooks/using a wrench videos/clipped/The Double Spanner Trick (DST).mp4 \n",
            "\n",
            "Downloading Nerrad Tool | size = 12.629408 mb\n",
            "[MoviePy] >>>> Building video drive/My Drive/Colab Notebooks/using a wrench videos/clipped/Nerrad Tool.mp4\n",
            "[MoviePy] Writing audio in Nerrad ToolTEMP_MPY_wvf_snd.mp3\n"
          ]
        },
        {
          "metadata": {
            "tags": null
          },
          "name": "stderr",
          "output_type": "stream",
          "text": [
            "100%|██████████| 221/221 [00:00<00:00, 555.32it/s]\n"
          ]
        },
        {
          "metadata": {
            "tags": null
          },
          "name": "stdout",
          "output_type": "stream",
          "text": [
            "[MoviePy] Done.\n",
            "[MoviePy] Writing video drive/My Drive/Colab Notebooks/using a wrench videos/clipped/Nerrad Tool.mp4\n"
          ]
        },
        {
          "metadata": {
            "tags": null
          },
          "name": "stderr",
          "output_type": "stream",
          "text": [
            "100%|█████████▉| 300/301 [00:23<00:00, 13.00it/s]\n"
          ]
        },
        {
          "metadata": {
            "tags": null
          },
          "name": "stdout",
          "output_type": "stream",
          "text": [
            "[MoviePy] Done.\n",
            "[MoviePy] >>>> Video ready: drive/My Drive/Colab Notebooks/using a wrench videos/clipped/Nerrad Tool.mp4 \n",
            "\n",
            "Downloading Magic Spanner Gator Wrench Grip Universal Socket | size = 7.350282 mb\n",
            "[MoviePy] >>>> Building video drive/My Drive/Colab Notebooks/using a wrench videos/clipped/Magic Spanner Gator Wrench Grip Universal Socket.mp4\n",
            "[MoviePy] Writing audio in Magic Spanner Gator Wrench Grip Universal SocketTEMP_MPY_wvf_snd.mp3\n"
          ]
        },
        {
          "metadata": {
            "tags": null
          },
          "name": "stderr",
          "output_type": "stream",
          "text": [
            "100%|██████████| 221/221 [00:00<00:00, 480.27it/s]"
          ]
        },
        {
          "metadata": {
            "tags": null
          },
          "name": "stdout",
          "output_type": "stream",
          "text": [
            "[MoviePy] Done.\n",
            "[MoviePy] Writing video drive/My Drive/Colab Notebooks/using a wrench videos/clipped/Magic Spanner Gator Wrench Grip Universal Socket.mp4\n"
          ]
        },
        {
          "metadata": {
            "tags": null
          },
          "name": "stderr",
          "output_type": "stream",
          "text": [
            "\n",
            "100%|██████████| 300/300 [00:13<00:00, 22.62it/s]\n"
          ]
        },
        {
          "metadata": {
            "tags": null
          },
          "name": "stdout",
          "output_type": "stream",
          "text": [
            "[MoviePy] Done.\n",
            "[MoviePy] >>>> Video ready: drive/My Drive/Colab Notebooks/using a wrench videos/clipped/Magic Spanner Gator Wrench Grip Universal Socket.mp4 \n",
            "\n",
            "1czyXxYDqPA is a private video\n",
            "Downloading Two-way ratcheting open end spanner wrenches 両方向ラチェットスパナ | size = 3.08843 mb\n",
            "[MoviePy] >>>> Building video drive/My Drive/Colab Notebooks/using a wrench videos/clipped/Two-way ratcheting open end spanner wrenches 両方向ラチェットスパナ.mp4\n",
            "[MoviePy] Writing audio in Two-way ratcheting open end spanner wrenches 両方向ラチェットスパナTEMP_MPY_wvf_snd.mp3\n"
          ]
        },
        {
          "metadata": {
            "tags": null
          },
          "name": "stderr",
          "output_type": "stream",
          "text": [
            "100%|██████████| 221/221 [00:00<00:00, 606.10it/s]"
          ]
        },
        {
          "metadata": {
            "tags": null
          },
          "name": "stdout",
          "output_type": "stream",
          "text": [
            "[MoviePy] Done.\n",
            "[MoviePy] Writing video drive/My Drive/Colab Notebooks/using a wrench videos/clipped/Two-way ratcheting open end spanner wrenches 両方向ラチェットスパナ.mp4\n"
          ]
        },
        {
          "metadata": {
            "tags": null
          },
          "name": "stderr",
          "output_type": "stream",
          "text": [
            "\n",
            "100%|█████████▉| 300/301 [00:01<00:00, 219.44it/s]\n"
          ]
        },
        {
          "metadata": {
            "tags": null
          },
          "name": "stdout",
          "output_type": "stream",
          "text": [
            "[MoviePy] Done.\n",
            "[MoviePy] >>>> Video ready: drive/My Drive/Colab Notebooks/using a wrench videos/clipped/Two-way ratcheting open end spanner wrenches 両方向ラチェットスパナ.mp4 \n",
            "\n",
            "Downloading Gedore Grip Wrench (Pliers Wrench) 137 Series | size = 8.900067 mb\n",
            "[MoviePy] >>>> Building video drive/My Drive/Colab Notebooks/using a wrench videos/clipped/Gedore Grip Wrench (Pliers Wrench) 137 Series.mp4\n",
            "[MoviePy] Writing audio in Gedore Grip Wrench (Pliers Wrench) 137 SeriesTEMP_MPY_wvf_snd.mp3\n"
          ]
        },
        {
          "metadata": {
            "tags": null
          },
          "name": "stderr",
          "output_type": "stream",
          "text": [
            "100%|██████████| 221/221 [00:00<00:00, 553.65it/s]\n"
          ]
        },
        {
          "metadata": {
            "tags": null
          },
          "name": "stdout",
          "output_type": "stream",
          "text": [
            "[MoviePy] Done.\n",
            "[MoviePy] Writing video drive/My Drive/Colab Notebooks/using a wrench videos/clipped/Gedore Grip Wrench (Pliers Wrench) 137 Series.mp4\n"
          ]
        },
        {
          "metadata": {
            "tags": null
          },
          "name": "stderr",
          "output_type": "stream",
          "text": [
            "100%|█████████▉| 250/251 [00:17<00:00, 14.16it/s]\n"
          ]
        },
        {
          "metadata": {
            "tags": null
          },
          "name": "stdout",
          "output_type": "stream",
          "text": [
            "[MoviePy] Done.\n",
            "[MoviePy] >>>> Video ready: drive/My Drive/Colab Notebooks/using a wrench videos/clipped/Gedore Grip Wrench (Pliers Wrench) 137 Series.mp4 \n",
            "\n",
            "Downloading Folding Pocket Wrench | size = 3.060212 mb\n",
            "[MoviePy] >>>> Building video drive/My Drive/Colab Notebooks/using a wrench videos/clipped/Folding Pocket Wrench.mp4\n",
            "[MoviePy] Writing audio in Folding Pocket WrenchTEMP_MPY_wvf_snd.mp3\n"
          ]
        },
        {
          "metadata": {
            "tags": null
          },
          "name": "stderr",
          "output_type": "stream",
          "text": [
            "100%|██████████| 221/221 [00:00<00:00, 809.82it/s]"
          ]
        },
        {
          "metadata": {
            "tags": null
          },
          "name": "stdout",
          "output_type": "stream",
          "text": [
            "[MoviePy] Done.\n",
            "[MoviePy] Writing video drive/My Drive/Colab Notebooks/using a wrench videos/clipped/Folding Pocket Wrench.mp4\n"
          ]
        },
        {
          "metadata": {
            "tags": null
          },
          "name": "stderr",
          "output_type": "stream",
          "text": [
            "\n",
            "100%|█████████▉| 250/251 [00:03<00:00, 76.00it/s]\n"
          ]
        },
        {
          "metadata": {
            "tags": null
          },
          "name": "stdout",
          "output_type": "stream",
          "text": [
            "[MoviePy] Done.\n",
            "[MoviePy] >>>> Video ready: drive/My Drive/Colab Notebooks/using a wrench videos/clipped/Folding Pocket Wrench.mp4 \n",
            "\n",
            "Downloading IRWIN Quick Adjusting Wrench Social Media Clip | size = 1.558227 mb\n",
            "[MoviePy] >>>> Building video drive/My Drive/Colab Notebooks/using a wrench videos/clipped/IRWIN Quick Adjusting Wrench Social Media Clip.mp4\n",
            "[MoviePy] Writing audio in IRWIN Quick Adjusting Wrench Social Media ClipTEMP_MPY_wvf_snd.mp3\n"
          ]
        },
        {
          "metadata": {
            "tags": null
          },
          "name": "stderr",
          "output_type": "stream",
          "text": [
            "100%|██████████| 221/221 [00:00<00:00, 694.80it/s]"
          ]
        },
        {
          "metadata": {
            "tags": null
          },
          "name": "stdout",
          "output_type": "stream",
          "text": [
            "[MoviePy] Done.\n",
            "[MoviePy] Writing video drive/My Drive/Colab Notebooks/using a wrench videos/clipped/IRWIN Quick Adjusting Wrench Social Media Clip.mp4\n"
          ]
        },
        {
          "metadata": {
            "tags": null
          },
          "name": "stderr",
          "output_type": "stream",
          "text": [
            "\n",
            "100%|█████████▉| 300/301 [00:03<00:00, 92.09it/s]\n"
          ]
        },
        {
          "metadata": {
            "tags": null
          },
          "name": "stdout",
          "output_type": "stream",
          "text": [
            "[MoviePy] Done.\n",
            "[MoviePy] >>>> Video ready: drive/My Drive/Colab Notebooks/using a wrench videos/clipped/IRWIN Quick Adjusting Wrench Social Media Clip.mp4 \n",
            "\n",
            "Downloading Magic Wrench | size = 17.898271 mb\n",
            "[MoviePy] >>>> Building video drive/My Drive/Colab Notebooks/using a wrench videos/clipped/Magic Wrench.mp4\n",
            "[MoviePy] Writing audio in Magic WrenchTEMP_MPY_wvf_snd.mp3\n"
          ]
        },
        {
          "metadata": {
            "tags": null
          },
          "name": "stderr",
          "output_type": "stream",
          "text": [
            "100%|██████████| 221/221 [00:00<00:00, 554.17it/s]"
          ]
        },
        {
          "metadata": {
            "tags": null
          },
          "name": "stdout",
          "output_type": "stream",
          "text": [
            "[MoviePy] Done.\n"
          ]
        },
        {
          "metadata": {
            "tags": null
          },
          "name": "stderr",
          "output_type": "stream",
          "text": [
            "\n"
          ]
        },
        {
          "metadata": {
            "tags": null
          },
          "name": "stdout",
          "output_type": "stream",
          "text": [
            "[MoviePy] Writing video drive/My Drive/Colab Notebooks/using a wrench videos/clipped/Magic Wrench.mp4\n"
          ]
        },
        {
          "metadata": {
            "tags": null
          },
          "name": "stderr",
          "output_type": "stream",
          "text": [
            "100%|██████████| 300/300 [00:03<00:00, 96.91it/s]\n"
          ]
        },
        {
          "metadata": {
            "tags": null
          },
          "name": "stdout",
          "output_type": "stream",
          "text": [
            "[MoviePy] Done.\n",
            "[MoviePy] >>>> Video ready: drive/My Drive/Colab Notebooks/using a wrench videos/clipped/Magic Wrench.mp4 \n",
            "\n",
            "Downloading Stanley Spanner Set I 8 Pcs I Hand Tools India | size = 7.447015 mb\n",
            "[MoviePy] >>>> Building video drive/My Drive/Colab Notebooks/using a wrench videos/clipped/Stanley Spanner Set I 8 Pcs I Hand Tools India.mp4\n",
            "[MoviePy] Writing audio in Stanley Spanner Set I 8 Pcs I Hand Tools IndiaTEMP_MPY_wvf_snd.mp3\n"
          ]
        },
        {
          "metadata": {
            "tags": null
          },
          "name": "stderr",
          "output_type": "stream",
          "text": [
            "100%|██████████| 221/221 [00:00<00:00, 497.94it/s]"
          ]
        },
        {
          "metadata": {
            "tags": null
          },
          "name": "stdout",
          "output_type": "stream",
          "text": [
            "[MoviePy] Done.\n",
            "[MoviePy] Writing video drive/My Drive/Colab Notebooks/using a wrench videos/clipped/Stanley Spanner Set I 8 Pcs I Hand Tools India.mp4\n"
          ]
        },
        {
          "metadata": {
            "tags": null
          },
          "name": "stderr",
          "output_type": "stream",
          "text": [
            "\n",
            "100%|█████████▉| 250/251 [00:10<00:00, 24.04it/s]\n"
          ]
        },
        {
          "metadata": {
            "tags": null
          },
          "name": "stdout",
          "output_type": "stream",
          "text": [
            "[MoviePy] Done.\n",
            "[MoviePy] >>>> Video ready: drive/My Drive/Colab Notebooks/using a wrench videos/clipped/Stanley Spanner Set I 8 Pcs I Hand Tools India.mp4 \n",
            "\n",
            "Downloading How To Choose A Wrench - Ace Hardware | size = 35.579964 mb\n",
            "[MoviePy] >>>> Building video drive/My Drive/Colab Notebooks/using a wrench videos/clipped/How To Choose A Wrench - Ace Hardware.mp4\n",
            "[MoviePy] Writing audio in How To Choose A Wrench - Ace HardwareTEMP_MPY_wvf_snd.mp3\n"
          ]
        },
        {
          "metadata": {
            "tags": null
          },
          "name": "stderr",
          "output_type": "stream",
          "text": [
            "100%|██████████| 221/221 [00:00<00:00, 710.16it/s]"
          ]
        },
        {
          "metadata": {
            "tags": null
          },
          "name": "stdout",
          "output_type": "stream",
          "text": [
            "[MoviePy] Done.\n",
            "[MoviePy] Writing video drive/My Drive/Colab Notebooks/using a wrench videos/clipped/How To Choose A Wrench - Ace Hardware.mp4\n"
          ]
        },
        {
          "metadata": {
            "tags": null
          },
          "name": "stderr",
          "output_type": "stream",
          "text": [
            "\n",
            "100%|██████████| 300/300 [00:15<00:00, 19.30it/s]\n"
          ]
        },
        {
          "metadata": {
            "tags": null
          },
          "name": "stdout",
          "output_type": "stream",
          "text": [
            "[MoviePy] Done.\n",
            "[MoviePy] >>>> Video ready: drive/My Drive/Colab Notebooks/using a wrench videos/clipped/How To Choose A Wrench - Ace Hardware.mp4 \n",
            "\n",
            "Downloading Clamp Ratchet Wrench Set 4pc 9-20mm | size = 2.177231 mb\n",
            "[MoviePy] >>>> Building video drive/My Drive/Colab Notebooks/using a wrench videos/clipped/Clamp Ratchet Wrench Set 4pc 9-20mm.mp4\n",
            "[MoviePy] Writing audio in Clamp Ratchet Wrench Set 4pc 9-20mmTEMP_MPY_wvf_snd.mp3\n"
          ]
        },
        {
          "metadata": {
            "tags": null
          },
          "name": "stderr",
          "output_type": "stream",
          "text": [
            "100%|██████████| 221/221 [00:00<00:00, 953.12it/s]"
          ]
        },
        {
          "metadata": {
            "tags": null
          },
          "name": "stdout",
          "output_type": "stream",
          "text": [
            "[MoviePy] Done.\n",
            "[MoviePy] Writing video drive/My Drive/Colab Notebooks/using a wrench videos/clipped/Clamp Ratchet Wrench Set 4pc 9-20mm.mp4\n"
          ]
        },
        {
          "metadata": {
            "tags": null
          },
          "name": "stderr",
          "output_type": "stream",
          "text": [
            "\n",
            "100%|█████████▉| 300/301 [00:04<00:00, 74.54it/s]\n"
          ]
        },
        {
          "metadata": {
            "tags": null
          },
          "name": "stdout",
          "output_type": "stream",
          "text": [
            "[MoviePy] Done.\n",
            "[MoviePy] >>>> Video ready: drive/My Drive/Colab Notebooks/using a wrench videos/clipped/Clamp Ratchet Wrench Set 4pc 9-20mm.mp4 \n",
            "\n",
            "Downloading Cheap wrenches | size = 20.905036 mb\n",
            "[MoviePy] >>>> Building video drive/My Drive/Colab Notebooks/using a wrench videos/clipped/Cheap wrenches.mp4\n",
            "[MoviePy] Writing audio in Cheap wrenchesTEMP_MPY_wvf_snd.mp3\n"
          ]
        },
        {
          "metadata": {
            "tags": null
          },
          "name": "stderr",
          "output_type": "stream",
          "text": [
            "100%|██████████| 221/221 [00:00<00:00, 557.12it/s]\n"
          ]
        },
        {
          "metadata": {
            "tags": null
          },
          "name": "stdout",
          "output_type": "stream",
          "text": [
            "[MoviePy] Done.\n",
            "[MoviePy] Writing video drive/My Drive/Colab Notebooks/using a wrench videos/clipped/Cheap wrenches.mp4\n"
          ]
        },
        {
          "metadata": {
            "tags": null
          },
          "name": "stderr",
          "output_type": "stream",
          "text": [
            "100%|██████████| 300/300 [00:04<00:00, 70.46it/s]\n"
          ]
        },
        {
          "metadata": {
            "tags": null
          },
          "name": "stdout",
          "output_type": "stream",
          "text": [
            "[MoviePy] Done.\n",
            "[MoviePy] >>>> Video ready: drive/My Drive/Colab Notebooks/using a wrench videos/clipped/Cheap wrenches.mp4 \n",
            "\n",
            "3DLrTTC1V5Y is unavailable\n",
            "Downloading RAZOR BACK WRENCH DEMONSTRATION | size = 6.917432 mb\n",
            "[MoviePy] >>>> Building video drive/My Drive/Colab Notebooks/using a wrench videos/clipped/RAZOR BACK WRENCH DEMONSTRATION.mp4\n",
            "[MoviePy] Writing audio in RAZOR BACK WRENCH DEMONSTRATIONTEMP_MPY_wvf_snd.mp3\n"
          ]
        },
        {
          "metadata": {
            "tags": null
          },
          "name": "stderr",
          "output_type": "stream",
          "text": [
            "100%|██████████| 221/221 [00:00<00:00, 926.84it/s]"
          ]
        },
        {
          "metadata": {
            "tags": null
          },
          "name": "stdout",
          "output_type": "stream",
          "text": [
            "[MoviePy] Done.\n",
            "[MoviePy] Writing video drive/My Drive/Colab Notebooks/using a wrench videos/clipped/RAZOR BACK WRENCH DEMONSTRATION.mp4\n"
          ]
        },
        {
          "metadata": {
            "tags": null
          },
          "name": "stderr",
          "output_type": "stream",
          "text": [
            "\n",
            "100%|██████████| 300/300 [00:06<00:00, 42.99it/s]\n"
          ]
        },
        {
          "metadata": {
            "tags": null
          },
          "name": "stdout",
          "output_type": "stream",
          "text": [
            "[MoviePy] Done.\n",
            "[MoviePy] >>>> Video ready: drive/My Drive/Colab Notebooks/using a wrench videos/clipped/RAZOR BACK WRENCH DEMONSTRATION.mp4 \n",
            "\n",
            "Downloading slide wrench | size = 2.333428 mb\n",
            "[MoviePy] >>>> Building video drive/My Drive/Colab Notebooks/using a wrench videos/clipped/slide wrench.mp4\n",
            "[MoviePy] Writing audio in slide wrenchTEMP_MPY_wvf_snd.mp3\n"
          ]
        },
        {
          "metadata": {
            "tags": null
          },
          "name": "stderr",
          "output_type": "stream",
          "text": [
            "100%|██████████| 221/221 [00:00<00:00, 979.44it/s] "
          ]
        },
        {
          "metadata": {
            "tags": null
          },
          "name": "stdout",
          "output_type": "stream",
          "text": [
            "[MoviePy] Done.\n",
            "[MoviePy] Writing video drive/My Drive/Colab Notebooks/using a wrench videos/clipped/slide wrench.mp4\n"
          ]
        },
        {
          "metadata": {
            "tags": null
          },
          "name": "stderr",
          "output_type": "stream",
          "text": [
            "\n",
            "100%|█████████▉| 250/251 [00:01<00:00, 154.19it/s]\n"
          ]
        },
        {
          "metadata": {
            "tags": null
          },
          "name": "stdout",
          "output_type": "stream",
          "text": [
            "[MoviePy] Done.\n",
            "[MoviePy] >>>> Video ready: drive/My Drive/Colab Notebooks/using a wrench videos/clipped/slide wrench.mp4 \n",
            "\n",
            "Downloading how to open a lock with wrench | size = 9.298836 mb\n",
            "[MoviePy] >>>> Building video drive/My Drive/Colab Notebooks/using a wrench videos/clipped/how to open a lock with wrench.mp4\n",
            "[MoviePy] Writing audio in how to open a lock with wrenchTEMP_MPY_wvf_snd.mp3\n"
          ]
        },
        {
          "metadata": {
            "tags": null
          },
          "name": "stderr",
          "output_type": "stream",
          "text": [
            "100%|██████████| 221/221 [00:00<00:00, 771.38it/s]"
          ]
        },
        {
          "metadata": {
            "tags": null
          },
          "name": "stdout",
          "output_type": "stream",
          "text": [
            "[MoviePy] Done.\n",
            "[MoviePy] Writing video drive/My Drive/Colab Notebooks/using a wrench videos/clipped/how to open a lock with wrench.mp4\n"
          ]
        },
        {
          "metadata": {
            "tags": null
          },
          "name": "stderr",
          "output_type": "stream",
          "text": [
            "\n",
            "100%|█████████▉| 240/241 [00:17<00:00, 13.66it/s]\n"
          ]
        },
        {
          "metadata": {
            "tags": null
          },
          "name": "stdout",
          "output_type": "stream",
          "text": [
            "[MoviePy] Done.\n",
            "[MoviePy] >>>> Video ready: drive/My Drive/Colab Notebooks/using a wrench videos/clipped/how to open a lock with wrench.mp4 \n",
            "\n",
            "Downloading Minghaoy Wrench Movement | size = 5.561904 mb\n",
            "[MoviePy] >>>> Building video drive/My Drive/Colab Notebooks/using a wrench videos/clipped/Minghaoy Wrench Movement.mp4\n",
            "[MoviePy] Writing audio in Minghaoy Wrench MovementTEMP_MPY_wvf_snd.mp3\n"
          ]
        },
        {
          "metadata": {
            "tags": null
          },
          "name": "stderr",
          "output_type": "stream",
          "text": [
            " 93%|█████████▎| 206/221 [00:00<00:00, 746.42it/s]\n"
          ]
        },
        {
          "metadata": {
            "tags": null
          },
          "name": "stdout",
          "output_type": "stream",
          "text": [
            "Error in file drive/My Drive/Colab Notebooks/using a wrench videos/Minghaoy Wrench Movement.mp4, Accessing time t=30.32-30.37 seconds, with clip duration=30 seconds, \n",
            "Downloading New Technic...of spanner | size = 1.667661 mb\n",
            "[MoviePy] >>>> Building video drive/My Drive/Colab Notebooks/using a wrench videos/clipped/New Technic...of spanner.mp4\n",
            "[MoviePy] Writing audio in New Technic...of spannerTEMP_MPY_wvf_snd.mp3\n"
          ]
        },
        {
          "metadata": {
            "tags": null
          },
          "name": "stderr",
          "output_type": "stream",
          "text": [
            "100%|██████████| 221/221 [00:00<00:00, 914.62it/s]"
          ]
        },
        {
          "metadata": {
            "tags": null
          },
          "name": "stdout",
          "output_type": "stream",
          "text": [
            "[MoviePy] Done.\n",
            "[MoviePy] Writing video drive/My Drive/Colab Notebooks/using a wrench videos/clipped/New Technic...of spanner.mp4\n"
          ]
        },
        {
          "metadata": {
            "tags": null
          },
          "name": "stderr",
          "output_type": "stream",
          "text": [
            "\n",
            "100%|█████████▉| 250/251 [00:01<00:00, 185.58it/s]\n"
          ]
        },
        {
          "metadata": {
            "tags": null
          },
          "name": "stdout",
          "output_type": "stream",
          "text": [
            "[MoviePy] Done.\n",
            "[MoviePy] >>>> Video ready: drive/My Drive/Colab Notebooks/using a wrench videos/clipped/New Technic...of spanner.mp4 \n",
            "\n",
            "Downloading EN Adjustable ratcheting wrench, One Hand pipe wrench, Tube ratchet wrench set | size = 30.924612 mb\n",
            "[MoviePy] >>>> Building video drive/My Drive/Colab Notebooks/using a wrench videos/clipped/EN Adjustable ratcheting wrench, One Hand pipe wrench, Tube ratchet wrench set.mp4\n",
            "[MoviePy] Writing audio in EN Adjustable ratcheting wrench, One Hand pipe wrench, Tube ratchet wrench setTEMP_MPY_wvf_snd.mp3\n"
          ]
        },
        {
          "metadata": {
            "tags": null
          },
          "name": "stderr",
          "output_type": "stream",
          "text": [
            "100%|██████████| 221/221 [00:00<00:00, 316.26it/s]"
          ]
        },
        {
          "metadata": {
            "tags": null
          },
          "name": "stdout",
          "output_type": "stream",
          "text": [
            "[MoviePy] Done.\n",
            "[MoviePy] Writing video drive/My Drive/Colab Notebooks/using a wrench videos/clipped/EN Adjustable ratcheting wrench, One Hand pipe wrench, Tube ratchet wrench set.mp4\n"
          ]
        },
        {
          "metadata": {
            "tags": null
          },
          "name": "stderr",
          "output_type": "stream",
          "text": [
            "\n",
            "100%|██████████| 300/300 [00:17<00:00, 16.69it/s]\n"
          ]
        },
        {
          "metadata": {
            "tags": null
          },
          "name": "stdout",
          "output_type": "stream",
          "text": [
            "[MoviePy] Done.\n",
            "[MoviePy] >>>> Video ready: drive/My Drive/Colab Notebooks/using a wrench videos/clipped/EN Adjustable ratcheting wrench, One Hand pipe wrench, Tube ratchet wrench set.mp4 \n",
            "\n",
            "Downloading Ez Spanner | size = 48.730356 mb\n",
            "[MoviePy] >>>> Building video drive/My Drive/Colab Notebooks/using a wrench videos/clipped/Ez Spanner.mp4\n",
            "[MoviePy] Writing audio in Ez SpannerTEMP_MPY_wvf_snd.mp3\n"
          ]
        },
        {
          "metadata": {
            "tags": null
          },
          "name": "stderr",
          "output_type": "stream",
          "text": [
            "100%|██████████| 221/221 [00:00<00:00, 503.08it/s]"
          ]
        },
        {
          "metadata": {
            "tags": null
          },
          "name": "stdout",
          "output_type": "stream",
          "text": [
            "[MoviePy] Done.\n",
            "[MoviePy] Writing video drive/My Drive/Colab Notebooks/using a wrench videos/clipped/Ez Spanner.mp4\n"
          ]
        },
        {
          "metadata": {
            "tags": null
          },
          "name": "stderr",
          "output_type": "stream",
          "text": [
            "\n",
            "100%|██████████| 300/300 [00:22<00:00, 13.49it/s]\n"
          ]
        },
        {
          "metadata": {
            "tags": null
          },
          "name": "stdout",
          "output_type": "stream",
          "text": [
            "[MoviePy] Done.\n",
            "[MoviePy] >>>> Video ready: drive/My Drive/Colab Notebooks/using a wrench videos/clipped/Ez Spanner.mp4 \n",
            "\n",
            "Downloading EZ Tools Set of 2 48-in-1 Socket Wrenches with Magnet on QVC | size = 88.978093 mb\n",
            "[MoviePy] >>>> Building video drive/My Drive/Colab Notebooks/using a wrench videos/clipped/EZ Tools Set of 2 48-in-1 Socket Wrenches with Magnet on QVC.mp4\n",
            "[MoviePy] Writing audio in EZ Tools Set of 2 48-in-1 Socket Wrenches with Magnet on QVCTEMP_MPY_wvf_snd.mp3\n"
          ]
        },
        {
          "metadata": {
            "tags": null
          },
          "name": "stderr",
          "output_type": "stream",
          "text": [
            "100%|██████████| 221/221 [00:00<00:00, 672.83it/s]"
          ]
        },
        {
          "metadata": {
            "tags": null
          },
          "name": "stdout",
          "output_type": "stream",
          "text": [
            "[MoviePy] Done.\n",
            "[MoviePy] Writing video drive/My Drive/Colab Notebooks/using a wrench videos/clipped/EZ Tools Set of 2 48-in-1 Socket Wrenches with Magnet on QVC.mp4\n"
          ]
        },
        {
          "metadata": {
            "tags": null
          },
          "name": "stderr",
          "output_type": "stream",
          "text": [
            "\n",
            "100%|██████████| 300/300 [00:17<00:00, 16.84it/s]\n"
          ]
        },
        {
          "metadata": {
            "tags": null
          },
          "name": "stdout",
          "output_type": "stream",
          "text": [
            "[MoviePy] Done.\n",
            "[MoviePy] >>>> Video ready: drive/My Drive/Colab Notebooks/using a wrench videos/clipped/EZ Tools Set of 2 48-in-1 Socket Wrenches with Magnet on QVC.mp4 \n",
            "\n",
            "Downloading KNUCKLEBUDDY® Universal Wrench Extension | size = 8.516006 mb\n",
            "[MoviePy] >>>> Building video drive/My Drive/Colab Notebooks/using a wrench videos/clipped/KNUCKLEBUDDY® Universal Wrench Extension.mp4\n",
            "[MoviePy] Writing audio in KNUCKLEBUDDY® Universal Wrench ExtensionTEMP_MPY_wvf_snd.mp3\n"
          ]
        },
        {
          "metadata": {
            "tags": null
          },
          "name": "stderr",
          "output_type": "stream",
          "text": [
            "100%|██████████| 221/221 [00:00<00:00, 784.05it/s]"
          ]
        },
        {
          "metadata": {
            "tags": null
          },
          "name": "stdout",
          "output_type": "stream",
          "text": [
            "[MoviePy] Done.\n",
            "[MoviePy] Writing video drive/My Drive/Colab Notebooks/using a wrench videos/clipped/KNUCKLEBUDDY® Universal Wrench Extension.mp4\n"
          ]
        },
        {
          "metadata": {
            "tags": null
          },
          "name": "stderr",
          "output_type": "stream",
          "text": [
            "\n",
            "100%|██████████| 300/300 [00:15<00:00, 19.32it/s]\n"
          ]
        },
        {
          "metadata": {
            "tags": null
          },
          "name": "stdout",
          "output_type": "stream",
          "text": [
            "[MoviePy] Done.\n",
            "[MoviePy] >>>> Video ready: drive/My Drive/Colab Notebooks/using a wrench videos/clipped/KNUCKLEBUDDY® Universal Wrench Extension.mp4 \n",
            "\n",
            "Downloading Tekton 6 Point Ratcheting Flex Box End vs. Craftsman Ratcheting Combination Box End Wrench | size = 243.8519 mb\n",
            "[MoviePy] >>>> Building video drive/My Drive/Colab Notebooks/using a wrench videos/clipped/Tekton 6 Point Ratcheting Flex Box End vs. Craftsman Ratcheting Combination Box End Wrench.mp4\n",
            "[MoviePy] Writing audio in Tekton 6 Point Ratcheting Flex Box End vs. Craftsman Ratcheting Combination Box End WrenchTEMP_MPY_wvf_snd.mp3\n"
          ]
        },
        {
          "metadata": {
            "tags": null
          },
          "name": "stderr",
          "output_type": "stream",
          "text": [
            "100%|██████████| 221/221 [00:00<00:00, 481.06it/s]"
          ]
        },
        {
          "metadata": {
            "tags": null
          },
          "name": "stdout",
          "output_type": "stream",
          "text": [
            "[MoviePy] Done.\n",
            "[MoviePy] Writing video drive/My Drive/Colab Notebooks/using a wrench videos/clipped/Tekton 6 Point Ratcheting Flex Box End vs. Craftsman Ratcheting Combination Box End Wrench.mp4\n"
          ]
        },
        {
          "metadata": {
            "tags": null
          },
          "name": "stderr",
          "output_type": "stream",
          "text": [
            "\n",
            "100%|█████████▉| 300/301 [00:20<00:00, 14.79it/s]\n"
          ]
        },
        {
          "metadata": {
            "tags": null
          },
          "name": "stdout",
          "output_type": "stream",
          "text": [
            "[MoviePy] Done.\n",
            "[MoviePy] >>>> Video ready: drive/My Drive/Colab Notebooks/using a wrench videos/clipped/Tekton 6 Point Ratcheting Flex Box End vs. Craftsman Ratcheting Combination Box End Wrench.mp4 \n",
            "\n",
            "Downloading Wrench | size = 5.061249 mb\n",
            "[MoviePy] >>>> Building video drive/My Drive/Colab Notebooks/using a wrench videos/clipped/Wrench.mp4\n",
            "[MoviePy] Writing audio in WrenchTEMP_MPY_wvf_snd.mp3\n"
          ]
        },
        {
          "metadata": {
            "tags": null
          },
          "name": "stderr",
          "output_type": "stream",
          "text": [
            " 97%|█████████▋| 215/221 [00:00<00:00, 933.85it/s]\n"
          ]
        },
        {
          "metadata": {
            "tags": null
          },
          "name": "stdout",
          "output_type": "stream",
          "text": [
            "Error in file drive/My Drive/Colab Notebooks/using a wrench videos/Wrench.mp4, Accessing time t=20.73-20.77 seconds, with clip duration=20 seconds, \n",
            "Downloading The Bionic 14-in-1 Adjustable Wrench on QVC | size = 99.363485 mb\n",
            "[MoviePy] >>>> Building video drive/My Drive/Colab Notebooks/using a wrench videos/clipped/The Bionic 14-in-1 Adjustable Wrench on QVC.mp4\n",
            "[MoviePy] Writing audio in The Bionic 14-in-1 Adjustable Wrench on QVCTEMP_MPY_wvf_snd.mp3\n"
          ]
        },
        {
          "metadata": {
            "tags": null
          },
          "name": "stderr",
          "output_type": "stream",
          "text": [
            "100%|██████████| 221/221 [00:00<00:00, 670.74it/s]"
          ]
        },
        {
          "metadata": {
            "tags": null
          },
          "name": "stdout",
          "output_type": "stream",
          "text": [
            "[MoviePy] Done.\n",
            "[MoviePy] Writing video drive/My Drive/Colab Notebooks/using a wrench videos/clipped/The Bionic 14-in-1 Adjustable Wrench on QVC.mp4\n"
          ]
        },
        {
          "metadata": {
            "tags": null
          },
          "name": "stderr",
          "output_type": "stream",
          "text": [
            "\n",
            "100%|██████████| 300/300 [00:17<00:00, 17.14it/s]\n"
          ]
        },
        {
          "metadata": {
            "tags": null
          },
          "name": "stdout",
          "output_type": "stream",
          "text": [
            "[MoviePy] Done.\n",
            "[MoviePy] >>>> Video ready: drive/My Drive/Colab Notebooks/using a wrench videos/clipped/The Bionic 14-in-1 Adjustable Wrench on QVC.mp4 \n",
            "\n",
            "Downloading SSP 5 Piece Reversible Wrench Set | size = 20.019135 mb\n",
            "[MoviePy] >>>> Building video drive/My Drive/Colab Notebooks/using a wrench videos/clipped/SSP 5 Piece Reversible Wrench Set.mp4\n",
            "[MoviePy] Writing audio in SSP 5 Piece Reversible Wrench SetTEMP_MPY_wvf_snd.mp3\n"
          ]
        },
        {
          "metadata": {
            "tags": null
          },
          "name": "stderr",
          "output_type": "stream",
          "text": [
            "100%|██████████| 221/221 [00:00<00:00, 489.96it/s]"
          ]
        },
        {
          "metadata": {
            "tags": null
          },
          "name": "stdout",
          "output_type": "stream",
          "text": [
            "[MoviePy] Done.\n",
            "[MoviePy] Writing video drive/My Drive/Colab Notebooks/using a wrench videos/clipped/SSP 5 Piece Reversible Wrench Set.mp4\n"
          ]
        },
        {
          "metadata": {
            "tags": null
          },
          "name": "stderr",
          "output_type": "stream",
          "text": [
            "\n",
            "100%|█████████▉| 300/301 [00:16<00:00, 17.93it/s]\n"
          ]
        },
        {
          "metadata": {
            "tags": null
          },
          "name": "stdout",
          "output_type": "stream",
          "text": [
            "[MoviePy] Done.\n",
            "[MoviePy] >>>> Video ready: drive/My Drive/Colab Notebooks/using a wrench videos/clipped/SSP 5 Piece Reversible Wrench Set.mp4 \n",
            "\n",
            "Downloading Tite-Reach Professional 1/4\" drive extension wrench | size = 2.64043 mb\n",
            "[MoviePy] >>>> Building video drive/My Drive/Colab Notebooks/using a wrench videos/clipped/Tite-Reach Professional 14 drive extension wrench.mp4\n",
            "[MoviePy] Writing audio in Tite-Reach Professional 14 drive extension wrenchTEMP_MPY_wvf_snd.mp3\n"
          ]
        },
        {
          "metadata": {
            "tags": null
          },
          "name": "stderr",
          "output_type": "stream",
          "text": [
            "100%|██████████| 221/221 [00:00<00:00, 541.19it/s]"
          ]
        },
        {
          "metadata": {
            "tags": null
          },
          "name": "stdout",
          "output_type": "stream",
          "text": [
            "[MoviePy] Done.\n",
            "[MoviePy] Writing video drive/My Drive/Colab Notebooks/using a wrench videos/clipped/Tite-Reach Professional 14 drive extension wrench.mp4\n"
          ]
        },
        {
          "metadata": {
            "tags": null
          },
          "name": "stderr",
          "output_type": "stream",
          "text": [
            "\n",
            "100%|██████████| 300/300 [00:04<00:00, 64.09it/s]\n"
          ]
        },
        {
          "metadata": {
            "tags": null
          },
          "name": "stdout",
          "output_type": "stream",
          "text": [
            "[MoviePy] Done.\n",
            "[MoviePy] >>>> Video ready: drive/My Drive/Colab Notebooks/using a wrench videos/clipped/Tite-Reach Professional 14 drive extension wrench.mp4 \n",
            "\n",
            "Downloading Bionic Wrench Commercial for Amazon | size = 2.830789 mb\n",
            "[MoviePy] >>>> Building video drive/My Drive/Colab Notebooks/using a wrench videos/clipped/Bionic Wrench Commercial for Amazon.mp4\n",
            "[MoviePy] Writing audio in Bionic Wrench Commercial for AmazonTEMP_MPY_wvf_snd.mp3\n"
          ]
        },
        {
          "metadata": {
            "tags": null
          },
          "name": "stderr",
          "output_type": "stream",
          "text": [
            "100%|██████████| 221/221 [00:00<00:00, 506.21it/s]"
          ]
        },
        {
          "metadata": {
            "tags": null
          },
          "name": "stdout",
          "output_type": "stream",
          "text": [
            "[MoviePy] Done.\n",
            "[MoviePy] Writing video drive/My Drive/Colab Notebooks/using a wrench videos/clipped/Bionic Wrench Commercial for Amazon.mp4\n"
          ]
        },
        {
          "metadata": {
            "tags": null
          },
          "name": "stderr",
          "output_type": "stream",
          "text": [
            "\n",
            "100%|█████████▉| 240/241 [00:11<00:00, 21.21it/s]\n"
          ]
        },
        {
          "metadata": {
            "tags": null
          },
          "name": "stdout",
          "output_type": "stream",
          "text": [
            "[MoviePy] Done.\n",
            "[MoviePy] >>>> Video ready: drive/My Drive/Colab Notebooks/using a wrench videos/clipped/Bionic Wrench Commercial for Amazon.mp4 \n",
            "\n",
            "Downloading US Navy using conventional wrench in uderwater | size = 1.577548 mb\n",
            "[MoviePy] >>>> Building video drive/My Drive/Colab Notebooks/using a wrench videos/clipped/US Navy using conventional wrench in uderwater.mp4\n",
            "[MoviePy] Writing audio in US Navy using conventional wrench in uderwaterTEMP_MPY_wvf_snd.mp3\n"
          ]
        },
        {
          "metadata": {
            "tags": null
          },
          "name": "stderr",
          "output_type": "stream",
          "text": [
            "100%|██████████| 221/221 [00:00<00:00, 1263.72it/s]"
          ]
        },
        {
          "metadata": {
            "tags": null
          },
          "name": "stdout",
          "output_type": "stream",
          "text": [
            "[MoviePy] Done.\n",
            "[MoviePy] Writing video drive/My Drive/Colab Notebooks/using a wrench videos/clipped/US Navy using conventional wrench in uderwater.mp4\n"
          ]
        },
        {
          "metadata": {
            "tags": null
          },
          "name": "stderr",
          "output_type": "stream",
          "text": [
            "\n",
            "100%|█████████▉| 300/301 [00:02<00:00, 145.36it/s]\n"
          ]
        },
        {
          "metadata": {
            "tags": null
          },
          "name": "stdout",
          "output_type": "stream",
          "text": [
            "[MoviePy] Done.\n",
            "[MoviePy] >>>> Video ready: drive/My Drive/Colab Notebooks/using a wrench videos/clipped/US Navy using conventional wrench in uderwater.mp4 \n",
            "\n",
            "Downloading \"WRENCHSTORATION\" - Restoring an antique P S & W Monkey Wrench | size = 362.969634 mb\n",
            "[MoviePy] >>>> Building video drive/My Drive/Colab Notebooks/using a wrench videos/clipped/WRENCHSTORATION - Restoring an antique P S & W Monkey Wrench.mp4\n",
            "[MoviePy] Writing audio in WRENCHSTORATION - Restoring an antique P S & W Monkey WrenchTEMP_MPY_wvf_snd.mp3\n"
          ]
        },
        {
          "metadata": {
            "tags": null
          },
          "name": "stderr",
          "output_type": "stream",
          "text": [
            "100%|██████████| 221/221 [00:00<00:00, 556.91it/s]"
          ]
        },
        {
          "metadata": {
            "tags": null
          },
          "name": "stdout",
          "output_type": "stream",
          "text": [
            "[MoviePy] Done.\n",
            "[MoviePy] Writing video drive/My Drive/Colab Notebooks/using a wrench videos/clipped/WRENCHSTORATION - Restoring an antique P S & W Monkey Wrench.mp4\n"
          ]
        },
        {
          "metadata": {
            "tags": null
          },
          "name": "stderr",
          "output_type": "stream",
          "text": [
            "\n",
            "100%|██████████| 300/300 [00:23<00:00, 12.88it/s]\n"
          ]
        },
        {
          "metadata": {
            "tags": null
          },
          "name": "stdout",
          "output_type": "stream",
          "text": [
            "[MoviePy] Done.\n",
            "[MoviePy] >>>> Video ready: drive/My Drive/Colab Notebooks/using a wrench videos/clipped/WRENCHSTORATION - Restoring an antique P S & W Monkey Wrench.mp4 \n",
            "\n",
            "Downloading Quick Release Open Wrench | size = 37.461374 mb\n",
            "[MoviePy] >>>> Building video drive/My Drive/Colab Notebooks/using a wrench videos/clipped/Quick Release Open Wrench.mp4\n",
            "[MoviePy] Writing audio in Quick Release Open WrenchTEMP_MPY_wvf_snd.mp3\n"
          ]
        },
        {
          "metadata": {
            "tags": null
          },
          "name": "stderr",
          "output_type": "stream",
          "text": [
            "100%|██████████| 221/221 [00:00<00:00, 1356.76it/s]"
          ]
        },
        {
          "metadata": {
            "tags": null
          },
          "name": "stdout",
          "output_type": "stream",
          "text": [
            "[MoviePy] Done.\n",
            "[MoviePy] Writing video drive/My Drive/Colab Notebooks/using a wrench videos/clipped/Quick Release Open Wrench.mp4\n"
          ]
        },
        {
          "metadata": {
            "tags": null
          },
          "name": "stderr",
          "output_type": "stream",
          "text": [
            "\n",
            "100%|██████████| 300/300 [00:16<00:00, 18.06it/s]\n"
          ]
        },
        {
          "metadata": {
            "tags": null
          },
          "name": "stdout",
          "output_type": "stream",
          "text": [
            "[MoviePy] Done.\n",
            "[MoviePy] >>>> Video ready: drive/My Drive/Colab Notebooks/using a wrench videos/clipped/Quick Release Open Wrench.mp4 \n",
            "\n",
            "Downloading Trojan Hand Tools - 'Quick Jaw' Multigrip Wrench TV Commercial | size = 6.199511 mb\n",
            "[MoviePy] >>>> Building video drive/My Drive/Colab Notebooks/using a wrench videos/clipped/Trojan Hand Tools - 'Quick Jaw' Multigrip Wrench TV Commercial.mp4\n",
            "[MoviePy] Writing audio in Trojan Hand Tools - 'Quick Jaw' Multigrip Wrench TV CommercialTEMP_MPY_wvf_snd.mp3\n"
          ]
        },
        {
          "metadata": {
            "tags": null
          },
          "name": "stderr",
          "output_type": "stream",
          "text": [
            " 90%|█████████ | 199/221 [00:00<00:00, 548.86it/s]\n"
          ]
        },
        {
          "metadata": {
            "tags": null
          },
          "name": "stdout",
          "output_type": "stream",
          "text": [
            "Error in file drive/My Drive/Colab Notebooks/using a wrench videos/Trojan Hand Tools - 'Quick Jaw' Multigrip Wrench TV Commercial.mp4, Accessing time t=30.00-30.05 seconds, with clip duration=30 seconds, \n",
            "Downloading Bike Axial Wrench | size = 7.045123 mb\n",
            "[MoviePy] >>>> Building video drive/My Drive/Colab Notebooks/using a wrench videos/clipped/Bike Axial Wrench.mp4\n",
            "[MoviePy] Writing audio in Bike Axial WrenchTEMP_MPY_wvf_snd.mp3\n"
          ]
        },
        {
          "metadata": {
            "tags": null
          },
          "name": "stderr",
          "output_type": "stream",
          "text": [
            "100%|██████████| 221/221 [00:00<00:00, 554.86it/s]\n"
          ]
        },
        {
          "metadata": {
            "tags": null
          },
          "name": "stdout",
          "output_type": "stream",
          "text": [
            "[MoviePy] Done.\n",
            "[MoviePy] Writing video drive/My Drive/Colab Notebooks/using a wrench videos/clipped/Bike Axial Wrench.mp4\n"
          ]
        },
        {
          "metadata": {
            "tags": null
          },
          "name": "stderr",
          "output_type": "stream",
          "text": [
            "100%|█████████▉| 300/301 [00:19<00:00, 15.05it/s]\n"
          ]
        },
        {
          "metadata": {
            "tags": null
          },
          "name": "stdout",
          "output_type": "stream",
          "text": [
            "[MoviePy] Done.\n",
            "[MoviePy] >>>> Video ready: drive/My Drive/Colab Notebooks/using a wrench videos/clipped/Bike Axial Wrench.mp4 \n",
            "\n",
            "Downloading Gear wrench Ratcheting line wrench review | size = 142.445152 mb\n",
            "[MoviePy] >>>> Building video drive/My Drive/Colab Notebooks/using a wrench videos/clipped/Gear wrench Ratcheting line wrench review.mp4\n",
            "[MoviePy] Writing audio in Gear wrench Ratcheting line wrench reviewTEMP_MPY_wvf_snd.mp3\n"
          ]
        },
        {
          "metadata": {
            "tags": null
          },
          "name": "stderr",
          "output_type": "stream",
          "text": [
            "100%|██████████| 221/221 [00:00<00:00, 595.47it/s]"
          ]
        },
        {
          "metadata": {
            "tags": null
          },
          "name": "stdout",
          "output_type": "stream",
          "text": [
            "[MoviePy] Done.\n",
            "[MoviePy] Writing video drive/My Drive/Colab Notebooks/using a wrench videos/clipped/Gear wrench Ratcheting line wrench review.mp4\n"
          ]
        },
        {
          "metadata": {
            "tags": null
          },
          "name": "stderr",
          "output_type": "stream",
          "text": [
            "\n",
            "100%|█████████▉| 295/296 [00:17<00:00, 17.06it/s]\n"
          ]
        },
        {
          "metadata": {
            "tags": null
          },
          "name": "stdout",
          "output_type": "stream",
          "text": [
            "[MoviePy] Done.\n",
            "[MoviePy] >>>> Video ready: drive/My Drive/Colab Notebooks/using a wrench videos/clipped/Gear wrench Ratcheting line wrench review.mp4 \n",
            "\n",
            "Downloading Magic-Wrench | size = 13.643153 mb\n",
            "[MoviePy] >>>> Building video drive/My Drive/Colab Notebooks/using a wrench videos/clipped/Magic-Wrench.mp4\n",
            "[MoviePy] Writing audio in Magic-WrenchTEMP_MPY_wvf_snd.mp3\n"
          ]
        },
        {
          "metadata": {
            "tags": null
          },
          "name": "stderr",
          "output_type": "stream",
          "text": [
            "100%|██████████| 221/221 [00:00<00:00, 546.22it/s]"
          ]
        },
        {
          "metadata": {
            "tags": null
          },
          "name": "stdout",
          "output_type": "stream",
          "text": [
            "[MoviePy] Done.\n",
            "[MoviePy] Writing video drive/My Drive/Colab Notebooks/using a wrench videos/clipped/Magic-Wrench.mp4\n"
          ]
        },
        {
          "metadata": {
            "tags": null
          },
          "name": "stderr",
          "output_type": "stream",
          "text": [
            "\n",
            "100%|██████████| 300/300 [00:17<00:00, 16.85it/s]\n"
          ]
        },
        {
          "metadata": {
            "tags": null
          },
          "name": "stdout",
          "output_type": "stream",
          "text": [
            "[MoviePy] Done.\n",
            "[MoviePy] >>>> Video ready: drive/My Drive/Colab Notebooks/using a wrench videos/clipped/Magic-Wrench.mp4 \n",
            "\n",
            "Downloading wrench fist | size = 1.304938 mb\n",
            "[MoviePy] >>>> Building video drive/My Drive/Colab Notebooks/using a wrench videos/clipped/wrench fist.mp4\n",
            "[MoviePy] Writing audio in wrench fistTEMP_MPY_wvf_snd.mp3\n"
          ]
        },
        {
          "metadata": {
            "tags": null
          },
          "name": "stderr",
          "output_type": "stream",
          "text": [
            "100%|██████████| 221/221 [00:00<00:00, 894.39it/s]"
          ]
        },
        {
          "metadata": {
            "tags": null
          },
          "name": "stdout",
          "output_type": "stream",
          "text": [
            "[MoviePy] Done.\n",
            "[MoviePy] Writing video drive/My Drive/Colab Notebooks/using a wrench videos/clipped/wrench fist.mp4\n"
          ]
        },
        {
          "metadata": {
            "tags": null
          },
          "name": "stderr",
          "output_type": "stream",
          "text": [
            "\n",
            " 99%|█████████▉| 150/151 [00:01<00:00, 102.93it/s]\n"
          ]
        },
        {
          "metadata": {
            "tags": null
          },
          "name": "stdout",
          "output_type": "stream",
          "text": [
            "[MoviePy] Done.\n",
            "[MoviePy] >>>> Video ready: drive/My Drive/Colab Notebooks/using a wrench videos/clipped/wrench fist.mp4 \n",
            "\n",
            "Downloading FloTool: Griptech™ The No-Slip Wrench™ | size = 6.592151 mb\n",
            "[MoviePy] >>>> Building video drive/My Drive/Colab Notebooks/using a wrench videos/clipped/FloTool Griptech™ The No-Slip Wrench™.mp4\n",
            "[MoviePy] Writing audio in FloTool Griptech™ The No-Slip Wrench™TEMP_MPY_wvf_snd.mp3\n"
          ]
        },
        {
          "metadata": {
            "tags": null
          },
          "name": "stderr",
          "output_type": "stream",
          "text": [
            "100%|██████████| 221/221 [00:00<00:00, 584.53it/s]"
          ]
        },
        {
          "metadata": {
            "tags": null
          },
          "name": "stdout",
          "output_type": "stream",
          "text": [
            "[MoviePy] Done.\n",
            "[MoviePy] Writing video drive/My Drive/Colab Notebooks/using a wrench videos/clipped/FloTool Griptech™ The No-Slip Wrench™.mp4\n"
          ]
        },
        {
          "metadata": {
            "tags": null
          },
          "name": "stderr",
          "output_type": "stream",
          "text": [
            "\n",
            "100%|██████████| 240/240 [00:09<00:00, 24.65it/s]\n"
          ]
        },
        {
          "metadata": {
            "tags": null
          },
          "name": "stdout",
          "output_type": "stream",
          "text": [
            "[MoviePy] Done.\n",
            "[MoviePy] >>>> Video ready: drive/My Drive/Colab Notebooks/using a wrench videos/clipped/FloTool Griptech™ The No-Slip Wrench™.mp4 \n",
            "\n",
            "Downloading Ratchet Action Speed Wrenches! | size = 55.353999 mb\n",
            "[MoviePy] >>>> Building video drive/My Drive/Colab Notebooks/using a wrench videos/clipped/Ratchet Action Speed Wrenches!.mp4\n",
            "[MoviePy] Writing audio in Ratchet Action Speed Wrenches!TEMP_MPY_wvf_snd.mp3\n"
          ]
        },
        {
          "metadata": {
            "tags": null
          },
          "name": "stderr",
          "output_type": "stream",
          "text": [
            "100%|██████████| 221/221 [00:00<00:00, 656.82it/s]"
          ]
        },
        {
          "metadata": {
            "tags": null
          },
          "name": "stdout",
          "output_type": "stream",
          "text": [
            "[MoviePy] Done.\n",
            "[MoviePy] Writing video drive/My Drive/Colab Notebooks/using a wrench videos/clipped/Ratchet Action Speed Wrenches!.mp4\n"
          ]
        },
        {
          "metadata": {
            "tags": null
          },
          "name": "stderr",
          "output_type": "stream",
          "text": [
            "\n",
            "100%|█████████▉| 300/301 [00:19<00:00, 15.48it/s]\n"
          ]
        },
        {
          "metadata": {
            "tags": null
          },
          "name": "stdout",
          "output_type": "stream",
          "text": [
            "[MoviePy] Done.\n",
            "[MoviePy] >>>> Video ready: drive/My Drive/Colab Notebooks/using a wrench videos/clipped/Ratchet Action Speed Wrenches!.mp4 \n",
            "\n",
            "Downloading iPhone vs Wrench | size = 6.524522 mb\n",
            "[MoviePy] >>>> Building video drive/My Drive/Colab Notebooks/using a wrench videos/clipped/iPhone vs Wrench.mp4\n",
            "[MoviePy] Writing audio in iPhone vs WrenchTEMP_MPY_wvf_snd.mp3\n"
          ]
        },
        {
          "metadata": {
            "tags": null
          },
          "name": "stderr",
          "output_type": "stream",
          "text": [
            "100%|██████████| 221/221 [00:00<00:00, 674.20it/s]"
          ]
        },
        {
          "metadata": {
            "tags": null
          },
          "name": "stdout",
          "output_type": "stream",
          "text": [
            "[MoviePy] Done.\n",
            "[MoviePy] Writing video drive/My Drive/Colab Notebooks/using a wrench videos/clipped/iPhone vs Wrench.mp4\n"
          ]
        },
        {
          "metadata": {
            "tags": null
          },
          "name": "stderr",
          "output_type": "stream",
          "text": [
            "\n",
            "100%|█████████▉| 300/301 [00:01<00:00, 199.93it/s]\n"
          ]
        },
        {
          "metadata": {
            "tags": null
          },
          "name": "stdout",
          "output_type": "stream",
          "text": [
            "[MoviePy] Done.\n",
            "[MoviePy] >>>> Video ready: drive/My Drive/Colab Notebooks/using a wrench videos/clipped/iPhone vs Wrench.mp4 \n",
            "\n",
            "Downloading Wrench-O-Matic Dub | size = 8.730481 mb\n",
            "[MoviePy] >>>> Building video drive/My Drive/Colab Notebooks/using a wrench videos/clipped/Wrench-O-Matic Dub.mp4\n",
            "[MoviePy] Writing audio in Wrench-O-Matic DubTEMP_MPY_wvf_snd.mp3\n"
          ]
        },
        {
          "metadata": {
            "tags": null
          },
          "name": "stderr",
          "output_type": "stream",
          "text": [
            "100%|██████████| 221/221 [00:00<00:00, 657.66it/s]"
          ]
        },
        {
          "metadata": {
            "tags": null
          },
          "name": "stdout",
          "output_type": "stream",
          "text": [
            "[MoviePy] Done.\n",
            "[MoviePy] Writing video drive/My Drive/Colab Notebooks/using a wrench videos/clipped/Wrench-O-Matic Dub.mp4\n"
          ]
        },
        {
          "metadata": {
            "tags": null
          },
          "name": "stderr",
          "output_type": "stream",
          "text": [
            "\n",
            "100%|█████████▉| 240/241 [00:02<00:00, 81.76it/s]\n"
          ]
        },
        {
          "metadata": {
            "tags": null
          },
          "name": "stdout",
          "output_type": "stream",
          "text": [
            "[MoviePy] Done.\n",
            "[MoviePy] >>>> Video ready: drive/My Drive/Colab Notebooks/using a wrench videos/clipped/Wrench-O-Matic Dub.mp4 \n",
            "\n",
            "Downloading Master Wrench - Official TV Commercial | size = 24.41251 mb\n",
            "[MoviePy] >>>> Building video drive/My Drive/Colab Notebooks/using a wrench videos/clipped/Master Wrench - Official TV Commercial.mp4\n",
            "[MoviePy] Writing audio in Master Wrench - Official TV CommercialTEMP_MPY_wvf_snd.mp3\n"
          ]
        },
        {
          "metadata": {
            "tags": null
          },
          "name": "stderr",
          "output_type": "stream",
          "text": [
            "100%|██████████| 221/221 [00:00<00:00, 445.90it/s]\n"
          ]
        },
        {
          "metadata": {
            "tags": null
          },
          "name": "stdout",
          "output_type": "stream",
          "text": [
            "[MoviePy] Done.\n",
            "[MoviePy] Writing video drive/My Drive/Colab Notebooks/using a wrench videos/clipped/Master Wrench - Official TV Commercial.mp4\n"
          ]
        },
        {
          "metadata": {
            "tags": null
          },
          "name": "stderr",
          "output_type": "stream",
          "text": [
            "100%|██████████| 240/240 [00:15<00:00, 15.17it/s]\n"
          ]
        },
        {
          "metadata": {
            "tags": null
          },
          "name": "stdout",
          "output_type": "stream",
          "text": [
            "[MoviePy] Done.\n",
            "[MoviePy] >>>> Video ready: drive/My Drive/Colab Notebooks/using a wrench videos/clipped/Master Wrench - Official TV Commercial.mp4 \n",
            "\n",
            "Downloading Milwaukee Pipe Wrenches Family | size = 25.262216 mb\n",
            "[MoviePy] >>>> Building video drive/My Drive/Colab Notebooks/using a wrench videos/clipped/Milwaukee Pipe Wrenches Family.mp4\n",
            "[MoviePy] Writing audio in Milwaukee Pipe Wrenches FamilyTEMP_MPY_wvf_snd.mp3\n"
          ]
        },
        {
          "metadata": {
            "tags": null
          },
          "name": "stderr",
          "output_type": "stream",
          "text": [
            "100%|██████████| 221/221 [00:00<00:00, 529.39it/s]"
          ]
        },
        {
          "metadata": {
            "tags": null
          },
          "name": "stdout",
          "output_type": "stream",
          "text": [
            "[MoviePy] Done.\n",
            "[MoviePy] Writing video drive/My Drive/Colab Notebooks/using a wrench videos/clipped/Milwaukee Pipe Wrenches Family.mp4\n"
          ]
        },
        {
          "metadata": {
            "tags": null
          },
          "name": "stderr",
          "output_type": "stream",
          "text": [
            "\n",
            "100%|██████████| 300/300 [00:16<00:00, 18.54it/s]\n"
          ]
        },
        {
          "metadata": {
            "tags": null
          },
          "name": "stdout",
          "output_type": "stream",
          "text": [
            "[MoviePy] Done.\n",
            "[MoviePy] >>>> Video ready: drive/My Drive/Colab Notebooks/using a wrench videos/clipped/Milwaukee Pipe Wrenches Family.mp4 \n",
            "\n",
            "Downloading POSEIDON  BRAND SNAP N GRIP-YOUR  BEST CHOISE | size = 11.977269 mb\n",
            "[MoviePy] >>>> Building video drive/My Drive/Colab Notebooks/using a wrench videos/clipped/POSEIDON  BRAND SNAP N GRIP-YOUR  BEST CHOISE.mp4\n",
            "[MoviePy] Writing audio in POSEIDON  BRAND SNAP N GRIP-YOUR  BEST CHOISETEMP_MPY_wvf_snd.mp3\n"
          ]
        },
        {
          "metadata": {
            "tags": null
          },
          "name": "stderr",
          "output_type": "stream",
          "text": [
            "100%|██████████| 221/221 [00:00<00:00, 754.27it/s]\n"
          ]
        },
        {
          "metadata": {
            "tags": null
          },
          "name": "stdout",
          "output_type": "stream",
          "text": [
            "[MoviePy] Done.\n",
            "[MoviePy] Writing video drive/My Drive/Colab Notebooks/using a wrench videos/clipped/POSEIDON  BRAND SNAP N GRIP-YOUR  BEST CHOISE.mp4\n"
          ]
        },
        {
          "metadata": {
            "tags": null
          },
          "name": "stderr",
          "output_type": "stream",
          "text": [
            "100%|█████████▉| 220/221 [00:03<00:00, 69.33it/s]\n"
          ]
        },
        {
          "metadata": {
            "tags": null
          },
          "name": "stdout",
          "output_type": "stream",
          "text": [
            "[MoviePy] Done.\n",
            "[MoviePy] >>>> Video ready: drive/My Drive/Colab Notebooks/using a wrench videos/clipped/POSEIDON  BRAND SNAP N GRIP-YOUR  BEST CHOISE.mp4 \n",
            "\n",
            "Downloading STwrench by Atlas Copco | size = 71.015881 mb\n",
            "[MoviePy] >>>> Building video drive/My Drive/Colab Notebooks/using a wrench videos/clipped/STwrench by Atlas Copco.mp4\n",
            "[MoviePy] Writing audio in STwrench by Atlas CopcoTEMP_MPY_wvf_snd.mp3\n"
          ]
        },
        {
          "metadata": {
            "tags": null
          },
          "name": "stderr",
          "output_type": "stream",
          "text": [
            "100%|██████████| 221/221 [00:00<00:00, 482.96it/s]"
          ]
        },
        {
          "metadata": {
            "tags": null
          },
          "name": "stdout",
          "output_type": "stream",
          "text": [
            "[MoviePy] Done.\n",
            "[MoviePy] Writing video drive/My Drive/Colab Notebooks/using a wrench videos/clipped/STwrench by Atlas Copco.mp4\n"
          ]
        },
        {
          "metadata": {
            "tags": null
          },
          "name": "stderr",
          "output_type": "stream",
          "text": [
            "\n",
            "100%|█████████▉| 300/301 [00:19<00:00, 15.37it/s]\n"
          ]
        },
        {
          "metadata": {
            "tags": null
          },
          "name": "stdout",
          "output_type": "stream",
          "text": [
            "[MoviePy] Done.\n",
            "[MoviePy] >>>> Video ready: drive/My Drive/Colab Notebooks/using a wrench videos/clipped/STwrench by Atlas Copco.mp4 \n",
            "\n",
            "Downloading How To Use An Air Rachet | size = 2.835476 mb\n",
            "[MoviePy] >>>> Building video drive/My Drive/Colab Notebooks/using a wrench videos/clipped/How To Use An Air Rachet.mp4\n",
            "[MoviePy] Writing audio in How To Use An Air RachetTEMP_MPY_wvf_snd.mp3\n"
          ]
        },
        {
          "metadata": {
            "tags": null
          },
          "name": "stderr",
          "output_type": "stream",
          "text": [
            "100%|██████████| 221/221 [00:00<00:00, 817.81it/s]"
          ]
        },
        {
          "metadata": {
            "tags": null
          },
          "name": "stdout",
          "output_type": "stream",
          "text": [
            "[MoviePy] Done.\n",
            "[MoviePy] Writing video drive/My Drive/Colab Notebooks/using a wrench videos/clipped/How To Use An Air Rachet.mp4\n"
          ]
        },
        {
          "metadata": {
            "tags": null
          },
          "name": "stderr",
          "output_type": "stream",
          "text": [
            "\n",
            "100%|██████████| 300/300 [00:03<00:00, 96.22it/s]\n"
          ]
        },
        {
          "metadata": {
            "tags": null
          },
          "name": "stdout",
          "output_type": "stream",
          "text": [
            "[MoviePy] Done.\n",
            "[MoviePy] >>>> Video ready: drive/My Drive/Colab Notebooks/using a wrench videos/clipped/How To Use An Air Rachet.mp4 \n",
            "\n",
            "Downloading My uncle's wrench | size = 5.855762 mb\n",
            "[MoviePy] >>>> Building video drive/My Drive/Colab Notebooks/using a wrench videos/clipped/My uncle's wrench.mp4\n",
            "[MoviePy] Writing audio in My uncle's wrenchTEMP_MPY_wvf_snd.mp3\n"
          ]
        },
        {
          "metadata": {
            "tags": null
          },
          "name": "stderr",
          "output_type": "stream",
          "text": [
            " 97%|█████████▋| 214/221 [00:00<00:00, 491.75it/s]\n"
          ]
        },
        {
          "metadata": {
            "tags": null
          },
          "name": "stdout",
          "output_type": "stream",
          "text": [
            "Error in file drive/My Drive/Colab Notebooks/using a wrench videos/My uncle's wrench.mp4, Accessing time t=23.68-23.73 seconds, with clip duration=23 seconds, \n",
            "Downloading Magic Wrench Demo | size = 19.381986 mb\n",
            "[MoviePy] >>>> Building video drive/My Drive/Colab Notebooks/using a wrench videos/clipped/Magic Wrench Demo.mp4\n",
            "[MoviePy] Writing audio in Magic Wrench DemoTEMP_MPY_wvf_snd.mp3\n"
          ]
        },
        {
          "metadata": {
            "tags": null
          },
          "name": "stderr",
          "output_type": "stream",
          "text": [
            "100%|██████████| 221/221 [00:00<00:00, 534.09it/s]"
          ]
        },
        {
          "metadata": {
            "tags": null
          },
          "name": "stdout",
          "output_type": "stream",
          "text": [
            "[MoviePy] Done.\n",
            "[MoviePy] Writing video drive/My Drive/Colab Notebooks/using a wrench videos/clipped/Magic Wrench Demo.mp4\n"
          ]
        },
        {
          "metadata": {
            "tags": null
          },
          "name": "stderr",
          "output_type": "stream",
          "text": [
            "\n",
            "100%|██████████| 300/300 [00:05<00:00, 58.54it/s]\n"
          ]
        },
        {
          "metadata": {
            "tags": null
          },
          "name": "stdout",
          "output_type": "stream",
          "text": [
            "[MoviePy] Done.\n",
            "[MoviePy] >>>> Video ready: drive/My Drive/Colab Notebooks/using a wrench videos/clipped/Magic Wrench Demo.mp4 \n",
            "\n",
            "Downloading Gator Wrench | size = 2.701243 mb\n",
            "[MoviePy] >>>> Building video drive/My Drive/Colab Notebooks/using a wrench videos/clipped/Gator Wrench.mp4\n",
            "[MoviePy] Writing audio in Gator WrenchTEMP_MPY_wvf_snd.mp3\n"
          ]
        },
        {
          "metadata": {
            "tags": null
          },
          "name": "stderr",
          "output_type": "stream",
          "text": [
            "100%|██████████| 221/221 [00:00<00:00, 718.66it/s]"
          ]
        },
        {
          "metadata": {
            "tags": null
          },
          "name": "stdout",
          "output_type": "stream",
          "text": [
            "[MoviePy] Done.\n",
            "[MoviePy] Writing video drive/My Drive/Colab Notebooks/using a wrench videos/clipped/Gator Wrench.mp4\n"
          ]
        },
        {
          "metadata": {
            "tags": null
          },
          "name": "stderr",
          "output_type": "stream",
          "text": [
            "\n",
            " 99%|█████████▉| 150/151 [00:00<00:00, 425.34it/s]"
          ]
        },
        {
          "metadata": {
            "tags": null
          },
          "name": "stdout",
          "output_type": "stream",
          "text": [
            "[MoviePy] Done.\n",
            "[MoviePy] >>>> Video ready: drive/My Drive/Colab Notebooks/using a wrench videos/clipped/Gator Wrench.mp4 \n",
            "\n"
          ]
        },
        {
          "metadata": {
            "tags": null
          },
          "name": "stderr",
          "output_type": "stream",
          "text": [
            "\n"
          ]
        },
        {
          "metadata": {
            "tags": null
          },
          "name": "stdout",
          "output_type": "stream",
          "text": [
            "Downloading Knipex Pliers Wrench XL | size = 28.104325 mb\n",
            "[MoviePy] >>>> Building video drive/My Drive/Colab Notebooks/using a wrench videos/clipped/Knipex Pliers Wrench XL.mp4\n",
            "[MoviePy] Writing audio in Knipex Pliers Wrench XLTEMP_MPY_wvf_snd.mp3\n"
          ]
        },
        {
          "metadata": {
            "tags": null
          },
          "name": "stderr",
          "output_type": "stream",
          "text": [
            "100%|██████████| 221/221 [00:00<00:00, 526.60it/s]"
          ]
        },
        {
          "metadata": {
            "tags": null
          },
          "name": "stdout",
          "output_type": "stream",
          "text": [
            "[MoviePy] Done.\n",
            "[MoviePy] Writing video drive/My Drive/Colab Notebooks/using a wrench videos/clipped/Knipex Pliers Wrench XL.mp4\n"
          ]
        },
        {
          "metadata": {
            "tags": null
          },
          "name": "stderr",
          "output_type": "stream",
          "text": [
            "\n",
            "100%|█████████▉| 250/251 [00:13<00:00, 17.92it/s]\n"
          ]
        },
        {
          "metadata": {
            "tags": null
          },
          "name": "stdout",
          "output_type": "stream",
          "text": [
            "[MoviePy] Done.\n",
            "[MoviePy] >>>> Video ready: drive/My Drive/Colab Notebooks/using a wrench videos/clipped/Knipex Pliers Wrench XL.mp4 \n",
            "\n",
            "Downloading Crescent Rapid Wrench (Français) (AC8NKWMP) | size = 11.379632 mb\n",
            "[MoviePy] >>>> Building video drive/My Drive/Colab Notebooks/using a wrench videos/clipped/Crescent Rapid Wrench (Français) (AC8NKWMP).mp4\n",
            "[MoviePy] Writing audio in Crescent Rapid Wrench (Français) (AC8NKWMP)TEMP_MPY_wvf_snd.mp3\n"
          ]
        },
        {
          "metadata": {
            "tags": null
          },
          "name": "stderr",
          "output_type": "stream",
          "text": [
            "100%|██████████| 221/221 [00:00<00:00, 565.82it/s]"
          ]
        },
        {
          "metadata": {
            "tags": null
          },
          "name": "stdout",
          "output_type": "stream",
          "text": [
            "[MoviePy] Done.\n",
            "[MoviePy] Writing video drive/My Drive/Colab Notebooks/using a wrench videos/clipped/Crescent Rapid Wrench (Français) (AC8NKWMP).mp4\n"
          ]
        },
        {
          "metadata": {
            "tags": null
          },
          "name": "stderr",
          "output_type": "stream",
          "text": [
            "\n",
            "100%|██████████| 300/300 [00:12<00:00, 24.04it/s]\n"
          ]
        },
        {
          "metadata": {
            "tags": null
          },
          "name": "stdout",
          "output_type": "stream",
          "text": [
            "[MoviePy] Done.\n",
            "[MoviePy] >>>> Video ready: drive/My Drive/Colab Notebooks/using a wrench videos/clipped/Crescent Rapid Wrench (Français) (AC8NKWMP).mp4 \n",
            "\n",
            "Downloading 1Blade internal wrench | size = 4.839917 mb\n",
            "[MoviePy] >>>> Building video drive/My Drive/Colab Notebooks/using a wrench videos/clipped/1Blade internal wrench.mp4\n",
            "[MoviePy] Writing audio in 1Blade internal wrenchTEMP_MPY_wvf_snd.mp3\n"
          ]
        },
        {
          "metadata": {
            "tags": null
          },
          "name": "stderr",
          "output_type": "stream",
          "text": [
            "100%|██████████| 221/221 [00:00<00:00, 665.35it/s]"
          ]
        },
        {
          "metadata": {
            "tags": null
          },
          "name": "stdout",
          "output_type": "stream",
          "text": [
            "[MoviePy] Done.\n",
            "[MoviePy] Writing video drive/My Drive/Colab Notebooks/using a wrench videos/clipped/1Blade internal wrench.mp4\n"
          ]
        },
        {
          "metadata": {
            "tags": null
          },
          "name": "stderr",
          "output_type": "stream",
          "text": [
            "\n",
            "100%|██████████| 300/300 [00:03<00:00, 97.45it/s]\n"
          ]
        },
        {
          "metadata": {
            "tags": null
          },
          "name": "stdout",
          "output_type": "stream",
          "text": [
            "[MoviePy] Done.\n",
            "[MoviePy] >>>> Video ready: drive/My Drive/Colab Notebooks/using a wrench videos/clipped/1Blade internal wrench.mp4 \n",
            "\n",
            "Downloading Milli-grip - A unique adjustable spanner | size = 3.059867 mb\n",
            "[MoviePy] >>>> Building video drive/My Drive/Colab Notebooks/using a wrench videos/clipped/Milli-grip - A unique adjustable spanner.mp4\n",
            "[MoviePy] Writing audio in Milli-grip - A unique adjustable spannerTEMP_MPY_wvf_snd.mp3\n"
          ]
        },
        {
          "metadata": {
            "tags": null
          },
          "name": "stderr",
          "output_type": "stream",
          "text": [
            "100%|██████████| 221/221 [00:00<00:00, 731.16it/s]"
          ]
        },
        {
          "metadata": {
            "tags": null
          },
          "name": "stdout",
          "output_type": "stream",
          "text": [
            "[MoviePy] Done.\n",
            "[MoviePy] Writing video drive/My Drive/Colab Notebooks/using a wrench videos/clipped/Milli-grip - A unique adjustable spanner.mp4\n"
          ]
        },
        {
          "metadata": {
            "tags": null
          },
          "name": "stderr",
          "output_type": "stream",
          "text": [
            "\n",
            "100%|██████████| 240/240 [00:01<00:00, 186.64it/s]\n"
          ]
        },
        {
          "metadata": {
            "tags": null
          },
          "name": "stdout",
          "output_type": "stream",
          "text": [
            "[MoviePy] Done.\n",
            "[MoviePy] >>>> Video ready: drive/My Drive/Colab Notebooks/using a wrench videos/clipped/Milli-grip - A unique adjustable spanner.mp4 \n",
            "\n",
            "Downloading This Crescent 16 in. wrench Model AT215SPUD | size = 0.793657 mb\n",
            "[MoviePy] >>>> Building video drive/My Drive/Colab Notebooks/using a wrench videos/clipped/This Crescent 16 in. wrench Model AT215SPUD.mp4\n",
            "[MoviePy] Writing audio in This Crescent 16 in. wrench Model AT215SPUDTEMP_MPY_wvf_snd.mp3\n"
          ]
        },
        {
          "metadata": {
            "tags": null
          },
          "name": "stderr",
          "output_type": "stream",
          "text": [
            "100%|██████████| 221/221 [00:00<00:00, 646.10it/s]"
          ]
        },
        {
          "metadata": {
            "tags": null
          },
          "name": "stdout",
          "output_type": "stream",
          "text": [
            "[MoviePy] Done.\n",
            "[MoviePy] Writing video drive/My Drive/Colab Notebooks/using a wrench videos/clipped/This Crescent 16 in. wrench Model AT215SPUD.mp4\n"
          ]
        },
        {
          "metadata": {
            "tags": null
          },
          "name": "stderr",
          "output_type": "stream",
          "text": [
            "\n",
            "100%|██████████| 240/240 [00:03<00:00, 67.25it/s]\n"
          ]
        },
        {
          "metadata": {
            "tags": null
          },
          "name": "stdout",
          "output_type": "stream",
          "text": [
            "[MoviePy] Done.\n",
            "[MoviePy] >>>> Video ready: drive/My Drive/Colab Notebooks/using a wrench videos/clipped/This Crescent 16 in. wrench Model AT215SPUD.mp4 \n",
            "\n",
            "Downloading Facom and VBW wrench | size = 4.230448 mb\n",
            "[MoviePy] >>>> Building video drive/My Drive/Colab Notebooks/using a wrench videos/clipped/Facom and VBW wrench.mp4\n",
            "[MoviePy] Writing audio in Facom and VBW wrenchTEMP_MPY_wvf_snd.mp3\n"
          ]
        },
        {
          "metadata": {
            "tags": null
          },
          "name": "stderr",
          "output_type": "stream",
          "text": [
            "100%|██████████| 221/221 [00:00<00:00, 702.42it/s]"
          ]
        },
        {
          "metadata": {
            "tags": null
          },
          "name": "stdout",
          "output_type": "stream",
          "text": [
            "[MoviePy] Done.\n",
            "[MoviePy] Writing video drive/My Drive/Colab Notebooks/using a wrench videos/clipped/Facom and VBW wrench.mp4\n"
          ]
        },
        {
          "metadata": {
            "tags": null
          },
          "name": "stderr",
          "output_type": "stream",
          "text": [
            "\n",
            "100%|█████████▉| 250/251 [00:03<00:00, 77.74it/s]\n"
          ]
        },
        {
          "metadata": {
            "tags": null
          },
          "name": "stdout",
          "output_type": "stream",
          "text": [
            "[MoviePy] Done.\n",
            "[MoviePy] >>>> Video ready: drive/My Drive/Colab Notebooks/using a wrench videos/clipped/Facom and VBW wrench.mp4 \n",
            "\n",
            "6me90at9NGE is unavailable\n",
            "Downloading Not Just Spanners a great Invention/idea by Andrew Palmer | size = 100.263725 mb\n",
            "[MoviePy] >>>> Building video drive/My Drive/Colab Notebooks/using a wrench videos/clipped/Not Just Spanners a great Inventionidea by Andrew Palmer.mp4\n",
            "[MoviePy] Writing audio in Not Just Spanners a great Inventionidea by Andrew PalmerTEMP_MPY_wvf_snd.mp3\n"
          ]
        },
        {
          "metadata": {
            "tags": null
          },
          "name": "stderr",
          "output_type": "stream",
          "text": [
            "100%|██████████| 221/221 [00:00<00:00, 542.16it/s]"
          ]
        },
        {
          "metadata": {
            "tags": null
          },
          "name": "stdout",
          "output_type": "stream",
          "text": [
            "[MoviePy] Done.\n",
            "[MoviePy] Writing video drive/My Drive/Colab Notebooks/using a wrench videos/clipped/Not Just Spanners a great Inventionidea by Andrew Palmer.mp4\n"
          ]
        },
        {
          "metadata": {
            "tags": null
          },
          "name": "stderr",
          "output_type": "stream",
          "text": [
            "\n",
            "100%|█████████▉| 300/301 [00:15<00:00, 19.08it/s]\n"
          ]
        },
        {
          "metadata": {
            "tags": null
          },
          "name": "stdout",
          "output_type": "stream",
          "text": [
            "[MoviePy] Done.\n",
            "[MoviePy] >>>> Video ready: drive/My Drive/Colab Notebooks/using a wrench videos/clipped/Not Just Spanners a great Inventionidea by Andrew Palmer.mp4 \n",
            "\n",
            "Downloading All in One Socket Wrench Spanner | size = 5.810115 mb\n",
            "[MoviePy] >>>> Building video drive/My Drive/Colab Notebooks/using a wrench videos/clipped/All in One Socket Wrench Spanner.mp4\n",
            "[MoviePy] Writing audio in All in One Socket Wrench SpannerTEMP_MPY_wvf_snd.mp3\n"
          ]
        },
        {
          "metadata": {
            "tags": null
          },
          "name": "stderr",
          "output_type": "stream",
          "text": [
            "100%|██████████| 221/221 [00:00<00:00, 485.70it/s]"
          ]
        },
        {
          "metadata": {
            "tags": null
          },
          "name": "stdout",
          "output_type": "stream",
          "text": [
            "[MoviePy] Done.\n",
            "[MoviePy] Writing video drive/My Drive/Colab Notebooks/using a wrench videos/clipped/All in One Socket Wrench Spanner.mp4\n"
          ]
        },
        {
          "metadata": {
            "tags": null
          },
          "name": "stderr",
          "output_type": "stream",
          "text": [
            "\n",
            "100%|██████████| 240/240 [00:06<00:00, 38.45it/s]\n"
          ]
        },
        {
          "metadata": {
            "tags": null
          },
          "name": "stdout",
          "output_type": "stream",
          "text": [
            "[MoviePy] Done.\n",
            "[MoviePy] >>>> Video ready: drive/My Drive/Colab Notebooks/using a wrench videos/clipped/All in One Socket Wrench Spanner.mp4 \n",
            "\n",
            "Downloading Adjustable Wrench, proper use | size = 4.082483 mb\n",
            "[MoviePy] >>>> Building video drive/My Drive/Colab Notebooks/using a wrench videos/clipped/Adjustable Wrench, proper use.mp4\n",
            "[MoviePy] Writing audio in Adjustable Wrench, proper useTEMP_MPY_wvf_snd.mp3\n"
          ]
        },
        {
          "metadata": {
            "tags": null
          },
          "name": "stderr",
          "output_type": "stream",
          "text": [
            "100%|██████████| 221/221 [00:00<00:00, 573.72it/s]"
          ]
        },
        {
          "metadata": {
            "tags": null
          },
          "name": "stdout",
          "output_type": "stream",
          "text": [
            "[MoviePy] Done.\n",
            "[MoviePy] Writing video drive/My Drive/Colab Notebooks/using a wrench videos/clipped/Adjustable Wrench, proper use.mp4\n"
          ]
        },
        {
          "metadata": {
            "tags": null
          },
          "name": "stderr",
          "output_type": "stream",
          "text": [
            "\n",
            "100%|██████████| 300/300 [00:04<00:00, 68.61it/s]\n"
          ]
        },
        {
          "metadata": {
            "tags": null
          },
          "name": "stdout",
          "output_type": "stream",
          "text": [
            "[MoviePy] Done.\n",
            "[MoviePy] >>>> Video ready: drive/My Drive/Colab Notebooks/using a wrench videos/clipped/Adjustable Wrench, proper use.mp4 \n",
            "\n",
            "Downloading DeWalt reversible ratcheting wrench set | size = 97.652903 mb\n",
            "[MoviePy] >>>> Building video drive/My Drive/Colab Notebooks/using a wrench videos/clipped/DeWalt reversible ratcheting wrench set.mp4\n",
            "[MoviePy] Writing audio in DeWalt reversible ratcheting wrench setTEMP_MPY_wvf_snd.mp3\n"
          ]
        },
        {
          "metadata": {
            "tags": null
          },
          "name": "stderr",
          "output_type": "stream",
          "text": [
            "100%|██████████| 221/221 [00:00<00:00, 621.47it/s]"
          ]
        },
        {
          "metadata": {
            "tags": null
          },
          "name": "stdout",
          "output_type": "stream",
          "text": [
            "[MoviePy] Done.\n",
            "[MoviePy] Writing video drive/My Drive/Colab Notebooks/using a wrench videos/clipped/DeWalt reversible ratcheting wrench set.mp4\n"
          ]
        },
        {
          "metadata": {
            "tags": null
          },
          "name": "stderr",
          "output_type": "stream",
          "text": [
            "\n",
            "100%|██████████| 240/240 [00:05<00:00, 40.69it/s]\n"
          ]
        },
        {
          "metadata": {
            "tags": null
          },
          "name": "stdout",
          "output_type": "stream",
          "text": [
            "[MoviePy] Done.\n",
            "[MoviePy] >>>> Video ready: drive/My Drive/Colab Notebooks/using a wrench videos/clipped/DeWalt reversible ratcheting wrench set.mp4 \n",
            "\n",
            "Downloading Socket Wrench 8 in 1 | size = 7.910508 mb\n",
            "[MoviePy] >>>> Building video drive/My Drive/Colab Notebooks/using a wrench videos/clipped/Socket Wrench 8 in 1.mp4\n",
            "[MoviePy] Writing audio in Socket Wrench 8 in 1TEMP_MPY_wvf_snd.mp3\n"
          ]
        },
        {
          "metadata": {
            "tags": null
          },
          "name": "stderr",
          "output_type": "stream",
          "text": [
            "100%|██████████| 221/221 [00:00<00:00, 401.07it/s]"
          ]
        },
        {
          "metadata": {
            "tags": null
          },
          "name": "stdout",
          "output_type": "stream",
          "text": [
            "[MoviePy] Done.\n",
            "[MoviePy] Writing video drive/My Drive/Colab Notebooks/using a wrench videos/clipped/Socket Wrench 8 in 1.mp4\n"
          ]
        },
        {
          "metadata": {
            "tags": null
          },
          "name": "stderr",
          "output_type": "stream",
          "text": [
            "\n",
            "100%|██████████| 300/300 [00:18<00:00, 16.05it/s]\n"
          ]
        },
        {
          "metadata": {
            "tags": null
          },
          "name": "stdout",
          "output_type": "stream",
          "text": [
            "[MoviePy] Done.\n",
            "[MoviePy] >>>> Video ready: drive/My Drive/Colab Notebooks/using a wrench videos/clipped/Socket Wrench 8 in 1.mp4 \n",
            "\n",
            "Downloading Brad trying to use a wrench | size = 16.47812 mb\n",
            "[MoviePy] >>>> Building video drive/My Drive/Colab Notebooks/using a wrench videos/clipped/Brad trying to use a wrench.mp4\n",
            "[MoviePy] Writing audio in Brad trying to use a wrenchTEMP_MPY_wvf_snd.mp3\n"
          ]
        },
        {
          "metadata": {
            "tags": null
          },
          "name": "stderr",
          "output_type": "stream",
          "text": [
            " 97%|█████████▋| 214/221 [00:00<00:00, 451.42it/s]\n"
          ]
        },
        {
          "metadata": {
            "tags": null
          },
          "name": "stdout",
          "output_type": "stream",
          "text": [
            "Error in file drive/My Drive/Colab Notebooks/using a wrench videos/Brad trying to use a wrench.mp4, Accessing time t=107.68-107.73 seconds, with clip duration=107 seconds, \n",
            "Downloading The Wrench | size = 1.279545 mb\n",
            "[MoviePy] >>>> Building video drive/My Drive/Colab Notebooks/using a wrench videos/clipped/The Wrench.mp4\n",
            "[MoviePy] Writing audio in The WrenchTEMP_MPY_wvf_snd.mp3\n"
          ]
        },
        {
          "metadata": {
            "tags": null
          },
          "name": "stderr",
          "output_type": "stream",
          "text": [
            " 99%|█████████▊| 218/221 [00:00<00:00, 795.12it/s]\n"
          ]
        },
        {
          "metadata": {
            "tags": null
          },
          "name": "stdout",
          "output_type": "stream",
          "text": [
            "Error in file drive/My Drive/Colab Notebooks/using a wrench videos/The Wrench.mp4, Accessing time t=11.86-11.91 seconds, with clip duration=11 seconds, \n",
            "Downloading How to Maintain a Draft Beer Tower - Tightening Faucets, Taps & Shanks | size = 28.309299 mb\n",
            "[MoviePy] >>>> Building video drive/My Drive/Colab Notebooks/using a wrench videos/clipped/How to Maintain a Draft Beer Tower - Tightening Faucets, Taps & Shanks.mp4\n",
            "[MoviePy] Writing audio in How to Maintain a Draft Beer Tower - Tightening Faucets, Taps & ShanksTEMP_MPY_wvf_snd.mp3\n"
          ]
        },
        {
          "metadata": {
            "tags": null
          },
          "name": "stderr",
          "output_type": "stream",
          "text": [
            "100%|██████████| 221/221 [00:00<00:00, 446.41it/s]"
          ]
        },
        {
          "metadata": {
            "tags": null
          },
          "name": "stdout",
          "output_type": "stream",
          "text": [
            "[MoviePy] Done.\n",
            "[MoviePy] Writing video drive/My Drive/Colab Notebooks/using a wrench videos/clipped/How to Maintain a Draft Beer Tower - Tightening Faucets, Taps & Shanks.mp4\n"
          ]
        },
        {
          "metadata": {
            "tags": null
          },
          "name": "stderr",
          "output_type": "stream",
          "text": [
            "\n",
            "100%|██████████| 300/300 [00:20<00:00, 14.29it/s]\n"
          ]
        },
        {
          "metadata": {
            "tags": null
          },
          "name": "stdout",
          "output_type": "stream",
          "text": [
            "[MoviePy] Done.\n",
            "[MoviePy] >>>> Video ready: drive/My Drive/Colab Notebooks/using a wrench videos/clipped/How to Maintain a Draft Beer Tower - Tightening Faucets, Taps & Shanks.mp4 \n",
            "\n",
            "Downloading Big wrench | size = 1.742789 mb\n",
            "[MoviePy] >>>> Building video drive/My Drive/Colab Notebooks/using a wrench videos/clipped/Big wrench.mp4\n",
            "[MoviePy] Writing audio in Big wrenchTEMP_MPY_wvf_snd.mp3\n"
          ]
        },
        {
          "metadata": {
            "tags": null
          },
          "name": "stderr",
          "output_type": "stream",
          "text": [
            "100%|██████████| 221/221 [00:00<00:00, 805.02it/s]"
          ]
        },
        {
          "metadata": {
            "tags": null
          },
          "name": "stdout",
          "output_type": "stream",
          "text": [
            "[MoviePy] Done.\n",
            "[MoviePy] Writing video drive/My Drive/Colab Notebooks/using a wrench videos/clipped/Big wrench.mp4\n"
          ]
        },
        {
          "metadata": {
            "tags": null
          },
          "name": "stderr",
          "output_type": "stream",
          "text": [
            "\n",
            "100%|█████████▉| 300/301 [00:00<00:00, 332.67it/s]\n"
          ]
        },
        {
          "metadata": {
            "tags": null
          },
          "name": "stdout",
          "output_type": "stream",
          "text": [
            "[MoviePy] Done.\n",
            "[MoviePy] >>>> Video ready: drive/My Drive/Colab Notebooks/using a wrench videos/clipped/Big wrench.mp4 \n",
            "\n",
            "Downloading Wrench extender www.upperhandtool.com | size = 2.143434 mb\n",
            "[MoviePy] >>>> Building video drive/My Drive/Colab Notebooks/using a wrench videos/clipped/Wrench extender www.upperhandtool.com.mp4\n",
            "[MoviePy] Writing audio in Wrench extender www.upperhandtool.comTEMP_MPY_wvf_snd.mp3\n"
          ]
        },
        {
          "metadata": {
            "tags": null
          },
          "name": "stderr",
          "output_type": "stream",
          "text": [
            "100%|██████████| 221/221 [00:00<00:00, 520.79it/s]"
          ]
        },
        {
          "metadata": {
            "tags": null
          },
          "name": "stdout",
          "output_type": "stream",
          "text": [
            "[MoviePy] Done.\n",
            "[MoviePy] Writing video drive/My Drive/Colab Notebooks/using a wrench videos/clipped/Wrench extender www.upperhandtool.com.mp4\n"
          ]
        },
        {
          "metadata": {
            "tags": null
          },
          "name": "stderr",
          "output_type": "stream",
          "text": [
            "\n",
            "100%|█████████▉| 300/301 [00:03<00:00, 83.99it/s]\n"
          ]
        },
        {
          "metadata": {
            "tags": null
          },
          "name": "stdout",
          "output_type": "stream",
          "text": [
            "[MoviePy] Done.\n",
            "[MoviePy] >>>> Video ready: drive/My Drive/Colab Notebooks/using a wrench videos/clipped/Wrench extender www.upperhandtool.com.mp4 \n",
            "\n",
            "Downloading Magna Wrench Comparison 3 | size = 2.196848 mb\n",
            "[MoviePy] >>>> Building video drive/My Drive/Colab Notebooks/using a wrench videos/clipped/Magna Wrench Comparison 3.mp4\n",
            "[MoviePy] Writing audio in Magna Wrench Comparison 3TEMP_MPY_wvf_snd.mp3\n"
          ]
        },
        {
          "metadata": {
            "tags": null
          },
          "name": "stderr",
          "output_type": "stream",
          "text": [
            " 95%|█████████▌| 210/221 [00:00<00:00, 702.17it/s]\n"
          ]
        },
        {
          "metadata": {
            "tags": null
          },
          "name": "stdout",
          "output_type": "stream",
          "text": [
            "Error in file drive/My Drive/Colab Notebooks/using a wrench videos/Magna Wrench Comparison 3.mp4, Accessing time t=50.50-50.55 seconds, with clip duration=50 seconds, \n",
            "Downloading Nerrad Tools  Superwide Aluminum Wrench | size = 8.677071 mb\n",
            "[MoviePy] >>>> Building video drive/My Drive/Colab Notebooks/using a wrench videos/clipped/Nerrad Tools  Superwide Aluminum Wrench.mp4\n",
            "[MoviePy] Writing audio in Nerrad Tools  Superwide Aluminum WrenchTEMP_MPY_wvf_snd.mp3\n"
          ]
        },
        {
          "metadata": {
            "tags": null
          },
          "name": "stderr",
          "output_type": "stream",
          "text": [
            "100%|██████████| 221/221 [00:00<00:00, 615.36it/s]"
          ]
        },
        {
          "metadata": {
            "tags": null
          },
          "name": "stdout",
          "output_type": "stream",
          "text": [
            "[MoviePy] Done.\n",
            "[MoviePy] Writing video drive/My Drive/Colab Notebooks/using a wrench videos/clipped/Nerrad Tools  Superwide Aluminum Wrench.mp4\n"
          ]
        },
        {
          "metadata": {
            "tags": null
          },
          "name": "stderr",
          "output_type": "stream",
          "text": [
            "\n",
            "100%|██████████| 240/240 [00:13<00:00, 18.30it/s]\n"
          ]
        },
        {
          "metadata": {
            "tags": null
          },
          "name": "stdout",
          "output_type": "stream",
          "text": [
            "[MoviePy] Done.\n",
            "[MoviePy] >>>> Video ready: drive/My Drive/Colab Notebooks/using a wrench videos/clipped/Nerrad Tools  Superwide Aluminum Wrench.mp4 \n",
            "\n",
            "Downloading Drive on wrench | size = 39.544273 mb\n",
            "[MoviePy] >>>> Building video drive/My Drive/Colab Notebooks/using a wrench videos/clipped/Drive on wrench.mp4\n",
            "[MoviePy] Writing audio in Drive on wrenchTEMP_MPY_wvf_snd.mp3\n"
          ]
        },
        {
          "metadata": {
            "tags": null
          },
          "name": "stderr",
          "output_type": "stream",
          "text": [
            "100%|██████████| 221/221 [00:00<00:00, 573.06it/s]"
          ]
        },
        {
          "metadata": {
            "tags": null
          },
          "name": "stdout",
          "output_type": "stream",
          "text": [
            "[MoviePy] Done.\n",
            "[MoviePy] Writing video drive/My Drive/Colab Notebooks/using a wrench videos/clipped/Drive on wrench.mp4\n"
          ]
        },
        {
          "metadata": {
            "tags": null
          },
          "name": "stderr",
          "output_type": "stream",
          "text": [
            "\n",
            "100%|█████████▉| 240/241 [00:16<00:00, 14.97it/s]\n"
          ]
        },
        {
          "metadata": {
            "tags": null
          },
          "name": "stdout",
          "output_type": "stream",
          "text": [
            "[MoviePy] Done.\n",
            "[MoviePy] >>>> Video ready: drive/My Drive/Colab Notebooks/using a wrench videos/clipped/Drive on wrench.mp4 \n",
            "\n",
            "Downloading The Extender at Sema 2004 | size = 2.007645 mb\n",
            "[MoviePy] >>>> Building video drive/My Drive/Colab Notebooks/using a wrench videos/clipped/The Extender at Sema 2004.mp4\n",
            "[MoviePy] Writing audio in The Extender at Sema 2004TEMP_MPY_wvf_snd.mp3\n"
          ]
        },
        {
          "metadata": {
            "tags": null
          },
          "name": "stderr",
          "output_type": "stream",
          "text": [
            "100%|██████████| 221/221 [00:00<00:00, 787.47it/s]"
          ]
        },
        {
          "metadata": {
            "tags": null
          },
          "name": "stdout",
          "output_type": "stream",
          "text": [
            "[MoviePy] Done.\n",
            "[MoviePy] Writing video drive/My Drive/Colab Notebooks/using a wrench videos/clipped/The Extender at Sema 2004.mp4\n"
          ]
        },
        {
          "metadata": {
            "tags": null
          },
          "name": "stderr",
          "output_type": "stream",
          "text": [
            "\n",
            "100%|██████████| 300/300 [00:03<00:00, 78.68it/s]\n"
          ]
        },
        {
          "metadata": {
            "tags": null
          },
          "name": "stdout",
          "output_type": "stream",
          "text": [
            "[MoviePy] Done.\n",
            "[MoviePy] >>>> Video ready: drive/My Drive/Colab Notebooks/using a wrench videos/clipped/The Extender at Sema 2004.mp4 \n",
            "\n",
            "Downloading New updated milli-grip adjustable spanner that won't slip | size = 3.657077 mb\n",
            "[MoviePy] >>>> Building video drive/My Drive/Colab Notebooks/using a wrench videos/clipped/New updated milli-grip adjustable spanner that won't slip.mp4\n",
            "[MoviePy] Writing audio in New updated milli-grip adjustable spanner that won't slipTEMP_MPY_wvf_snd.mp3\n"
          ]
        },
        {
          "metadata": {
            "tags": null
          },
          "name": "stderr",
          "output_type": "stream",
          "text": [
            "100%|██████████| 221/221 [00:00<00:00, 477.36it/s]"
          ]
        },
        {
          "metadata": {
            "tags": null
          },
          "name": "stdout",
          "output_type": "stream",
          "text": [
            "[MoviePy] Done.\n",
            "[MoviePy] Writing video drive/My Drive/Colab Notebooks/using a wrench videos/clipped/New updated milli-grip adjustable spanner that won't slip.mp4\n"
          ]
        },
        {
          "metadata": {
            "tags": null
          },
          "name": "stderr",
          "output_type": "stream",
          "text": [
            "\n",
            "100%|█████████▉| 250/251 [00:01<00:00, 212.05it/s]\n"
          ]
        },
        {
          "metadata": {
            "tags": null
          },
          "name": "stdout",
          "output_type": "stream",
          "text": [
            "[MoviePy] Done.\n",
            "[MoviePy] >>>> Video ready: drive/My Drive/Colab Notebooks/using a wrench videos/clipped/New updated milli-grip adjustable spanner that won't slip.mp4 \n",
            "\n",
            "Downloading KNUCKLEBUDDY® Extension wrench for tight reach areas. | size = 4.699741 mb\n",
            "[MoviePy] >>>> Building video drive/My Drive/Colab Notebooks/using a wrench videos/clipped/KNUCKLEBUDDY® Extension wrench for tight reach areas..mp4\n",
            "[MoviePy] Writing audio in KNUCKLEBUDDY® Extension wrench for tight reach areas.TEMP_MPY_wvf_snd.mp3\n"
          ]
        },
        {
          "metadata": {
            "tags": null
          },
          "name": "stderr",
          "output_type": "stream",
          "text": [
            "100%|██████████| 221/221 [00:00<00:00, 757.91it/s]\n"
          ]
        },
        {
          "metadata": {
            "tags": null
          },
          "name": "stdout",
          "output_type": "stream",
          "text": [
            "[MoviePy] Done.\n",
            "[MoviePy] Writing video drive/My Drive/Colab Notebooks/using a wrench videos/clipped/KNUCKLEBUDDY® Extension wrench for tight reach areas..mp4\n"
          ]
        },
        {
          "metadata": {
            "tags": null
          },
          "name": "stderr",
          "output_type": "stream",
          "text": [
            "100%|██████████| 300/300 [00:14<00:00, 21.18it/s]\n"
          ]
        },
        {
          "metadata": {
            "tags": null
          },
          "name": "stdout",
          "output_type": "stream",
          "text": [
            "[MoviePy] Done.\n",
            "[MoviePy] >>>> Video ready: drive/My Drive/Colab Notebooks/using a wrench videos/clipped/KNUCKLEBUDDY® Extension wrench for tight reach areas..mp4 \n",
            "\n",
            "Downloading Blackridge Air Ratchet Wrench Range // Supercheap Auto | size = 10.625859 mb\n",
            "[MoviePy] >>>> Building video drive/My Drive/Colab Notebooks/using a wrench videos/clipped/Blackridge Air Ratchet Wrench Range  Supercheap Auto.mp4\n",
            "[MoviePy] Writing audio in Blackridge Air Ratchet Wrench Range  Supercheap AutoTEMP_MPY_wvf_snd.mp3\n"
          ]
        },
        {
          "metadata": {
            "tags": null
          },
          "name": "stderr",
          "output_type": "stream",
          "text": [
            "100%|██████████| 221/221 [00:00<00:00, 539.61it/s]"
          ]
        },
        {
          "metadata": {
            "tags": null
          },
          "name": "stdout",
          "output_type": "stream",
          "text": [
            "[MoviePy] Done.\n",
            "[MoviePy] Writing video drive/My Drive/Colab Notebooks/using a wrench videos/clipped/Blackridge Air Ratchet Wrench Range  Supercheap Auto.mp4\n"
          ]
        },
        {
          "metadata": {
            "tags": null
          },
          "name": "stderr",
          "output_type": "stream",
          "text": [
            "\n",
            "100%|█████████▉| 250/251 [00:13<00:00, 18.16it/s]\n"
          ]
        },
        {
          "metadata": {
            "tags": null
          },
          "name": "stdout",
          "output_type": "stream",
          "text": [
            "[MoviePy] Done.\n",
            "[MoviePy] >>>> Video ready: drive/My Drive/Colab Notebooks/using a wrench videos/clipped/Blackridge Air Ratchet Wrench Range  Supercheap Auto.mp4 \n",
            "\n",
            "Downloading Safewrench video123 | size = 15.255325 mb\n",
            "[MoviePy] >>>> Building video drive/My Drive/Colab Notebooks/using a wrench videos/clipped/Safewrench video123.mp4\n",
            "[MoviePy] Writing audio in Safewrench video123TEMP_MPY_wvf_snd.mp3\n"
          ]
        },
        {
          "metadata": {
            "tags": null
          },
          "name": "stderr",
          "output_type": "stream",
          "text": [
            "100%|██████████| 221/221 [00:00<00:00, 585.11it/s]"
          ]
        },
        {
          "metadata": {
            "tags": null
          },
          "name": "stdout",
          "output_type": "stream",
          "text": [
            "[MoviePy] Done.\n",
            "[MoviePy] Writing video drive/My Drive/Colab Notebooks/using a wrench videos/clipped/Safewrench video123.mp4\n"
          ]
        },
        {
          "metadata": {
            "tags": null
          },
          "name": "stderr",
          "output_type": "stream",
          "text": [
            "\n",
            "100%|█████████▉| 250/251 [00:12<00:00, 20.72it/s]\n"
          ]
        },
        {
          "metadata": {
            "tags": null
          },
          "name": "stdout",
          "output_type": "stream",
          "text": [
            "[MoviePy] Done.\n",
            "[MoviePy] >>>> Video ready: drive/My Drive/Colab Notebooks/using a wrench videos/clipped/Safewrench video123.mp4 \n",
            "\n",
            "Downloading 9 - 32mm 2PCS Universal Wrench Kit Handhold Tool Spanner Set | size = 9.843431 mb\n",
            "[MoviePy] >>>> Building video drive/My Drive/Colab Notebooks/using a wrench videos/clipped/9 - 32mm 2PCS Universal Wrench Kit Handhold Tool Spanner Set.mp4\n",
            "[MoviePy] Writing audio in 9 - 32mm 2PCS Universal Wrench Kit Handhold Tool Spanner SetTEMP_MPY_wvf_snd.mp3\n"
          ]
        },
        {
          "metadata": {
            "tags": null
          },
          "name": "stderr",
          "output_type": "stream",
          "text": [
            "100%|██████████| 221/221 [00:00<00:00, 521.61it/s]"
          ]
        },
        {
          "metadata": {
            "tags": null
          },
          "name": "stdout",
          "output_type": "stream",
          "text": [
            "[MoviePy] Done.\n",
            "[MoviePy] Writing video drive/My Drive/Colab Notebooks/using a wrench videos/clipped/9 - 32mm 2PCS Universal Wrench Kit Handhold Tool Spanner Set.mp4\n"
          ]
        },
        {
          "metadata": {
            "tags": null
          },
          "name": "stderr",
          "output_type": "stream",
          "text": [
            "\n",
            "100%|█████████▉| 300/301 [00:07<00:00, 42.76it/s]\n"
          ]
        },
        {
          "metadata": {
            "tags": null
          },
          "name": "stdout",
          "output_type": "stream",
          "text": [
            "[MoviePy] Done.\n",
            "[MoviePy] >>>> Video ready: drive/My Drive/Colab Notebooks/using a wrench videos/clipped/9 - 32mm 2PCS Universal Wrench Kit Handhold Tool Spanner Set.mp4 \n",
            "\n",
            "Downloading Blue Point Flex Head Ratchet Spanners | size = 49.621797 mb\n",
            "[MoviePy] >>>> Building video drive/My Drive/Colab Notebooks/using a wrench videos/clipped/Blue Point Flex Head Ratchet Spanners.mp4\n",
            "[MoviePy] Writing audio in Blue Point Flex Head Ratchet SpannersTEMP_MPY_wvf_snd.mp3\n"
          ]
        },
        {
          "metadata": {
            "tags": null
          },
          "name": "stderr",
          "output_type": "stream",
          "text": [
            "100%|██████████| 221/221 [00:00<00:00, 450.23it/s]\n"
          ]
        },
        {
          "metadata": {
            "tags": null
          },
          "name": "stdout",
          "output_type": "stream",
          "text": [
            "[MoviePy] Done.\n",
            "[MoviePy] Writing video drive/My Drive/Colab Notebooks/using a wrench videos/clipped/Blue Point Flex Head Ratchet Spanners.mp4\n"
          ]
        },
        {
          "metadata": {
            "tags": null
          },
          "name": "stderr",
          "output_type": "stream",
          "text": [
            "100%|█████████▉| 293/294 [00:24<00:00, 11.72it/s]\n"
          ]
        },
        {
          "metadata": {
            "tags": null
          },
          "name": "stdout",
          "output_type": "stream",
          "text": [
            "[MoviePy] Done.\n",
            "[MoviePy] >>>> Video ready: drive/My Drive/Colab Notebooks/using a wrench videos/clipped/Blue Point Flex Head Ratchet Spanners.mp4 \n",
            "\n",
            "Downloading Secure Grip Skil Wrenches Set As Seen On TV Commercial | size = 4.865941 mb\n",
            "[MoviePy] >>>> Building video drive/My Drive/Colab Notebooks/using a wrench videos/clipped/Secure Grip Skil Wrenches Set As Seen On TV Commercial.mp4\n",
            "[MoviePy] Writing audio in Secure Grip Skil Wrenches Set As Seen On TV CommercialTEMP_MPY_wvf_snd.mp3\n"
          ]
        },
        {
          "metadata": {
            "tags": null
          },
          "name": "stderr",
          "output_type": "stream",
          "text": [
            "100%|██████████| 221/221 [00:00<00:00, 720.85it/s]"
          ]
        },
        {
          "metadata": {
            "tags": null
          },
          "name": "stdout",
          "output_type": "stream",
          "text": [
            "[MoviePy] Done.\n",
            "[MoviePy] Writing video drive/My Drive/Colab Notebooks/using a wrench videos/clipped/Secure Grip Skil Wrenches Set As Seen On TV Commercial.mp4\n"
          ]
        },
        {
          "metadata": {
            "tags": null
          },
          "name": "stderr",
          "output_type": "stream",
          "text": [
            "\n",
            "100%|█████████▉| 300/301 [00:01<00:00, 265.90it/s]\n"
          ]
        },
        {
          "metadata": {
            "tags": null
          },
          "name": "stdout",
          "output_type": "stream",
          "text": [
            "[MoviePy] Done.\n",
            "[MoviePy] >>>> Video ready: drive/My Drive/Colab Notebooks/using a wrench videos/clipped/Secure Grip Skil Wrenches Set As Seen On TV Commercial.mp4 \n",
            "\n",
            "Downloading 20110702 001 | size = 1.296732 mb\n",
            "[MoviePy] >>>> Building video drive/My Drive/Colab Notebooks/using a wrench videos/clipped/20110702 001.mp4\n",
            "[MoviePy] Writing audio in 20110702 001TEMP_MPY_wvf_snd.mp3\n"
          ]
        },
        {
          "metadata": {
            "tags": null
          },
          "name": "stderr",
          "output_type": "stream",
          "text": [
            " 95%|█████████▌| 211/221 [00:00<00:00, 924.63it/s]\n"
          ]
        },
        {
          "metadata": {
            "tags": null
          },
          "name": "stdout",
          "output_type": "stream",
          "text": [
            "Error in file drive/My Drive/Colab Notebooks/using a wrench videos/20110702 001.mp4, Accessing time t=16.55-16.59 seconds, with clip duration=16 seconds, \n",
            "Downloading Video application Oil Filter Strap Wrench KS Tools 155.5002 | size = 3.44823 mb\n",
            "[MoviePy] >>>> Building video drive/My Drive/Colab Notebooks/using a wrench videos/clipped/Video application Oil Filter Strap Wrench KS Tools 155.5002.mp4\n",
            "[MoviePy] Writing audio in Video application Oil Filter Strap Wrench KS Tools 155.5002TEMP_MPY_wvf_snd.mp3\n"
          ]
        },
        {
          "metadata": {
            "tags": null
          },
          "name": "stderr",
          "output_type": "stream",
          "text": [
            "100%|██████████| 221/221 [00:00<00:00, 482.57it/s]"
          ]
        },
        {
          "metadata": {
            "tags": null
          },
          "name": "stdout",
          "output_type": "stream",
          "text": [
            "[MoviePy] Done.\n",
            "[MoviePy] Writing video drive/My Drive/Colab Notebooks/using a wrench videos/clipped/Video application Oil Filter Strap Wrench KS Tools 155.5002.mp4\n"
          ]
        },
        {
          "metadata": {
            "tags": null
          },
          "name": "stderr",
          "output_type": "stream",
          "text": [
            "\n",
            "100%|█████████▉| 250/251 [00:03<00:00, 82.16it/s]\n"
          ]
        },
        {
          "metadata": {
            "tags": null
          },
          "name": "stdout",
          "output_type": "stream",
          "text": [
            "[MoviePy] Done.\n",
            "[MoviePy] >>>> Video ready: drive/My Drive/Colab Notebooks/using a wrench videos/clipped/Video application Oil Filter Strap Wrench KS Tools 155.5002.mp4 \n",
            "\n",
            "Downloading MROTV - Crescent Flip & Grip 2 Piece Collapsible Ratcheting Wrench CFW2 | size = 5.215608 mb\n",
            "[MoviePy] >>>> Building video drive/My Drive/Colab Notebooks/using a wrench videos/clipped/MROTV - Crescent Flip & Grip 2 Piece Collapsible Ratcheting Wrench CFW2.mp4\n",
            "[MoviePy] Writing audio in MROTV - Crescent Flip & Grip 2 Piece Collapsible Ratcheting Wrench CFW2TEMP_MPY_wvf_snd.mp3\n"
          ]
        },
        {
          "metadata": {
            "tags": null
          },
          "name": "stderr",
          "output_type": "stream",
          "text": [
            "100%|██████████| 221/221 [00:00<00:00, 566.47it/s]"
          ]
        },
        {
          "metadata": {
            "tags": null
          },
          "name": "stdout",
          "output_type": "stream",
          "text": [
            "[MoviePy] Done.\n"
          ]
        },
        {
          "metadata": {
            "tags": null
          },
          "name": "stderr",
          "output_type": "stream",
          "text": [
            "\n"
          ]
        },
        {
          "metadata": {
            "tags": null
          },
          "name": "stdout",
          "output_type": "stream",
          "text": [
            "[MoviePy] Writing video drive/My Drive/Colab Notebooks/using a wrench videos/clipped/MROTV - Crescent Flip & Grip 2 Piece Collapsible Ratcheting Wrench CFW2.mp4\n"
          ]
        },
        {
          "metadata": {
            "tags": null
          },
          "name": "stderr",
          "output_type": "stream",
          "text": [
            "100%|██████████| 300/300 [00:04<00:00, 64.63it/s]\n"
          ]
        },
        {
          "metadata": {
            "tags": null
          },
          "name": "stdout",
          "output_type": "stream",
          "text": [
            "[MoviePy] Done.\n",
            "[MoviePy] >>>> Video ready: drive/My Drive/Colab Notebooks/using a wrench videos/clipped/MROTV - Crescent Flip & Grip 2 Piece Collapsible Ratcheting Wrench CFW2.mp4 \n",
            "\n",
            "Downloading Adjustable Wrench | size = 40.759716 mb\n",
            "[MoviePy] >>>> Building video drive/My Drive/Colab Notebooks/using a wrench videos/clipped/Adjustable Wrench.mp4\n",
            "[MoviePy] Writing audio in Adjustable WrenchTEMP_MPY_wvf_snd.mp3\n"
          ]
        },
        {
          "metadata": {
            "tags": null
          },
          "name": "stderr",
          "output_type": "stream",
          "text": [
            "100%|██████████| 221/221 [00:00<00:00, 406.84it/s]"
          ]
        },
        {
          "metadata": {
            "tags": null
          },
          "name": "stdout",
          "output_type": "stream",
          "text": [
            "[MoviePy] Done.\n",
            "[MoviePy] Writing video drive/My Drive/Colab Notebooks/using a wrench videos/clipped/Adjustable Wrench.mp4\n"
          ]
        },
        {
          "metadata": {
            "tags": null
          },
          "name": "stderr",
          "output_type": "stream",
          "text": [
            "\n",
            "100%|██████████| 300/300 [00:13<00:00, 21.50it/s]\n"
          ]
        },
        {
          "metadata": {
            "tags": null
          },
          "name": "stdout",
          "output_type": "stream",
          "text": [
            "[MoviePy] Done.\n",
            "[MoviePy] >>>> Video ready: drive/My Drive/Colab Notebooks/using a wrench videos/clipped/Adjustable Wrench.mp4 \n",
            "\n",
            "Downloading gearwrench_xl_video_complete.flv | size = 16.137143 mb\n",
            "[MoviePy] >>>> Building video drive/My Drive/Colab Notebooks/using a wrench videos/clipped/gearwrench_xl_video_complete.flv.mp4\n",
            "[MoviePy] Writing audio in gearwrench_xl_video_complete.flvTEMP_MPY_wvf_snd.mp3\n"
          ]
        },
        {
          "metadata": {
            "tags": null
          },
          "name": "stderr",
          "output_type": "stream",
          "text": [
            "100%|██████████| 221/221 [00:00<00:00, 592.79it/s]"
          ]
        },
        {
          "metadata": {
            "tags": null
          },
          "name": "stdout",
          "output_type": "stream",
          "text": [
            "[MoviePy] Done.\n",
            "[MoviePy] Writing video drive/My Drive/Colab Notebooks/using a wrench videos/clipped/gearwrench_xl_video_complete.flv.mp4\n"
          ]
        },
        {
          "metadata": {
            "tags": null
          },
          "name": "stderr",
          "output_type": "stream",
          "text": [
            "\n",
            "100%|██████████| 300/300 [00:04<00:00, 74.02it/s]\n"
          ]
        },
        {
          "metadata": {
            "tags": null
          },
          "name": "stdout",
          "output_type": "stream",
          "text": [
            "[MoviePy] Done.\n",
            "[MoviePy] >>>> Video ready: drive/My Drive/Colab Notebooks/using a wrench videos/clipped/gearwrench_xl_video_complete.flv.mp4 \n",
            "\n",
            "Downloading Interchangeable Ratcheting Wrench Set Bovidix | size = 21.930303 mb\n",
            "[MoviePy] >>>> Building video drive/My Drive/Colab Notebooks/using a wrench videos/clipped/Interchangeable Ratcheting Wrench Set Bovidix.mp4\n",
            "[MoviePy] Writing audio in Interchangeable Ratcheting Wrench Set BovidixTEMP_MPY_wvf_snd.mp3\n"
          ]
        },
        {
          "metadata": {
            "tags": null
          },
          "name": "stderr",
          "output_type": "stream",
          "text": [
            "100%|██████████| 221/221 [00:00<00:00, 550.62it/s]\n"
          ]
        },
        {
          "metadata": {
            "tags": null
          },
          "name": "stdout",
          "output_type": "stream",
          "text": [
            "[MoviePy] Done.\n",
            "[MoviePy] Writing video drive/My Drive/Colab Notebooks/using a wrench videos/clipped/Interchangeable Ratcheting Wrench Set Bovidix.mp4\n"
          ]
        },
        {
          "metadata": {
            "tags": null
          },
          "name": "stderr",
          "output_type": "stream",
          "text": [
            "100%|█████████▉| 250/251 [00:14<00:00, 16.80it/s]\n"
          ]
        },
        {
          "metadata": {
            "tags": null
          },
          "name": "stdout",
          "output_type": "stream",
          "text": [
            "[MoviePy] Done.\n",
            "[MoviePy] >>>> Video ready: drive/My Drive/Colab Notebooks/using a wrench videos/clipped/Interchangeable Ratcheting Wrench Set Bovidix.mp4 \n",
            "\n",
            "Downloading What a Tool S5E4 - Shifting Spanners | size = 43.701473 mb\n",
            "[MoviePy] >>>> Building video drive/My Drive/Colab Notebooks/using a wrench videos/clipped/What a Tool S5E4 - Shifting Spanners.mp4\n",
            "[MoviePy] Writing audio in What a Tool S5E4 - Shifting SpannersTEMP_MPY_wvf_snd.mp3\n"
          ]
        },
        {
          "metadata": {
            "tags": null
          },
          "name": "stderr",
          "output_type": "stream",
          "text": [
            "100%|██████████| 221/221 [00:00<00:00, 584.15it/s]"
          ]
        },
        {
          "metadata": {
            "tags": null
          },
          "name": "stdout",
          "output_type": "stream",
          "text": [
            "[MoviePy] Done.\n",
            "[MoviePy] Writing video drive/My Drive/Colab Notebooks/using a wrench videos/clipped/What a Tool S5E4 - Shifting Spanners.mp4\n"
          ]
        },
        {
          "metadata": {
            "tags": null
          },
          "name": "stderr",
          "output_type": "stream",
          "text": [
            "\n",
            "100%|█████████▉| 250/251 [00:12<00:00, 19.49it/s]\n"
          ]
        },
        {
          "metadata": {
            "tags": null
          },
          "name": "stdout",
          "output_type": "stream",
          "text": [
            "[MoviePy] Done.\n",
            "[MoviePy] >>>> Video ready: drive/My Drive/Colab Notebooks/using a wrench videos/clipped/What a Tool S5E4 - Shifting Spanners.mp4 \n",
            "\n",
            "Downloading Tite-Reach™ Extension Wrench at Duluth Trading Company | size = 12.913652 mb\n",
            "[MoviePy] >>>> Building video drive/My Drive/Colab Notebooks/using a wrench videos/clipped/Tite-Reach™ Extension Wrench at Duluth Trading Company.mp4\n",
            "[MoviePy] Writing audio in Tite-Reach™ Extension Wrench at Duluth Trading CompanyTEMP_MPY_wvf_snd.mp3\n"
          ]
        },
        {
          "metadata": {
            "tags": null
          },
          "name": "stderr",
          "output_type": "stream",
          "text": [
            "100%|██████████| 221/221 [00:00<00:00, 462.54it/s]"
          ]
        },
        {
          "metadata": {
            "tags": null
          },
          "name": "stdout",
          "output_type": "stream",
          "text": [
            "[MoviePy] Done.\n",
            "[MoviePy] Writing video drive/My Drive/Colab Notebooks/using a wrench videos/clipped/Tite-Reach™ Extension Wrench at Duluth Trading Company.mp4\n"
          ]
        },
        {
          "metadata": {
            "tags": null
          },
          "name": "stderr",
          "output_type": "stream",
          "text": [
            "\n",
            "100%|██████████| 300/300 [00:16<00:00, 18.75it/s]\n"
          ]
        },
        {
          "metadata": {
            "tags": null
          },
          "name": "stdout",
          "output_type": "stream",
          "text": [
            "[MoviePy] Done.\n",
            "[MoviePy] >>>> Video ready: drive/My Drive/Colab Notebooks/using a wrench videos/clipped/Tite-Reach™ Extension Wrench at Duluth Trading Company.mp4 \n",
            "\n",
            "Downloading chave de boca universal | size = 3.198743 mb\n",
            "[MoviePy] >>>> Building video drive/My Drive/Colab Notebooks/using a wrench videos/clipped/chave de boca universal.mp4\n",
            "[MoviePy] Writing audio in chave de boca universalTEMP_MPY_wvf_snd.mp3\n"
          ]
        },
        {
          "metadata": {
            "tags": null
          },
          "name": "stderr",
          "output_type": "stream",
          "text": [
            "100%|██████████| 221/221 [00:00<00:00, 525.36it/s]"
          ]
        },
        {
          "metadata": {
            "tags": null
          },
          "name": "stdout",
          "output_type": "stream",
          "text": [
            "[MoviePy] Done.\n",
            "[MoviePy] Writing video drive/My Drive/Colab Notebooks/using a wrench videos/clipped/chave de boca universal.mp4\n"
          ]
        },
        {
          "metadata": {
            "tags": null
          },
          "name": "stderr",
          "output_type": "stream",
          "text": [
            "\n",
            "100%|█████████▉| 250/251 [00:02<00:00, 122.05it/s]\n"
          ]
        },
        {
          "metadata": {
            "tags": null
          },
          "name": "stdout",
          "output_type": "stream",
          "text": [
            "[MoviePy] Done.\n",
            "[MoviePy] >>>> Video ready: drive/My Drive/Colab Notebooks/using a wrench videos/clipped/chave de boca universal.mp4 \n",
            "\n",
            "Downloading Mastercraft Deep Offset Combination Spanner | size = 3.89971 mb\n",
            "[MoviePy] >>>> Building video drive/My Drive/Colab Notebooks/using a wrench videos/clipped/Mastercraft Deep Offset Combination Spanner.mp4\n",
            "[MoviePy] Writing audio in Mastercraft Deep Offset Combination SpannerTEMP_MPY_wvf_snd.mp3\n"
          ]
        },
        {
          "metadata": {
            "tags": null
          },
          "name": "stderr",
          "output_type": "stream",
          "text": [
            "100%|██████████| 221/221 [00:00<00:00, 499.76it/s]"
          ]
        },
        {
          "metadata": {
            "tags": null
          },
          "name": "stdout",
          "output_type": "stream",
          "text": [
            "[MoviePy] Done.\n",
            "[MoviePy] Writing video drive/My Drive/Colab Notebooks/using a wrench videos/clipped/Mastercraft Deep Offset Combination Spanner.mp4\n"
          ]
        },
        {
          "metadata": {
            "tags": null
          },
          "name": "stderr",
          "output_type": "stream",
          "text": [
            "\n",
            "100%|█████████▉| 250/251 [00:02<00:00, 116.21it/s]\n"
          ]
        },
        {
          "metadata": {
            "tags": null
          },
          "name": "stdout",
          "output_type": "stream",
          "text": [
            "[MoviePy] Done.\n",
            "[MoviePy] >>>> Video ready: drive/My Drive/Colab Notebooks/using a wrench videos/clipped/Mastercraft Deep Offset Combination Spanner.mp4 \n",
            "\n",
            "Downloading New Technology - 2 in 1 Ratcheting Elbow Wrench. | size = 3.240419 mb\n",
            "[MoviePy] >>>> Building video drive/My Drive/Colab Notebooks/using a wrench videos/clipped/New Technology - 2 in 1 Ratcheting Elbow Wrench..mp4\n",
            "[MoviePy] Writing audio in New Technology - 2 in 1 Ratcheting Elbow Wrench.TEMP_MPY_wvf_snd.mp3\n"
          ]
        },
        {
          "metadata": {
            "tags": null
          },
          "name": "stderr",
          "output_type": "stream",
          "text": [
            "100%|██████████| 221/221 [00:00<00:00, 614.23it/s]"
          ]
        },
        {
          "metadata": {
            "tags": null
          },
          "name": "stdout",
          "output_type": "stream",
          "text": [
            "[MoviePy] Done.\n",
            "[MoviePy] Writing video drive/My Drive/Colab Notebooks/using a wrench videos/clipped/New Technology - 2 in 1 Ratcheting Elbow Wrench..mp4\n"
          ]
        },
        {
          "metadata": {
            "tags": null
          },
          "name": "stderr",
          "output_type": "stream",
          "text": [
            "\n",
            "100%|█████████▉| 300/301 [00:02<00:00, 121.44it/s]\n"
          ]
        },
        {
          "metadata": {
            "tags": null
          },
          "name": "stdout",
          "output_type": "stream",
          "text": [
            "[MoviePy] Done.\n",
            "[MoviePy] >>>> Video ready: drive/My Drive/Colab Notebooks/using a wrench videos/clipped/New Technology - 2 in 1 Ratcheting Elbow Wrench..mp4 \n",
            "\n",
            "Downloading V POWER Wrench by Hongwei America | size = 12.936914 mb\n",
            "[MoviePy] >>>> Building video drive/My Drive/Colab Notebooks/using a wrench videos/clipped/V POWER Wrench by Hongwei America.mp4\n",
            "[MoviePy] Writing audio in V POWER Wrench by Hongwei AmericaTEMP_MPY_wvf_snd.mp3\n"
          ]
        },
        {
          "metadata": {
            "tags": null
          },
          "name": "stderr",
          "output_type": "stream",
          "text": [
            "100%|██████████| 221/221 [00:00<00:00, 487.27it/s]"
          ]
        },
        {
          "metadata": {
            "tags": null
          },
          "name": "stdout",
          "output_type": "stream",
          "text": [
            "[MoviePy] Done.\n",
            "[MoviePy] Writing video drive/My Drive/Colab Notebooks/using a wrench videos/clipped/V POWER Wrench by Hongwei America.mp4\n"
          ]
        },
        {
          "metadata": {
            "tags": null
          },
          "name": "stderr",
          "output_type": "stream",
          "text": [
            "\n",
            "100%|██████████| 240/240 [00:09<00:00, 24.08it/s]\n"
          ]
        },
        {
          "metadata": {
            "tags": null
          },
          "name": "stdout",
          "output_type": "stream",
          "text": [
            "[MoviePy] Done.\n",
            "[MoviePy] >>>> Video ready: drive/My Drive/Colab Notebooks/using a wrench videos/clipped/V POWER Wrench by Hongwei America.mp4 \n",
            "\n",
            "9gxBts17urA is a private video\n",
            "Downloading RIDGID RapidGrip Wrenches | size = 2.803182 mb\n",
            "[MoviePy] >>>> Building video drive/My Drive/Colab Notebooks/using a wrench videos/clipped/RIDGID RapidGrip Wrenches.mp4\n",
            "[MoviePy] Writing audio in RIDGID RapidGrip WrenchesTEMP_MPY_wvf_snd.mp3\n"
          ]
        },
        {
          "metadata": {
            "tags": null
          },
          "name": "stderr",
          "output_type": "stream",
          "text": [
            "100%|██████████| 221/221 [00:00<00:00, 543.12it/s]"
          ]
        },
        {
          "metadata": {
            "tags": null
          },
          "name": "stdout",
          "output_type": "stream",
          "text": [
            "[MoviePy] Done.\n",
            "[MoviePy] Writing video drive/My Drive/Colab Notebooks/using a wrench videos/clipped/RIDGID RapidGrip Wrenches.mp4\n"
          ]
        },
        {
          "metadata": {
            "tags": null
          },
          "name": "stderr",
          "output_type": "stream",
          "text": [
            "\n",
            "100%|█████████▉| 250/251 [00:10<00:00, 23.58it/s]\n"
          ]
        },
        {
          "metadata": {
            "tags": null
          },
          "name": "stdout",
          "output_type": "stream",
          "text": [
            "[MoviePy] Done.\n",
            "[MoviePy] >>>> Video ready: drive/My Drive/Colab Notebooks/using a wrench videos/clipped/RIDGID RapidGrip Wrenches.mp4 \n",
            "\n",
            "Downloading Light Speed Wrench with Safety Ring Time Trial | size = 35.356801 mb\n",
            "[MoviePy] >>>> Building video drive/My Drive/Colab Notebooks/using a wrench videos/clipped/Light Speed Wrench with Safety Ring Time Trial.mp4\n",
            "[MoviePy] Writing audio in Light Speed Wrench with Safety Ring Time TrialTEMP_MPY_wvf_snd.mp3\n"
          ]
        },
        {
          "metadata": {
            "tags": null
          },
          "name": "stderr",
          "output_type": "stream",
          "text": [
            "100%|██████████| 221/221 [00:00<00:00, 607.50it/s]"
          ]
        },
        {
          "metadata": {
            "tags": null
          },
          "name": "stdout",
          "output_type": "stream",
          "text": [
            "[MoviePy] Done.\n",
            "[MoviePy] Writing video drive/My Drive/Colab Notebooks/using a wrench videos/clipped/Light Speed Wrench with Safety Ring Time Trial.mp4\n"
          ]
        },
        {
          "metadata": {
            "tags": null
          },
          "name": "stderr",
          "output_type": "stream",
          "text": [
            "\n",
            "100%|█████████▉| 240/241 [00:18<00:00, 12.83it/s]\n"
          ]
        },
        {
          "metadata": {
            "tags": null
          },
          "name": "stdout",
          "output_type": "stream",
          "text": [
            "[MoviePy] Done.\n",
            "[MoviePy] >>>> Video ready: drive/My Drive/Colab Notebooks/using a wrench videos/clipped/Light Speed Wrench with Safety Ring Time Trial.mp4 \n",
            "\n",
            "Downloading T helps wrench | size = 1.922321 mb\n",
            "[MoviePy] >>>> Building video drive/My Drive/Colab Notebooks/using a wrench videos/clipped/T helps wrench.mp4\n",
            "[MoviePy] Writing audio in T helps wrenchTEMP_MPY_wvf_snd.mp3\n"
          ]
        },
        {
          "metadata": {
            "tags": null
          },
          "name": "stderr",
          "output_type": "stream",
          "text": [
            " 99%|█████████▊| 218/221 [00:00<00:00, 520.12it/s]\n"
          ]
        },
        {
          "metadata": {
            "tags": null
          },
          "name": "stdout",
          "output_type": "stream",
          "text": [
            "Error in file drive/My Drive/Colab Notebooks/using a wrench videos/T helps wrench.mp4, Accessing time t=17.86-17.91 seconds, with clip duration=17 seconds, \n",
            "Downloading Kwik Wrench - Test and Operation | size = 35.680264 mb\n",
            "[MoviePy] >>>> Building video drive/My Drive/Colab Notebooks/using a wrench videos/clipped/Kwik Wrench - Test and Operation.mp4\n",
            "[MoviePy] Writing audio in Kwik Wrench - Test and OperationTEMP_MPY_wvf_snd.mp3\n"
          ]
        },
        {
          "metadata": {
            "tags": null
          },
          "name": "stderr",
          "output_type": "stream",
          "text": [
            "100%|██████████| 221/221 [00:00<00:00, 602.60it/s]"
          ]
        },
        {
          "metadata": {
            "tags": null
          },
          "name": "stdout",
          "output_type": "stream",
          "text": [
            "[MoviePy] Done.\n",
            "[MoviePy] Writing video drive/My Drive/Colab Notebooks/using a wrench videos/clipped/Kwik Wrench - Test and Operation.mp4\n"
          ]
        },
        {
          "metadata": {
            "tags": null
          },
          "name": "stderr",
          "output_type": "stream",
          "text": [
            "\n",
            "100%|██████████| 300/300 [00:19<00:00, 15.68it/s]\n"
          ]
        },
        {
          "metadata": {
            "tags": null
          },
          "name": "stdout",
          "output_type": "stream",
          "text": [
            "[MoviePy] Done.\n",
            "[MoviePy] >>>> Video ready: drive/My Drive/Colab Notebooks/using a wrench videos/clipped/Kwik Wrench - Test and Operation.mp4 \n",
            "\n",
            "Downloading Spectools Powerbox Wrench Attachment | size = 22.087912 mb\n",
            "[MoviePy] >>>> Building video drive/My Drive/Colab Notebooks/using a wrench videos/clipped/Spectools Powerbox Wrench Attachment.mp4\n",
            "[MoviePy] Writing audio in Spectools Powerbox Wrench AttachmentTEMP_MPY_wvf_snd.mp3\n"
          ]
        },
        {
          "metadata": {
            "tags": null
          },
          "name": "stderr",
          "output_type": "stream",
          "text": [
            "100%|██████████| 221/221 [00:00<00:00, 497.91it/s]"
          ]
        },
        {
          "metadata": {
            "tags": null
          },
          "name": "stdout",
          "output_type": "stream",
          "text": [
            "[MoviePy] Done.\n",
            "[MoviePy] Writing video drive/My Drive/Colab Notebooks/using a wrench videos/clipped/Spectools Powerbox Wrench Attachment.mp4\n"
          ]
        },
        {
          "metadata": {
            "tags": null
          },
          "name": "stderr",
          "output_type": "stream",
          "text": [
            "\n",
            "100%|██████████| 300/300 [00:15<00:00, 19.50it/s]\n"
          ]
        },
        {
          "metadata": {
            "tags": null
          },
          "name": "stdout",
          "output_type": "stream",
          "text": [
            "[MoviePy] Done.\n",
            "[MoviePy] >>>> Video ready: drive/My Drive/Colab Notebooks/using a wrench videos/clipped/Spectools Powerbox Wrench Attachment.mp4 \n",
            "\n",
            "Downloading Quick down & dirty adjustable wrench cleanup | size = 285.697634 mb\n",
            "[MoviePy] >>>> Building video drive/My Drive/Colab Notebooks/using a wrench videos/clipped/Quick down & dirty adjustable wrench cleanup.mp4\n",
            "[MoviePy] Writing audio in Quick down & dirty adjustable wrench cleanupTEMP_MPY_wvf_snd.mp3\n"
          ]
        },
        {
          "metadata": {
            "tags": null
          },
          "name": "stderr",
          "output_type": "stream",
          "text": [
            "100%|██████████| 221/221 [00:00<00:00, 468.23it/s]"
          ]
        },
        {
          "metadata": {
            "tags": null
          },
          "name": "stdout",
          "output_type": "stream",
          "text": [
            "[MoviePy] Done.\n",
            "[MoviePy] Writing video drive/My Drive/Colab Notebooks/using a wrench videos/clipped/Quick down & dirty adjustable wrench cleanup.mp4\n"
          ]
        },
        {
          "metadata": {
            "tags": null
          },
          "name": "stderr",
          "output_type": "stream",
          "text": [
            "\n",
            "100%|█████████▉| 250/251 [00:17<00:00, 14.17it/s]\n"
          ]
        },
        {
          "metadata": {
            "tags": null
          },
          "name": "stdout",
          "output_type": "stream",
          "text": [
            "[MoviePy] Done.\n",
            "[MoviePy] >>>> Video ready: drive/My Drive/Colab Notebooks/using a wrench videos/clipped/Quick down & dirty adjustable wrench cleanup.mp4 \n",
            "\n",
            "Downloading DIY Cone Nut Wrench   002 | size = 7.413696 mb\n",
            "[MoviePy] >>>> Building video drive/My Drive/Colab Notebooks/using a wrench videos/clipped/DIY Cone Nut Wrench   002.mp4\n",
            "[MoviePy] Writing audio in DIY Cone Nut Wrench   002TEMP_MPY_wvf_snd.mp3\n"
          ]
        },
        {
          "metadata": {
            "tags": null
          },
          "name": "stderr",
          "output_type": "stream",
          "text": [
            "100%|██████████| 221/221 [00:00<00:00, 681.69it/s]"
          ]
        },
        {
          "metadata": {
            "tags": null
          },
          "name": "stdout",
          "output_type": "stream",
          "text": [
            "[MoviePy] Done.\n",
            "[MoviePy] Writing video drive/My Drive/Colab Notebooks/using a wrench videos/clipped/DIY Cone Nut Wrench   002.mp4\n"
          ]
        },
        {
          "metadata": {
            "tags": null
          },
          "name": "stderr",
          "output_type": "stream",
          "text": [
            "\n",
            "100%|██████████| 300/300 [00:17<00:00, 17.13it/s]\n"
          ]
        },
        {
          "metadata": {
            "tags": null
          },
          "name": "stdout",
          "output_type": "stream",
          "text": [
            "[MoviePy] Done.\n",
            "[MoviePy] >>>> Video ready: drive/My Drive/Colab Notebooks/using a wrench videos/clipped/DIY Cone Nut Wrench   002.mp4 \n",
            "\n",
            "Downloading Magic Wrench, Multifunction Wrench | size = 39.728182 mb\n",
            "[MoviePy] >>>> Building video drive/My Drive/Colab Notebooks/using a wrench videos/clipped/Magic Wrench, Multifunction Wrench.mp4\n",
            "[MoviePy] Writing audio in Magic Wrench, Multifunction WrenchTEMP_MPY_wvf_snd.mp3\n"
          ]
        },
        {
          "metadata": {
            "tags": null
          },
          "name": "stderr",
          "output_type": "stream",
          "text": [
            "100%|██████████| 221/221 [00:00<00:00, 536.94it/s]"
          ]
        },
        {
          "metadata": {
            "tags": null
          },
          "name": "stdout",
          "output_type": "stream",
          "text": [
            "[MoviePy] Done.\n",
            "[MoviePy] Writing video drive/My Drive/Colab Notebooks/using a wrench videos/clipped/Magic Wrench, Multifunction Wrench.mp4\n"
          ]
        },
        {
          "metadata": {
            "tags": null
          },
          "name": "stderr",
          "output_type": "stream",
          "text": [
            "\n",
            "100%|██████████| 300/300 [00:04<00:00, 65.08it/s]\n"
          ]
        },
        {
          "metadata": {
            "tags": null
          },
          "name": "stdout",
          "output_type": "stream",
          "text": [
            "[MoviePy] Done.\n",
            "[MoviePy] >>>> Video ready: drive/My Drive/Colab Notebooks/using a wrench videos/clipped/Magic Wrench, Multifunction Wrench.mp4 \n",
            "\n",
            "Downloading Atlas Copco Mechanical Torque Wrenches | size = 29.349888 mb\n",
            "[MoviePy] >>>> Building video drive/My Drive/Colab Notebooks/using a wrench videos/clipped/Atlas Copco Mechanical Torque Wrenches.mp4\n",
            "[MoviePy] Writing audio in Atlas Copco Mechanical Torque WrenchesTEMP_MPY_wvf_snd.mp3\n"
          ]
        },
        {
          "metadata": {
            "tags": null
          },
          "name": "stderr",
          "output_type": "stream",
          "text": [
            "100%|██████████| 221/221 [00:00<00:00, 443.67it/s]"
          ]
        },
        {
          "metadata": {
            "tags": null
          },
          "name": "stdout",
          "output_type": "stream",
          "text": [
            "[MoviePy] Done.\n",
            "[MoviePy] Writing video drive/My Drive/Colab Notebooks/using a wrench videos/clipped/Atlas Copco Mechanical Torque Wrenches.mp4\n"
          ]
        },
        {
          "metadata": {
            "tags": null
          },
          "name": "stderr",
          "output_type": "stream",
          "text": [
            "\n",
            "100%|██████████| 300/300 [00:18<00:00, 16.56it/s]\n"
          ]
        },
        {
          "metadata": {
            "tags": null
          },
          "name": "stdout",
          "output_type": "stream",
          "text": [
            "[MoviePy] Done.\n",
            "[MoviePy] >>>> Video ready: drive/My Drive/Colab Notebooks/using a wrench videos/clipped/Atlas Copco Mechanical Torque Wrenches.mp4 \n",
            "\n",
            "Downloading EZ Spanner Ratcheting Fire Hydrant Wrench 2 | size = 36.343265 mb\n",
            "[MoviePy] >>>> Building video drive/My Drive/Colab Notebooks/using a wrench videos/clipped/EZ Spanner Ratcheting Fire Hydrant Wrench 2.mp4\n",
            "[MoviePy] Writing audio in EZ Spanner Ratcheting Fire Hydrant Wrench 2TEMP_MPY_wvf_snd.mp3\n"
          ]
        },
        {
          "metadata": {
            "tags": null
          },
          "name": "stderr",
          "output_type": "stream",
          "text": [
            "100%|██████████| 221/221 [00:00<00:00, 564.16it/s]"
          ]
        },
        {
          "metadata": {
            "tags": null
          },
          "name": "stdout",
          "output_type": "stream",
          "text": [
            "[MoviePy] Done.\n",
            "[MoviePy] Writing video drive/My Drive/Colab Notebooks/using a wrench videos/clipped/EZ Spanner Ratcheting Fire Hydrant Wrench 2.mp4\n"
          ]
        },
        {
          "metadata": {
            "tags": null
          },
          "name": "stderr",
          "output_type": "stream",
          "text": [
            "\n",
            "100%|██████████| 300/300 [00:20<00:00, 14.80it/s]\n"
          ]
        },
        {
          "metadata": {
            "tags": null
          },
          "name": "stdout",
          "output_type": "stream",
          "text": [
            "[MoviePy] Done.\n",
            "[MoviePy] >>>> Video ready: drive/My Drive/Colab Notebooks/using a wrench videos/clipped/EZ Spanner Ratcheting Fire Hydrant Wrench 2.mp4 \n",
            "\n",
            "Downloading DuraMax 32 Piece Wrench Set - Pep Boys | size = 5.181135 mb\n",
            "[MoviePy] >>>> Building video drive/My Drive/Colab Notebooks/using a wrench videos/clipped/DuraMax 32 Piece Wrench Set - Pep Boys.mp4\n",
            "[MoviePy] Writing audio in DuraMax 32 Piece Wrench Set - Pep BoysTEMP_MPY_wvf_snd.mp3\n"
          ]
        },
        {
          "metadata": {
            "tags": null
          },
          "name": "stderr",
          "output_type": "stream",
          "text": [
            "100%|██████████| 221/221 [00:00<00:00, 645.79it/s]"
          ]
        },
        {
          "metadata": {
            "tags": null
          },
          "name": "stdout",
          "output_type": "stream",
          "text": [
            "[MoviePy] Done.\n",
            "[MoviePy] Writing video drive/My Drive/Colab Notebooks/using a wrench videos/clipped/DuraMax 32 Piece Wrench Set - Pep Boys.mp4\n"
          ]
        },
        {
          "metadata": {
            "tags": null
          },
          "name": "stderr",
          "output_type": "stream",
          "text": [
            "\n",
            "100%|██████████| 240/240 [00:16<00:00, 14.90it/s]\n"
          ]
        },
        {
          "metadata": {
            "tags": null
          },
          "name": "stdout",
          "output_type": "stream",
          "text": [
            "[MoviePy] Done.\n",
            "[MoviePy] >>>> Video ready: drive/My Drive/Colab Notebooks/using a wrench videos/clipped/DuraMax 32 Piece Wrench Set - Pep Boys.mp4 \n",
            "\n",
            "Downloading Adjustable Wrench | size = 28.512893 mb\n",
            "[MoviePy] >>>> Building video drive/My Drive/Colab Notebooks/using a wrench videos/clipped/Adjustable Wrench.mp4\n",
            "[MoviePy] Writing audio in Adjustable WrenchTEMP_MPY_wvf_snd.mp3\n"
          ]
        },
        {
          "metadata": {
            "tags": null
          },
          "name": "stderr",
          "output_type": "stream",
          "text": [
            "100%|██████████| 221/221 [00:00<00:00, 460.33it/s]"
          ]
        },
        {
          "metadata": {
            "tags": null
          },
          "name": "stdout",
          "output_type": "stream",
          "text": [
            "[MoviePy] Done.\n",
            "[MoviePy] Writing video drive/My Drive/Colab Notebooks/using a wrench videos/clipped/Adjustable Wrench.mp4\n"
          ]
        },
        {
          "metadata": {
            "tags": null
          },
          "name": "stderr",
          "output_type": "stream",
          "text": [
            "\n",
            "100%|██████████| 300/300 [00:17<00:00, 17.47it/s]\n"
          ]
        },
        {
          "metadata": {
            "tags": null
          },
          "name": "stdout",
          "output_type": "stream",
          "text": [
            "[MoviePy] Done.\n",
            "[MoviePy] >>>> Video ready: drive/My Drive/Colab Notebooks/using a wrench videos/clipped/Adjustable Wrench.mp4 \n",
            "\n",
            "Downloading Snap-on Tools 4-way angle wrenches | size = 3.054 mb\n",
            "[MoviePy] >>>> Building video drive/My Drive/Colab Notebooks/using a wrench videos/clipped/Snap-on Tools 4-way angle wrenches.mp4\n",
            "[MoviePy] Writing audio in Snap-on Tools 4-way angle wrenchesTEMP_MPY_wvf_snd.mp3\n"
          ]
        },
        {
          "metadata": {
            "tags": null
          },
          "name": "stderr",
          "output_type": "stream",
          "text": [
            "100%|██████████| 221/221 [00:00<00:00, 597.99it/s]"
          ]
        },
        {
          "metadata": {
            "tags": null
          },
          "name": "stdout",
          "output_type": "stream",
          "text": [
            "[MoviePy] Done.\n",
            "[MoviePy] Writing video drive/My Drive/Colab Notebooks/using a wrench videos/clipped/Snap-on Tools 4-way angle wrenches.mp4\n"
          ]
        },
        {
          "metadata": {
            "tags": null
          },
          "name": "stderr",
          "output_type": "stream",
          "text": [
            "\n",
            "100%|██████████| 300/300 [00:01<00:00, 174.55it/s]\n"
          ]
        },
        {
          "metadata": {
            "tags": null
          },
          "name": "stdout",
          "output_type": "stream",
          "text": [
            "[MoviePy] Done.\n",
            "[MoviePy] >>>> Video ready: drive/My Drive/Colab Notebooks/using a wrench videos/clipped/Snap-on Tools 4-way angle wrenches.mp4 \n",
            "\n",
            "Downloading Conduit Locknut Wrench | size = 18.36033 mb\n",
            "[MoviePy] >>>> Building video drive/My Drive/Colab Notebooks/using a wrench videos/clipped/Conduit Locknut Wrench.mp4\n",
            "[MoviePy] Writing audio in Conduit Locknut WrenchTEMP_MPY_wvf_snd.mp3\n"
          ]
        },
        {
          "metadata": {
            "tags": null
          },
          "name": "stderr",
          "output_type": "stream",
          "text": [
            "100%|██████████| 221/221 [00:00<00:00, 581.24it/s]"
          ]
        },
        {
          "metadata": {
            "tags": null
          },
          "name": "stdout",
          "output_type": "stream",
          "text": [
            "[MoviePy] Done.\n",
            "[MoviePy] Writing video drive/My Drive/Colab Notebooks/using a wrench videos/clipped/Conduit Locknut Wrench.mp4\n"
          ]
        },
        {
          "metadata": {
            "tags": null
          },
          "name": "stderr",
          "output_type": "stream",
          "text": [
            "\n",
            "100%|██████████| 300/300 [00:22<00:00, 13.33it/s]\n"
          ]
        },
        {
          "metadata": {
            "tags": null
          },
          "name": "stdout",
          "output_type": "stream",
          "text": [
            "[MoviePy] Done.\n",
            "[MoviePy] >>>> Video ready: drive/My Drive/Colab Notebooks/using a wrench videos/clipped/Conduit Locknut Wrench.mp4 \n",
            "\n",
            "Downloading Twin Set Spanners are colour coded | size = 7.018115 mb\n",
            "[MoviePy] >>>> Building video drive/My Drive/Colab Notebooks/using a wrench videos/clipped/Twin Set Spanners are colour coded.mp4\n",
            "[MoviePy] Writing audio in Twin Set Spanners are colour codedTEMP_MPY_wvf_snd.mp3\n"
          ]
        },
        {
          "metadata": {
            "tags": null
          },
          "name": "stderr",
          "output_type": "stream",
          "text": [
            "100%|██████████| 221/221 [00:00<00:00, 550.98it/s]\n"
          ]
        },
        {
          "metadata": {
            "tags": null
          },
          "name": "stdout",
          "output_type": "stream",
          "text": [
            "[MoviePy] Done.\n",
            "[MoviePy] Writing video drive/My Drive/Colab Notebooks/using a wrench videos/clipped/Twin Set Spanners are colour coded.mp4\n"
          ]
        },
        {
          "metadata": {
            "tags": null
          },
          "name": "stderr",
          "output_type": "stream",
          "text": [
            "100%|██████████| 300/300 [00:04<00:00, 64.21it/s]\n"
          ]
        },
        {
          "metadata": {
            "tags": null
          },
          "name": "stdout",
          "output_type": "stream",
          "text": [
            "[MoviePy] Done.\n",
            "[MoviePy] >>>> Video ready: drive/My Drive/Colab Notebooks/using a wrench videos/clipped/Twin Set Spanners are colour coded.mp4 \n",
            "\n",
            "Downloading How to use a wrench | size = 13.186821 mb\n",
            "[MoviePy] >>>> Building video drive/My Drive/Colab Notebooks/using a wrench videos/clipped/How to use a wrench.mp4\n",
            "[MoviePy] Writing audio in How to use a wrenchTEMP_MPY_wvf_snd.mp3\n"
          ]
        },
        {
          "metadata": {
            "tags": null
          },
          "name": "stderr",
          "output_type": "stream",
          "text": [
            "100%|██████████| 221/221 [00:00<00:00, 626.44it/s]"
          ]
        },
        {
          "metadata": {
            "tags": null
          },
          "name": "stdout",
          "output_type": "stream",
          "text": [
            "[MoviePy] Done.\n",
            "[MoviePy] Writing video drive/My Drive/Colab Notebooks/using a wrench videos/clipped/How to use a wrench.mp4\n"
          ]
        },
        {
          "metadata": {
            "tags": null
          },
          "name": "stderr",
          "output_type": "stream",
          "text": [
            "\n",
            "100%|█████████▉| 250/251 [00:15<00:00, 16.61it/s]\n"
          ]
        },
        {
          "metadata": {
            "tags": null
          },
          "name": "stdout",
          "output_type": "stream",
          "text": [
            "[MoviePy] Done.\n",
            "[MoviePy] >>>> Video ready: drive/My Drive/Colab Notebooks/using a wrench videos/clipped/How to use a wrench.mp4 \n",
            "\n",
            "Downloading Tite Reach Qt | size = 3.471159 mb\n",
            "[MoviePy] >>>> Building video drive/My Drive/Colab Notebooks/using a wrench videos/clipped/Tite Reach Qt.mp4\n",
            "[MoviePy] Writing audio in Tite Reach QtTEMP_MPY_wvf_snd.mp3\n"
          ]
        },
        {
          "metadata": {
            "tags": null
          },
          "name": "stderr",
          "output_type": "stream",
          "text": [
            "100%|██████████| 221/221 [00:00<00:00, 789.12it/s]"
          ]
        },
        {
          "metadata": {
            "tags": null
          },
          "name": "stdout",
          "output_type": "stream",
          "text": [
            "[MoviePy] Done.\n",
            "[MoviePy] Writing video drive/My Drive/Colab Notebooks/using a wrench videos/clipped/Tite Reach Qt.mp4\n"
          ]
        },
        {
          "metadata": {
            "tags": null
          },
          "name": "stderr",
          "output_type": "stream",
          "text": [
            "\n",
            "100%|██████████| 300/300 [00:02<00:00, 110.20it/s]\n"
          ]
        },
        {
          "metadata": {
            "tags": null
          },
          "name": "stdout",
          "output_type": "stream",
          "text": [
            "[MoviePy] Done.\n",
            "[MoviePy] >>>> Video ready: drive/My Drive/Colab Notebooks/using a wrench videos/clipped/Tite Reach Qt.mp4 \n",
            "\n",
            "Downloading Sealey AK63905 Reversible Ratchet Combination Spanner Set | size = 9.554945 mb\n",
            "[MoviePy] >>>> Building video drive/My Drive/Colab Notebooks/using a wrench videos/clipped/Sealey AK63905 Reversible Ratchet Combination Spanner Set.mp4\n",
            "[MoviePy] Writing audio in Sealey AK63905 Reversible Ratchet Combination Spanner SetTEMP_MPY_wvf_snd.mp3\n"
          ]
        },
        {
          "metadata": {
            "tags": null
          },
          "name": "stderr",
          "output_type": "stream",
          "text": [
            "100%|██████████| 221/221 [00:00<00:00, 618.93it/s]"
          ]
        },
        {
          "metadata": {
            "tags": null
          },
          "name": "stdout",
          "output_type": "stream",
          "text": [
            "[MoviePy] Done.\n",
            "[MoviePy] Writing video drive/My Drive/Colab Notebooks/using a wrench videos/clipped/Sealey AK63905 Reversible Ratchet Combination Spanner Set.mp4\n"
          ]
        },
        {
          "metadata": {
            "tags": null
          },
          "name": "stderr",
          "output_type": "stream",
          "text": [
            "\n",
            "100%|█████████▉| 250/251 [00:14<00:00, 17.86it/s]\n"
          ]
        },
        {
          "metadata": {
            "tags": null
          },
          "name": "stdout",
          "output_type": "stream",
          "text": [
            "[MoviePy] Done.\n",
            "[MoviePy] >>>> Video ready: drive/My Drive/Colab Notebooks/using a wrench videos/clipped/Sealey AK63905 Reversible Ratchet Combination Spanner Set.mp4 \n",
            "\n",
            "Downloading Amazing  Wrench | size = 2.677678 mb\n",
            "[MoviePy] >>>> Building video drive/My Drive/Colab Notebooks/using a wrench videos/clipped/Amazing  Wrench.mp4\n",
            "[MoviePy] Writing audio in Amazing  WrenchTEMP_MPY_wvf_snd.mp3\n"
          ]
        },
        {
          "metadata": {
            "tags": null
          },
          "name": "stderr",
          "output_type": "stream",
          "text": [
            "100%|██████████| 221/221 [00:00<00:00, 564.71it/s]\n"
          ]
        },
        {
          "metadata": {
            "tags": null
          },
          "name": "stdout",
          "output_type": "stream",
          "text": [
            "[MoviePy] Done.\n",
            "[MoviePy] Writing video drive/My Drive/Colab Notebooks/using a wrench videos/clipped/Amazing  Wrench.mp4\n"
          ]
        },
        {
          "metadata": {
            "tags": null
          },
          "name": "stderr",
          "output_type": "stream",
          "text": [
            "100%|██████████| 300/300 [00:04<00:00, 74.16it/s]\n"
          ]
        },
        {
          "metadata": {
            "tags": null
          },
          "name": "stdout",
          "output_type": "stream",
          "text": [
            "[MoviePy] Done.\n",
            "[MoviePy] >>>> Video ready: drive/My Drive/Colab Notebooks/using a wrench videos/clipped/Amazing  Wrench.mp4 \n",
            "\n",
            "Downloading BTE PrimusRS_use a socket wrench | size = 2.014298 mb\n",
            "[MoviePy] >>>> Building video drive/My Drive/Colab Notebooks/using a wrench videos/clipped/BTE PrimusRS_use a socket wrench.mp4\n",
            "[MoviePy] Writing audio in BTE PrimusRS_use a socket wrenchTEMP_MPY_wvf_snd.mp3\n"
          ]
        },
        {
          "metadata": {
            "tags": null
          },
          "name": "stderr",
          "output_type": "stream",
          "text": [
            "100%|██████████| 221/221 [00:00<00:00, 1304.85it/s]"
          ]
        },
        {
          "metadata": {
            "tags": null
          },
          "name": "stdout",
          "output_type": "stream",
          "text": [
            "[MoviePy] Done.\n",
            "[MoviePy] Writing video drive/My Drive/Colab Notebooks/using a wrench videos/clipped/BTE PrimusRS_use a socket wrench.mp4\n"
          ]
        },
        {
          "metadata": {
            "tags": null
          },
          "name": "stderr",
          "output_type": "stream",
          "text": [
            "\n",
            "100%|█████████▉| 300/301 [00:03<00:00, 75.20it/s]\n"
          ]
        },
        {
          "metadata": {
            "tags": null
          },
          "name": "stdout",
          "output_type": "stream",
          "text": [
            "[MoviePy] Done.\n",
            "[MoviePy] >>>> Video ready: drive/My Drive/Colab Notebooks/using a wrench videos/clipped/BTE PrimusRS_use a socket wrench.mp4 \n",
            "\n",
            "Downloading Ratchet Tech - Wrench Comparison and Strength Test | size = 73.785805 mb\n",
            "[MoviePy] >>>> Building video drive/My Drive/Colab Notebooks/using a wrench videos/clipped/Ratchet Tech - Wrench Comparison and Strength Test.mp4\n",
            "[MoviePy] Writing audio in Ratchet Tech - Wrench Comparison and Strength TestTEMP_MPY_wvf_snd.mp3\n"
          ]
        },
        {
          "metadata": {
            "tags": null
          },
          "name": "stderr",
          "output_type": "stream",
          "text": [
            "100%|██████████| 221/221 [00:00<00:00, 478.55it/s]"
          ]
        },
        {
          "metadata": {
            "tags": null
          },
          "name": "stdout",
          "output_type": "stream",
          "text": [
            "[MoviePy] Done.\n",
            "[MoviePy] Writing video drive/My Drive/Colab Notebooks/using a wrench videos/clipped/Ratchet Tech - Wrench Comparison and Strength Test.mp4\n"
          ]
        },
        {
          "metadata": {
            "tags": null
          },
          "name": "stderr",
          "output_type": "stream",
          "text": [
            "\n",
            "100%|██████████| 300/300 [00:17<00:00, 17.24it/s]\n"
          ]
        },
        {
          "metadata": {
            "tags": null
          },
          "name": "stdout",
          "output_type": "stream",
          "text": [
            "[MoviePy] Done.\n",
            "[MoviePy] >>>> Video ready: drive/My Drive/Colab Notebooks/using a wrench videos/clipped/Ratchet Tech - Wrench Comparison and Strength Test.mp4 \n",
            "\n",
            "Downloading Tite-Reach extension wrench product line | size = 4.814363 mb\n",
            "[MoviePy] >>>> Building video drive/My Drive/Colab Notebooks/using a wrench videos/clipped/Tite-Reach extension wrench product line.mp4\n",
            "[MoviePy] Writing audio in Tite-Reach extension wrench product lineTEMP_MPY_wvf_snd.mp3\n"
          ]
        },
        {
          "metadata": {
            "tags": null
          },
          "name": "stderr",
          "output_type": "stream",
          "text": [
            "100%|██████████| 221/221 [00:00<00:00, 511.45it/s]"
          ]
        },
        {
          "metadata": {
            "tags": null
          },
          "name": "stdout",
          "output_type": "stream",
          "text": [
            "[MoviePy] Done.\n",
            "[MoviePy] Writing video drive/My Drive/Colab Notebooks/using a wrench videos/clipped/Tite-Reach extension wrench product line.mp4\n"
          ]
        },
        {
          "metadata": {
            "tags": null
          },
          "name": "stderr",
          "output_type": "stream",
          "text": [
            "\n",
            "100%|██████████| 300/300 [00:03<00:00, 77.21it/s]\n"
          ]
        },
        {
          "metadata": {
            "tags": null
          },
          "name": "stdout",
          "output_type": "stream",
          "text": [
            "[MoviePy] Done.\n",
            "[MoviePy] >>>> Video ready: drive/My Drive/Colab Notebooks/using a wrench videos/clipped/Tite-Reach extension wrench product line.mp4 \n",
            "\n",
            "C423RRq0k5Y is a private video\n",
            "Downloading Magic Wrench and Footprint Pipe Wrench | size = 18.484429 mb\n",
            "[MoviePy] >>>> Building video drive/My Drive/Colab Notebooks/using a wrench videos/clipped/Magic Wrench and Footprint Pipe Wrench.mp4\n",
            "[MoviePy] Writing audio in Magic Wrench and Footprint Pipe WrenchTEMP_MPY_wvf_snd.mp3\n"
          ]
        },
        {
          "metadata": {
            "tags": null
          },
          "name": "stderr",
          "output_type": "stream",
          "text": [
            "100%|██████████| 221/221 [00:00<00:00, 565.11it/s]"
          ]
        },
        {
          "metadata": {
            "tags": null
          },
          "name": "stdout",
          "output_type": "stream",
          "text": [
            "[MoviePy] Done.\n",
            "[MoviePy] Writing video drive/My Drive/Colab Notebooks/using a wrench videos/clipped/Magic Wrench and Footprint Pipe Wrench.mp4\n"
          ]
        },
        {
          "metadata": {
            "tags": null
          },
          "name": "stderr",
          "output_type": "stream",
          "text": [
            "\n",
            "100%|█████████▉| 250/251 [00:12<00:00, 20.03it/s]\n"
          ]
        },
        {
          "metadata": {
            "tags": null
          },
          "name": "stdout",
          "output_type": "stream",
          "text": [
            "[MoviePy] Done.\n",
            "[MoviePy] >>>> Video ready: drive/My Drive/Colab Notebooks/using a wrench videos/clipped/Magic Wrench and Footprint Pipe Wrench.mp4 \n",
            "\n",
            "CHs3S-UiAms is unavailable\n",
            "Downloading Using a Basic Beer Faucet Wrench for to Remove or Tighten Beer Taps and Faucets Onto Beer Shanks | size = 13.888244 mb\n",
            "[MoviePy] >>>> Building video drive/My Drive/Colab Notebooks/using a wrench videos/clipped/Using a Basic Beer Faucet Wrench for to Remove or Tighten Beer Taps and Faucets Onto Beer Shanks.mp4\n",
            "[MoviePy] Writing audio in Using a Basic Beer Faucet Wrench for to Remove or Tighten Beer Taps and Faucets Onto Beer ShanksTEMP_MPY_wvf_snd.mp3\n"
          ]
        },
        {
          "metadata": {
            "tags": null
          },
          "name": "stderr",
          "output_type": "stream",
          "text": [
            "100%|██████████| 221/221 [00:00<00:00, 486.15it/s]"
          ]
        },
        {
          "metadata": {
            "tags": null
          },
          "name": "stdout",
          "output_type": "stream",
          "text": [
            "[MoviePy] Done.\n",
            "[MoviePy] Writing video drive/My Drive/Colab Notebooks/using a wrench videos/clipped/Using a Basic Beer Faucet Wrench for to Remove or Tighten Beer Taps and Faucets Onto Beer Shanks.mp4\n"
          ]
        },
        {
          "metadata": {
            "tags": null
          },
          "name": "stderr",
          "output_type": "stream",
          "text": [
            "\n",
            "100%|██████████| 300/300 [00:17<00:00, 16.89it/s]\n"
          ]
        },
        {
          "metadata": {
            "tags": null
          },
          "name": "stdout",
          "output_type": "stream",
          "text": [
            "[MoviePy] Done.\n",
            "[MoviePy] >>>> Video ready: drive/My Drive/Colab Notebooks/using a wrench videos/clipped/Using a Basic Beer Faucet Wrench for to Remove or Tighten Beer Taps and Faucets Onto Beer Shanks.mp4 \n",
            "\n",
            "Downloading Wrench xylophone | size = 0.494429 mb\n",
            "[MoviePy] >>>> Building video drive/My Drive/Colab Notebooks/using a wrench videos/clipped/Wrench xylophone.mp4\n",
            "[MoviePy] Writing audio in Wrench xylophoneTEMP_MPY_wvf_snd.mp3\n"
          ]
        },
        {
          "metadata": {
            "tags": null
          },
          "name": "stderr",
          "output_type": "stream",
          "text": [
            " 99%|█████████▊| 218/221 [00:00<00:00, 832.37it/s]\n"
          ]
        },
        {
          "metadata": {
            "tags": null
          },
          "name": "stdout",
          "output_type": "stream",
          "text": [
            "Error in file drive/My Drive/Colab Notebooks/using a wrench videos/Wrench xylophone.mp4, Accessing time t=12.86-12.91 seconds, with clip duration=12 seconds, \n",
            "Downloading Automatic Adjustable wrench | size = 11.312716 mb\n",
            "[MoviePy] >>>> Building video drive/My Drive/Colab Notebooks/using a wrench videos/clipped/Automatic Adjustable wrench.mp4\n",
            "[MoviePy] Writing audio in Automatic Adjustable wrenchTEMP_MPY_wvf_snd.mp3\n"
          ]
        },
        {
          "metadata": {
            "tags": null
          },
          "name": "stderr",
          "output_type": "stream",
          "text": [
            "100%|██████████| 221/221 [00:00<00:00, 516.81it/s]"
          ]
        },
        {
          "metadata": {
            "tags": null
          },
          "name": "stdout",
          "output_type": "stream",
          "text": [
            "[MoviePy] Done.\n",
            "[MoviePy] Writing video drive/My Drive/Colab Notebooks/using a wrench videos/clipped/Automatic Adjustable wrench.mp4\n"
          ]
        },
        {
          "metadata": {
            "tags": null
          },
          "name": "stderr",
          "output_type": "stream",
          "text": [
            "\n",
            "100%|██████████| 300/300 [00:04<00:00, 65.45it/s]\n"
          ]
        },
        {
          "metadata": {
            "tags": null
          },
          "name": "stdout",
          "output_type": "stream",
          "text": [
            "[MoviePy] Done.\n",
            "[MoviePy] >>>> Video ready: drive/My Drive/Colab Notebooks/using a wrench videos/clipped/Automatic Adjustable wrench.mp4 \n",
            "\n",
            "Downloading ESP Multi Spanner | size = 4.881909 mb\n",
            "[MoviePy] >>>> Building video drive/My Drive/Colab Notebooks/using a wrench videos/clipped/ESP Multi Spanner.mp4\n",
            "[MoviePy] Writing audio in ESP Multi SpannerTEMP_MPY_wvf_snd.mp3\n"
          ]
        },
        {
          "metadata": {
            "tags": null
          },
          "name": "stderr",
          "output_type": "stream",
          "text": [
            "100%|██████████| 221/221 [00:00<00:00, 802.05it/s]"
          ]
        },
        {
          "metadata": {
            "tags": null
          },
          "name": "stdout",
          "output_type": "stream",
          "text": [
            "[MoviePy] Done.\n",
            "[MoviePy] Writing video drive/My Drive/Colab Notebooks/using a wrench videos/clipped/ESP Multi Spanner.mp4\n"
          ]
        },
        {
          "metadata": {
            "tags": null
          },
          "name": "stderr",
          "output_type": "stream",
          "text": [
            "\n",
            "100%|█████████▉| 250/251 [00:11<00:00, 22.66it/s]\n"
          ]
        },
        {
          "metadata": {
            "tags": null
          },
          "name": "stdout",
          "output_type": "stream",
          "text": [
            "[MoviePy] Done.\n",
            "[MoviePy] >>>> Video ready: drive/My Drive/Colab Notebooks/using a wrench videos/clipped/ESP Multi Spanner.mp4 \n",
            "\n",
            "Downloading Apollo BTS Wrench Time Trial | size = 30.108831 mb\n",
            "[MoviePy] >>>> Building video drive/My Drive/Colab Notebooks/using a wrench videos/clipped/Apollo BTS Wrench Time Trial.mp4\n",
            "[MoviePy] Writing audio in Apollo BTS Wrench Time TrialTEMP_MPY_wvf_snd.mp3\n"
          ]
        },
        {
          "metadata": {
            "tags": null
          },
          "name": "stderr",
          "output_type": "stream",
          "text": [
            "100%|██████████| 221/221 [00:00<00:00, 612.31it/s]"
          ]
        },
        {
          "metadata": {
            "tags": null
          },
          "name": "stdout",
          "output_type": "stream",
          "text": [
            "[MoviePy] Done.\n",
            "[MoviePy] Writing video drive/My Drive/Colab Notebooks/using a wrench videos/clipped/Apollo BTS Wrench Time Trial.mp4\n"
          ]
        },
        {
          "metadata": {
            "tags": null
          },
          "name": "stderr",
          "output_type": "stream",
          "text": [
            "\n",
            "100%|█████████▉| 240/241 [00:18<00:00, 12.63it/s]\n"
          ]
        },
        {
          "metadata": {
            "tags": null
          },
          "name": "stdout",
          "output_type": "stream",
          "text": [
            "[MoviePy] Done.\n",
            "[MoviePy] >>>> Video ready: drive/My Drive/Colab Notebooks/using a wrench videos/clipped/Apollo BTS Wrench Time Trial.mp4 \n",
            "\n",
            "Downloading Nerrad Tools - Adjustable Ratchet Wrench | size = 8.700791 mb\n",
            "[MoviePy] >>>> Building video drive/My Drive/Colab Notebooks/using a wrench videos/clipped/Nerrad Tools - Adjustable Ratchet Wrench.mp4\n",
            "[MoviePy] Writing audio in Nerrad Tools - Adjustable Ratchet WrenchTEMP_MPY_wvf_snd.mp3\n"
          ]
        },
        {
          "metadata": {
            "tags": null
          },
          "name": "stderr",
          "output_type": "stream",
          "text": [
            "100%|██████████| 221/221 [00:00<00:00, 593.14it/s]"
          ]
        },
        {
          "metadata": {
            "tags": null
          },
          "name": "stdout",
          "output_type": "stream",
          "text": [
            "[MoviePy] Done.\n",
            "[MoviePy] Writing video drive/My Drive/Colab Notebooks/using a wrench videos/clipped/Nerrad Tools - Adjustable Ratchet Wrench.mp4\n"
          ]
        },
        {
          "metadata": {
            "tags": null
          },
          "name": "stderr",
          "output_type": "stream",
          "text": [
            "\n",
            "100%|██████████| 240/240 [00:10<00:00, 22.84it/s]\n"
          ]
        },
        {
          "metadata": {
            "tags": null
          },
          "name": "stdout",
          "output_type": "stream",
          "text": [
            "[MoviePy] Done.\n",
            "[MoviePy] >>>> Video ready: drive/My Drive/Colab Notebooks/using a wrench videos/clipped/Nerrad Tools - Adjustable Ratchet Wrench.mp4 \n",
            "\n",
            "CyX06Ycwqps is unavailable\n",
            "Downloading Keg Wrench | size = 9.275108 mb\n",
            "[MoviePy] >>>> Building video drive/My Drive/Colab Notebooks/using a wrench videos/clipped/Keg Wrench.mp4\n",
            "[MoviePy] Writing audio in Keg WrenchTEMP_MPY_wvf_snd.mp3\n"
          ]
        },
        {
          "metadata": {
            "tags": null
          },
          "name": "stderr",
          "output_type": "stream",
          "text": [
            "100%|██████████| 221/221 [00:00<00:00, 457.58it/s]"
          ]
        },
        {
          "metadata": {
            "tags": null
          },
          "name": "stdout",
          "output_type": "stream",
          "text": [
            "[MoviePy] Done.\n",
            "[MoviePy] Writing video drive/My Drive/Colab Notebooks/using a wrench videos/clipped/Keg Wrench.mp4\n"
          ]
        },
        {
          "metadata": {
            "tags": null
          },
          "name": "stderr",
          "output_type": "stream",
          "text": [
            "\n",
            "100%|█████████▉| 240/241 [00:15<00:00, 15.98it/s]\n"
          ]
        },
        {
          "metadata": {
            "tags": null
          },
          "name": "stdout",
          "output_type": "stream",
          "text": [
            "[MoviePy] Done.\n",
            "[MoviePy] >>>> Video ready: drive/My Drive/Colab Notebooks/using a wrench videos/clipped/Keg Wrench.mp4 \n",
            "\n",
            "Downloading Hydraulic cylinder piston nut driver | size = 20.728599 mb\n",
            "[MoviePy] >>>> Building video drive/My Drive/Colab Notebooks/using a wrench videos/clipped/Hydraulic cylinder piston nut driver.mp4\n",
            "[MoviePy] Writing audio in Hydraulic cylinder piston nut driverTEMP_MPY_wvf_snd.mp3\n"
          ]
        },
        {
          "metadata": {
            "tags": null
          },
          "name": "stderr",
          "output_type": "stream",
          "text": [
            "100%|██████████| 221/221 [00:00<00:00, 498.42it/s]"
          ]
        },
        {
          "metadata": {
            "tags": null
          },
          "name": "stdout",
          "output_type": "stream",
          "text": [
            "[MoviePy] Done.\n",
            "[MoviePy] Writing video drive/My Drive/Colab Notebooks/using a wrench videos/clipped/Hydraulic cylinder piston nut driver.mp4\n"
          ]
        },
        {
          "metadata": {
            "tags": null
          },
          "name": "stderr",
          "output_type": "stream",
          "text": [
            "\n",
            "100%|█████████▉| 300/301 [00:08<00:00, 36.97it/s]\n"
          ]
        },
        {
          "metadata": {
            "tags": null
          },
          "name": "stdout",
          "output_type": "stream",
          "text": [
            "[MoviePy] Done.\n",
            "[MoviePy] >>>> Video ready: drive/My Drive/Colab Notebooks/using a wrench videos/clipped/Hydraulic cylinder piston nut driver.mp4 \n",
            "\n",
            "Downloading How To Use RIDGID® Chain Wrenches | size = 8.048834 mb\n",
            "[MoviePy] >>>> Building video drive/My Drive/Colab Notebooks/using a wrench videos/clipped/How To Use RIDGID® Chain Wrenches.mp4\n",
            "[MoviePy] Writing audio in How To Use RIDGID® Chain WrenchesTEMP_MPY_wvf_snd.mp3\n"
          ]
        },
        {
          "metadata": {
            "tags": null
          },
          "name": "stderr",
          "output_type": "stream",
          "text": [
            "100%|██████████| 221/221 [00:00<00:00, 492.12it/s]"
          ]
        },
        {
          "metadata": {
            "tags": null
          },
          "name": "stdout",
          "output_type": "stream",
          "text": [
            "[MoviePy] Done.\n",
            "[MoviePy] Writing video drive/My Drive/Colab Notebooks/using a wrench videos/clipped/How To Use RIDGID® Chain Wrenches.mp4\n"
          ]
        },
        {
          "metadata": {
            "tags": null
          },
          "name": "stderr",
          "output_type": "stream",
          "text": [
            "\n",
            "100%|█████████▉| 250/251 [00:10<00:00, 23.94it/s]\n"
          ]
        },
        {
          "metadata": {
            "tags": null
          },
          "name": "stdout",
          "output_type": "stream",
          "text": [
            "[MoviePy] Done.\n",
            "[MoviePy] >>>> Video ready: drive/My Drive/Colab Notebooks/using a wrench videos/clipped/How To Use RIDGID® Chain Wrenches.mp4 \n",
            "\n",
            "Downloading 15 inch Crescent Wrench 2012 | size = 2.995133 mb\n",
            "[MoviePy] >>>> Building video drive/My Drive/Colab Notebooks/using a wrench videos/clipped/15 inch Crescent Wrench 2012.mp4\n",
            "[MoviePy] Writing audio in 15 inch Crescent Wrench 2012TEMP_MPY_wvf_snd.mp3\n"
          ]
        },
        {
          "metadata": {
            "tags": null
          },
          "name": "stderr",
          "output_type": "stream",
          "text": [
            "100%|██████████| 221/221 [00:00<00:00, 600.63it/s]"
          ]
        },
        {
          "metadata": {
            "tags": null
          },
          "name": "stdout",
          "output_type": "stream",
          "text": [
            "[MoviePy] Done.\n",
            "[MoviePy] Writing video drive/My Drive/Colab Notebooks/using a wrench videos/clipped/15 inch Crescent Wrench 2012.mp4\n"
          ]
        },
        {
          "metadata": {
            "tags": null
          },
          "name": "stderr",
          "output_type": "stream",
          "text": [
            "\n",
            "100%|██████████| 300/300 [00:01<00:00, 159.47it/s]\n"
          ]
        },
        {
          "metadata": {
            "tags": null
          },
          "name": "stdout",
          "output_type": "stream",
          "text": [
            "[MoviePy] Done.\n",
            "[MoviePy] >>>> Video ready: drive/My Drive/Colab Notebooks/using a wrench videos/clipped/15 inch Crescent Wrench 2012.mp4 \n",
            "\n",
            "Downloading Mega-Combo Wrench Time Trial | size = 30.248932 mb\n",
            "[MoviePy] >>>> Building video drive/My Drive/Colab Notebooks/using a wrench videos/clipped/Mega-Combo Wrench Time Trial.mp4\n",
            "[MoviePy] Writing audio in Mega-Combo Wrench Time TrialTEMP_MPY_wvf_snd.mp3\n"
          ]
        },
        {
          "metadata": {
            "tags": null
          },
          "name": "stderr",
          "output_type": "stream",
          "text": [
            "100%|██████████| 221/221 [00:00<00:00, 587.80it/s]"
          ]
        },
        {
          "metadata": {
            "tags": null
          },
          "name": "stdout",
          "output_type": "stream",
          "text": [
            "[MoviePy] Done.\n",
            "[MoviePy] Writing video drive/My Drive/Colab Notebooks/using a wrench videos/clipped/Mega-Combo Wrench Time Trial.mp4\n"
          ]
        },
        {
          "metadata": {
            "tags": null
          },
          "name": "stderr",
          "output_type": "stream",
          "text": [
            "\n",
            "100%|█████████▉| 240/241 [00:18<00:00, 12.84it/s]\n"
          ]
        },
        {
          "metadata": {
            "tags": null
          },
          "name": "stdout",
          "output_type": "stream",
          "text": [
            "[MoviePy] Done.\n",
            "[MoviePy] >>>> Video ready: drive/My Drive/Colab Notebooks/using a wrench videos/clipped/Mega-Combo Wrench Time Trial.mp4 \n",
            "\n",
            "Downloading Introducing the new Podger / Tool Lanyard from Dirty Rigger | size = 11.84785 mb\n",
            "[MoviePy] >>>> Building video drive/My Drive/Colab Notebooks/using a wrench videos/clipped/Introducing the new Podger  Tool Lanyard from Dirty Rigger.mp4\n",
            "[MoviePy] Writing audio in Introducing the new Podger  Tool Lanyard from Dirty RiggerTEMP_MPY_wvf_snd.mp3\n"
          ]
        },
        {
          "metadata": {
            "tags": null
          },
          "name": "stderr",
          "output_type": "stream",
          "text": [
            "100%|██████████| 221/221 [00:00<00:00, 526.98it/s]"
          ]
        },
        {
          "metadata": {
            "tags": null
          },
          "name": "stdout",
          "output_type": "stream",
          "text": [
            "[MoviePy] Done.\n",
            "[MoviePy] Writing video drive/My Drive/Colab Notebooks/using a wrench videos/clipped/Introducing the new Podger  Tool Lanyard from Dirty Rigger.mp4\n"
          ]
        },
        {
          "metadata": {
            "tags": null
          },
          "name": "stderr",
          "output_type": "stream",
          "text": [
            "\n",
            "100%|██████████| 240/240 [00:15<00:00, 15.49it/s]\n"
          ]
        },
        {
          "metadata": {
            "tags": null
          },
          "name": "stdout",
          "output_type": "stream",
          "text": [
            "[MoviePy] Done.\n",
            "[MoviePy] >>>> Video ready: drive/My Drive/Colab Notebooks/using a wrench videos/clipped/Introducing the new Podger  Tool Lanyard from Dirty Rigger.mp4 \n",
            "\n",
            "DYKyirHChZI is unavailable\n",
            "Downloading PowerGrip Spanish | size = 9.529824 mb\n",
            "[MoviePy] >>>> Building video drive/My Drive/Colab Notebooks/using a wrench videos/clipped/PowerGrip Spanish.mp4\n",
            "[MoviePy] Writing audio in PowerGrip SpanishTEMP_MPY_wvf_snd.mp3\n"
          ]
        },
        {
          "metadata": {
            "tags": null
          },
          "name": "stderr",
          "output_type": "stream",
          "text": [
            "100%|██████████| 221/221 [00:00<00:00, 491.75it/s]"
          ]
        },
        {
          "metadata": {
            "tags": null
          },
          "name": "stdout",
          "output_type": "stream",
          "text": [
            "[MoviePy] Done.\n",
            "[MoviePy] Writing video drive/My Drive/Colab Notebooks/using a wrench videos/clipped/PowerGrip Spanish.mp4\n"
          ]
        },
        {
          "metadata": {
            "tags": null
          },
          "name": "stderr",
          "output_type": "stream",
          "text": [
            "\n",
            "100%|██████████| 300/300 [00:02<00:00, 114.96it/s]\n"
          ]
        },
        {
          "metadata": {
            "tags": null
          },
          "name": "stdout",
          "output_type": "stream",
          "text": [
            "[MoviePy] Done.\n",
            "[MoviePy] >>>> Video ready: drive/My Drive/Colab Notebooks/using a wrench videos/clipped/PowerGrip Spanish.mp4 \n",
            "\n",
            "Downloading WRENCHES | size = 15.699077 mb\n",
            "[MoviePy] >>>> Building video drive/My Drive/Colab Notebooks/using a wrench videos/clipped/WRENCHES.mp4\n",
            "[MoviePy] Writing audio in WRENCHESTEMP_MPY_wvf_snd.mp3\n"
          ]
        },
        {
          "metadata": {
            "tags": null
          },
          "name": "stderr",
          "output_type": "stream",
          "text": [
            "100%|██████████| 221/221 [00:00<00:00, 448.56it/s]"
          ]
        },
        {
          "metadata": {
            "tags": null
          },
          "name": "stdout",
          "output_type": "stream",
          "text": [
            "[MoviePy] Done.\n",
            "[MoviePy] Writing video drive/My Drive/Colab Notebooks/using a wrench videos/clipped/WRENCHES.mp4\n"
          ]
        },
        {
          "metadata": {
            "tags": null
          },
          "name": "stderr",
          "output_type": "stream",
          "text": [
            "\n",
            "100%|██████████| 300/300 [00:11<00:00, 25.83it/s]\n"
          ]
        },
        {
          "metadata": {
            "tags": null
          },
          "name": "stdout",
          "output_type": "stream",
          "text": [
            "[MoviePy] Done.\n",
            "[MoviePy] >>>> Video ready: drive/My Drive/Colab Notebooks/using a wrench videos/clipped/WRENCHES.mp4 \n",
            "\n",
            "Downloading Lisle Fan Clutch Removal Wrenches Pneumatic Set 43300 | size = 2.049714 mb\n",
            "[MoviePy] >>>> Building video drive/My Drive/Colab Notebooks/using a wrench videos/clipped/Lisle Fan Clutch Removal Wrenches Pneumatic Set 43300.mp4\n",
            "[MoviePy] Writing audio in Lisle Fan Clutch Removal Wrenches Pneumatic Set 43300TEMP_MPY_wvf_snd.mp3\n"
          ]
        },
        {
          "metadata": {
            "tags": null
          },
          "name": "stderr",
          "output_type": "stream",
          "text": [
            "100%|██████████| 221/221 [00:00<00:00, 1107.88it/s]"
          ]
        },
        {
          "metadata": {
            "tags": null
          },
          "name": "stdout",
          "output_type": "stream",
          "text": [
            "[MoviePy] Done.\n",
            "[MoviePy] Writing video drive/My Drive/Colab Notebooks/using a wrench videos/clipped/Lisle Fan Clutch Removal Wrenches Pneumatic Set 43300.mp4\n"
          ]
        },
        {
          "metadata": {
            "tags": null
          },
          "name": "stderr",
          "output_type": "stream",
          "text": [
            "\n",
            "100%|██████████| 300/300 [00:04<00:00, 63.76it/s]\n"
          ]
        },
        {
          "metadata": {
            "tags": null
          },
          "name": "stdout",
          "output_type": "stream",
          "text": [
            "[MoviePy] Done.\n",
            "[MoviePy] >>>> Video ready: drive/My Drive/Colab Notebooks/using a wrench videos/clipped/Lisle Fan Clutch Removal Wrenches Pneumatic Set 43300.mp4 \n",
            "\n",
            "Downloading TAPCO AR Multi Tool, Product Sales Video | size = 12.492616 mb\n",
            "[MoviePy] >>>> Building video drive/My Drive/Colab Notebooks/using a wrench videos/clipped/TAPCO AR Multi Tool, Product Sales Video.mp4\n",
            "[MoviePy] Writing audio in TAPCO AR Multi Tool, Product Sales VideoTEMP_MPY_wvf_snd.mp3\n"
          ]
        },
        {
          "metadata": {
            "tags": null
          },
          "name": "stderr",
          "output_type": "stream",
          "text": [
            "100%|██████████| 221/221 [00:00<00:00, 489.45it/s]"
          ]
        },
        {
          "metadata": {
            "tags": null
          },
          "name": "stdout",
          "output_type": "stream",
          "text": [
            "[MoviePy] Done.\n",
            "[MoviePy] Writing video drive/My Drive/Colab Notebooks/using a wrench videos/clipped/TAPCO AR Multi Tool, Product Sales Video.mp4\n"
          ]
        },
        {
          "metadata": {
            "tags": null
          },
          "name": "stderr",
          "output_type": "stream",
          "text": [
            "\n",
            "100%|█████████▉| 300/301 [00:16<00:00, 17.96it/s]\n"
          ]
        },
        {
          "metadata": {
            "tags": null
          },
          "name": "stdout",
          "output_type": "stream",
          "text": [
            "[MoviePy] Done.\n",
            "[MoviePy] >>>> Video ready: drive/My Drive/Colab Notebooks/using a wrench videos/clipped/TAPCO AR Multi Tool, Product Sales Video.mp4 \n",
            "\n",
            "Downloading 1/4\" Professional Tite-Reach | size = 2.877738 mb\n",
            "[MoviePy] >>>> Building video drive/My Drive/Colab Notebooks/using a wrench videos/clipped/14 Professional Tite-Reach.mp4\n",
            "[MoviePy] Writing audio in 14 Professional Tite-ReachTEMP_MPY_wvf_snd.mp3\n"
          ]
        },
        {
          "metadata": {
            "tags": null
          },
          "name": "stderr",
          "output_type": "stream",
          "text": [
            "100%|██████████| 221/221 [00:00<00:00, 513.95it/s]"
          ]
        },
        {
          "metadata": {
            "tags": null
          },
          "name": "stdout",
          "output_type": "stream",
          "text": [
            "[MoviePy] Done.\n",
            "[MoviePy] Writing video drive/My Drive/Colab Notebooks/using a wrench videos/clipped/14 Professional Tite-Reach.mp4\n"
          ]
        },
        {
          "metadata": {
            "tags": null
          },
          "name": "stderr",
          "output_type": "stream",
          "text": [
            "\n",
            "100%|██████████| 300/300 [00:04<00:00, 63.41it/s]\n"
          ]
        },
        {
          "metadata": {
            "tags": null
          },
          "name": "stdout",
          "output_type": "stream",
          "text": [
            "[MoviePy] Done.\n",
            "[MoviePy] >>>> Video ready: drive/My Drive/Colab Notebooks/using a wrench videos/clipped/14 Professional Tite-Reach.mp4 \n",
            "\n",
            "EBfhZjB7g2Q is unavailable\n",
            "Downloading Multi-socket speed wrench - 2 | size = 9.550194 mb\n",
            "[MoviePy] >>>> Building video drive/My Drive/Colab Notebooks/using a wrench videos/clipped/Multi-socket speed wrench - 2.mp4\n",
            "[MoviePy] Writing audio in Multi-socket speed wrench - 2TEMP_MPY_wvf_snd.mp3\n"
          ]
        },
        {
          "metadata": {
            "tags": null
          },
          "name": "stderr",
          "output_type": "stream",
          "text": [
            "100%|██████████| 221/221 [00:00<00:00, 503.59it/s]"
          ]
        },
        {
          "metadata": {
            "tags": null
          },
          "name": "stdout",
          "output_type": "stream",
          "text": [
            "[MoviePy] Done.\n",
            "[MoviePy] Writing video drive/My Drive/Colab Notebooks/using a wrench videos/clipped/Multi-socket speed wrench - 2.mp4\n"
          ]
        },
        {
          "metadata": {
            "tags": null
          },
          "name": "stderr",
          "output_type": "stream",
          "text": [
            "\n",
            "100%|██████████| 300/300 [00:16<00:00, 18.20it/s]\n"
          ]
        },
        {
          "metadata": {
            "tags": null
          },
          "name": "stdout",
          "output_type": "stream",
          "text": [
            "[MoviePy] Done.\n",
            "[MoviePy] >>>> Video ready: drive/My Drive/Colab Notebooks/using a wrench videos/clipped/Multi-socket speed wrench - 2.mp4 \n",
            "\n",
            "Downloading Metric Ratcheting Double Box-End Wrench Set (5-Piece) | size = 5.665636 mb\n",
            "[MoviePy] >>>> Building video drive/My Drive/Colab Notebooks/using a wrench videos/clipped/Metric Ratcheting Double Box-End Wrench Set (5-Piece).mp4\n",
            "[MoviePy] Writing audio in Metric Ratcheting Double Box-End Wrench Set (5-Piece)TEMP_MPY_wvf_snd.mp3\n"
          ]
        },
        {
          "metadata": {
            "tags": null
          },
          "name": "stderr",
          "output_type": "stream",
          "text": [
            "100%|██████████| 221/221 [00:00<00:00, 728.29it/s]\n"
          ]
        },
        {
          "metadata": {
            "tags": null
          },
          "name": "stdout",
          "output_type": "stream",
          "text": [
            "[MoviePy] Done.\n",
            "[MoviePy] Writing video drive/My Drive/Colab Notebooks/using a wrench videos/clipped/Metric Ratcheting Double Box-End Wrench Set (5-Piece).mp4\n"
          ]
        },
        {
          "metadata": {
            "tags": null
          },
          "name": "stderr",
          "output_type": "stream",
          "text": [
            "100%|██████████| 300/300 [00:19<00:00, 15.68it/s]\n"
          ]
        },
        {
          "metadata": {
            "tags": null
          },
          "name": "stdout",
          "output_type": "stream",
          "text": [
            "[MoviePy] Done.\n",
            "[MoviePy] >>>> Video ready: drive/My Drive/Colab Notebooks/using a wrench videos/clipped/Metric Ratcheting Double Box-End Wrench Set (5-Piece).mp4 \n",
            "\n",
            "Downloading The Bionic Grip - From LoggerHead Tools | size = 21.19489 mb\n",
            "[MoviePy] >>>> Building video drive/My Drive/Colab Notebooks/using a wrench videos/clipped/The Bionic Grip - From LoggerHead Tools.mp4\n",
            "[MoviePy] Writing audio in The Bionic Grip - From LoggerHead ToolsTEMP_MPY_wvf_snd.mp3\n"
          ]
        },
        {
          "metadata": {
            "tags": null
          },
          "name": "stderr",
          "output_type": "stream",
          "text": [
            "100%|██████████| 221/221 [00:00<00:00, 909.78it/s]"
          ]
        },
        {
          "metadata": {
            "tags": null
          },
          "name": "stdout",
          "output_type": "stream",
          "text": [
            "[MoviePy] Done.\n",
            "[MoviePy] Writing video drive/My Drive/Colab Notebooks/using a wrench videos/clipped/The Bionic Grip - From LoggerHead Tools.mp4\n"
          ]
        },
        {
          "metadata": {
            "tags": null
          },
          "name": "stderr",
          "output_type": "stream",
          "text": [
            "\n",
            "100%|██████████| 300/300 [00:15<00:00, 19.85it/s]\n"
          ]
        },
        {
          "metadata": {
            "tags": null
          },
          "name": "stdout",
          "output_type": "stream",
          "text": [
            "[MoviePy] Done.\n",
            "[MoviePy] >>>> Video ready: drive/My Drive/Colab Notebooks/using a wrench videos/clipped/The Bionic Grip - From LoggerHead Tools.mp4 \n",
            "\n",
            "Downloading Bridgat Universal Socket Wrench Set Self-adjustable Drive Adaptor Chrome Plated | size = 3.762266 mb\n",
            "[MoviePy] >>>> Building video drive/My Drive/Colab Notebooks/using a wrench videos/clipped/Bridgat Universal Socket Wrench Set Self-adjustable Drive Adaptor Chrome Plated.mp4\n",
            "[MoviePy] Writing audio in Bridgat Universal Socket Wrench Set Self-adjustable Drive Adaptor Chrome PlatedTEMP_MPY_wvf_snd.mp3\n"
          ]
        },
        {
          "metadata": {
            "tags": null
          },
          "name": "stderr",
          "output_type": "stream",
          "text": [
            "100%|██████████| 221/221 [00:00<00:00, 542.42it/s]"
          ]
        },
        {
          "metadata": {
            "tags": null
          },
          "name": "stdout",
          "output_type": "stream",
          "text": [
            "[MoviePy] Done.\n",
            "[MoviePy] Writing video drive/My Drive/Colab Notebooks/using a wrench videos/clipped/Bridgat Universal Socket Wrench Set Self-adjustable Drive Adaptor Chrome Plated.mp4\n"
          ]
        },
        {
          "metadata": {
            "tags": null
          },
          "name": "stderr",
          "output_type": "stream",
          "text": [
            "\n",
            "100%|█████████▉| 250/251 [00:02<00:00, 85.57it/s]\n"
          ]
        },
        {
          "metadata": {
            "tags": null
          },
          "name": "stdout",
          "output_type": "stream",
          "text": [
            "[MoviePy] Done.\n",
            "[MoviePy] >>>> Video ready: drive/My Drive/Colab Notebooks/using a wrench videos/clipped/Bridgat Universal Socket Wrench Set Self-adjustable Drive Adaptor Chrome Plated.mp4 \n",
            "\n",
            "Downloading Loggerhead Tools Bionic Wrench multi-wrench - Made in USA | size = 18.371557 mb\n",
            "[MoviePy] >>>> Building video drive/My Drive/Colab Notebooks/using a wrench videos/clipped/Loggerhead Tools Bionic Wrench multi-wrench - Made in USA.mp4\n",
            "[MoviePy] Writing audio in Loggerhead Tools Bionic Wrench multi-wrench - Made in USATEMP_MPY_wvf_snd.mp3\n"
          ]
        },
        {
          "metadata": {
            "tags": null
          },
          "name": "stderr",
          "output_type": "stream",
          "text": [
            "100%|██████████| 221/221 [00:00<00:00, 614.10it/s]"
          ]
        },
        {
          "metadata": {
            "tags": null
          },
          "name": "stdout",
          "output_type": "stream",
          "text": [
            "[MoviePy] Done.\n",
            "[MoviePy] Writing video drive/My Drive/Colab Notebooks/using a wrench videos/clipped/Loggerhead Tools Bionic Wrench multi-wrench - Made in USA.mp4\n"
          ]
        },
        {
          "metadata": {
            "tags": null
          },
          "name": "stderr",
          "output_type": "stream",
          "text": [
            "\n",
            "100%|██████████| 300/300 [00:16<00:00, 18.23it/s]\n"
          ]
        },
        {
          "metadata": {
            "tags": null
          },
          "name": "stdout",
          "output_type": "stream",
          "text": [
            "[MoviePy] Done.\n",
            "[MoviePy] >>>> Video ready: drive/My Drive/Colab Notebooks/using a wrench videos/clipped/Loggerhead Tools Bionic Wrench multi-wrench - Made in USA.mp4 \n",
            "\n",
            "Downloading Cal-Van 5pc. tight access ratchet wrench extension set [no audio] | size = 2.167062 mb\n",
            "[MoviePy] >>>> Building video drive/My Drive/Colab Notebooks/using a wrench videos/clipped/Cal-Van 5pc. tight access ratchet wrench extension set [no audio].mp4\n",
            "[MoviePy] Writing audio in Cal-Van 5pc. tight access ratchet wrench extension set [no audio]TEMP_MPY_wvf_snd.mp3\n"
          ]
        },
        {
          "metadata": {
            "tags": null
          },
          "name": "stderr",
          "output_type": "stream",
          "text": [
            "100%|██████████| 221/221 [00:00<00:00, 899.26it/s]"
          ]
        },
        {
          "metadata": {
            "tags": null
          },
          "name": "stdout",
          "output_type": "stream",
          "text": [
            "[MoviePy] Done.\n",
            "[MoviePy] Writing video drive/My Drive/Colab Notebooks/using a wrench videos/clipped/Cal-Van 5pc. tight access ratchet wrench extension set [no audio].mp4\n"
          ]
        },
        {
          "metadata": {
            "tags": null
          },
          "name": "stderr",
          "output_type": "stream",
          "text": [
            "\n",
            "100%|██████████| 300/300 [00:02<00:00, 106.57it/s]\n"
          ]
        },
        {
          "metadata": {
            "tags": null
          },
          "name": "stdout",
          "output_type": "stream",
          "text": [
            "[MoviePy] Done.\n",
            "[MoviePy] >>>> Video ready: drive/My Drive/Colab Notebooks/using a wrench videos/clipped/Cal-Van 5pc. tight access ratchet wrench extension set [no audio].mp4 \n",
            "\n",
            "Downloading How to keep track of your Allen keys | size = 116.563014 mb\n",
            "[MoviePy] >>>> Building video drive/My Drive/Colab Notebooks/using a wrench videos/clipped/How to keep track of your Allen keys.mp4\n",
            "[MoviePy] Writing audio in How to keep track of your Allen keysTEMP_MPY_wvf_snd.mp3\n"
          ]
        },
        {
          "metadata": {
            "tags": null
          },
          "name": "stderr",
          "output_type": "stream",
          "text": [
            "100%|██████████| 221/221 [00:00<00:00, 615.75it/s]"
          ]
        },
        {
          "metadata": {
            "tags": null
          },
          "name": "stdout",
          "output_type": "stream",
          "text": [
            "[MoviePy] Done.\n",
            "[MoviePy] Writing video drive/My Drive/Colab Notebooks/using a wrench videos/clipped/How to keep track of your Allen keys.mp4\n"
          ]
        },
        {
          "metadata": {
            "tags": null
          },
          "name": "stderr",
          "output_type": "stream",
          "text": [
            "\n",
            "100%|██████████| 241/241 [00:18<00:00, 12.80it/s]\n"
          ]
        },
        {
          "metadata": {
            "tags": null
          },
          "name": "stdout",
          "output_type": "stream",
          "text": [
            "[MoviePy] Done.\n",
            "[MoviePy] >>>> Video ready: drive/My Drive/Colab Notebooks/using a wrench videos/clipped/How to keep track of your Allen keys.mp4 \n",
            "\n",
            "Downloading Trojan 8in1 Socket Wrench | size = 6.311636 mb\n",
            "[MoviePy] >>>> Building video drive/My Drive/Colab Notebooks/using a wrench videos/clipped/Trojan 8in1 Socket Wrench.mp4\n",
            "[MoviePy] Writing audio in Trojan 8in1 Socket WrenchTEMP_MPY_wvf_snd.mp3\n"
          ]
        },
        {
          "metadata": {
            "tags": null
          },
          "name": "stderr",
          "output_type": "stream",
          "text": [
            "100%|██████████| 221/221 [00:00<00:00, 554.88it/s]"
          ]
        },
        {
          "metadata": {
            "tags": null
          },
          "name": "stdout",
          "output_type": "stream",
          "text": [
            "[MoviePy] Done.\n",
            "[MoviePy] Writing video drive/My Drive/Colab Notebooks/using a wrench videos/clipped/Trojan 8in1 Socket Wrench.mp4\n"
          ]
        },
        {
          "metadata": {
            "tags": null
          },
          "name": "stderr",
          "output_type": "stream",
          "text": [
            "\n",
            "100%|█████████▉| 250/251 [00:14<00:00, 17.45it/s]\n"
          ]
        },
        {
          "metadata": {
            "tags": null
          },
          "name": "stdout",
          "output_type": "stream",
          "text": [
            "[MoviePy] Done.\n",
            "[MoviePy] >>>> Video ready: drive/My Drive/Colab Notebooks/using a wrench videos/clipped/Trojan 8in1 Socket Wrench.mp4 \n",
            "\n",
            "Downloading 2 in 1 Ratcheting Elbow Wrench | size = 11.492739 mb\n",
            "[MoviePy] >>>> Building video drive/My Drive/Colab Notebooks/using a wrench videos/clipped/2 in 1 Ratcheting Elbow Wrench.mp4\n",
            "[MoviePy] Writing audio in 2 in 1 Ratcheting Elbow WrenchTEMP_MPY_wvf_snd.mp3\n"
          ]
        },
        {
          "metadata": {
            "tags": null
          },
          "name": "stderr",
          "output_type": "stream",
          "text": [
            "100%|██████████| 221/221 [00:00<00:00, 600.59it/s]"
          ]
        },
        {
          "metadata": {
            "tags": null
          },
          "name": "stdout",
          "output_type": "stream",
          "text": [
            "[MoviePy] Done.\n",
            "[MoviePy] Writing video drive/My Drive/Colab Notebooks/using a wrench videos/clipped/2 in 1 Ratcheting Elbow Wrench.mp4\n"
          ]
        },
        {
          "metadata": {
            "tags": null
          },
          "name": "stderr",
          "output_type": "stream",
          "text": [
            "\n",
            "100%|██████████| 300/300 [00:04<00:00, 67.89it/s]\n"
          ]
        },
        {
          "metadata": {
            "tags": null
          },
          "name": "stdout",
          "output_type": "stream",
          "text": [
            "[MoviePy] Done.\n",
            "[MoviePy] >>>> Video ready: drive/My Drive/Colab Notebooks/using a wrench videos/clipped/2 in 1 Ratcheting Elbow Wrench.mp4 \n",
            "\n",
            "Downloading October 11 2014,,universal grip wrench,, | size = 45.586856 mb\n",
            "[MoviePy] >>>> Building video drive/My Drive/Colab Notebooks/using a wrench videos/clipped/October 11 2014,,universal grip wrench,,.mp4\n",
            "[MoviePy] Writing audio in October 11 2014,,universal grip wrench,,TEMP_MPY_wvf_snd.mp3\n"
          ]
        },
        {
          "metadata": {
            "tags": null
          },
          "name": "stderr",
          "output_type": "stream",
          "text": [
            "100%|██████████| 221/221 [00:00<00:00, 597.34it/s]"
          ]
        },
        {
          "metadata": {
            "tags": null
          },
          "name": "stdout",
          "output_type": "stream",
          "text": [
            "[MoviePy] Done.\n",
            "[MoviePy] Writing video drive/My Drive/Colab Notebooks/using a wrench videos/clipped/October 11 2014,,universal grip wrench,,.mp4\n"
          ]
        },
        {
          "metadata": {
            "tags": null
          },
          "name": "stderr",
          "output_type": "stream",
          "text": [
            "\n",
            "100%|██████████| 300/300 [00:23<00:00, 12.99it/s]\n"
          ]
        },
        {
          "metadata": {
            "tags": null
          },
          "name": "stdout",
          "output_type": "stream",
          "text": [
            "[MoviePy] Done.\n",
            "[MoviePy] >>>> Video ready: drive/My Drive/Colab Notebooks/using a wrench videos/clipped/October 11 2014,,universal grip wrench,,.mp4 \n",
            "\n",
            "Downloading Best Ratcheting Wrenches Available | size = 120.108491 mb\n",
            "[MoviePy] >>>> Building video drive/My Drive/Colab Notebooks/using a wrench videos/clipped/Best Ratcheting Wrenches Available.mp4\n",
            "[MoviePy] Writing audio in Best Ratcheting Wrenches AvailableTEMP_MPY_wvf_snd.mp3\n"
          ]
        },
        {
          "metadata": {
            "tags": null
          },
          "name": "stderr",
          "output_type": "stream",
          "text": [
            "100%|██████████| 221/221 [00:00<00:00, 458.20it/s]"
          ]
        },
        {
          "metadata": {
            "tags": null
          },
          "name": "stdout",
          "output_type": "stream",
          "text": [
            "[MoviePy] Done.\n",
            "[MoviePy] Writing video drive/My Drive/Colab Notebooks/using a wrench videos/clipped/Best Ratcheting Wrenches Available.mp4\n"
          ]
        },
        {
          "metadata": {
            "tags": null
          },
          "name": "stderr",
          "output_type": "stream",
          "text": [
            "\n",
            "100%|██████████| 299/299 [00:06<00:00, 49.50it/s]\n"
          ]
        },
        {
          "metadata": {
            "tags": null
          },
          "name": "stdout",
          "output_type": "stream",
          "text": [
            "[MoviePy] Done.\n",
            "[MoviePy] >>>> Video ready: drive/My Drive/Colab Notebooks/using a wrench videos/clipped/Best Ratcheting Wrenches Available.mp4 \n",
            "\n",
            "Downloading WTOB - Wrench | size = 0.962133 mb\n",
            "[MoviePy] >>>> Building video drive/My Drive/Colab Notebooks/using a wrench videos/clipped/WTOB - Wrench.mp4\n",
            "[MoviePy] Writing audio in WTOB - WrenchTEMP_MPY_wvf_snd.mp3\n"
          ]
        },
        {
          "metadata": {
            "tags": null
          },
          "name": "stderr",
          "output_type": "stream",
          "text": [
            "100%|██████████| 221/221 [00:00<00:00, 900.89it/s]"
          ]
        },
        {
          "metadata": {
            "tags": null
          },
          "name": "stdout",
          "output_type": "stream",
          "text": [
            "[MoviePy] Done.\n",
            "[MoviePy] Writing video drive/My Drive/Colab Notebooks/using a wrench videos/clipped/WTOB - Wrench.mp4\n"
          ]
        },
        {
          "metadata": {
            "tags": null
          },
          "name": "stderr",
          "output_type": "stream",
          "text": [
            "\n",
            "100%|██████████| 298/298 [00:05<00:00, 53.05it/s]\n"
          ]
        },
        {
          "metadata": {
            "tags": null
          },
          "name": "stdout",
          "output_type": "stream",
          "text": [
            "[MoviePy] Done.\n",
            "[MoviePy] >>>> Video ready: drive/My Drive/Colab Notebooks/using a wrench videos/clipped/WTOB - Wrench.mp4 \n",
            "\n",
            "Downloading SYIC 心源 - Operation of Torque Wrench for ER Collet Chuck | size = 10.822772 mb\n",
            "[MoviePy] >>>> Building video drive/My Drive/Colab Notebooks/using a wrench videos/clipped/SYIC 心源 - Operation of Torque Wrench for ER Collet Chuck.mp4\n",
            "[MoviePy] Writing audio in SYIC 心源 - Operation of Torque Wrench for ER Collet ChuckTEMP_MPY_wvf_snd.mp3\n"
          ]
        },
        {
          "metadata": {
            "tags": null
          },
          "name": "stderr",
          "output_type": "stream",
          "text": [
            "100%|██████████| 221/221 [00:00<00:00, 748.26it/s]"
          ]
        },
        {
          "metadata": {
            "tags": null
          },
          "name": "stdout",
          "output_type": "stream",
          "text": [
            "[MoviePy] Done.\n"
          ]
        },
        {
          "metadata": {
            "tags": null
          },
          "name": "stderr",
          "output_type": "stream",
          "text": [
            "\n"
          ]
        },
        {
          "metadata": {
            "tags": null
          },
          "name": "stdout",
          "output_type": "stream",
          "text": [
            "[MoviePy] Writing video drive/My Drive/Colab Notebooks/using a wrench videos/clipped/SYIC 心源 - Operation of Torque Wrench for ER Collet Chuck.mp4\n"
          ]
        },
        {
          "metadata": {
            "tags": null
          },
          "name": "stderr",
          "output_type": "stream",
          "text": [
            "100%|█████████▉| 240/241 [00:13<00:00, 18.19it/s]\n"
          ]
        },
        {
          "metadata": {
            "tags": null
          },
          "name": "stdout",
          "output_type": "stream",
          "text": [
            "[MoviePy] Done.\n",
            "[MoviePy] >>>> Video ready: drive/My Drive/Colab Notebooks/using a wrench videos/clipped/SYIC 心源 - Operation of Torque Wrench for ER Collet Chuck.mp4 \n",
            "\n",
            "Downloading IRWIN VISE-GRIP Quick Adjusting Wrench | size = 4.507546 mb\n",
            "[MoviePy] >>>> Building video drive/My Drive/Colab Notebooks/using a wrench videos/clipped/IRWIN VISE-GRIP Quick Adjusting Wrench.mp4\n",
            "[MoviePy] Writing audio in IRWIN VISE-GRIP Quick Adjusting WrenchTEMP_MPY_wvf_snd.mp3\n"
          ]
        },
        {
          "metadata": {
            "tags": null
          },
          "name": "stderr",
          "output_type": "stream",
          "text": [
            "100%|██████████| 221/221 [00:00<00:00, 556.39it/s]"
          ]
        },
        {
          "metadata": {
            "tags": null
          },
          "name": "stdout",
          "output_type": "stream",
          "text": [
            "[MoviePy] Done.\n",
            "[MoviePy] Writing video drive/My Drive/Colab Notebooks/using a wrench videos/clipped/IRWIN VISE-GRIP Quick Adjusting Wrench.mp4\n"
          ]
        },
        {
          "metadata": {
            "tags": null
          },
          "name": "stderr",
          "output_type": "stream",
          "text": [
            "\n",
            "100%|██████████| 300/300 [00:01<00:00, 189.95it/s]\n"
          ]
        },
        {
          "metadata": {
            "tags": null
          },
          "name": "stdout",
          "output_type": "stream",
          "text": [
            "[MoviePy] Done.\n",
            "[MoviePy] >>>> Video ready: drive/My Drive/Colab Notebooks/using a wrench videos/clipped/IRWIN VISE-GRIP Quick Adjusting Wrench.mp4 \n",
            "\n",
            "Downloading Demonstração das chaves inglesas Sparta e MTX | size = 78.535821 mb\n",
            "[MoviePy] >>>> Building video drive/My Drive/Colab Notebooks/using a wrench videos/clipped/Demonstração das chaves inglesas Sparta e MTX.mp4\n",
            "[MoviePy] Writing audio in Demonstração das chaves inglesas Sparta e MTXTEMP_MPY_wvf_snd.mp3\n"
          ]
        },
        {
          "metadata": {
            "tags": null
          },
          "name": "stderr",
          "output_type": "stream",
          "text": [
            "100%|██████████| 221/221 [00:00<00:00, 471.30it/s]"
          ]
        },
        {
          "metadata": {
            "tags": null
          },
          "name": "stdout",
          "output_type": "stream",
          "text": [
            "[MoviePy] Done.\n",
            "[MoviePy] Writing video drive/My Drive/Colab Notebooks/using a wrench videos/clipped/Demonstração das chaves inglesas Sparta e MTX.mp4\n"
          ]
        },
        {
          "metadata": {
            "tags": null
          },
          "name": "stderr",
          "output_type": "stream",
          "text": [
            "\n",
            "100%|██████████| 300/300 [00:20<00:00, 14.71it/s]\n"
          ]
        },
        {
          "metadata": {
            "tags": null
          },
          "name": "stdout",
          "output_type": "stream",
          "text": [
            "[MoviePy] Done.\n",
            "[MoviePy] >>>> Video ready: drive/My Drive/Colab Notebooks/using a wrench videos/clipped/Demonstração das chaves inglesas Sparta e MTX.mp4 \n",
            "\n",
            "Downloading Ring Spanner Task - Occupational Dive Students | size = 10.231901 mb\n",
            "[MoviePy] >>>> Building video drive/My Drive/Colab Notebooks/using a wrench videos/clipped/Ring Spanner Task - Occupational Dive Students.mp4\n",
            "[MoviePy] Writing audio in Ring Spanner Task - Occupational Dive StudentsTEMP_MPY_wvf_snd.mp3\n"
          ]
        },
        {
          "metadata": {
            "tags": null
          },
          "name": "stderr",
          "output_type": "stream",
          "text": [
            "100%|██████████| 221/221 [00:00<00:00, 799.10it/s]"
          ]
        },
        {
          "metadata": {
            "tags": null
          },
          "name": "stdout",
          "output_type": "stream",
          "text": [
            "[MoviePy] Done.\n",
            "[MoviePy] Writing video drive/My Drive/Colab Notebooks/using a wrench videos/clipped/Ring Spanner Task - Occupational Dive Students.mp4\n"
          ]
        },
        {
          "metadata": {
            "tags": null
          },
          "name": "stderr",
          "output_type": "stream",
          "text": [
            "\n",
            "100%|██████████| 300/300 [00:17<00:00, 17.17it/s]\n"
          ]
        },
        {
          "metadata": {
            "tags": null
          },
          "name": "stdout",
          "output_type": "stream",
          "text": [
            "[MoviePy] Done.\n",
            "[MoviePy] >>>> Video ready: drive/My Drive/Colab Notebooks/using a wrench videos/clipped/Ring Spanner Task - Occupational Dive Students.mp4 \n",
            "\n",
            "Downloading Versa Wrench | size = 12.384262 mb\n",
            "[MoviePy] >>>> Building video drive/My Drive/Colab Notebooks/using a wrench videos/clipped/Versa Wrench.mp4\n",
            "[MoviePy] Writing audio in Versa WrenchTEMP_MPY_wvf_snd.mp3\n"
          ]
        },
        {
          "metadata": {
            "tags": null
          },
          "name": "stderr",
          "output_type": "stream",
          "text": [
            "100%|██████████| 221/221 [00:00<00:00, 504.72it/s]"
          ]
        },
        {
          "metadata": {
            "tags": null
          },
          "name": "stdout",
          "output_type": "stream",
          "text": [
            "[MoviePy] Done.\n",
            "[MoviePy] Writing video drive/My Drive/Colab Notebooks/using a wrench videos/clipped/Versa Wrench.mp4\n"
          ]
        },
        {
          "metadata": {
            "tags": null
          },
          "name": "stderr",
          "output_type": "stream",
          "text": [
            "\n",
            "100%|█████████▉| 250/251 [00:14<00:00, 17.52it/s]\n"
          ]
        },
        {
          "metadata": {
            "tags": null
          },
          "name": "stdout",
          "output_type": "stream",
          "text": [
            "[MoviePy] Done.\n",
            "[MoviePy] >>>> Video ready: drive/My Drive/Colab Notebooks/using a wrench videos/clipped/Versa Wrench.mp4 \n",
            "\n",
            "Downloading open ended ratchet spanners and pivotal hex keys | size = 5.660611 mb\n",
            "[MoviePy] >>>> Building video drive/My Drive/Colab Notebooks/using a wrench videos/clipped/open ended ratchet spanners and pivotal hex keys.mp4\n",
            "[MoviePy] Writing audio in open ended ratchet spanners and pivotal hex keysTEMP_MPY_wvf_snd.mp3\n"
          ]
        },
        {
          "metadata": {
            "tags": null
          },
          "name": "stderr",
          "output_type": "stream",
          "text": [
            "100%|██████████| 221/221 [00:00<00:00, 466.90it/s]"
          ]
        },
        {
          "metadata": {
            "tags": null
          },
          "name": "stdout",
          "output_type": "stream",
          "text": [
            "[MoviePy] Done.\n",
            "[MoviePy] Writing video drive/My Drive/Colab Notebooks/using a wrench videos/clipped/open ended ratchet spanners and pivotal hex keys.mp4\n"
          ]
        },
        {
          "metadata": {
            "tags": null
          },
          "name": "stderr",
          "output_type": "stream",
          "text": [
            "\n",
            "100%|█████████▉| 250/251 [00:04<00:00, 60.53it/s]\n"
          ]
        },
        {
          "metadata": {
            "tags": null
          },
          "name": "stdout",
          "output_type": "stream",
          "text": [
            "[MoviePy] Done.\n",
            "[MoviePy] >>>> Video ready: drive/My Drive/Colab Notebooks/using a wrench videos/clipped/open ended ratchet spanners and pivotal hex keys.mp4 \n",
            "\n",
            "Downloading Bionic Wrench | size = 2.055956 mb\n",
            "[MoviePy] >>>> Building video drive/My Drive/Colab Notebooks/using a wrench videos/clipped/Bionic Wrench.mp4\n",
            "[MoviePy] Writing audio in Bionic WrenchTEMP_MPY_wvf_snd.mp3\n"
          ]
        },
        {
          "metadata": {
            "tags": null
          },
          "name": "stderr",
          "output_type": "stream",
          "text": [
            "100%|██████████| 221/221 [00:00<00:00, 528.75it/s]"
          ]
        },
        {
          "metadata": {
            "tags": null
          },
          "name": "stdout",
          "output_type": "stream",
          "text": [
            "[MoviePy] Done.\n",
            "[MoviePy] Writing video drive/My Drive/Colab Notebooks/using a wrench videos/clipped/Bionic Wrench.mp4\n"
          ]
        },
        {
          "metadata": {
            "tags": null
          },
          "name": "stderr",
          "output_type": "stream",
          "text": [
            "\n",
            "100%|██████████| 300/300 [00:04<00:00, 70.56it/s]\n"
          ]
        },
        {
          "metadata": {
            "tags": null
          },
          "name": "stdout",
          "output_type": "stream",
          "text": [
            "[MoviePy] Done.\n",
            "[MoviePy] >>>> Video ready: drive/My Drive/Colab Notebooks/using a wrench videos/clipped/Bionic Wrench.mp4 \n",
            "\n",
            "Downloading Teaching Hunter to wrench on cars and bikes | size = 1.522348 mb\n",
            "[MoviePy] >>>> Building video drive/My Drive/Colab Notebooks/using a wrench videos/clipped/Teaching Hunter to wrench on cars and bikes.mp4\n",
            "[MoviePy] Writing audio in Teaching Hunter to wrench on cars and bikesTEMP_MPY_wvf_snd.mp3\n"
          ]
        },
        {
          "metadata": {
            "tags": null
          },
          "name": "stderr",
          "output_type": "stream",
          "text": [
            " 92%|█████████▏| 204/221 [00:00<00:00, 786.71it/s]\n"
          ]
        },
        {
          "metadata": {
            "tags": null
          },
          "name": "stdout",
          "output_type": "stream",
          "text": [
            "Error in file drive/My Drive/Colab Notebooks/using a wrench videos/Teaching Hunter to wrench on cars and bikes.mp4, Accessing time t=33.23-33.28 seconds, with clip duration=33 seconds, \n",
            "Downloading Snap and Aiwa 40 pcs | size = 79.09573 mb\n",
            "[MoviePy] >>>> Building video drive/My Drive/Colab Notebooks/using a wrench videos/clipped/Snap and Aiwa 40 pcs.mp4\n",
            "[MoviePy] Writing audio in Snap and Aiwa 40 pcsTEMP_MPY_wvf_snd.mp3\n"
          ]
        },
        {
          "metadata": {
            "tags": null
          },
          "name": "stderr",
          "output_type": "stream",
          "text": [
            "100%|██████████| 221/221 [00:00<00:00, 577.33it/s]"
          ]
        },
        {
          "metadata": {
            "tags": null
          },
          "name": "stdout",
          "output_type": "stream",
          "text": [
            "[MoviePy] Done.\n",
            "[MoviePy] Writing video drive/My Drive/Colab Notebooks/using a wrench videos/clipped/Snap and Aiwa 40 pcs.mp4\n"
          ]
        },
        {
          "metadata": {
            "tags": null
          },
          "name": "stderr",
          "output_type": "stream",
          "text": [
            "\n",
            "100%|██████████| 300/300 [00:15<00:00, 19.32it/s]\n"
          ]
        },
        {
          "metadata": {
            "tags": null
          },
          "name": "stdout",
          "output_type": "stream",
          "text": [
            "[MoviePy] Done.\n",
            "[MoviePy] >>>> Video ready: drive/My Drive/Colab Notebooks/using a wrench videos/clipped/Snap and Aiwa 40 pcs.mp4 \n",
            "\n",
            "Downloading Close Shut-off Valve by Wrench | size = 18.030802 mb\n",
            "[MoviePy] >>>> Building video drive/My Drive/Colab Notebooks/using a wrench videos/clipped/Close Shut-off Valve by Wrench.mp4\n",
            "[MoviePy] Writing audio in Close Shut-off Valve by WrenchTEMP_MPY_wvf_snd.mp3\n"
          ]
        },
        {
          "metadata": {
            "tags": null
          },
          "name": "stderr",
          "output_type": "stream",
          "text": [
            " 92%|█████████▏| 204/221 [00:00<00:00, 574.01it/s]\n"
          ]
        },
        {
          "metadata": {
            "tags": null
          },
          "name": "stdout",
          "output_type": "stream",
          "text": [
            "Error in file drive/My Drive/Colab Notebooks/using a wrench videos/Close Shut-off Valve by Wrench.mp4, Accessing time t=44.23-44.28 seconds, with clip duration=44 seconds, \n",
            "Downloading harbor freight adjustable wrenches review | size = 16.399691 mb\n",
            "[MoviePy] >>>> Building video drive/My Drive/Colab Notebooks/using a wrench videos/clipped/harbor freight adjustable wrenches review.mp4\n",
            "[MoviePy] Writing audio in harbor freight adjustable wrenches reviewTEMP_MPY_wvf_snd.mp3\n"
          ]
        },
        {
          "metadata": {
            "tags": null
          },
          "name": "stderr",
          "output_type": "stream",
          "text": [
            "100%|██████████| 221/221 [00:00<00:00, 464.33it/s]"
          ]
        },
        {
          "metadata": {
            "tags": null
          },
          "name": "stdout",
          "output_type": "stream",
          "text": [
            "[MoviePy] Done.\n",
            "[MoviePy] Writing video drive/My Drive/Colab Notebooks/using a wrench videos/clipped/harbor freight adjustable wrenches review.mp4\n"
          ]
        },
        {
          "metadata": {
            "tags": null
          },
          "name": "stderr",
          "output_type": "stream",
          "text": [
            "\n",
            "100%|██████████| 240/240 [00:06<00:00, 39.20it/s]\n"
          ]
        },
        {
          "metadata": {
            "tags": null
          },
          "name": "stdout",
          "output_type": "stream",
          "text": [
            "[MoviePy] Done.\n",
            "[MoviePy] >>>> Video ready: drive/My Drive/Colab Notebooks/using a wrench videos/clipped/harbor freight adjustable wrenches review.mp4 \n",
            "\n",
            "Downloading My wrench | size = 1.124411 mb\n",
            "[MoviePy] >>>> Building video drive/My Drive/Colab Notebooks/using a wrench videos/clipped/My wrench.mp4\n",
            "[MoviePy] Writing audio in My wrenchTEMP_MPY_wvf_snd.mp3\n"
          ]
        },
        {
          "metadata": {
            "tags": null
          },
          "name": "stderr",
          "output_type": "stream",
          "text": [
            "100%|██████████| 221/221 [00:00<00:00, 876.16it/s]"
          ]
        },
        {
          "metadata": {
            "tags": null
          },
          "name": "stdout",
          "output_type": "stream",
          "text": [
            "[MoviePy] Done.\n",
            "[MoviePy] Writing video drive/My Drive/Colab Notebooks/using a wrench videos/clipped/My wrench.mp4\n"
          ]
        },
        {
          "metadata": {
            "tags": null
          },
          "name": "stderr",
          "output_type": "stream",
          "text": [
            "\n",
            "100%|██████████| 290/290 [00:02<00:00, 142.01it/s]\n"
          ]
        },
        {
          "metadata": {
            "tags": null
          },
          "name": "stdout",
          "output_type": "stream",
          "text": [
            "[MoviePy] Done.\n",
            "[MoviePy] >>>> Video ready: drive/My Drive/Colab Notebooks/using a wrench videos/clipped/My wrench.mp4 \n",
            "\n",
            "Downloading Dirt Tricks How To Use The Dog Bone Torque Wrench Adapter | size = 22.675432 mb\n",
            "[MoviePy] >>>> Building video drive/My Drive/Colab Notebooks/using a wrench videos/clipped/Dirt Tricks How To Use The Dog Bone Torque Wrench Adapter.mp4\n",
            "[MoviePy] Writing audio in Dirt Tricks How To Use The Dog Bone Torque Wrench AdapterTEMP_MPY_wvf_snd.mp3\n"
          ]
        },
        {
          "metadata": {
            "tags": null
          },
          "name": "stderr",
          "output_type": "stream",
          "text": [
            "100%|██████████| 221/221 [00:00<00:00, 472.33it/s]"
          ]
        },
        {
          "metadata": {
            "tags": null
          },
          "name": "stdout",
          "output_type": "stream",
          "text": [
            "[MoviePy] Done.\n",
            "[MoviePy] Writing video drive/My Drive/Colab Notebooks/using a wrench videos/clipped/Dirt Tricks How To Use The Dog Bone Torque Wrench Adapter.mp4\n"
          ]
        },
        {
          "metadata": {
            "tags": null
          },
          "name": "stderr",
          "output_type": "stream",
          "text": [
            "\n",
            "100%|██████████| 300/300 [00:19<00:00, 15.60it/s]\n"
          ]
        },
        {
          "metadata": {
            "tags": null
          },
          "name": "stdout",
          "output_type": "stream",
          "text": [
            "[MoviePy] Done.\n",
            "[MoviePy] >>>> Video ready: drive/My Drive/Colab Notebooks/using a wrench videos/clipped/Dirt Tricks How To Use The Dog Bone Torque Wrench Adapter.mp4 \n",
            "\n",
            "Downloading New ASG Pneumatic Tube Nut Wrench | size = 9.349305 mb\n",
            "[MoviePy] >>>> Building video drive/My Drive/Colab Notebooks/using a wrench videos/clipped/New ASG Pneumatic Tube Nut Wrench.mp4\n",
            "[MoviePy] Writing audio in New ASG Pneumatic Tube Nut WrenchTEMP_MPY_wvf_snd.mp3\n"
          ]
        },
        {
          "metadata": {
            "tags": null
          },
          "name": "stderr",
          "output_type": "stream",
          "text": [
            "100%|██████████| 221/221 [00:00<00:00, 532.21it/s]"
          ]
        },
        {
          "metadata": {
            "tags": null
          },
          "name": "stdout",
          "output_type": "stream",
          "text": [
            "[MoviePy] Done.\n",
            "[MoviePy] Writing video drive/My Drive/Colab Notebooks/using a wrench videos/clipped/New ASG Pneumatic Tube Nut Wrench.mp4\n"
          ]
        },
        {
          "metadata": {
            "tags": null
          },
          "name": "stderr",
          "output_type": "stream",
          "text": [
            "\n",
            "100%|██████████| 300/300 [00:16<00:00, 17.67it/s]\n"
          ]
        },
        {
          "metadata": {
            "tags": null
          },
          "name": "stdout",
          "output_type": "stream",
          "text": [
            "[MoviePy] Done.\n",
            "[MoviePy] >>>> Video ready: drive/My Drive/Colab Notebooks/using a wrench videos/clipped/New ASG Pneumatic Tube Nut Wrench.mp4 \n",
            "\n",
            "Downloading spanner bottle opener part 2 | size = 0.465441 mb\n",
            "Downloading EDC super tool hammer wrench | size = 15.148656 mb\n",
            "[MoviePy] >>>> Building video drive/My Drive/Colab Notebooks/using a wrench videos/clipped/EDC super tool hammer wrench.mp4\n",
            "[MoviePy] Writing audio in EDC super tool hammer wrenchTEMP_MPY_wvf_snd.mp3\n"
          ]
        },
        {
          "metadata": {
            "tags": null
          },
          "name": "stderr",
          "output_type": "stream",
          "text": [
            "100%|██████████| 221/221 [00:00<00:00, 530.78it/s]"
          ]
        },
        {
          "metadata": {
            "tags": null
          },
          "name": "stdout",
          "output_type": "stream",
          "text": [
            "[MoviePy] Done.\n",
            "[MoviePy] Writing video drive/My Drive/Colab Notebooks/using a wrench videos/clipped/EDC super tool hammer wrench.mp4\n"
          ]
        },
        {
          "metadata": {
            "tags": null
          },
          "name": "stderr",
          "output_type": "stream",
          "text": [
            "\n",
            "100%|██████████| 240/240 [00:04<00:00, 55.15it/s]\n"
          ]
        },
        {
          "metadata": {
            "tags": null
          },
          "name": "stdout",
          "output_type": "stream",
          "text": [
            "[MoviePy] Done.\n",
            "[MoviePy] >>>> Video ready: drive/My Drive/Colab Notebooks/using a wrench videos/clipped/EDC super tool hammer wrench.mp4 \n",
            "\n",
            "Downloading Wrench Branding | size = 2.27786 mb\n",
            "[MoviePy] >>>> Building video drive/My Drive/Colab Notebooks/using a wrench videos/clipped/Wrench Branding.mp4\n",
            "[MoviePy] Writing audio in Wrench BrandingTEMP_MPY_wvf_snd.mp3\n"
          ]
        },
        {
          "metadata": {
            "tags": null
          },
          "name": "stderr",
          "output_type": "stream",
          "text": [
            "100%|██████████| 221/221 [00:00<00:00, 616.41it/s]"
          ]
        },
        {
          "metadata": {
            "tags": null
          },
          "name": "stdout",
          "output_type": "stream",
          "text": [
            "[MoviePy] Done.\n",
            "[MoviePy] Writing video drive/My Drive/Colab Notebooks/using a wrench videos/clipped/Wrench Branding.mp4\n"
          ]
        },
        {
          "metadata": {
            "tags": null
          },
          "name": "stderr",
          "output_type": "stream",
          "text": [
            "\n",
            "100%|██████████| 300/300 [00:04<00:00, 67.10it/s]\n"
          ]
        },
        {
          "metadata": {
            "tags": null
          },
          "name": "stdout",
          "output_type": "stream",
          "text": [
            "[MoviePy] Done.\n",
            "[MoviePy] >>>> Video ready: drive/My Drive/Colab Notebooks/using a wrench videos/clipped/Wrench Branding.mp4 \n",
            "\n",
            "Downloading The KNIPEX Pliers Wrench XL | size = 27.434222 mb\n",
            "[MoviePy] >>>> Building video drive/My Drive/Colab Notebooks/using a wrench videos/clipped/The KNIPEX Pliers Wrench XL.mp4\n",
            "[MoviePy] Writing audio in The KNIPEX Pliers Wrench XLTEMP_MPY_wvf_snd.mp3\n"
          ]
        },
        {
          "metadata": {
            "tags": null
          },
          "name": "stderr",
          "output_type": "stream",
          "text": [
            "100%|██████████| 221/221 [00:00<00:00, 470.34it/s]"
          ]
        },
        {
          "metadata": {
            "tags": null
          },
          "name": "stdout",
          "output_type": "stream",
          "text": [
            "[MoviePy] Done.\n",
            "[MoviePy] Writing video drive/My Drive/Colab Notebooks/using a wrench videos/clipped/The KNIPEX Pliers Wrench XL.mp4\n"
          ]
        },
        {
          "metadata": {
            "tags": null
          },
          "name": "stderr",
          "output_type": "stream",
          "text": [
            "\n",
            "100%|█████████▉| 250/251 [00:14<00:00, 17.51it/s]\n"
          ]
        },
        {
          "metadata": {
            "tags": null
          },
          "name": "stdout",
          "output_type": "stream",
          "text": [
            "[MoviePy] Done.\n",
            "[MoviePy] >>>> Video ready: drive/My Drive/Colab Notebooks/using a wrench videos/clipped/The KNIPEX Pliers Wrench XL.mp4 \n",
            "\n",
            "Downloading Craftsman 7 piece universal wrench set | size = 4.37824 mb\n",
            "[MoviePy] >>>> Building video drive/My Drive/Colab Notebooks/using a wrench videos/clipped/Craftsman 7 piece universal wrench set.mp4\n",
            "[MoviePy] Writing audio in Craftsman 7 piece universal wrench setTEMP_MPY_wvf_snd.mp3\n"
          ]
        },
        {
          "metadata": {
            "tags": null
          },
          "name": "stderr",
          "output_type": "stream",
          "text": [
            "100%|██████████| 221/221 [00:00<00:00, 650.64it/s]"
          ]
        },
        {
          "metadata": {
            "tags": null
          },
          "name": "stdout",
          "output_type": "stream",
          "text": [
            "[MoviePy] Done.\n",
            "[MoviePy] Writing video drive/My Drive/Colab Notebooks/using a wrench videos/clipped/Craftsman 7 piece universal wrench set.mp4\n"
          ]
        },
        {
          "metadata": {
            "tags": null
          },
          "name": "stderr",
          "output_type": "stream",
          "text": [
            "\n",
            "100%|█████████▉| 300/301 [00:03<00:00, 85.63it/s]\n"
          ]
        },
        {
          "metadata": {
            "tags": null
          },
          "name": "stdout",
          "output_type": "stream",
          "text": [
            "[MoviePy] Done.\n",
            "[MoviePy] >>>> Video ready: drive/My Drive/Colab Notebooks/using a wrench videos/clipped/Craftsman 7 piece universal wrench set.mp4 \n",
            "\n",
            "Downloading Harbor Freight Pittsburgh 22pc metric and SAE combination wrench set 47467 | size = 24.187626 mb\n",
            "[MoviePy] >>>> Building video drive/My Drive/Colab Notebooks/using a wrench videos/clipped/Harbor Freight Pittsburgh 22pc metric and SAE combination wrench set 47467.mp4\n",
            "[MoviePy] Writing audio in Harbor Freight Pittsburgh 22pc metric and SAE combination wrench set 47467TEMP_MPY_wvf_snd.mp3\n"
          ]
        },
        {
          "metadata": {
            "tags": null
          },
          "name": "stderr",
          "output_type": "stream",
          "text": [
            "100%|██████████| 221/221 [00:00<00:00, 618.79it/s]"
          ]
        },
        {
          "metadata": {
            "tags": null
          },
          "name": "stdout",
          "output_type": "stream",
          "text": [
            "[MoviePy] Done.\n",
            "[MoviePy] Writing video drive/My Drive/Colab Notebooks/using a wrench videos/clipped/Harbor Freight Pittsburgh 22pc metric and SAE combination wrench set 47467.mp4\n"
          ]
        },
        {
          "metadata": {
            "tags": null
          },
          "name": "stderr",
          "output_type": "stream",
          "text": [
            "\n",
            "100%|██████████| 240/240 [00:13<00:00, 17.56it/s]\n"
          ]
        },
        {
          "metadata": {
            "tags": null
          },
          "name": "stdout",
          "output_type": "stream",
          "text": [
            "[MoviePy] Done.\n",
            "[MoviePy] >>>> Video ready: drive/My Drive/Colab Notebooks/using a wrench videos/clipped/Harbor Freight Pittsburgh 22pc metric and SAE combination wrench set 47467.mp4 \n",
            "\n",
            "Downloading SATA TOOLS NEW | size = 3.360191 mb\n",
            "[MoviePy] >>>> Building video drive/My Drive/Colab Notebooks/using a wrench videos/clipped/SATA TOOLS NEW.mp4\n",
            "[MoviePy] Writing audio in SATA TOOLS NEWTEMP_MPY_wvf_snd.mp3\n"
          ]
        },
        {
          "metadata": {
            "tags": null
          },
          "name": "stderr",
          "output_type": "stream",
          "text": [
            "100%|██████████| 221/221 [00:00<00:00, 462.48it/s]"
          ]
        },
        {
          "metadata": {
            "tags": null
          },
          "name": "stdout",
          "output_type": "stream",
          "text": [
            "[MoviePy] Done.\n",
            "[MoviePy] Writing video drive/My Drive/Colab Notebooks/using a wrench videos/clipped/SATA TOOLS NEW.mp4\n"
          ]
        },
        {
          "metadata": {
            "tags": null
          },
          "name": "stderr",
          "output_type": "stream",
          "text": [
            "\n",
            "100%|██████████| 300/300 [00:02<00:00, 101.07it/s]\n"
          ]
        },
        {
          "metadata": {
            "tags": null
          },
          "name": "stdout",
          "output_type": "stream",
          "text": [
            "[MoviePy] Done.\n",
            "[MoviePy] >>>> Video ready: drive/My Drive/Colab Notebooks/using a wrench videos/clipped/SATA TOOLS NEW.mp4 \n",
            "\n",
            "Downloading Adjustable Wrenches | size = 7.622708 mb\n",
            "[MoviePy] >>>> Building video drive/My Drive/Colab Notebooks/using a wrench videos/clipped/Adjustable Wrenches.mp4\n",
            "[MoviePy] Writing audio in Adjustable WrenchesTEMP_MPY_wvf_snd.mp3\n"
          ]
        },
        {
          "metadata": {
            "tags": null
          },
          "name": "stderr",
          "output_type": "stream",
          "text": [
            "100%|██████████| 221/221 [00:00<00:00, 567.25it/s]"
          ]
        },
        {
          "metadata": {
            "tags": null
          },
          "name": "stdout",
          "output_type": "stream",
          "text": [
            "[MoviePy] Done.\n"
          ]
        },
        {
          "metadata": {
            "tags": null
          },
          "name": "stderr",
          "output_type": "stream",
          "text": [
            "\n"
          ]
        },
        {
          "metadata": {
            "tags": null
          },
          "name": "stdout",
          "output_type": "stream",
          "text": [
            "[MoviePy] Writing video drive/My Drive/Colab Notebooks/using a wrench videos/clipped/Adjustable Wrenches.mp4\n"
          ]
        },
        {
          "metadata": {
            "tags": null
          },
          "name": "stderr",
          "output_type": "stream",
          "text": [
            "100%|██████████| 300/300 [00:04<00:00, 68.70it/s]\n"
          ]
        },
        {
          "metadata": {
            "tags": null
          },
          "name": "stdout",
          "output_type": "stream",
          "text": [
            "[MoviePy] Done.\n",
            "[MoviePy] >>>> Video ready: drive/My Drive/Colab Notebooks/using a wrench videos/clipped/Adjustable Wrenches.mp4 \n",
            "\n",
            "Downloading Armeg Jaw Dropper Bath & Basin Easy Access Wrench | size = 9.664182 mb\n",
            "[MoviePy] >>>> Building video drive/My Drive/Colab Notebooks/using a wrench videos/clipped/Armeg Jaw Dropper Bath & Basin Easy Access Wrench.mp4\n",
            "[MoviePy] Writing audio in Armeg Jaw Dropper Bath & Basin Easy Access WrenchTEMP_MPY_wvf_snd.mp3\n"
          ]
        },
        {
          "metadata": {
            "tags": null
          },
          "name": "stderr",
          "output_type": "stream",
          "text": [
            " 95%|█████████▌| 210/221 [00:00<00:00, 587.46it/s]\n"
          ]
        },
        {
          "metadata": {
            "tags": null
          },
          "name": "stdout",
          "output_type": "stream",
          "text": [
            "Error in file drive/My Drive/Colab Notebooks/using a wrench videos/Armeg Jaw Dropper Bath & Basin Easy Access Wrench.mp4, Accessing time t=64.50-64.55 seconds, with clip duration=64 seconds, \n",
            "Downloading Cuplock scaffold spanner | size = 5.451544 mb\n",
            "[MoviePy] >>>> Building video drive/My Drive/Colab Notebooks/using a wrench videos/clipped/Cuplock scaffold spanner.mp4\n",
            "[MoviePy] Writing audio in Cuplock scaffold spannerTEMP_MPY_wvf_snd.mp3\n"
          ]
        },
        {
          "metadata": {
            "tags": null
          },
          "name": "stderr",
          "output_type": "stream",
          "text": [
            "100%|██████████| 221/221 [00:00<00:00, 793.66it/s]"
          ]
        },
        {
          "metadata": {
            "tags": null
          },
          "name": "stdout",
          "output_type": "stream",
          "text": [
            "[MoviePy] Done.\n",
            "[MoviePy] Writing video drive/My Drive/Colab Notebooks/using a wrench videos/clipped/Cuplock scaffold spanner.mp4\n"
          ]
        },
        {
          "metadata": {
            "tags": null
          },
          "name": "stderr",
          "output_type": "stream",
          "text": [
            "\n",
            "100%|██████████| 300/300 [00:18<00:00, 16.19it/s]\n"
          ]
        },
        {
          "metadata": {
            "tags": null
          },
          "name": "stdout",
          "output_type": "stream",
          "text": [
            "[MoviePy] Done.\n",
            "[MoviePy] >>>> Video ready: drive/My Drive/Colab Notebooks/using a wrench videos/clipped/Cuplock scaffold spanner.mp4 \n",
            "\n",
            "Downloading V8 629 Super Thin Adjustable Wrench | size = 38.422033 mb\n",
            "[MoviePy] >>>> Building video drive/My Drive/Colab Notebooks/using a wrench videos/clipped/V8 629 Super Thin Adjustable Wrench.mp4\n",
            "[MoviePy] Writing audio in V8 629 Super Thin Adjustable WrenchTEMP_MPY_wvf_snd.mp3\n"
          ]
        },
        {
          "metadata": {
            "tags": null
          },
          "name": "stderr",
          "output_type": "stream",
          "text": [
            "100%|██████████| 221/221 [00:00<00:00, 588.94it/s]"
          ]
        },
        {
          "metadata": {
            "tags": null
          },
          "name": "stdout",
          "output_type": "stream",
          "text": [
            "[MoviePy] Done.\n",
            "[MoviePy] Writing video drive/My Drive/Colab Notebooks/using a wrench videos/clipped/V8 629 Super Thin Adjustable Wrench.mp4\n"
          ]
        },
        {
          "metadata": {
            "tags": null
          },
          "name": "stderr",
          "output_type": "stream",
          "text": [
            "\n",
            "100%|██████████| 300/300 [00:17<00:00, 17.48it/s]\n"
          ]
        },
        {
          "metadata": {
            "tags": null
          },
          "name": "stdout",
          "output_type": "stream",
          "text": [
            "[MoviePy] Done.\n",
            "[MoviePy] >>>> Video ready: drive/My Drive/Colab Notebooks/using a wrench videos/clipped/V8 629 Super Thin Adjustable Wrench.mp4 \n",
            "\n",
            "Downloading Tire Wrench Set | size = 31.918992 mb\n",
            "[MoviePy] >>>> Building video drive/My Drive/Colab Notebooks/using a wrench videos/clipped/Tire Wrench Set.mp4\n",
            "[MoviePy] Writing audio in Tire Wrench SetTEMP_MPY_wvf_snd.mp3\n"
          ]
        },
        {
          "metadata": {
            "tags": null
          },
          "name": "stderr",
          "output_type": "stream",
          "text": [
            " 93%|█████████▎| 205/221 [00:00<00:00, 566.08it/s]\n"
          ]
        },
        {
          "metadata": {
            "tags": null
          },
          "name": "stdout",
          "output_type": "stream",
          "text": [
            "Error in file drive/My Drive/Colab Notebooks/using a wrench videos/Tire Wrench Set.mp4, Accessing time t=87.28-87.32 seconds, with clip duration=87 seconds, \n",
            "Downloading tiger bite multi wrench | size = 2.888347 mb\n",
            "[MoviePy] >>>> Building video drive/My Drive/Colab Notebooks/using a wrench videos/clipped/tiger bite multi wrench.mp4\n",
            "[MoviePy] Writing audio in tiger bite multi wrenchTEMP_MPY_wvf_snd.mp3\n"
          ]
        },
        {
          "metadata": {
            "tags": null
          },
          "name": "stderr",
          "output_type": "stream",
          "text": [
            "100%|██████████| 221/221 [00:00<00:00, 626.36it/s]"
          ]
        },
        {
          "metadata": {
            "tags": null
          },
          "name": "stdout",
          "output_type": "stream",
          "text": [
            "[MoviePy] Done.\n",
            "[MoviePy] Writing video drive/My Drive/Colab Notebooks/using a wrench videos/clipped/tiger bite multi wrench.mp4\n"
          ]
        },
        {
          "metadata": {
            "tags": null
          },
          "name": "stderr",
          "output_type": "stream",
          "text": [
            "\n",
            "100%|█████████▉| 300/301 [00:03<00:00, 97.01it/s]\n"
          ]
        },
        {
          "metadata": {
            "tags": null
          },
          "name": "stdout",
          "output_type": "stream",
          "text": [
            "[MoviePy] Done.\n",
            "[MoviePy] >>>> Video ready: drive/My Drive/Colab Notebooks/using a wrench videos/clipped/tiger bite multi wrench.mp4 \n",
            "\n",
            "Downloading Snap-on Tools featured on How It's Made - Combination Wrenches | size = 24.883318 mb\n",
            "[MoviePy] >>>> Building video drive/My Drive/Colab Notebooks/using a wrench videos/clipped/Snap-on Tools featured on How It's Made - Combination Wrenches.mp4\n",
            "[MoviePy] Writing audio in Snap-on Tools featured on How It's Made - Combination WrenchesTEMP_MPY_wvf_snd.mp3\n"
          ]
        },
        {
          "metadata": {
            "tags": null
          },
          "name": "stderr",
          "output_type": "stream",
          "text": [
            "100%|██████████| 221/221 [00:00<00:00, 578.78it/s]"
          ]
        },
        {
          "metadata": {
            "tags": null
          },
          "name": "stdout",
          "output_type": "stream",
          "text": [
            "[MoviePy] Done.\n",
            "[MoviePy] Writing video drive/My Drive/Colab Notebooks/using a wrench videos/clipped/Snap-on Tools featured on How It's Made - Combination Wrenches.mp4\n"
          ]
        },
        {
          "metadata": {
            "tags": null
          },
          "name": "stderr",
          "output_type": "stream",
          "text": [
            "\n",
            "100%|██████████| 300/300 [00:04<00:00, 73.03it/s]\n"
          ]
        },
        {
          "metadata": {
            "tags": null
          },
          "name": "stdout",
          "output_type": "stream",
          "text": [
            "[MoviePy] Done.\n",
            "[MoviePy] >>>> Video ready: drive/My Drive/Colab Notebooks/using a wrench videos/clipped/Snap-on Tools featured on How It's Made - Combination Wrenches.mp4 \n",
            "\n",
            "Downloading Magna Wrench Comparison to a Craftsman | size = 1.825506 mb\n",
            "[MoviePy] >>>> Building video drive/My Drive/Colab Notebooks/using a wrench videos/clipped/Magna Wrench Comparison to a Craftsman.mp4\n",
            "[MoviePy] Writing audio in Magna Wrench Comparison to a CraftsmanTEMP_MPY_wvf_snd.mp3\n"
          ]
        },
        {
          "metadata": {
            "tags": null
          },
          "name": "stderr",
          "output_type": "stream",
          "text": [
            "100%|██████████| 221/221 [00:00<00:00, 884.98it/s]"
          ]
        },
        {
          "metadata": {
            "tags": null
          },
          "name": "stdout",
          "output_type": "stream",
          "text": [
            "[MoviePy] Done.\n",
            "[MoviePy] Writing video drive/My Drive/Colab Notebooks/using a wrench videos/clipped/Magna Wrench Comparison to a Craftsman.mp4\n"
          ]
        },
        {
          "metadata": {
            "tags": null
          },
          "name": "stderr",
          "output_type": "stream",
          "text": [
            "\n",
            "100%|██████████| 300/300 [00:02<00:00, 121.17it/s]\n"
          ]
        },
        {
          "metadata": {
            "tags": null
          },
          "name": "stdout",
          "output_type": "stream",
          "text": [
            "[MoviePy] Done.\n",
            "[MoviePy] >>>> Video ready: drive/My Drive/Colab Notebooks/using a wrench videos/clipped/Magna Wrench Comparison to a Craftsman.mp4 \n",
            "\n",
            "Downloading Tite-Reach | size = 18.936669 mb\n",
            "[MoviePy] >>>> Building video drive/My Drive/Colab Notebooks/using a wrench videos/clipped/Tite-Reach.mp4\n",
            "[MoviePy] Writing audio in Tite-ReachTEMP_MPY_wvf_snd.mp3\n"
          ]
        },
        {
          "metadata": {
            "tags": null
          },
          "name": "stderr",
          "output_type": "stream",
          "text": [
            "100%|██████████| 221/221 [00:00<00:00, 463.13it/s]"
          ]
        },
        {
          "metadata": {
            "tags": null
          },
          "name": "stdout",
          "output_type": "stream",
          "text": [
            "[MoviePy] Done.\n",
            "[MoviePy] Writing video drive/My Drive/Colab Notebooks/using a wrench videos/clipped/Tite-Reach.mp4\n"
          ]
        },
        {
          "metadata": {
            "tags": null
          },
          "name": "stderr",
          "output_type": "stream",
          "text": [
            "\n",
            "100%|██████████| 300/300 [00:20<00:00, 14.35it/s]\n"
          ]
        },
        {
          "metadata": {
            "tags": null
          },
          "name": "stdout",
          "output_type": "stream",
          "text": [
            "[MoviePy] Done.\n",
            "[MoviePy] >>>> Video ready: drive/My Drive/Colab Notebooks/using a wrench videos/clipped/Tite-Reach.mp4 \n",
            "\n",
            "JU5P4Hq71dc is unavailable\n",
            "Downloading CD3 Boat Plug Wrench - How to use | size = 7.804061 mb\n",
            "[MoviePy] >>>> Building video drive/My Drive/Colab Notebooks/using a wrench videos/clipped/CD3 Boat Plug Wrench - How to use.mp4\n",
            "[MoviePy] Writing audio in CD3 Boat Plug Wrench - How to useTEMP_MPY_wvf_snd.mp3\n"
          ]
        },
        {
          "metadata": {
            "tags": null
          },
          "name": "stderr",
          "output_type": "stream",
          "text": [
            " 94%|█████████▍| 208/221 [00:00<00:00, 665.28it/s]\n"
          ]
        },
        {
          "metadata": {
            "tags": null
          },
          "name": "stdout",
          "output_type": "stream",
          "text": [
            "Error in file drive/My Drive/Colab Notebooks/using a wrench videos/CD3 Boat Plug Wrench - How to use.mp4, Accessing time t=30.41-30.46 seconds, with clip duration=30 seconds, \n",
            "Downloading Megabite Wrench | size = 31.55159 mb\n",
            "[MoviePy] >>>> Building video drive/My Drive/Colab Notebooks/using a wrench videos/clipped/Megabite Wrench.mp4\n",
            "[MoviePy] Writing audio in Megabite WrenchTEMP_MPY_wvf_snd.mp3\n"
          ]
        },
        {
          "metadata": {
            "tags": null
          },
          "name": "stderr",
          "output_type": "stream",
          "text": [
            "100%|██████████| 221/221 [00:00<00:00, 588.53it/s]"
          ]
        },
        {
          "metadata": {
            "tags": null
          },
          "name": "stdout",
          "output_type": "stream",
          "text": [
            "[MoviePy] Done.\n",
            "[MoviePy] Writing video drive/My Drive/Colab Notebooks/using a wrench videos/clipped/Megabite Wrench.mp4\n"
          ]
        },
        {
          "metadata": {
            "tags": null
          },
          "name": "stderr",
          "output_type": "stream",
          "text": [
            "\n",
            "100%|█████████▉| 250/251 [00:16<00:00, 15.33it/s]\n"
          ]
        },
        {
          "metadata": {
            "tags": null
          },
          "name": "stdout",
          "output_type": "stream",
          "text": [
            "[MoviePy] Done.\n",
            "[MoviePy] >>>> Video ready: drive/My Drive/Colab Notebooks/using a wrench videos/clipped/Megabite Wrench.mp4 \n",
            "\n",
            "Downloading ROBSON OPEN END RATCHET SET | size = 1.486351 mb\n",
            "[MoviePy] >>>> Building video drive/My Drive/Colab Notebooks/using a wrench videos/clipped/ROBSON OPEN END RATCHET SET.mp4\n",
            "[MoviePy] Writing audio in ROBSON OPEN END RATCHET SETTEMP_MPY_wvf_snd.mp3\n"
          ]
        },
        {
          "metadata": {
            "tags": null
          },
          "name": "stderr",
          "output_type": "stream",
          "text": [
            "100%|██████████| 221/221 [00:00<00:00, 520.09it/s]"
          ]
        },
        {
          "metadata": {
            "tags": null
          },
          "name": "stdout",
          "output_type": "stream",
          "text": [
            "[MoviePy] Done.\n",
            "[MoviePy] Writing video drive/My Drive/Colab Notebooks/using a wrench videos/clipped/ROBSON OPEN END RATCHET SET.mp4\n"
          ]
        },
        {
          "metadata": {
            "tags": null
          },
          "name": "stderr",
          "output_type": "stream",
          "text": [
            "\n",
            "100%|█████████▉| 250/251 [00:03<00:00, 75.32it/s]\n"
          ]
        },
        {
          "metadata": {
            "tags": null
          },
          "name": "stdout",
          "output_type": "stream",
          "text": [
            "[MoviePy] Done.\n",
            "[MoviePy] >>>> Video ready: drive/My Drive/Colab Notebooks/using a wrench videos/clipped/ROBSON OPEN END RATCHET SET.mp4 \n",
            "\n",
            "Downloading How to Pick a LOCK BOX with WRENCH | size = 8.681493 mb\n",
            "[MoviePy] >>>> Building video drive/My Drive/Colab Notebooks/using a wrench videos/clipped/How to Pick a LOCK BOX with WRENCH.mp4\n",
            "[MoviePy] Writing audio in How to Pick a LOCK BOX with WRENCHTEMP_MPY_wvf_snd.mp3\n"
          ]
        },
        {
          "metadata": {
            "tags": null
          },
          "name": "stderr",
          "output_type": "stream",
          "text": [
            "100%|██████████| 221/221 [00:00<00:00, 482.89it/s]"
          ]
        },
        {
          "metadata": {
            "tags": null
          },
          "name": "stdout",
          "output_type": "stream",
          "text": [
            "[MoviePy] Done.\n",
            "[MoviePy] Writing video drive/My Drive/Colab Notebooks/using a wrench videos/clipped/How to Pick a LOCK BOX with WRENCH.mp4\n"
          ]
        },
        {
          "metadata": {
            "tags": null
          },
          "name": "stderr",
          "output_type": "stream",
          "text": [
            "\n",
            "100%|██████████| 240/240 [00:14<00:00, 16.72it/s]\n"
          ]
        },
        {
          "metadata": {
            "tags": null
          },
          "name": "stdout",
          "output_type": "stream",
          "text": [
            "[MoviePy] Done.\n",
            "[MoviePy] >>>> Video ready: drive/My Drive/Colab Notebooks/using a wrench videos/clipped/How to Pick a LOCK BOX with WRENCH.mp4 \n",
            "\n",
            "Downloading Knipex Plier Wrench | size = 5.771693 mb\n",
            "[MoviePy] >>>> Building video drive/My Drive/Colab Notebooks/using a wrench videos/clipped/Knipex Plier Wrench.mp4\n",
            "[MoviePy] Writing audio in Knipex Plier WrenchTEMP_MPY_wvf_snd.mp3\n"
          ]
        },
        {
          "metadata": {
            "tags": null
          },
          "name": "stderr",
          "output_type": "stream",
          "text": [
            "100%|██████████| 221/221 [00:00<00:00, 1178.71it/s]"
          ]
        },
        {
          "metadata": {
            "tags": null
          },
          "name": "stdout",
          "output_type": "stream",
          "text": [
            "[MoviePy] Done.\n",
            "[MoviePy] Writing video drive/My Drive/Colab Notebooks/using a wrench videos/clipped/Knipex Plier Wrench.mp4\n"
          ]
        },
        {
          "metadata": {
            "tags": null
          },
          "name": "stderr",
          "output_type": "stream",
          "text": [
            "\n",
            "100%|█████████▉| 250/251 [00:16<00:00, 15.56it/s]\n"
          ]
        },
        {
          "metadata": {
            "tags": null
          },
          "name": "stdout",
          "output_type": "stream",
          "text": [
            "[MoviePy] Done.\n",
            "[MoviePy] >>>> Video ready: drive/My Drive/Colab Notebooks/using a wrench videos/clipped/Knipex Plier Wrench.mp4 \n",
            "\n",
            "Downloading Bondhus - Hexpro Wrench Sets | size = 17.791645 mb\n",
            "[MoviePy] >>>> Building video drive/My Drive/Colab Notebooks/using a wrench videos/clipped/Bondhus - Hexpro Wrench Sets.mp4\n",
            "[MoviePy] Writing audio in Bondhus - Hexpro Wrench SetsTEMP_MPY_wvf_snd.mp3\n"
          ]
        },
        {
          "metadata": {
            "tags": null
          },
          "name": "stderr",
          "output_type": "stream",
          "text": [
            "100%|██████████| 221/221 [00:00<00:00, 539.81it/s]"
          ]
        },
        {
          "metadata": {
            "tags": null
          },
          "name": "stdout",
          "output_type": "stream",
          "text": [
            "[MoviePy] Done.\n",
            "[MoviePy] Writing video drive/My Drive/Colab Notebooks/using a wrench videos/clipped/Bondhus - Hexpro Wrench Sets.mp4\n"
          ]
        },
        {
          "metadata": {
            "tags": null
          },
          "name": "stderr",
          "output_type": "stream",
          "text": [
            "\n",
            "100%|██████████| 300/300 [00:18<00:00, 16.63it/s]\n"
          ]
        },
        {
          "metadata": {
            "tags": null
          },
          "name": "stdout",
          "output_type": "stream",
          "text": [
            "[MoviePy] Done.\n",
            "[MoviePy] >>>> Video ready: drive/My Drive/Colab Notebooks/using a wrench videos/clipped/Bondhus - Hexpro Wrench Sets.mp4 \n",
            "\n",
            "Downloading Crescent Rapid Wrench (English) (AC8NKWMP) | size = 5.116259 mb\n",
            "[MoviePy] >>>> Building video drive/My Drive/Colab Notebooks/using a wrench videos/clipped/Crescent Rapid Wrench (English) (AC8NKWMP).mp4\n",
            "[MoviePy] Writing audio in Crescent Rapid Wrench (English) (AC8NKWMP)TEMP_MPY_wvf_snd.mp3\n"
          ]
        },
        {
          "metadata": {
            "tags": null
          },
          "name": "stderr",
          "output_type": "stream",
          "text": [
            "100%|██████████| 221/221 [00:00<00:00, 609.13it/s]"
          ]
        },
        {
          "metadata": {
            "tags": null
          },
          "name": "stdout",
          "output_type": "stream",
          "text": [
            "[MoviePy] Done.\n",
            "[MoviePy] Writing video drive/My Drive/Colab Notebooks/using a wrench videos/clipped/Crescent Rapid Wrench (English) (AC8NKWMP).mp4\n"
          ]
        },
        {
          "metadata": {
            "tags": null
          },
          "name": "stderr",
          "output_type": "stream",
          "text": [
            "\n",
            "100%|██████████| 300/300 [00:14<00:00, 21.01it/s]\n"
          ]
        },
        {
          "metadata": {
            "tags": null
          },
          "name": "stdout",
          "output_type": "stream",
          "text": [
            "[MoviePy] Done.\n",
            "[MoviePy] >>>> Video ready: drive/My Drive/Colab Notebooks/using a wrench videos/clipped/Crescent Rapid Wrench (English) (AC8NKWMP).mp4 \n",
            "\n",
            "Downloading Brownells AR-15 and M16 Armorer's Wrench | size = 7.718076 mb\n",
            "[MoviePy] >>>> Building video drive/My Drive/Colab Notebooks/using a wrench videos/clipped/Brownells AR-15 and M16 Armorer's Wrench.mp4\n",
            "[MoviePy] Writing audio in Brownells AR-15 and M16 Armorer's WrenchTEMP_MPY_wvf_snd.mp3\n"
          ]
        },
        {
          "metadata": {
            "tags": null
          },
          "name": "stderr",
          "output_type": "stream",
          "text": [
            "100%|██████████| 221/221 [00:00<00:00, 462.54it/s]"
          ]
        },
        {
          "metadata": {
            "tags": null
          },
          "name": "stdout",
          "output_type": "stream",
          "text": [
            "[MoviePy] Done.\n",
            "[MoviePy] Writing video drive/My Drive/Colab Notebooks/using a wrench videos/clipped/Brownells AR-15 and M16 Armorer's Wrench.mp4\n"
          ]
        },
        {
          "metadata": {
            "tags": null
          },
          "name": "stderr",
          "output_type": "stream",
          "text": [
            "\n",
            "100%|██████████| 300/300 [00:15<00:00, 19.61it/s]\n"
          ]
        },
        {
          "metadata": {
            "tags": null
          },
          "name": "stdout",
          "output_type": "stream",
          "text": [
            "[MoviePy] Done.\n",
            "[MoviePy] >>>> Video ready: drive/My Drive/Colab Notebooks/using a wrench videos/clipped/Brownells AR-15 and M16 Armorer's Wrench.mp4 \n",
            "\n",
            "Downloading Snap 'n Grip Auto Adjustable Universal Wrench | size = 4.112529 mb\n",
            "[MoviePy] >>>> Building video drive/My Drive/Colab Notebooks/using a wrench videos/clipped/Snap 'n Grip Auto Adjustable Universal Wrench.mp4\n",
            "[MoviePy] Writing audio in Snap 'n Grip Auto Adjustable Universal WrenchTEMP_MPY_wvf_snd.mp3\n"
          ]
        },
        {
          "metadata": {
            "tags": null
          },
          "name": "stderr",
          "output_type": "stream",
          "text": [
            "100%|██████████| 221/221 [00:00<00:00, 812.54it/s]"
          ]
        },
        {
          "metadata": {
            "tags": null
          },
          "name": "stdout",
          "output_type": "stream",
          "text": [
            "[MoviePy] Done.\n",
            "[MoviePy] Writing video drive/My Drive/Colab Notebooks/using a wrench videos/clipped/Snap 'n Grip Auto Adjustable Universal Wrench.mp4\n"
          ]
        },
        {
          "metadata": {
            "tags": null
          },
          "name": "stderr",
          "output_type": "stream",
          "text": [
            "\n",
            "100%|█████████▉| 250/251 [00:03<00:00, 81.41it/s]\n"
          ]
        },
        {
          "metadata": {
            "tags": null
          },
          "name": "stdout",
          "output_type": "stream",
          "text": [
            "[MoviePy] Done.\n",
            "[MoviePy] >>>> Video ready: drive/My Drive/Colab Notebooks/using a wrench videos/clipped/Snap 'n Grip Auto Adjustable Universal Wrench.mp4 \n",
            "\n",
            "Downloading Nerrad Tools Variable Bilateral Wrench | size = 12.689892 mb\n",
            "[MoviePy] >>>> Building video drive/My Drive/Colab Notebooks/using a wrench videos/clipped/Nerrad Tools Variable Bilateral Wrench.mp4\n",
            "[MoviePy] Writing audio in Nerrad Tools Variable Bilateral WrenchTEMP_MPY_wvf_snd.mp3\n"
          ]
        },
        {
          "metadata": {
            "tags": null
          },
          "name": "stderr",
          "output_type": "stream",
          "text": [
            "100%|██████████| 221/221 [00:00<00:00, 478.14it/s]"
          ]
        },
        {
          "metadata": {
            "tags": null
          },
          "name": "stdout",
          "output_type": "stream",
          "text": [
            "[MoviePy] Done.\n",
            "[MoviePy] Writing video drive/My Drive/Colab Notebooks/using a wrench videos/clipped/Nerrad Tools Variable Bilateral Wrench.mp4\n"
          ]
        },
        {
          "metadata": {
            "tags": null
          },
          "name": "stderr",
          "output_type": "stream",
          "text": [
            "\n",
            "100%|██████████| 240/240 [00:12<00:00, 19.69it/s]\n"
          ]
        },
        {
          "metadata": {
            "tags": null
          },
          "name": "stdout",
          "output_type": "stream",
          "text": [
            "[MoviePy] Done.\n",
            "[MoviePy] >>>> Video ready: drive/My Drive/Colab Notebooks/using a wrench videos/clipped/Nerrad Tools Variable Bilateral Wrench.mp4 \n",
            "\n",
            "Downloading tool fixed by spanner | size = 3.159613 mb\n",
            "[MoviePy] >>>> Building video drive/My Drive/Colab Notebooks/using a wrench videos/clipped/tool fixed by spanner.mp4\n",
            "[MoviePy] Writing audio in tool fixed by spannerTEMP_MPY_wvf_snd.mp3\n"
          ]
        },
        {
          "metadata": {
            "tags": null
          },
          "name": "stderr",
          "output_type": "stream",
          "text": [
            "100%|██████████| 221/221 [00:00<00:00, 780.69it/s]"
          ]
        },
        {
          "metadata": {
            "tags": null
          },
          "name": "stdout",
          "output_type": "stream",
          "text": [
            "[MoviePy] Done.\n",
            "[MoviePy] Writing video drive/My Drive/Colab Notebooks/using a wrench videos/clipped/tool fixed by spanner.mp4\n"
          ]
        },
        {
          "metadata": {
            "tags": null
          },
          "name": "stderr",
          "output_type": "stream",
          "text": [
            "\n",
            "100%|██████████| 240/240 [00:07<00:00, 30.34it/s]\n"
          ]
        },
        {
          "metadata": {
            "tags": null
          },
          "name": "stdout",
          "output_type": "stream",
          "text": [
            "[MoviePy] Done.\n",
            "[MoviePy] >>>> Video ready: drive/My Drive/Colab Notebooks/using a wrench videos/clipped/tool fixed by spanner.mp4 \n",
            "\n",
            "Downloading Multi-socket speed wrench - 1 | size = 3.750405 mb\n",
            "[MoviePy] >>>> Building video drive/My Drive/Colab Notebooks/using a wrench videos/clipped/Multi-socket speed wrench - 1.mp4\n",
            "[MoviePy] Writing audio in Multi-socket speed wrench - 1TEMP_MPY_wvf_snd.mp3\n"
          ]
        },
        {
          "metadata": {
            "tags": null
          },
          "name": "stderr",
          "output_type": "stream",
          "text": [
            "100%|██████████| 221/221 [00:00<00:00, 553.39it/s]"
          ]
        },
        {
          "metadata": {
            "tags": null
          },
          "name": "stdout",
          "output_type": "stream",
          "text": [
            "[MoviePy] Done.\n",
            "[MoviePy] Writing video drive/My Drive/Colab Notebooks/using a wrench videos/clipped/Multi-socket speed wrench - 1.mp4\n"
          ]
        },
        {
          "metadata": {
            "tags": null
          },
          "name": "stderr",
          "output_type": "stream",
          "text": [
            "\n",
            "100%|██████████| 300/300 [00:19<00:00, 15.48it/s]\n"
          ]
        },
        {
          "metadata": {
            "tags": null
          },
          "name": "stdout",
          "output_type": "stream",
          "text": [
            "[MoviePy] Done.\n",
            "[MoviePy] >>>> Video ready: drive/My Drive/Colab Notebooks/using a wrench videos/clipped/Multi-socket speed wrench - 1.mp4 \n",
            "\n",
            "LGC8wCl-y7Y is unavailable\n",
            "Downloading Lokrite Backup Wrench Vertical.MPG | size = 3.573285 mb\n",
            "[MoviePy] >>>> Building video drive/My Drive/Colab Notebooks/using a wrench videos/clipped/Lokrite Backup Wrench Vertical.MPG.mp4\n",
            "[MoviePy] Writing audio in Lokrite Backup Wrench Vertical.MPGTEMP_MPY_wvf_snd.mp3\n"
          ]
        },
        {
          "metadata": {
            "tags": null
          },
          "name": "stderr",
          "output_type": "stream",
          "text": [
            "100%|██████████| 221/221 [00:00<00:00, 449.11it/s]\n"
          ]
        },
        {
          "metadata": {
            "tags": null
          },
          "name": "stdout",
          "output_type": "stream",
          "text": [
            "[MoviePy] Done.\n",
            "[MoviePy] Writing video drive/My Drive/Colab Notebooks/using a wrench videos/clipped/Lokrite Backup Wrench Vertical.MPG.mp4\n"
          ]
        },
        {
          "metadata": {
            "tags": null
          },
          "name": "stderr",
          "output_type": "stream",
          "text": [
            "100%|██████████| 300/300 [00:04<00:00, 65.49it/s]\n"
          ]
        },
        {
          "metadata": {
            "tags": null
          },
          "name": "stdout",
          "output_type": "stream",
          "text": [
            "[MoviePy] Done.\n",
            "[MoviePy] >>>> Video ready: drive/My Drive/Colab Notebooks/using a wrench videos/clipped/Lokrite Backup Wrench Vertical.MPG.mp4 \n",
            "\n",
            "LWGm6PJkJrc is unavailable\n",
            "Downloading 32 Gear Wrench XL Wrenches | size = 14.257611 mb\n",
            "[MoviePy] >>>> Building video drive/My Drive/Colab Notebooks/using a wrench videos/clipped/32 Gear Wrench XL Wrenches.mp4\n",
            "[MoviePy] Writing audio in 32 Gear Wrench XL WrenchesTEMP_MPY_wvf_snd.mp3\n"
          ]
        },
        {
          "metadata": {
            "tags": null
          },
          "name": "stderr",
          "output_type": "stream",
          "text": [
            "100%|██████████| 221/221 [00:00<00:00, 519.91it/s]"
          ]
        },
        {
          "metadata": {
            "tags": null
          },
          "name": "stdout",
          "output_type": "stream",
          "text": [
            "[MoviePy] Done.\n",
            "[MoviePy] Writing video drive/My Drive/Colab Notebooks/using a wrench videos/clipped/32 Gear Wrench XL Wrenches.mp4\n"
          ]
        },
        {
          "metadata": {
            "tags": null
          },
          "name": "stderr",
          "output_type": "stream",
          "text": [
            "\n",
            " 99%|█████████▉| 150/151 [00:02<00:00, 68.61it/s]\n"
          ]
        },
        {
          "metadata": {
            "tags": null
          },
          "name": "stdout",
          "output_type": "stream",
          "text": [
            "[MoviePy] Done.\n",
            "[MoviePy] >>>> Video ready: drive/My Drive/Colab Notebooks/using a wrench videos/clipped/32 Gear Wrench XL Wrenches.mp4 \n",
            "\n",
            "Downloading OPEN END RATCHETING & FLARE NUT WRENCH | size = 4.826489 mb\n",
            "[MoviePy] >>>> Building video drive/My Drive/Colab Notebooks/using a wrench videos/clipped/OPEN END RATCHETING & FLARE NUT WRENCH.mp4\n",
            "[MoviePy] Writing audio in OPEN END RATCHETING & FLARE NUT WRENCHTEMP_MPY_wvf_snd.mp3\n"
          ]
        },
        {
          "metadata": {
            "tags": null
          },
          "name": "stderr",
          "output_type": "stream",
          "text": [
            "100%|██████████| 221/221 [00:00<00:00, 565.04it/s]"
          ]
        },
        {
          "metadata": {
            "tags": null
          },
          "name": "stdout",
          "output_type": "stream",
          "text": [
            "[MoviePy] Done.\n",
            "[MoviePy] Writing video drive/My Drive/Colab Notebooks/using a wrench videos/clipped/OPEN END RATCHETING & FLARE NUT WRENCH.mp4\n"
          ]
        },
        {
          "metadata": {
            "tags": null
          },
          "name": "stderr",
          "output_type": "stream",
          "text": [
            "\n",
            "100%|██████████| 300/300 [00:16<00:00, 18.64it/s]\n"
          ]
        },
        {
          "metadata": {
            "tags": null
          },
          "name": "stdout",
          "output_type": "stream",
          "text": [
            "[MoviePy] Done.\n",
            "[MoviePy] >>>> Video ready: drive/My Drive/Colab Notebooks/using a wrench videos/clipped/OPEN END RATCHETING & FLARE NUT WRENCH.mp4 \n",
            "\n",
            "Downloading Lokrite backup wrench Single Use MPG | size = 3.842797 mb\n",
            "[MoviePy] >>>> Building video drive/My Drive/Colab Notebooks/using a wrench videos/clipped/Lokrite backup wrench Single Use MPG.mp4\n",
            "[MoviePy] Writing audio in Lokrite backup wrench Single Use MPGTEMP_MPY_wvf_snd.mp3\n"
          ]
        },
        {
          "metadata": {
            "tags": null
          },
          "name": "stderr",
          "output_type": "stream",
          "text": [
            "100%|██████████| 221/221 [00:00<00:00, 500.76it/s]"
          ]
        },
        {
          "metadata": {
            "tags": null
          },
          "name": "stdout",
          "output_type": "stream",
          "text": [
            "[MoviePy] Done.\n",
            "[MoviePy] Writing video drive/My Drive/Colab Notebooks/using a wrench videos/clipped/Lokrite backup wrench Single Use MPG.mp4\n"
          ]
        },
        {
          "metadata": {
            "tags": null
          },
          "name": "stderr",
          "output_type": "stream",
          "text": [
            "\n",
            "100%|██████████| 300/300 [00:03<00:00, 90.43it/s]\n"
          ]
        },
        {
          "metadata": {
            "tags": null
          },
          "name": "stdout",
          "output_type": "stream",
          "text": [
            "[MoviePy] Done.\n",
            "[MoviePy] >>>> Video ready: drive/My Drive/Colab Notebooks/using a wrench videos/clipped/Lokrite backup wrench Single Use MPG.mp4 \n",
            "\n",
            "Downloading Würth Multi Use Socket Set | size = 12.351518 mb\n",
            "[MoviePy] >>>> Building video drive/My Drive/Colab Notebooks/using a wrench videos/clipped/Würth Multi Use Socket Set.mp4\n",
            "[MoviePy] Writing audio in Würth Multi Use Socket SetTEMP_MPY_wvf_snd.mp3\n"
          ]
        },
        {
          "metadata": {
            "tags": null
          },
          "name": "stderr",
          "output_type": "stream",
          "text": [
            "100%|██████████| 221/221 [00:00<00:00, 531.55it/s]"
          ]
        },
        {
          "metadata": {
            "tags": null
          },
          "name": "stdout",
          "output_type": "stream",
          "text": [
            "[MoviePy] Done.\n",
            "[MoviePy] Writing video drive/My Drive/Colab Notebooks/using a wrench videos/clipped/Würth Multi Use Socket Set.mp4\n"
          ]
        },
        {
          "metadata": {
            "tags": null
          },
          "name": "stderr",
          "output_type": "stream",
          "text": [
            "\n",
            "100%|█████████▉| 250/251 [00:02<00:00, 121.63it/s]\n"
          ]
        },
        {
          "metadata": {
            "tags": null
          },
          "name": "stdout",
          "output_type": "stream",
          "text": [
            "[MoviePy] Done.\n",
            "[MoviePy] >>>> Video ready: drive/My Drive/Colab Notebooks/using a wrench videos/clipped/Würth Multi Use Socket Set.mp4 \n",
            "\n",
            "Downloading EZSpanner Ratcheting Fire Hydrant Wrench - Demo | size = 0.672816 mb\n",
            "[MoviePy] >>>> Building video drive/My Drive/Colab Notebooks/using a wrench videos/clipped/EZSpanner Ratcheting Fire Hydrant Wrench - Demo.mp4\n",
            "[MoviePy] Writing audio in EZSpanner Ratcheting Fire Hydrant Wrench - DemoTEMP_MPY_wvf_snd.mp3\n"
          ]
        },
        {
          "metadata": {
            "tags": null
          },
          "name": "stderr",
          "output_type": "stream",
          "text": [
            "100%|██████████| 221/221 [00:00<00:00, 831.91it/s]"
          ]
        },
        {
          "metadata": {
            "tags": null
          },
          "name": "stdout",
          "output_type": "stream",
          "text": [
            "[MoviePy] Done.\n",
            "[MoviePy] Writing video drive/My Drive/Colab Notebooks/using a wrench videos/clipped/EZSpanner Ratcheting Fire Hydrant Wrench - Demo.mp4\n"
          ]
        },
        {
          "metadata": {
            "tags": null
          },
          "name": "stderr",
          "output_type": "stream",
          "text": [
            "\n",
            "100%|██████████| 300/300 [00:03<00:00, 86.33it/s]\n"
          ]
        },
        {
          "metadata": {
            "tags": null
          },
          "name": "stdout",
          "output_type": "stream",
          "text": [
            "[MoviePy] Done.\n",
            "[MoviePy] >>>> Video ready: drive/My Drive/Colab Notebooks/using a wrench videos/clipped/EZSpanner Ratcheting Fire Hydrant Wrench - Demo.mp4 \n",
            "\n",
            "Downloading MAGIC CLAY VS Wrench | size = 2.383099 mb\n",
            "[MoviePy] >>>> Building video drive/My Drive/Colab Notebooks/using a wrench videos/clipped/MAGIC CLAY VS Wrench.mp4\n",
            "[MoviePy] Writing audio in MAGIC CLAY VS WrenchTEMP_MPY_wvf_snd.mp3\n"
          ]
        },
        {
          "metadata": {
            "tags": null
          },
          "name": "stderr",
          "output_type": "stream",
          "text": [
            "100%|██████████| 221/221 [00:00<00:00, 1066.12it/s]"
          ]
        },
        {
          "metadata": {
            "tags": null
          },
          "name": "stdout",
          "output_type": "stream",
          "text": [
            "[MoviePy] Done.\n",
            "[MoviePy] Writing video drive/My Drive/Colab Notebooks/using a wrench videos/clipped/MAGIC CLAY VS Wrench.mp4\n"
          ]
        },
        {
          "metadata": {
            "tags": null
          },
          "name": "stderr",
          "output_type": "stream",
          "text": [
            "\n",
            "100%|█████████▉| 230/231 [00:15<00:00, 14.94it/s]\n"
          ]
        },
        {
          "metadata": {
            "tags": null
          },
          "name": "stdout",
          "output_type": "stream",
          "text": [
            "[MoviePy] Done.\n",
            "[MoviePy] >>>> Video ready: drive/My Drive/Colab Notebooks/using a wrench videos/clipped/MAGIC CLAY VS Wrench.mp4 \n",
            "\n",
            "Downloading Correct size of spanner | size = 3.501165 mb\n",
            "[MoviePy] >>>> Building video drive/My Drive/Colab Notebooks/using a wrench videos/clipped/Correct size of spanner.mp4\n",
            "[MoviePy] Writing audio in Correct size of spannerTEMP_MPY_wvf_snd.mp3\n"
          ]
        },
        {
          "metadata": {
            "tags": null
          },
          "name": "stderr",
          "output_type": "stream",
          "text": [
            "100%|██████████| 221/221 [00:00<00:00, 748.59it/s]\n"
          ]
        },
        {
          "metadata": {
            "tags": null
          },
          "name": "stdout",
          "output_type": "stream",
          "text": [
            "[MoviePy] Done.\n",
            "[MoviePy] Writing video drive/My Drive/Colab Notebooks/using a wrench videos/clipped/Correct size of spanner.mp4\n"
          ]
        },
        {
          "metadata": {
            "tags": null
          },
          "name": "stderr",
          "output_type": "stream",
          "text": [
            "100%|██████████| 296/296 [00:20<00:00, 14.10it/s]\n"
          ]
        },
        {
          "metadata": {
            "tags": null
          },
          "name": "stdout",
          "output_type": "stream",
          "text": [
            "[MoviePy] Done.\n",
            "[MoviePy] >>>> Video ready: drive/My Drive/Colab Notebooks/using a wrench videos/clipped/Correct size of spanner.mp4 \n",
            "\n",
            "Downloading 15\"adjustable wrench test | size = 4.351219 mb\n",
            "[MoviePy] >>>> Building video drive/My Drive/Colab Notebooks/using a wrench videos/clipped/15adjustable wrench test.mp4\n",
            "[MoviePy] Writing audio in 15adjustable wrench testTEMP_MPY_wvf_snd.mp3\n"
          ]
        },
        {
          "metadata": {
            "tags": null
          },
          "name": "stderr",
          "output_type": "stream",
          "text": [
            " 93%|█████████▎| 205/221 [00:00<00:00, 622.16it/s]\n"
          ]
        },
        {
          "metadata": {
            "tags": null
          },
          "name": "stdout",
          "output_type": "stream",
          "text": [
            "Error in file drive/My Drive/Colab Notebooks/using a wrench videos/15adjustable wrench test.mp4, Accessing time t=110.28-110.32 seconds, with clip duration=110 seconds, \n",
            "Downloading UniorBike Pedal wrench profi | size = 6.916106 mb\n",
            "[MoviePy] >>>> Building video drive/My Drive/Colab Notebooks/using a wrench videos/clipped/UniorBike Pedal wrench profi.mp4\n",
            "[MoviePy] Writing audio in UniorBike Pedal wrench profiTEMP_MPY_wvf_snd.mp3\n"
          ]
        },
        {
          "metadata": {
            "tags": null
          },
          "name": "stderr",
          "output_type": "stream",
          "text": [
            "100%|██████████| 221/221 [00:00<00:00, 1291.84it/s]"
          ]
        },
        {
          "metadata": {
            "tags": null
          },
          "name": "stdout",
          "output_type": "stream",
          "text": [
            "[MoviePy] Done.\n",
            "[MoviePy] Writing video drive/My Drive/Colab Notebooks/using a wrench videos/clipped/UniorBike Pedal wrench profi.mp4\n"
          ]
        },
        {
          "metadata": {
            "tags": null
          },
          "name": "stderr",
          "output_type": "stream",
          "text": [
            "\n",
            "100%|█████████▉| 300/301 [00:19<00:00, 15.61it/s]\n"
          ]
        },
        {
          "metadata": {
            "tags": null
          },
          "name": "stdout",
          "output_type": "stream",
          "text": [
            "[MoviePy] Done.\n",
            "[MoviePy] >>>> Video ready: drive/My Drive/Colab Notebooks/using a wrench videos/clipped/UniorBike Pedal wrench profi.mp4 \n",
            "\n",
            "Downloading What's a pin spanner? | size = 1.936023 mb\n",
            "[MoviePy] >>>> Building video drive/My Drive/Colab Notebooks/using a wrench videos/clipped/What's a pin spanner.mp4\n",
            "[MoviePy] Writing audio in What's a pin spannerTEMP_MPY_wvf_snd.mp3\n"
          ]
        },
        {
          "metadata": {
            "tags": null
          },
          "name": "stderr",
          "output_type": "stream",
          "text": [
            "100%|██████████| 221/221 [00:00<00:00, 827.13it/s]"
          ]
        },
        {
          "metadata": {
            "tags": null
          },
          "name": "stdout",
          "output_type": "stream",
          "text": [
            "[MoviePy] Done.\n",
            "[MoviePy] Writing video drive/My Drive/Colab Notebooks/using a wrench videos/clipped/What's a pin spanner.mp4\n"
          ]
        },
        {
          "metadata": {
            "tags": null
          },
          "name": "stderr",
          "output_type": "stream",
          "text": [
            "\n",
            "100%|█████████▉| 300/301 [00:03<00:00, 75.68it/s]\n"
          ]
        },
        {
          "metadata": {
            "tags": null
          },
          "name": "stdout",
          "output_type": "stream",
          "text": [
            "[MoviePy] Done.\n",
            "[MoviePy] >>>> Video ready: drive/My Drive/Colab Notebooks/using a wrench videos/clipped/What's a pin spanner.mp4 \n",
            "\n",
            "Downloading 7 19mm Gator Grip | size = 1.87482 mb\n",
            "[MoviePy] >>>> Building video drive/My Drive/Colab Notebooks/using a wrench videos/clipped/7 19mm Gator Grip.mp4\n",
            "[MoviePy] Writing audio in 7 19mm Gator GripTEMP_MPY_wvf_snd.mp3\n"
          ]
        },
        {
          "metadata": {
            "tags": null
          },
          "name": "stderr",
          "output_type": "stream",
          "text": [
            "100%|██████████| 221/221 [00:00<00:00, 613.69it/s]"
          ]
        },
        {
          "metadata": {
            "tags": null
          },
          "name": "stdout",
          "output_type": "stream",
          "text": [
            "[MoviePy] Done.\n",
            "[MoviePy] Writing video drive/My Drive/Colab Notebooks/using a wrench videos/clipped/7 19mm Gator Grip.mp4\n"
          ]
        },
        {
          "metadata": {
            "tags": null
          },
          "name": "stderr",
          "output_type": "stream",
          "text": [
            "\n",
            "100%|█████████▉| 250/251 [00:03<00:00, 81.26it/s]\n"
          ]
        },
        {
          "metadata": {
            "tags": null
          },
          "name": "stdout",
          "output_type": "stream",
          "text": [
            "[MoviePy] Done.\n",
            "[MoviePy] >>>> Video ready: drive/My Drive/Colab Notebooks/using a wrench videos/clipped/7 19mm Gator Grip.mp4 \n",
            "\n",
            "Downloading 20mm flare wrench | size = 29.665177 mb\n",
            "[MoviePy] >>>> Building video drive/My Drive/Colab Notebooks/using a wrench videos/clipped/20mm flare wrench.mp4\n",
            "[MoviePy] Writing audio in 20mm flare wrenchTEMP_MPY_wvf_snd.mp3\n"
          ]
        },
        {
          "metadata": {
            "tags": null
          },
          "name": "stderr",
          "output_type": "stream",
          "text": [
            "100%|██████████| 221/221 [00:00<00:00, 610.56it/s]"
          ]
        },
        {
          "metadata": {
            "tags": null
          },
          "name": "stdout",
          "output_type": "stream",
          "text": [
            "[MoviePy] Done.\n",
            "[MoviePy] Writing video drive/My Drive/Colab Notebooks/using a wrench videos/clipped/20mm flare wrench.mp4\n"
          ]
        },
        {
          "metadata": {
            "tags": null
          },
          "name": "stderr",
          "output_type": "stream",
          "text": [
            "\n",
            "100%|█████████▉| 300/301 [00:18<00:00, 15.79it/s]\n"
          ]
        },
        {
          "metadata": {
            "tags": null
          },
          "name": "stdout",
          "output_type": "stream",
          "text": [
            "[MoviePy] Done.\n",
            "[MoviePy] >>>> Video ready: drive/My Drive/Colab Notebooks/using a wrench videos/clipped/20mm flare wrench.mp4 \n",
            "\n",
            "'bitrate'\n",
            "Downloading kwik wrench | size = 19.447654 mb\n",
            "[MoviePy] >>>> Building video drive/My Drive/Colab Notebooks/using a wrench videos/clipped/kwik wrench.mp4\n",
            "[MoviePy] Writing audio in kwik wrenchTEMP_MPY_wvf_snd.mp3\n"
          ]
        },
        {
          "metadata": {
            "tags": null
          },
          "name": "stderr",
          "output_type": "stream",
          "text": [
            "100%|██████████| 221/221 [00:00<00:00, 548.36it/s]"
          ]
        },
        {
          "metadata": {
            "tags": null
          },
          "name": "stdout",
          "output_type": "stream",
          "text": [
            "[MoviePy] Done.\n",
            "[MoviePy] Writing video drive/My Drive/Colab Notebooks/using a wrench videos/clipped/kwik wrench.mp4\n"
          ]
        },
        {
          "metadata": {
            "tags": null
          },
          "name": "stderr",
          "output_type": "stream",
          "text": [
            "\n",
            "100%|█████████▉| 250/251 [00:13<00:00, 18.08it/s]\n"
          ]
        },
        {
          "metadata": {
            "tags": null
          },
          "name": "stdout",
          "output_type": "stream",
          "text": [
            "[MoviePy] Done.\n",
            "[MoviePy] >>>> Video ready: drive/My Drive/Colab Notebooks/using a wrench videos/clipped/kwik wrench.mp4 \n",
            "\n",
            "NnHX9Auke60 is unavailable\n",
            "Downloading wrench + ice | size = 2.75146 mb\n",
            "[MoviePy] >>>> Building video drive/My Drive/Colab Notebooks/using a wrench videos/clipped/wrench + ice.mp4\n",
            "[MoviePy] Writing audio in wrench + iceTEMP_MPY_wvf_snd.mp3\n"
          ]
        },
        {
          "metadata": {
            "tags": null
          },
          "name": "stderr",
          "output_type": "stream",
          "text": [
            "100%|██████████| 221/221 [00:00<00:00, 1180.47it/s]"
          ]
        },
        {
          "metadata": {
            "tags": null
          },
          "name": "stdout",
          "output_type": "stream",
          "text": [
            "[MoviePy] Done.\n",
            "[MoviePy] Writing video drive/My Drive/Colab Notebooks/using a wrench videos/clipped/wrench + ice.mp4\n"
          ]
        },
        {
          "metadata": {
            "tags": null
          },
          "name": "stderr",
          "output_type": "stream",
          "text": [
            "\n",
            "100%|██████████| 300/300 [00:01<00:00, 169.32it/s]\n"
          ]
        },
        {
          "metadata": {
            "tags": null
          },
          "name": "stdout",
          "output_type": "stream",
          "text": [
            "[MoviePy] Done.\n",
            "[MoviePy] >>>> Video ready: drive/My Drive/Colab Notebooks/using a wrench videos/clipped/wrench + ice.mp4 \n",
            "\n",
            "Downloading DIY Cone Nut Wrench   004 | size = 14.644243 mb\n",
            "[MoviePy] >>>> Building video drive/My Drive/Colab Notebooks/using a wrench videos/clipped/DIY Cone Nut Wrench   004.mp4\n",
            "[MoviePy] Writing audio in DIY Cone Nut Wrench   004TEMP_MPY_wvf_snd.mp3\n"
          ]
        },
        {
          "metadata": {
            "tags": null
          },
          "name": "stderr",
          "output_type": "stream",
          "text": [
            "100%|██████████| 221/221 [00:00<00:00, 551.07it/s]"
          ]
        },
        {
          "metadata": {
            "tags": null
          },
          "name": "stdout",
          "output_type": "stream",
          "text": [
            "[MoviePy] Done.\n",
            "[MoviePy] Writing video drive/My Drive/Colab Notebooks/using a wrench videos/clipped/DIY Cone Nut Wrench   004.mp4\n"
          ]
        },
        {
          "metadata": {
            "tags": null
          },
          "name": "stderr",
          "output_type": "stream",
          "text": [
            "\n",
            "100%|██████████| 300/300 [00:19<00:00, 15.47it/s]\n"
          ]
        },
        {
          "metadata": {
            "tags": null
          },
          "name": "stdout",
          "output_type": "stream",
          "text": [
            "[MoviePy] Done.\n",
            "[MoviePy] >>>> Video ready: drive/My Drive/Colab Notebooks/using a wrench videos/clipped/DIY Cone Nut Wrench   004.mp4 \n",
            "\n",
            "Downloading How to Use a BrassCraft® Internal Pipe Wrench | size = 5.010649 mb\n",
            "[MoviePy] >>>> Building video drive/My Drive/Colab Notebooks/using a wrench videos/clipped/How to Use a BrassCraft® Internal Pipe Wrench.mp4\n",
            "[MoviePy] Writing audio in How to Use a BrassCraft® Internal Pipe WrenchTEMP_MPY_wvf_snd.mp3\n"
          ]
        },
        {
          "metadata": {
            "tags": null
          },
          "name": "stderr",
          "output_type": "stream",
          "text": [
            " 90%|█████████ | 200/221 [00:00<00:00, 754.45it/s]\n"
          ]
        },
        {
          "metadata": {
            "tags": null
          },
          "name": "stdout",
          "output_type": "stream",
          "text": [
            "Error in file drive/My Drive/Colab Notebooks/using a wrench videos/How to Use a BrassCraft® Internal Pipe Wrench.mp4, Accessing time t=32.05-32.09 seconds, with clip duration=32 seconds, \n",
            "Downloading IRWIN - chave para tubos | size = 3.147582 mb\n",
            "[MoviePy] >>>> Building video drive/My Drive/Colab Notebooks/using a wrench videos/clipped/IRWIN - chave para tubos.mp4\n",
            "[MoviePy] Writing audio in IRWIN - chave para tubosTEMP_MPY_wvf_snd.mp3\n"
          ]
        },
        {
          "metadata": {
            "tags": null
          },
          "name": "stderr",
          "output_type": "stream",
          "text": [
            "100%|██████████| 221/221 [00:00<00:00, 592.16it/s]"
          ]
        },
        {
          "metadata": {
            "tags": null
          },
          "name": "stdout",
          "output_type": "stream",
          "text": [
            "[MoviePy] Done.\n",
            "[MoviePy] Writing video drive/My Drive/Colab Notebooks/using a wrench videos/clipped/IRWIN - chave para tubos.mp4\n"
          ]
        },
        {
          "metadata": {
            "tags": null
          },
          "name": "stderr",
          "output_type": "stream",
          "text": [
            "\n",
            "100%|██████████| 300/300 [00:01<00:00, 152.57it/s]\n"
          ]
        },
        {
          "metadata": {
            "tags": null
          },
          "name": "stdout",
          "output_type": "stream",
          "text": [
            "[MoviePy] Done.\n",
            "[MoviePy] >>>> Video ready: drive/My Drive/Colab Notebooks/using a wrench videos/clipped/IRWIN - chave para tubos.mp4 \n",
            "\n",
            "Downloading Double-Wrenching vs KNUCKLEBUDDY® | size = 20.31081 mb\n",
            "[MoviePy] >>>> Building video drive/My Drive/Colab Notebooks/using a wrench videos/clipped/Double-Wrenching vs KNUCKLEBUDDY®.mp4\n",
            "[MoviePy] Writing audio in Double-Wrenching vs KNUCKLEBUDDY®TEMP_MPY_wvf_snd.mp3\n"
          ]
        },
        {
          "metadata": {
            "tags": null
          },
          "name": "stderr",
          "output_type": "stream",
          "text": [
            "100%|██████████| 221/221 [00:00<00:00, 408.99it/s]"
          ]
        },
        {
          "metadata": {
            "tags": null
          },
          "name": "stdout",
          "output_type": "stream",
          "text": [
            "[MoviePy] Done.\n",
            "[MoviePy] Writing video drive/My Drive/Colab Notebooks/using a wrench videos/clipped/Double-Wrenching vs KNUCKLEBUDDY®.mp4\n"
          ]
        },
        {
          "metadata": {
            "tags": null
          },
          "name": "stderr",
          "output_type": "stream",
          "text": [
            "\n",
            "100%|██████████| 300/300 [00:12<00:00, 24.80it/s]\n"
          ]
        },
        {
          "metadata": {
            "tags": null
          },
          "name": "stdout",
          "output_type": "stream",
          "text": [
            "[MoviePy] Done.\n",
            "[MoviePy] >>>> Video ready: drive/My Drive/Colab Notebooks/using a wrench videos/clipped/Double-Wrenching vs KNUCKLEBUDDY®.mp4 \n",
            "\n",
            "Downloading Chicago Brand - Alden Ratchet Spanners @ UKToolbox | size = 4.750826 mb\n",
            "[MoviePy] >>>> Building video drive/My Drive/Colab Notebooks/using a wrench videos/clipped/Chicago Brand - Alden Ratchet Spanners @ UKToolbox.mp4\n",
            "[MoviePy] Writing audio in Chicago Brand - Alden Ratchet Spanners @ UKToolboxTEMP_MPY_wvf_snd.mp3\n"
          ]
        },
        {
          "metadata": {
            "tags": null
          },
          "name": "stderr",
          "output_type": "stream",
          "text": [
            " 95%|█████████▌| 211/221 [00:01<00:00, 189.27it/s]\n"
          ]
        },
        {
          "metadata": {
            "tags": null
          },
          "name": "stdout",
          "output_type": "stream",
          "text": [
            "Error in file drive/My Drive/Colab Notebooks/using a wrench videos/Chicago Brand - Alden Ratchet Spanners @ UKToolbox.mp4, Accessing time t=77.55-77.59 seconds, with clip duration=77 seconds, \n",
            "Downloading Drum Wrench use | size = 0.436528 mb\n",
            "Downloading Jonard Tools ASW Series Speed Wrenches | size = 27.008413 mb\n",
            "[MoviePy] >>>> Building video drive/My Drive/Colab Notebooks/using a wrench videos/clipped/Jonard Tools ASW Series Speed Wrenches.mp4\n",
            "[MoviePy] Writing audio in Jonard Tools ASW Series Speed WrenchesTEMP_MPY_wvf_snd.mp3\n"
          ]
        },
        {
          "metadata": {
            "tags": null
          },
          "name": "stderr",
          "output_type": "stream",
          "text": [
            "100%|██████████| 221/221 [00:00<00:00, 439.70it/s]"
          ]
        },
        {
          "metadata": {
            "tags": null
          },
          "name": "stdout",
          "output_type": "stream",
          "text": [
            "[MoviePy] Done.\n",
            "[MoviePy] Writing video drive/My Drive/Colab Notebooks/using a wrench videos/clipped/Jonard Tools ASW Series Speed Wrenches.mp4\n"
          ]
        },
        {
          "metadata": {
            "tags": null
          },
          "name": "stderr",
          "output_type": "stream",
          "text": [
            "\n",
            "100%|██████████| 300/300 [00:17<00:00, 17.03it/s]\n"
          ]
        },
        {
          "metadata": {
            "tags": null
          },
          "name": "stdout",
          "output_type": "stream",
          "text": [
            "[MoviePy] Done.\n",
            "[MoviePy] >>>> Video ready: drive/My Drive/Colab Notebooks/using a wrench videos/clipped/Jonard Tools ASW Series Speed Wrenches.mp4 \n",
            "\n",
            "Downloading High Torque Spanner Wrench Hand Tools/ New Gear Wrench | size = 7.875127 mb\n",
            "[MoviePy] >>>> Building video drive/My Drive/Colab Notebooks/using a wrench videos/clipped/High Torque Spanner Wrench Hand Tools New Gear Wrench.mp4\n",
            "[MoviePy] Writing audio in High Torque Spanner Wrench Hand Tools New Gear WrenchTEMP_MPY_wvf_snd.mp3\n"
          ]
        },
        {
          "metadata": {
            "tags": null
          },
          "name": "stderr",
          "output_type": "stream",
          "text": [
            "100%|██████████| 221/221 [00:00<00:00, 589.55it/s]"
          ]
        },
        {
          "metadata": {
            "tags": null
          },
          "name": "stdout",
          "output_type": "stream",
          "text": [
            "[MoviePy] Done.\n",
            "[MoviePy] Writing video drive/My Drive/Colab Notebooks/using a wrench videos/clipped/High Torque Spanner Wrench Hand Tools New Gear Wrench.mp4\n"
          ]
        },
        {
          "metadata": {
            "tags": null
          },
          "name": "stderr",
          "output_type": "stream",
          "text": [
            "\n",
            "100%|██████████| 300/300 [00:12<00:00, 24.85it/s]\n"
          ]
        },
        {
          "metadata": {
            "tags": null
          },
          "name": "stdout",
          "output_type": "stream",
          "text": [
            "[MoviePy] Done.\n",
            "[MoviePy] >>>> Video ready: drive/My Drive/Colab Notebooks/using a wrench videos/clipped/High Torque Spanner Wrench Hand Tools New Gear Wrench.mp4 \n",
            "\n",
            "Downloading Tight Nut Bolts Easily | size = 2.775057 mb\n",
            "[MoviePy] >>>> Building video drive/My Drive/Colab Notebooks/using a wrench videos/clipped/Tight Nut Bolts Easily.mp4\n",
            "[MoviePy] Writing audio in Tight Nut Bolts EasilyTEMP_MPY_wvf_snd.mp3\n"
          ]
        },
        {
          "metadata": {
            "tags": null
          },
          "name": "stderr",
          "output_type": "stream",
          "text": [
            "100%|██████████| 221/221 [00:00<00:00, 442.77it/s]"
          ]
        },
        {
          "metadata": {
            "tags": null
          },
          "name": "stdout",
          "output_type": "stream",
          "text": [
            "[MoviePy] Done.\n",
            "[MoviePy] Writing video drive/My Drive/Colab Notebooks/using a wrench videos/clipped/Tight Nut Bolts Easily.mp4\n"
          ]
        },
        {
          "metadata": {
            "tags": null
          },
          "name": "stderr",
          "output_type": "stream",
          "text": [
            "\n",
            "100%|█████████▉| 300/301 [00:01<00:00, 158.97it/s]\n"
          ]
        },
        {
          "metadata": {
            "tags": null
          },
          "name": "stdout",
          "output_type": "stream",
          "text": [
            "[MoviePy] Done.\n",
            "[MoviePy] >>>> Video ready: drive/My Drive/Colab Notebooks/using a wrench videos/clipped/Tight Nut Bolts Easily.mp4 \n",
            "\n",
            "ORG0OKn5ed8 is unavailable\n",
            "Downloading La llave multiusos [ManoMano ES] | size = 20.139394 mb\n",
            "[MoviePy] >>>> Building video drive/My Drive/Colab Notebooks/using a wrench videos/clipped/La llave multiusos [ManoMano ES].mp4\n",
            "[MoviePy] Writing audio in La llave multiusos [ManoMano ES]TEMP_MPY_wvf_snd.mp3\n"
          ]
        },
        {
          "metadata": {
            "tags": null
          },
          "name": "stderr",
          "output_type": "stream",
          "text": [
            "100%|██████████| 221/221 [00:00<00:00, 469.10it/s]"
          ]
        },
        {
          "metadata": {
            "tags": null
          },
          "name": "stdout",
          "output_type": "stream",
          "text": [
            "[MoviePy] Done.\n",
            "[MoviePy] Writing video drive/My Drive/Colab Notebooks/using a wrench videos/clipped/La llave multiusos [ManoMano ES].mp4\n"
          ]
        },
        {
          "metadata": {
            "tags": null
          },
          "name": "stderr",
          "output_type": "stream",
          "text": [
            "\n",
            "100%|█████████▉| 250/251 [00:17<00:00, 14.36it/s]\n"
          ]
        },
        {
          "metadata": {
            "tags": null
          },
          "name": "stdout",
          "output_type": "stream",
          "text": [
            "[MoviePy] Done.\n",
            "[MoviePy] >>>> Video ready: drive/My Drive/Colab Notebooks/using a wrench videos/clipped/La llave multiusos [ManoMano ES].mp4 \n",
            "\n",
            "Downloading Nerrad Tools ratcheting adjustable wrench | size = 9.937654 mb\n",
            "[MoviePy] >>>> Building video drive/My Drive/Colab Notebooks/using a wrench videos/clipped/Nerrad Tools ratcheting adjustable wrench.mp4\n",
            "[MoviePy] Writing audio in Nerrad Tools ratcheting adjustable wrenchTEMP_MPY_wvf_snd.mp3\n"
          ]
        },
        {
          "metadata": {
            "tags": null
          },
          "name": "stderr",
          "output_type": "stream",
          "text": [
            "100%|██████████| 221/221 [00:00<00:00, 562.22it/s]"
          ]
        },
        {
          "metadata": {
            "tags": null
          },
          "name": "stdout",
          "output_type": "stream",
          "text": [
            "[MoviePy] Done.\n",
            "[MoviePy] Writing video drive/My Drive/Colab Notebooks/using a wrench videos/clipped/Nerrad Tools ratcheting adjustable wrench.mp4\n"
          ]
        },
        {
          "metadata": {
            "tags": null
          },
          "name": "stderr",
          "output_type": "stream",
          "text": [
            "\n",
            "100%|██████████| 240/240 [00:16<00:00, 14.26it/s]\n"
          ]
        },
        {
          "metadata": {
            "tags": null
          },
          "name": "stdout",
          "output_type": "stream",
          "text": [
            "[MoviePy] Done.\n",
            "[MoviePy] >>>> Video ready: drive/My Drive/Colab Notebooks/using a wrench videos/clipped/Nerrad Tools ratcheting adjustable wrench.mp4 \n",
            "\n",
            "Downloading The Wrench Connection | size = 24.297512 mb\n",
            "[MoviePy] >>>> Building video drive/My Drive/Colab Notebooks/using a wrench videos/clipped/The Wrench Connection.mp4\n",
            "[MoviePy] Writing audio in The Wrench ConnectionTEMP_MPY_wvf_snd.mp3\n"
          ]
        },
        {
          "metadata": {
            "tags": null
          },
          "name": "stderr",
          "output_type": "stream",
          "text": [
            "100%|██████████| 221/221 [00:00<00:00, 754.32it/s]"
          ]
        },
        {
          "metadata": {
            "tags": null
          },
          "name": "stdout",
          "output_type": "stream",
          "text": [
            "[MoviePy] Done.\n"
          ]
        },
        {
          "metadata": {
            "tags": null
          },
          "name": "stderr",
          "output_type": "stream",
          "text": [
            "\n"
          ]
        },
        {
          "metadata": {
            "tags": null
          },
          "name": "stdout",
          "output_type": "stream",
          "text": [
            "[MoviePy] Writing video drive/My Drive/Colab Notebooks/using a wrench videos/clipped/The Wrench Connection.mp4\n"
          ]
        },
        {
          "metadata": {
            "tags": null
          },
          "name": "stderr",
          "output_type": "stream",
          "text": [
            "100%|██████████| 300/300 [00:13<00:00, 21.65it/s]\n"
          ]
        },
        {
          "metadata": {
            "tags": null
          },
          "name": "stdout",
          "output_type": "stream",
          "text": [
            "[MoviePy] Done.\n",
            "[MoviePy] >>>> Video ready: drive/My Drive/Colab Notebooks/using a wrench videos/clipped/The Wrench Connection.mp4 \n",
            "\n",
            "Downloading The Bionic 14-in-1 Adjustable Wrench on QVC | size = 75.171961 mb\n",
            "[MoviePy] >>>> Building video drive/My Drive/Colab Notebooks/using a wrench videos/clipped/The Bionic 14-in-1 Adjustable Wrench on QVC.mp4\n",
            "[MoviePy] Writing audio in The Bionic 14-in-1 Adjustable Wrench on QVCTEMP_MPY_wvf_snd.mp3\n"
          ]
        },
        {
          "metadata": {
            "tags": null
          },
          "name": "stderr",
          "output_type": "stream",
          "text": [
            "100%|██████████| 221/221 [00:00<00:00, 579.61it/s]"
          ]
        },
        {
          "metadata": {
            "tags": null
          },
          "name": "stdout",
          "output_type": "stream",
          "text": [
            "[MoviePy] Done.\n",
            "[MoviePy] Writing video drive/My Drive/Colab Notebooks/using a wrench videos/clipped/The Bionic 14-in-1 Adjustable Wrench on QVC.mp4\n"
          ]
        },
        {
          "metadata": {
            "tags": null
          },
          "name": "stderr",
          "output_type": "stream",
          "text": [
            "\n",
            "100%|██████████| 300/300 [00:15<00:00, 19.83it/s]\n"
          ]
        },
        {
          "metadata": {
            "tags": null
          },
          "name": "stdout",
          "output_type": "stream",
          "text": [
            "[MoviePy] Done.\n",
            "[MoviePy] >>>> Video ready: drive/My Drive/Colab Notebooks/using a wrench videos/clipped/The Bionic 14-in-1 Adjustable Wrench on QVC.mp4 \n",
            "\n",
            "Downloading Bolt Sizing | size = 132.317335 mb\n",
            "[MoviePy] >>>> Building video drive/My Drive/Colab Notebooks/using a wrench videos/clipped/Bolt Sizing.mp4\n",
            "[MoviePy] Writing audio in Bolt SizingTEMP_MPY_wvf_snd.mp3\n"
          ]
        },
        {
          "metadata": {
            "tags": null
          },
          "name": "stderr",
          "output_type": "stream",
          "text": [
            "100%|██████████| 221/221 [00:00<00:00, 383.46it/s]"
          ]
        },
        {
          "metadata": {
            "tags": null
          },
          "name": "stdout",
          "output_type": "stream",
          "text": [
            "[MoviePy] Done.\n",
            "[MoviePy] Writing video drive/My Drive/Colab Notebooks/using a wrench videos/clipped/Bolt Sizing.mp4\n"
          ]
        },
        {
          "metadata": {
            "tags": null
          },
          "name": "stderr",
          "output_type": "stream",
          "text": [
            "\n",
            "100%|██████████| 300/300 [00:16<00:00, 17.97it/s]\n"
          ]
        },
        {
          "metadata": {
            "tags": null
          },
          "name": "stdout",
          "output_type": "stream",
          "text": [
            "[MoviePy] Done.\n",
            "[MoviePy] >>>> Video ready: drive/My Drive/Colab Notebooks/using a wrench videos/clipped/Bolt Sizing.mp4 \n",
            "\n",
            "OoDdT9Wkb0g is unavailable\n",
            "Downloading Wrenchouse Valve Wrench | size = 1.448566 mb\n",
            "[MoviePy] >>>> Building video drive/My Drive/Colab Notebooks/using a wrench videos/clipped/Wrenchouse Valve Wrench.mp4\n",
            "[MoviePy] Writing audio in Wrenchouse Valve WrenchTEMP_MPY_wvf_snd.mp3\n"
          ]
        },
        {
          "metadata": {
            "tags": null
          },
          "name": "stderr",
          "output_type": "stream",
          "text": [
            " 91%|█████████ | 201/221 [00:00<00:00, 666.49it/s]\n"
          ]
        },
        {
          "metadata": {
            "tags": null
          },
          "name": "stdout",
          "output_type": "stream",
          "text": [
            "Error in file drive/My Drive/Colab Notebooks/using a wrench videos/Wrenchouse Valve Wrench.mp4, Accessing time t=26.10-26.14 seconds, with clip duration=26 seconds, \n",
            "Downloading Multi Tool Hand Tool Socket Wrench Spanner Key | size = 10.946829 mb\n",
            "[MoviePy] >>>> Building video drive/My Drive/Colab Notebooks/using a wrench videos/clipped/Multi Tool Hand Tool Socket Wrench Spanner Key.mp4\n",
            "[MoviePy] Writing audio in Multi Tool Hand Tool Socket Wrench Spanner KeyTEMP_MPY_wvf_snd.mp3\n"
          ]
        },
        {
          "metadata": {
            "tags": null
          },
          "name": "stderr",
          "output_type": "stream",
          "text": [
            "100%|██████████| 221/221 [00:00<00:00, 488.75it/s]"
          ]
        },
        {
          "metadata": {
            "tags": null
          },
          "name": "stdout",
          "output_type": "stream",
          "text": [
            "[MoviePy] Done.\n",
            "[MoviePy] Writing video drive/My Drive/Colab Notebooks/using a wrench videos/clipped/Multi Tool Hand Tool Socket Wrench Spanner Key.mp4\n"
          ]
        },
        {
          "metadata": {
            "tags": null
          },
          "name": "stderr",
          "output_type": "stream",
          "text": [
            "\n",
            "100%|██████████| 300/300 [00:10<00:00, 27.87it/s]\n"
          ]
        },
        {
          "metadata": {
            "tags": null
          },
          "name": "stdout",
          "output_type": "stream",
          "text": [
            "[MoviePy] Done.\n",
            "[MoviePy] >>>> Video ready: drive/My Drive/Colab Notebooks/using a wrench videos/clipped/Multi Tool Hand Tool Socket Wrench Spanner Key.mp4 \n",
            "\n",
            "Downloading Xceleracer | size = 15.527494 mb\n",
            "[MoviePy] >>>> Building video drive/My Drive/Colab Notebooks/using a wrench videos/clipped/Xceleracer.mp4\n",
            "[MoviePy] Writing audio in XceleracerTEMP_MPY_wvf_snd.mp3\n"
          ]
        },
        {
          "metadata": {
            "tags": null
          },
          "name": "stderr",
          "output_type": "stream",
          "text": [
            "100%|██████████| 221/221 [00:00<00:00, 478.28it/s]"
          ]
        },
        {
          "metadata": {
            "tags": null
          },
          "name": "stdout",
          "output_type": "stream",
          "text": [
            "[MoviePy] Done.\n",
            "[MoviePy] Writing video drive/My Drive/Colab Notebooks/using a wrench videos/clipped/Xceleracer.mp4\n"
          ]
        },
        {
          "metadata": {
            "tags": null
          },
          "name": "stderr",
          "output_type": "stream",
          "text": [
            "\n",
            "100%|██████████| 300/300 [00:04<00:00, 74.14it/s]\n"
          ]
        },
        {
          "metadata": {
            "tags": null
          },
          "name": "stdout",
          "output_type": "stream",
          "text": [
            "[MoviePy] Done.\n",
            "[MoviePy] >>>> Video ready: drive/My Drive/Colab Notebooks/using a wrench videos/clipped/Xceleracer.mp4 \n",
            "\n",
            "Downloading Wrench | size = 13.06365 mb\n",
            "[MoviePy] >>>> Building video drive/My Drive/Colab Notebooks/using a wrench videos/clipped/Wrench.mp4\n",
            "[MoviePy] Writing audio in WrenchTEMP_MPY_wvf_snd.mp3\n"
          ]
        },
        {
          "metadata": {
            "tags": null
          },
          "name": "stderr",
          "output_type": "stream",
          "text": [
            "100%|██████████| 221/221 [00:00<00:00, 456.67it/s]"
          ]
        },
        {
          "metadata": {
            "tags": null
          },
          "name": "stdout",
          "output_type": "stream",
          "text": [
            "[MoviePy] Done.\n",
            "[MoviePy] Writing video drive/My Drive/Colab Notebooks/using a wrench videos/clipped/Wrench.mp4\n"
          ]
        },
        {
          "metadata": {
            "tags": null
          },
          "name": "stderr",
          "output_type": "stream",
          "text": [
            "\n",
            "100%|██████████| 300/300 [00:18<00:00, 16.41it/s]\n"
          ]
        },
        {
          "metadata": {
            "tags": null
          },
          "name": "stdout",
          "output_type": "stream",
          "text": [
            "[MoviePy] Done.\n",
            "[MoviePy] >>>> Video ready: drive/My Drive/Colab Notebooks/using a wrench videos/clipped/Wrench.mp4 \n",
            "\n",
            "Downloading Wrench Kit (1983 Commercial) | size = 20.277472 mb\n",
            "[MoviePy] >>>> Building video drive/My Drive/Colab Notebooks/using a wrench videos/clipped/Wrench Kit (1983 Commercial).mp4\n",
            "[MoviePy] Writing audio in Wrench Kit (1983 Commercial)TEMP_MPY_wvf_snd.mp3\n"
          ]
        },
        {
          "metadata": {
            "tags": null
          },
          "name": "stderr",
          "output_type": "stream",
          "text": [
            "100%|██████████| 221/221 [00:00<00:00, 546.13it/s]"
          ]
        },
        {
          "metadata": {
            "tags": null
          },
          "name": "stdout",
          "output_type": "stream",
          "text": [
            "[MoviePy] Done.\n",
            "[MoviePy] Writing video drive/My Drive/Colab Notebooks/using a wrench videos/clipped/Wrench Kit (1983 Commercial).mp4\n"
          ]
        },
        {
          "metadata": {
            "tags": null
          },
          "name": "stderr",
          "output_type": "stream",
          "text": [
            "\n",
            "100%|██████████| 300/300 [00:17<00:00, 17.11it/s]\n"
          ]
        },
        {
          "metadata": {
            "tags": null
          },
          "name": "stdout",
          "output_type": "stream",
          "text": [
            "[MoviePy] Done.\n",
            "[MoviePy] >>>> Video ready: drive/My Drive/Colab Notebooks/using a wrench videos/clipped/Wrench Kit (1983 Commercial).mp4 \n",
            "\n",
            "Downloading Spanner Plus - EPHub.my | size = 9.556872 mb\n",
            "[MoviePy] >>>> Building video drive/My Drive/Colab Notebooks/using a wrench videos/clipped/Spanner Plus - EPHub.my.mp4\n",
            "[MoviePy] Writing audio in Spanner Plus - EPHub.myTEMP_MPY_wvf_snd.mp3\n"
          ]
        },
        {
          "metadata": {
            "tags": null
          },
          "name": "stderr",
          "output_type": "stream",
          "text": [
            "100%|██████████| 221/221 [00:00<00:00, 509.28it/s]"
          ]
        },
        {
          "metadata": {
            "tags": null
          },
          "name": "stdout",
          "output_type": "stream",
          "text": [
            "[MoviePy] Done.\n",
            "[MoviePy] Writing video drive/My Drive/Colab Notebooks/using a wrench videos/clipped/Spanner Plus - EPHub.my.mp4\n"
          ]
        },
        {
          "metadata": {
            "tags": null
          },
          "name": "stderr",
          "output_type": "stream",
          "text": [
            "\n",
            "100%|██████████| 300/300 [00:16<00:00, 18.48it/s]\n"
          ]
        },
        {
          "metadata": {
            "tags": null
          },
          "name": "stdout",
          "output_type": "stream",
          "text": [
            "[MoviePy] Done.\n",
            "[MoviePy] >>>> Video ready: drive/My Drive/Colab Notebooks/using a wrench videos/clipped/Spanner Plus - EPHub.my.mp4 \n",
            "\n",
            "Downloading How to use a torque multiplier | size = 9.483512 mb\n",
            "[MoviePy] >>>> Building video drive/My Drive/Colab Notebooks/using a wrench videos/clipped/How to use a torque multiplier.mp4\n",
            "[MoviePy] Writing audio in How to use a torque multiplierTEMP_MPY_wvf_snd.mp3\n"
          ]
        },
        {
          "metadata": {
            "tags": null
          },
          "name": "stderr",
          "output_type": "stream",
          "text": [
            "100%|██████████| 221/221 [00:00<00:00, 554.85it/s]\n"
          ]
        },
        {
          "metadata": {
            "tags": null
          },
          "name": "stdout",
          "output_type": "stream",
          "text": [
            "[MoviePy] Done.\n",
            "[MoviePy] Writing video drive/My Drive/Colab Notebooks/using a wrench videos/clipped/How to use a torque multiplier.mp4\n"
          ]
        },
        {
          "metadata": {
            "tags": null
          },
          "name": "stderr",
          "output_type": "stream",
          "text": [
            "100%|█████████▉| 250/251 [00:02<00:00, 83.35it/s]\n"
          ]
        },
        {
          "metadata": {
            "tags": null
          },
          "name": "stdout",
          "output_type": "stream",
          "text": [
            "[MoviePy] Done.\n",
            "[MoviePy] >>>> Video ready: drive/My Drive/Colab Notebooks/using a wrench videos/clipped/How to use a torque multiplier.mp4 \n",
            "\n",
            "Downloading Bovidix Interchangeable Gear Wrench Set | size = 17.683962 mb\n",
            "[MoviePy] >>>> Building video drive/My Drive/Colab Notebooks/using a wrench videos/clipped/Bovidix Interchangeable Gear Wrench Set.mp4\n",
            "[MoviePy] Writing audio in Bovidix Interchangeable Gear Wrench SetTEMP_MPY_wvf_snd.mp3\n"
          ]
        },
        {
          "metadata": {
            "tags": null
          },
          "name": "stderr",
          "output_type": "stream",
          "text": [
            "100%|██████████| 221/221 [00:00<00:00, 494.79it/s]"
          ]
        },
        {
          "metadata": {
            "tags": null
          },
          "name": "stdout",
          "output_type": "stream",
          "text": [
            "[MoviePy] Done.\n",
            "[MoviePy] Writing video drive/My Drive/Colab Notebooks/using a wrench videos/clipped/Bovidix Interchangeable Gear Wrench Set.mp4\n"
          ]
        },
        {
          "metadata": {
            "tags": null
          },
          "name": "stderr",
          "output_type": "stream",
          "text": [
            "\n",
            "100%|█████████▉| 250/251 [00:15<00:00, 16.49it/s]\n"
          ]
        },
        {
          "metadata": {
            "tags": null
          },
          "name": "stdout",
          "output_type": "stream",
          "text": [
            "[MoviePy] Done.\n",
            "[MoviePy] >>>> Video ready: drive/My Drive/Colab Notebooks/using a wrench videos/clipped/Bovidix Interchangeable Gear Wrench Set.mp4 \n",
            "\n",
            "Downloading How to open bolt without fix spanner | size = 1.599178 mb\n",
            "[MoviePy] >>>> Building video drive/My Drive/Colab Notebooks/using a wrench videos/clipped/How to open bolt without fix spanner.mp4\n",
            "[MoviePy] Writing audio in How to open bolt without fix spannerTEMP_MPY_wvf_snd.mp3\n"
          ]
        },
        {
          "metadata": {
            "tags": null
          },
          "name": "stderr",
          "output_type": "stream",
          "text": [
            "100%|██████████| 221/221 [00:00<00:00, 828.93it/s]"
          ]
        },
        {
          "metadata": {
            "tags": null
          },
          "name": "stdout",
          "output_type": "stream",
          "text": [
            "[MoviePy] Done.\n",
            "[MoviePy] Writing video drive/My Drive/Colab Notebooks/using a wrench videos/clipped/How to open bolt without fix spanner.mp4\n"
          ]
        },
        {
          "metadata": {
            "tags": null
          },
          "name": "stderr",
          "output_type": "stream",
          "text": [
            "\n",
            "100%|█████████▉| 250/251 [00:01<00:00, 201.32it/s]\n"
          ]
        },
        {
          "metadata": {
            "tags": null
          },
          "name": "stdout",
          "output_type": "stream",
          "text": [
            "[MoviePy] Done.\n",
            "[MoviePy] >>>> Video ready: drive/My Drive/Colab Notebooks/using a wrench videos/clipped/How to open bolt without fix spanner.mp4 \n",
            "\n",
            "Downloading Haylee using a Socket Wrench | size = 2.329101 mb\n",
            "[MoviePy] >>>> Building video drive/My Drive/Colab Notebooks/using a wrench videos/clipped/Haylee using a Socket Wrench.mp4\n",
            "[MoviePy] Writing audio in Haylee using a Socket WrenchTEMP_MPY_wvf_snd.mp3\n"
          ]
        },
        {
          "metadata": {
            "tags": null
          },
          "name": "stderr",
          "output_type": "stream",
          "text": [
            "100%|██████████| 221/221 [00:00<00:00, 894.84it/s]"
          ]
        },
        {
          "metadata": {
            "tags": null
          },
          "name": "stdout",
          "output_type": "stream",
          "text": [
            "[MoviePy] Done.\n",
            "[MoviePy] Writing video drive/My Drive/Colab Notebooks/using a wrench videos/clipped/Haylee using a Socket Wrench.mp4\n"
          ]
        },
        {
          "metadata": {
            "tags": null
          },
          "name": "stderr",
          "output_type": "stream",
          "text": [
            "\n",
            "100%|█████████▉| 300/301 [00:01<00:00, 151.21it/s]\n"
          ]
        },
        {
          "metadata": {
            "tags": null
          },
          "name": "stdout",
          "output_type": "stream",
          "text": [
            "[MoviePy] Done.\n",
            "[MoviePy] >>>> Video ready: drive/My Drive/Colab Notebooks/using a wrench videos/clipped/Haylee using a Socket Wrench.mp4 \n",
            "\n",
            "Downloading Powerbuilt Billy Club universal lug wrench | size = 26.477451 mb\n",
            "[MoviePy] >>>> Building video drive/My Drive/Colab Notebooks/using a wrench videos/clipped/Powerbuilt Billy Club universal lug wrench.mp4\n",
            "[MoviePy] Writing audio in Powerbuilt Billy Club universal lug wrenchTEMP_MPY_wvf_snd.mp3\n"
          ]
        },
        {
          "metadata": {
            "tags": null
          },
          "name": "stderr",
          "output_type": "stream",
          "text": [
            "100%|██████████| 221/221 [00:00<00:00, 774.97it/s]"
          ]
        },
        {
          "metadata": {
            "tags": null
          },
          "name": "stdout",
          "output_type": "stream",
          "text": [
            "[MoviePy] Done.\n",
            "[MoviePy] Writing video drive/My Drive/Colab Notebooks/using a wrench videos/clipped/Powerbuilt Billy Club universal lug wrench.mp4\n"
          ]
        },
        {
          "metadata": {
            "tags": null
          },
          "name": "stderr",
          "output_type": "stream",
          "text": [
            "\n",
            "100%|█████████▉| 240/241 [00:14<00:00, 16.18it/s]\n"
          ]
        },
        {
          "metadata": {
            "tags": null
          },
          "name": "stdout",
          "output_type": "stream",
          "text": [
            "[MoviePy] Done.\n",
            "[MoviePy] >>>> Video ready: drive/My Drive/Colab Notebooks/using a wrench videos/clipped/Powerbuilt Billy Club universal lug wrench.mp4 \n",
            "\n",
            "Downloading Valve Wrench | size = 1.970255 mb\n",
            "[MoviePy] >>>> Building video drive/My Drive/Colab Notebooks/using a wrench videos/clipped/Valve Wrench.mp4\n",
            "[MoviePy] Writing audio in Valve WrenchTEMP_MPY_wvf_snd.mp3\n"
          ]
        },
        {
          "metadata": {
            "tags": null
          },
          "name": "stderr",
          "output_type": "stream",
          "text": [
            "100%|██████████| 221/221 [00:00<00:00, 556.79it/s]\n"
          ]
        },
        {
          "metadata": {
            "tags": null
          },
          "name": "stdout",
          "output_type": "stream",
          "text": [
            "[MoviePy] Done.\n",
            "[MoviePy] Writing video drive/My Drive/Colab Notebooks/using a wrench videos/clipped/Valve Wrench.mp4\n"
          ]
        },
        {
          "metadata": {
            "tags": null
          },
          "name": "stderr",
          "output_type": "stream",
          "text": [
            "100%|██████████| 300/300 [00:04<00:00, 69.26it/s]\n"
          ]
        },
        {
          "metadata": {
            "tags": null
          },
          "name": "stdout",
          "output_type": "stream",
          "text": [
            "[MoviePy] Done.\n",
            "[MoviePy] >>>> Video ready: drive/My Drive/Colab Notebooks/using a wrench videos/clipped/Valve Wrench.mp4 \n",
            "\n",
            "Downloading Small POP PROW WRENCH | size = 21.459361 mb\n",
            "[MoviePy] >>>> Building video drive/My Drive/Colab Notebooks/using a wrench videos/clipped/Small POP PROW WRENCH.mp4\n",
            "[MoviePy] Writing audio in Small POP PROW WRENCHTEMP_MPY_wvf_snd.mp3\n"
          ]
        },
        {
          "metadata": {
            "tags": null
          },
          "name": "stderr",
          "output_type": "stream",
          "text": [
            " 96%|█████████▌| 212/221 [00:00<00:00, 555.68it/s]\n"
          ]
        },
        {
          "metadata": {
            "tags": null
          },
          "name": "stdout",
          "output_type": "stream",
          "text": [
            "Error in file drive/My Drive/Colab Notebooks/using a wrench videos/Small POP PROW WRENCH.mp4, Accessing time t=344.59-344.64 seconds, with clip duration=344 seconds, \n",
            "Downloading Cómo Usar Llave de Cadena para Piñón Casetero GoVélo Bicicleta 60 fps - Xiaomi Yi | size = 10.042302 mb\n",
            "[MoviePy] >>>> Building video drive/My Drive/Colab Notebooks/using a wrench videos/clipped/Cómo Usar Llave de Cadena para Piñón Casetero GoVélo Bicicleta 60 fps - Xiaomi Yi.mp4\n",
            "[MoviePy] Writing audio in Cómo Usar Llave de Cadena para Piñón Casetero GoVélo Bicicleta 60 fps - Xiaomi YiTEMP_MPY_wvf_snd.mp3\n"
          ]
        },
        {
          "metadata": {
            "tags": null
          },
          "name": "stderr",
          "output_type": "stream",
          "text": [
            "100%|██████████| 221/221 [00:00<00:00, 543.26it/s]"
          ]
        },
        {
          "metadata": {
            "tags": null
          },
          "name": "stdout",
          "output_type": "stream",
          "text": [
            "[MoviePy] Done.\n",
            "[MoviePy] Writing video drive/My Drive/Colab Notebooks/using a wrench videos/clipped/Cómo Usar Llave de Cadena para Piñón Casetero GoVélo Bicicleta 60 fps - Xiaomi Yi.mp4\n"
          ]
        },
        {
          "metadata": {
            "tags": null
          },
          "name": "stderr",
          "output_type": "stream",
          "text": [
            "\n",
            "100%|██████████| 300/300 [00:17<00:00, 17.28it/s]\n"
          ]
        },
        {
          "metadata": {
            "tags": null
          },
          "name": "stdout",
          "output_type": "stream",
          "text": [
            "[MoviePy] Done.\n",
            "[MoviePy] >>>> Video ready: drive/My Drive/Colab Notebooks/using a wrench videos/clipped/Cómo Usar Llave de Cadena para Piñón Casetero GoVélo Bicicleta 60 fps - Xiaomi Yi.mp4 \n",
            "\n",
            "Downloading XForce Tools Line Wrench ratcheting flex flare nut wrenches | size = 14.225249 mb\n",
            "[MoviePy] >>>> Building video drive/My Drive/Colab Notebooks/using a wrench videos/clipped/XForce Tools Line Wrench ratcheting flex flare nut wrenches.mp4\n",
            "[MoviePy] Writing audio in XForce Tools Line Wrench ratcheting flex flare nut wrenchesTEMP_MPY_wvf_snd.mp3\n"
          ]
        },
        {
          "metadata": {
            "tags": null
          },
          "name": "stderr",
          "output_type": "stream",
          "text": [
            "100%|██████████| 221/221 [00:00<00:00, 574.46it/s]"
          ]
        },
        {
          "metadata": {
            "tags": null
          },
          "name": "stdout",
          "output_type": "stream",
          "text": [
            "[MoviePy] Done.\n"
          ]
        },
        {
          "metadata": {
            "tags": null
          },
          "name": "stderr",
          "output_type": "stream",
          "text": [
            "\n"
          ]
        },
        {
          "metadata": {
            "tags": null
          },
          "name": "stdout",
          "output_type": "stream",
          "text": [
            "[MoviePy] Writing video drive/My Drive/Colab Notebooks/using a wrench videos/clipped/XForce Tools Line Wrench ratcheting flex flare nut wrenches.mp4\n"
          ]
        },
        {
          "metadata": {
            "tags": null
          },
          "name": "stderr",
          "output_type": "stream",
          "text": [
            "100%|██████████| 300/300 [00:15<00:00, 18.98it/s]\n"
          ]
        },
        {
          "metadata": {
            "tags": null
          },
          "name": "stdout",
          "output_type": "stream",
          "text": [
            "[MoviePy] Done.\n",
            "[MoviePy] >>>> Video ready: drive/My Drive/Colab Notebooks/using a wrench videos/clipped/XForce Tools Line Wrench ratcheting flex flare nut wrenches.mp4 \n",
            "\n",
            "Downloading KINCROME 8 in 1 Reverse Gear Spanner | size = 18.634824 mb\n",
            "[MoviePy] >>>> Building video drive/My Drive/Colab Notebooks/using a wrench videos/clipped/KINCROME 8 in 1 Reverse Gear Spanner.mp4\n",
            "[MoviePy] Writing audio in KINCROME 8 in 1 Reverse Gear SpannerTEMP_MPY_wvf_snd.mp3\n"
          ]
        },
        {
          "metadata": {
            "tags": null
          },
          "name": "stderr",
          "output_type": "stream",
          "text": [
            "100%|██████████| 221/221 [00:00<00:00, 528.14it/s]"
          ]
        },
        {
          "metadata": {
            "tags": null
          },
          "name": "stdout",
          "output_type": "stream",
          "text": [
            "[MoviePy] Done.\n",
            "[MoviePy] Writing video drive/My Drive/Colab Notebooks/using a wrench videos/clipped/KINCROME 8 in 1 Reverse Gear Spanner.mp4\n"
          ]
        },
        {
          "metadata": {
            "tags": null
          },
          "name": "stderr",
          "output_type": "stream",
          "text": [
            "\n",
            "100%|█████████▉| 250/251 [00:13<00:00, 17.96it/s]\n"
          ]
        },
        {
          "metadata": {
            "tags": null
          },
          "name": "stdout",
          "output_type": "stream",
          "text": [
            "[MoviePy] Done.\n",
            "[MoviePy] >>>> Video ready: drive/My Drive/Colab Notebooks/using a wrench videos/clipped/KINCROME 8 in 1 Reverse Gear Spanner.mp4 \n",
            "\n",
            "Downloading hydraulic wrench | size = 7.747627 mb\n",
            "[MoviePy] >>>> Building video drive/My Drive/Colab Notebooks/using a wrench videos/clipped/hydraulic wrench.mp4\n",
            "[MoviePy] Writing audio in hydraulic wrenchTEMP_MPY_wvf_snd.mp3\n"
          ]
        },
        {
          "metadata": {
            "tags": null
          },
          "name": "stderr",
          "output_type": "stream",
          "text": [
            "100%|██████████| 221/221 [00:00<00:00, 543.96it/s]\n"
          ]
        },
        {
          "metadata": {
            "tags": null
          },
          "name": "stdout",
          "output_type": "stream",
          "text": [
            "[MoviePy] Done.\n",
            "[MoviePy] Writing video drive/My Drive/Colab Notebooks/using a wrench videos/clipped/hydraulic wrench.mp4\n"
          ]
        },
        {
          "metadata": {
            "tags": null
          },
          "name": "stderr",
          "output_type": "stream",
          "text": [
            "100%|██████████| 229/229 [00:14<00:00, 15.59it/s]\n"
          ]
        },
        {
          "metadata": {
            "tags": null
          },
          "name": "stdout",
          "output_type": "stream",
          "text": [
            "[MoviePy] Done.\n",
            "[MoviePy] >>>> Video ready: drive/My Drive/Colab Notebooks/using a wrench videos/clipped/hydraulic wrench.mp4 \n",
            "\n",
            "Downloading 48 in 1 Tiger Wrench | size = 6.981203 mb\n",
            "[MoviePy] >>>> Building video drive/My Drive/Colab Notebooks/using a wrench videos/clipped/48 in 1 Tiger Wrench.mp4\n",
            "[MoviePy] Writing audio in 48 in 1 Tiger WrenchTEMP_MPY_wvf_snd.mp3\n"
          ]
        },
        {
          "metadata": {
            "tags": null
          },
          "name": "stderr",
          "output_type": "stream",
          "text": [
            " 99%|█████████▊| 218/221 [00:00<00:00, 489.23it/s]\n"
          ]
        },
        {
          "metadata": {
            "tags": null
          },
          "name": "stdout",
          "output_type": "stream",
          "text": [
            "Error in file drive/My Drive/Colab Notebooks/using a wrench videos/48 in 1 Tiger Wrench.mp4, Accessing time t=35.86-35.91 seconds, with clip duration=35 seconds, \n",
            "Downloading Ratcheteer Adjustable 9\" Wrench | size = 7.294604 mb\n",
            "[MoviePy] >>>> Building video drive/My Drive/Colab Notebooks/using a wrench videos/clipped/Ratcheteer Adjustable 9 Wrench.mp4\n",
            "[MoviePy] Writing audio in Ratcheteer Adjustable 9 WrenchTEMP_MPY_wvf_snd.mp3\n"
          ]
        },
        {
          "metadata": {
            "tags": null
          },
          "name": "stderr",
          "output_type": "stream",
          "text": [
            "100%|██████████| 221/221 [00:00<00:00, 495.16it/s]"
          ]
        },
        {
          "metadata": {
            "tags": null
          },
          "name": "stdout",
          "output_type": "stream",
          "text": [
            "[MoviePy] Done.\n",
            "[MoviePy] Writing video drive/My Drive/Colab Notebooks/using a wrench videos/clipped/Ratcheteer Adjustable 9 Wrench.mp4\n"
          ]
        },
        {
          "metadata": {
            "tags": null
          },
          "name": "stderr",
          "output_type": "stream",
          "text": [
            "\n",
            "100%|██████████| 300/300 [00:01<00:00, 154.07it/s]\n"
          ]
        },
        {
          "metadata": {
            "tags": null
          },
          "name": "stdout",
          "output_type": "stream",
          "text": [
            "[MoviePy] Done.\n",
            "[MoviePy] >>>> Video ready: drive/My Drive/Colab Notebooks/using a wrench videos/clipped/Ratcheteer Adjustable 9 Wrench.mp4 \n",
            "\n",
            "Downloading Magical Grip  - Chave de Boca universal | size = 3.8475 mb\n",
            "[MoviePy] >>>> Building video drive/My Drive/Colab Notebooks/using a wrench videos/clipped/Magical Grip  - Chave de Boca universal.mp4\n",
            "[MoviePy] Writing audio in Magical Grip  - Chave de Boca universalTEMP_MPY_wvf_snd.mp3\n"
          ]
        },
        {
          "metadata": {
            "tags": null
          },
          "name": "stderr",
          "output_type": "stream",
          "text": [
            "100%|██████████| 221/221 [00:00<00:00, 436.08it/s]"
          ]
        },
        {
          "metadata": {
            "tags": null
          },
          "name": "stdout",
          "output_type": "stream",
          "text": [
            "[MoviePy] Done.\n",
            "[MoviePy] Writing video drive/My Drive/Colab Notebooks/using a wrench videos/clipped/Magical Grip  - Chave de Boca universal.mp4\n"
          ]
        },
        {
          "metadata": {
            "tags": null
          },
          "name": "stderr",
          "output_type": "stream",
          "text": [
            "\n",
            "100%|██████████| 300/300 [00:03<00:00, 80.49it/s]\n"
          ]
        },
        {
          "metadata": {
            "tags": null
          },
          "name": "stdout",
          "output_type": "stream",
          "text": [
            "[MoviePy] Done.\n",
            "[MoviePy] >>>> Video ready: drive/My Drive/Colab Notebooks/using a wrench videos/clipped/Magical Grip  - Chave de Boca universal.mp4 \n",
            "\n",
            "Downloading CRESCENT 3 IN 1 WRENCH SET.. | size = 256.115841 mb\n",
            "[MoviePy] >>>> Building video drive/My Drive/Colab Notebooks/using a wrench videos/clipped/CRESCENT 3 IN 1 WRENCH SET...mp4\n",
            "[MoviePy] Writing audio in CRESCENT 3 IN 1 WRENCH SET..TEMP_MPY_wvf_snd.mp3\n"
          ]
        },
        {
          "metadata": {
            "tags": null
          },
          "name": "stderr",
          "output_type": "stream",
          "text": [
            "100%|██████████| 221/221 [00:00<00:00, 417.96it/s]\n"
          ]
        },
        {
          "metadata": {
            "tags": null
          },
          "name": "stdout",
          "output_type": "stream",
          "text": [
            "[MoviePy] Done.\n",
            "[MoviePy] Writing video drive/My Drive/Colab Notebooks/using a wrench videos/clipped/CRESCENT 3 IN 1 WRENCH SET...mp4\n"
          ]
        },
        {
          "metadata": {
            "tags": null
          },
          "name": "stderr",
          "output_type": "stream",
          "text": [
            "100%|██████████| 300/300 [00:18<00:00, 16.04it/s]\n"
          ]
        },
        {
          "metadata": {
            "tags": null
          },
          "name": "stdout",
          "output_type": "stream",
          "text": [
            "[MoviePy] Done.\n",
            "[MoviePy] >>>> Video ready: drive/My Drive/Colab Notebooks/using a wrench videos/clipped/CRESCENT 3 IN 1 WRENCH SET...mp4 \n",
            "\n",
            "Downloading Simplex Ratchet Wrench Restoration... | size = 55.597152 mb\n",
            "[MoviePy] >>>> Building video drive/My Drive/Colab Notebooks/using a wrench videos/clipped/Simplex Ratchet Wrench Restoration....mp4\n",
            "[MoviePy] Writing audio in Simplex Ratchet Wrench Restoration...TEMP_MPY_wvf_snd.mp3\n"
          ]
        },
        {
          "metadata": {
            "tags": null
          },
          "name": "stderr",
          "output_type": "stream",
          "text": [
            "100%|██████████| 221/221 [00:00<00:00, 558.46it/s]"
          ]
        },
        {
          "metadata": {
            "tags": null
          },
          "name": "stdout",
          "output_type": "stream",
          "text": [
            "[MoviePy] Done.\n",
            "[MoviePy] Writing video drive/My Drive/Colab Notebooks/using a wrench videos/clipped/Simplex Ratchet Wrench Restoration....mp4\n"
          ]
        },
        {
          "metadata": {
            "tags": null
          },
          "name": "stderr",
          "output_type": "stream",
          "text": [
            "\n",
            "100%|█████████▉| 300/301 [00:20<00:00, 14.55it/s]\n"
          ]
        },
        {
          "metadata": {
            "tags": null
          },
          "name": "stdout",
          "output_type": "stream",
          "text": [
            "[MoviePy] Done.\n",
            "[MoviePy] >>>> Video ready: drive/My Drive/Colab Notebooks/using a wrench videos/clipped/Simplex Ratchet Wrench Restoration....mp4 \n",
            "\n",
            "Downloading Viral in USA - The Bionic Wrench Unique and Useful Tool | size = 1.371435 mb\n",
            "[MoviePy] >>>> Building video drive/My Drive/Colab Notebooks/using a wrench videos/clipped/Viral in USA - The Bionic Wrench Unique and Useful Tool.mp4\n",
            "[MoviePy] Writing audio in Viral in USA - The Bionic Wrench Unique and Useful ToolTEMP_MPY_wvf_snd.mp3\n"
          ]
        },
        {
          "metadata": {
            "tags": null
          },
          "name": "stderr",
          "output_type": "stream",
          "text": [
            "100%|██████████| 221/221 [00:00<00:00, 530.51it/s]"
          ]
        },
        {
          "metadata": {
            "tags": null
          },
          "name": "stdout",
          "output_type": "stream",
          "text": [
            "[MoviePy] Done.\n",
            "[MoviePy] Writing video drive/My Drive/Colab Notebooks/using a wrench videos/clipped/Viral in USA - The Bionic Wrench Unique and Useful Tool.mp4\n"
          ]
        },
        {
          "metadata": {
            "tags": null
          },
          "name": "stderr",
          "output_type": "stream",
          "text": [
            "\n",
            "100%|██████████| 300/300 [00:02<00:00, 109.00it/s]\n"
          ]
        },
        {
          "metadata": {
            "tags": null
          },
          "name": "stdout",
          "output_type": "stream",
          "text": [
            "[MoviePy] Done.\n",
            "[MoviePy] >>>> Video ready: drive/My Drive/Colab Notebooks/using a wrench videos/clipped/Viral in USA - The Bionic Wrench Unique and Useful Tool.mp4 \n",
            "\n",
            "Downloading Alternative Flare Nut Wrenches Home Made Special tools | size = 64.874569 mb\n",
            "[MoviePy] >>>> Building video drive/My Drive/Colab Notebooks/using a wrench videos/clipped/Alternative Flare Nut Wrenches Home Made Special tools.mp4\n",
            "[MoviePy] Writing audio in Alternative Flare Nut Wrenches Home Made Special toolsTEMP_MPY_wvf_snd.mp3\n"
          ]
        },
        {
          "metadata": {
            "tags": null
          },
          "name": "stderr",
          "output_type": "stream",
          "text": [
            "100%|██████████| 221/221 [00:00<00:00, 433.76it/s]"
          ]
        },
        {
          "metadata": {
            "tags": null
          },
          "name": "stdout",
          "output_type": "stream",
          "text": [
            "[MoviePy] Done.\n",
            "[MoviePy] Writing video drive/My Drive/Colab Notebooks/using a wrench videos/clipped/Alternative Flare Nut Wrenches Home Made Special tools.mp4\n"
          ]
        },
        {
          "metadata": {
            "tags": null
          },
          "name": "stderr",
          "output_type": "stream",
          "text": [
            "\n",
            "100%|██████████| 300/300 [00:22<00:00, 13.64it/s]\n"
          ]
        },
        {
          "metadata": {
            "tags": null
          },
          "name": "stdout",
          "output_type": "stream",
          "text": [
            "[MoviePy] Done.\n",
            "[MoviePy] >>>> Video ready: drive/My Drive/Colab Notebooks/using a wrench videos/clipped/Alternative Flare Nut Wrenches Home Made Special tools.mp4 \n",
            "\n",
            "Downloading Wiha Insulated Pliers Wrench | size = 4.409498 mb\n",
            "[MoviePy] >>>> Building video drive/My Drive/Colab Notebooks/using a wrench videos/clipped/Wiha Insulated Pliers Wrench.mp4\n",
            "[MoviePy] Writing audio in Wiha Insulated Pliers WrenchTEMP_MPY_wvf_snd.mp3\n"
          ]
        },
        {
          "metadata": {
            "tags": null
          },
          "name": "stderr",
          "output_type": "stream",
          "text": [
            "100%|██████████| 221/221 [00:00<00:00, 496.79it/s]"
          ]
        },
        {
          "metadata": {
            "tags": null
          },
          "name": "stdout",
          "output_type": "stream",
          "text": [
            "[MoviePy] Done.\n",
            "[MoviePy] Writing video drive/My Drive/Colab Notebooks/using a wrench videos/clipped/Wiha Insulated Pliers Wrench.mp4\n"
          ]
        },
        {
          "metadata": {
            "tags": null
          },
          "name": "stderr",
          "output_type": "stream",
          "text": [
            "\n",
            "100%|██████████| 300/300 [00:10<00:00, 29.75it/s]\n"
          ]
        },
        {
          "metadata": {
            "tags": null
          },
          "name": "stdout",
          "output_type": "stream",
          "text": [
            "[MoviePy] Done.\n",
            "[MoviePy] >>>> Video ready: drive/My Drive/Colab Notebooks/using a wrench videos/clipped/Wiha Insulated Pliers Wrench.mp4 \n",
            "\n",
            "Downloading Laser Tools self-adjusting wrench set 5963 | size = 19.867754 mb\n",
            "[MoviePy] >>>> Building video drive/My Drive/Colab Notebooks/using a wrench videos/clipped/Laser Tools self-adjusting wrench set 5963.mp4\n",
            "[MoviePy] Writing audio in Laser Tools self-adjusting wrench set 5963TEMP_MPY_wvf_snd.mp3\n"
          ]
        },
        {
          "metadata": {
            "tags": null
          },
          "name": "stderr",
          "output_type": "stream",
          "text": [
            "100%|██████████| 221/221 [00:00<00:00, 435.10it/s]\n"
          ]
        },
        {
          "metadata": {
            "tags": null
          },
          "name": "stdout",
          "output_type": "stream",
          "text": [
            "[MoviePy] Done.\n",
            "[MoviePy] Writing video drive/My Drive/Colab Notebooks/using a wrench videos/clipped/Laser Tools self-adjusting wrench set 5963.mp4\n"
          ]
        },
        {
          "metadata": {
            "tags": null
          },
          "name": "stderr",
          "output_type": "stream",
          "text": [
            "100%|█████████▉| 250/251 [00:15<00:00, 16.45it/s]\n"
          ]
        },
        {
          "metadata": {
            "tags": null
          },
          "name": "stdout",
          "output_type": "stream",
          "text": [
            "[MoviePy] Done.\n",
            "[MoviePy] >>>> Video ready: drive/My Drive/Colab Notebooks/using a wrench videos/clipped/Laser Tools self-adjusting wrench set 5963.mp4 \n",
            "\n",
            "Downloading LLAVE DE GOLPE SEGURIDAD TOTAL | size = 19.763083 mb\n",
            "[MoviePy] >>>> Building video drive/My Drive/Colab Notebooks/using a wrench videos/clipped/LLAVE DE GOLPE SEGURIDAD TOTAL.mp4\n",
            "[MoviePy] Writing audio in LLAVE DE GOLPE SEGURIDAD TOTALTEMP_MPY_wvf_snd.mp3\n"
          ]
        },
        {
          "metadata": {
            "tags": null
          },
          "name": "stderr",
          "output_type": "stream",
          "text": [
            "100%|██████████| 221/221 [00:00<00:00, 765.12it/s]"
          ]
        },
        {
          "metadata": {
            "tags": null
          },
          "name": "stdout",
          "output_type": "stream",
          "text": [
            "[MoviePy] Done.\n",
            "[MoviePy] Writing video drive/My Drive/Colab Notebooks/using a wrench videos/clipped/LLAVE DE GOLPE SEGURIDAD TOTAL.mp4\n"
          ]
        },
        {
          "metadata": {
            "tags": null
          },
          "name": "stderr",
          "output_type": "stream",
          "text": [
            "\n",
            "100%|█████████▉| 250/251 [00:18<00:00, 13.50it/s]\n"
          ]
        },
        {
          "metadata": {
            "tags": null
          },
          "name": "stdout",
          "output_type": "stream",
          "text": [
            "[MoviePy] Done.\n",
            "[MoviePy] >>>> Video ready: drive/My Drive/Colab Notebooks/using a wrench videos/clipped/LLAVE DE GOLPE SEGURIDAD TOTAL.mp4 \n",
            "\n",
            "Downloading Line Wrench by XForce® Tools | size = 10.848334 mb\n",
            "[MoviePy] >>>> Building video drive/My Drive/Colab Notebooks/using a wrench videos/clipped/Line Wrench by XForce® Tools.mp4\n",
            "[MoviePy] Writing audio in Line Wrench by XForce® ToolsTEMP_MPY_wvf_snd.mp3\n"
          ]
        },
        {
          "metadata": {
            "tags": null
          },
          "name": "stderr",
          "output_type": "stream",
          "text": [
            "100%|██████████| 221/221 [00:00<00:00, 549.45it/s]"
          ]
        },
        {
          "metadata": {
            "tags": null
          },
          "name": "stdout",
          "output_type": "stream",
          "text": [
            "[MoviePy] Done.\n",
            "[MoviePy] Writing video drive/My Drive/Colab Notebooks/using a wrench videos/clipped/Line Wrench by XForce® Tools.mp4\n"
          ]
        },
        {
          "metadata": {
            "tags": null
          },
          "name": "stderr",
          "output_type": "stream",
          "text": [
            "\n",
            "100%|██████████| 300/300 [00:16<00:00, 18.47it/s]\n"
          ]
        },
        {
          "metadata": {
            "tags": null
          },
          "name": "stdout",
          "output_type": "stream",
          "text": [
            "[MoviePy] Done.\n",
            "[MoviePy] >>>> Video ready: drive/My Drive/Colab Notebooks/using a wrench videos/clipped/Line Wrench by XForce® Tools.mp4 \n",
            "\n",
            "Downloading Nerrad Tools - VB Wrench (Variable Bilateral Wrench) | size = 11.734249 mb\n",
            "[MoviePy] >>>> Building video drive/My Drive/Colab Notebooks/using a wrench videos/clipped/Nerrad Tools - VB Wrench (Variable Bilateral Wrench).mp4\n",
            "[MoviePy] Writing audio in Nerrad Tools - VB Wrench (Variable Bilateral Wrench)TEMP_MPY_wvf_snd.mp3\n"
          ]
        },
        {
          "metadata": {
            "tags": null
          },
          "name": "stderr",
          "output_type": "stream",
          "text": [
            "100%|██████████| 221/221 [00:00<00:00, 458.74it/s]"
          ]
        },
        {
          "metadata": {
            "tags": null
          },
          "name": "stdout",
          "output_type": "stream",
          "text": [
            "[MoviePy] Done.\n",
            "[MoviePy] Writing video drive/My Drive/Colab Notebooks/using a wrench videos/clipped/Nerrad Tools - VB Wrench (Variable Bilateral Wrench).mp4\n"
          ]
        },
        {
          "metadata": {
            "tags": null
          },
          "name": "stderr",
          "output_type": "stream",
          "text": [
            "\n",
            "100%|██████████| 240/240 [00:13<00:00, 18.04it/s]\n"
          ]
        },
        {
          "metadata": {
            "tags": null
          },
          "name": "stdout",
          "output_type": "stream",
          "text": [
            "[MoviePy] Done.\n",
            "[MoviePy] >>>> Video ready: drive/My Drive/Colab Notebooks/using a wrench videos/clipped/Nerrad Tools - VB Wrench (Variable Bilateral Wrench).mp4 \n",
            "\n",
            "Downloading Oil filter wrench | size = 14.022522 mb\n",
            "[MoviePy] >>>> Building video drive/My Drive/Colab Notebooks/using a wrench videos/clipped/Oil filter wrench.mp4\n",
            "[MoviePy] Writing audio in Oil filter wrenchTEMP_MPY_wvf_snd.mp3\n"
          ]
        },
        {
          "metadata": {
            "tags": null
          },
          "name": "stderr",
          "output_type": "stream",
          "text": [
            "100%|██████████| 221/221 [00:00<00:00, 748.40it/s]\n"
          ]
        },
        {
          "metadata": {
            "tags": null
          },
          "name": "stdout",
          "output_type": "stream",
          "text": [
            "[MoviePy] Done.\n",
            "[MoviePy] Writing video drive/My Drive/Colab Notebooks/using a wrench videos/clipped/Oil filter wrench.mp4\n"
          ]
        },
        {
          "metadata": {
            "tags": null
          },
          "name": "stderr",
          "output_type": "stream",
          "text": [
            "100%|█████████▉| 300/301 [00:22<00:00, 13.50it/s]\n"
          ]
        },
        {
          "metadata": {
            "tags": null
          },
          "name": "stdout",
          "output_type": "stream",
          "text": [
            "[MoviePy] Done.\n",
            "[MoviePy] >>>> Video ready: drive/My Drive/Colab Notebooks/using a wrench videos/clipped/Oil filter wrench.mp4 \n",
            "\n",
            "Downloading Ratcheting Nipple Wrench.wmv | size = 3.849999 mb\n",
            "[MoviePy] >>>> Building video drive/My Drive/Colab Notebooks/using a wrench videos/clipped/Ratcheting Nipple Wrench.wmv.mp4\n",
            "[MoviePy] Writing audio in Ratcheting Nipple Wrench.wmvTEMP_MPY_wvf_snd.mp3\n"
          ]
        },
        {
          "metadata": {
            "tags": null
          },
          "name": "stderr",
          "output_type": "stream",
          "text": [
            "100%|██████████| 221/221 [00:00<00:00, 627.97it/s]"
          ]
        },
        {
          "metadata": {
            "tags": null
          },
          "name": "stdout",
          "output_type": "stream",
          "text": [
            "[MoviePy] Done.\n",
            "[MoviePy] Writing video drive/My Drive/Colab Notebooks/using a wrench videos/clipped/Ratcheting Nipple Wrench.wmv.mp4\n"
          ]
        },
        {
          "metadata": {
            "tags": null
          },
          "name": "stderr",
          "output_type": "stream",
          "text": [
            "\n",
            "100%|██████████| 300/300 [00:03<00:00, 81.67it/s]\n"
          ]
        },
        {
          "metadata": {
            "tags": null
          },
          "name": "stdout",
          "output_type": "stream",
          "text": [
            "[MoviePy] Done.\n",
            "[MoviePy] >>>> Video ready: drive/My Drive/Colab Notebooks/using a wrench videos/clipped/Ratcheting Nipple Wrench.wmv.mp4 \n",
            "\n",
            "Downloading \"As Seen on TV\" - Grip X Pert Plus: Finally a wrench that always fits! | size = 5.992325 mb\n",
            "[MoviePy] >>>> Building video drive/My Drive/Colab Notebooks/using a wrench videos/clipped/As Seen on TV - Grip X Pert Plus Finally a wrench that always fits!.mp4\n",
            "[MoviePy] Writing audio in As Seen on TV - Grip X Pert Plus Finally a wrench that always fits!TEMP_MPY_wvf_snd.mp3\n"
          ]
        },
        {
          "metadata": {
            "tags": null
          },
          "name": "stderr",
          "output_type": "stream",
          "text": [
            "100%|██████████| 221/221 [00:00<00:00, 610.62it/s]"
          ]
        },
        {
          "metadata": {
            "tags": null
          },
          "name": "stdout",
          "output_type": "stream",
          "text": [
            "[MoviePy] Done.\n",
            "[MoviePy] Writing video drive/My Drive/Colab Notebooks/using a wrench videos/clipped/As Seen on TV - Grip X Pert Plus Finally a wrench that always fits!.mp4\n"
          ]
        },
        {
          "metadata": {
            "tags": null
          },
          "name": "stderr",
          "output_type": "stream",
          "text": [
            "\n",
            "100%|█████████▉| 300/301 [00:02<00:00, 100.59it/s]\n"
          ]
        },
        {
          "metadata": {
            "tags": null
          },
          "name": "stdout",
          "output_type": "stream",
          "text": [
            "[MoviePy] Done.\n",
            "[MoviePy] >>>> Video ready: drive/My Drive/Colab Notebooks/using a wrench videos/clipped/As Seen on TV - Grip X Pert Plus Finally a wrench that always fits!.mp4 \n",
            "\n",
            "Downloading Toolspecial | Tite-Reach | size = 4.739809 mb\n",
            "[MoviePy] >>>> Building video drive/My Drive/Colab Notebooks/using a wrench videos/clipped/Toolspecial  Tite-Reach.mp4\n",
            "[MoviePy] Writing audio in Toolspecial  Tite-ReachTEMP_MPY_wvf_snd.mp3\n"
          ]
        },
        {
          "metadata": {
            "tags": null
          },
          "name": "stderr",
          "output_type": "stream",
          "text": [
            "100%|██████████| 221/221 [00:00<00:00, 595.06it/s]"
          ]
        },
        {
          "metadata": {
            "tags": null
          },
          "name": "stdout",
          "output_type": "stream",
          "text": [
            "[MoviePy] Done.\n",
            "[MoviePy] Writing video drive/My Drive/Colab Notebooks/using a wrench videos/clipped/Toolspecial  Tite-Reach.mp4\n"
          ]
        },
        {
          "metadata": {
            "tags": null
          },
          "name": "stderr",
          "output_type": "stream",
          "text": [
            "\n",
            "100%|█████████▉| 250/251 [00:09<00:00, 25.90it/s]\n"
          ]
        },
        {
          "metadata": {
            "tags": null
          },
          "name": "stdout",
          "output_type": "stream",
          "text": [
            "[MoviePy] Done.\n",
            "[MoviePy] >>>> Video ready: drive/My Drive/Colab Notebooks/using a wrench videos/clipped/Toolspecial  Tite-Reach.mp4 \n",
            "\n",
            "Downloading How to use a watch case wrench, crab tool, water proof notched back | size = 10.00537 mb\n",
            "[MoviePy] >>>> Building video drive/My Drive/Colab Notebooks/using a wrench videos/clipped/How to use a watch case wrench, crab tool, water proof notched back.mp4\n",
            "[MoviePy] Writing audio in How to use a watch case wrench, crab tool, water proof notched backTEMP_MPY_wvf_snd.mp3\n"
          ]
        },
        {
          "metadata": {
            "tags": null
          },
          "name": "stderr",
          "output_type": "stream",
          "text": [
            "100%|██████████| 221/221 [00:00<00:00, 473.24it/s]"
          ]
        },
        {
          "metadata": {
            "tags": null
          },
          "name": "stdout",
          "output_type": "stream",
          "text": [
            "[MoviePy] Done.\n",
            "[MoviePy] Writing video drive/My Drive/Colab Notebooks/using a wrench videos/clipped/How to use a watch case wrench, crab tool, water proof notched back.mp4\n"
          ]
        },
        {
          "metadata": {
            "tags": null
          },
          "name": "stderr",
          "output_type": "stream",
          "text": [
            "\n",
            "100%|██████████| 240/240 [00:13<00:00, 17.70it/s]\n"
          ]
        },
        {
          "metadata": {
            "tags": null
          },
          "name": "stdout",
          "output_type": "stream",
          "text": [
            "[MoviePy] Done.\n",
            "[MoviePy] >>>> Video ready: drive/My Drive/Colab Notebooks/using a wrench videos/clipped/How to use a watch case wrench, crab tool, water proof notched back.mp4 \n",
            "\n",
            "Downloading Ammu - Drum Plug Wrench , Drum bung wrench | size = 6.571069 mb\n",
            "[MoviePy] >>>> Building video drive/My Drive/Colab Notebooks/using a wrench videos/clipped/Ammu - Drum Plug Wrench , Drum bung wrench.mp4\n",
            "[MoviePy] Writing audio in Ammu - Drum Plug Wrench , Drum bung wrenchTEMP_MPY_wvf_snd.mp3\n"
          ]
        },
        {
          "metadata": {
            "tags": null
          },
          "name": "stderr",
          "output_type": "stream",
          "text": [
            " 95%|█████████▌| 211/221 [00:00<00:00, 1091.67it/s]\n"
          ]
        },
        {
          "metadata": {
            "tags": null
          },
          "name": "stdout",
          "output_type": "stream",
          "text": [
            "Error in file drive/My Drive/Colab Notebooks/using a wrench videos/Ammu - Drum Plug Wrench , Drum bung wrench.mp4, Accessing time t=30.55-30.59 seconds, with clip duration=30 seconds, \n",
            "Downloading Torin Magnetic Screwdriver Holder | size = 15.750169 mb\n",
            "[MoviePy] >>>> Building video drive/My Drive/Colab Notebooks/using a wrench videos/clipped/Torin Magnetic Screwdriver Holder.mp4\n",
            "[MoviePy] Writing audio in Torin Magnetic Screwdriver HolderTEMP_MPY_wvf_snd.mp3\n"
          ]
        },
        {
          "metadata": {
            "tags": null
          },
          "name": "stderr",
          "output_type": "stream",
          "text": [
            "100%|██████████| 221/221 [00:00<00:00, 503.55it/s]"
          ]
        },
        {
          "metadata": {
            "tags": null
          },
          "name": "stdout",
          "output_type": "stream",
          "text": [
            "[MoviePy] Done.\n",
            "[MoviePy] Writing video drive/My Drive/Colab Notebooks/using a wrench videos/clipped/Torin Magnetic Screwdriver Holder.mp4\n"
          ]
        },
        {
          "metadata": {
            "tags": null
          },
          "name": "stderr",
          "output_type": "stream",
          "text": [
            "\n",
            "100%|██████████| 240/240 [00:14<00:00, 16.78it/s]\n"
          ]
        },
        {
          "metadata": {
            "tags": null
          },
          "name": "stdout",
          "output_type": "stream",
          "text": [
            "[MoviePy] Done.\n",
            "[MoviePy] >>>> Video ready: drive/My Drive/Colab Notebooks/using a wrench videos/clipped/Torin Magnetic Screwdriver Holder.mp4 \n",
            "\n",
            "Downloading Kobalt Rapid Adjustable Wrench | size = 64.803707 mb\n",
            "[MoviePy] >>>> Building video drive/My Drive/Colab Notebooks/using a wrench videos/clipped/Kobalt Rapid Adjustable Wrench.mp4\n",
            "[MoviePy] Writing audio in Kobalt Rapid Adjustable WrenchTEMP_MPY_wvf_snd.mp3\n"
          ]
        },
        {
          "metadata": {
            "tags": null
          },
          "name": "stderr",
          "output_type": "stream",
          "text": [
            "100%|██████████| 221/221 [00:00<00:00, 540.53it/s]"
          ]
        },
        {
          "metadata": {
            "tags": null
          },
          "name": "stdout",
          "output_type": "stream",
          "text": [
            "[MoviePy] Done.\n",
            "[MoviePy] Writing video drive/My Drive/Colab Notebooks/using a wrench videos/clipped/Kobalt Rapid Adjustable Wrench.mp4\n"
          ]
        },
        {
          "metadata": {
            "tags": null
          },
          "name": "stderr",
          "output_type": "stream",
          "text": [
            "\n",
            "100%|██████████| 300/300 [00:23<00:00, 12.96it/s]\n"
          ]
        },
        {
          "metadata": {
            "tags": null
          },
          "name": "stdout",
          "output_type": "stream",
          "text": [
            "[MoviePy] Done.\n",
            "[MoviePy] >>>> Video ready: drive/My Drive/Colab Notebooks/using a wrench videos/clipped/Kobalt Rapid Adjustable Wrench.mp4 \n",
            "\n",
            "Downloading 日竑 Flare Nut Spanner Ratcheting | size = 10.871297 mb\n",
            "[MoviePy] >>>> Building video drive/My Drive/Colab Notebooks/using a wrench videos/clipped/日竑 Flare Nut Spanner Ratcheting.mp4\n",
            "[MoviePy] Writing audio in 日竑 Flare Nut Spanner RatchetingTEMP_MPY_wvf_snd.mp3\n"
          ]
        },
        {
          "metadata": {
            "tags": null
          },
          "name": "stderr",
          "output_type": "stream",
          "text": [
            "100%|██████████| 221/221 [00:00<00:00, 515.51it/s]"
          ]
        },
        {
          "metadata": {
            "tags": null
          },
          "name": "stdout",
          "output_type": "stream",
          "text": [
            "[MoviePy] Done.\n",
            "[MoviePy] Writing video drive/My Drive/Colab Notebooks/using a wrench videos/clipped/日竑 Flare Nut Spanner Ratcheting.mp4\n"
          ]
        },
        {
          "metadata": {
            "tags": null
          },
          "name": "stderr",
          "output_type": "stream",
          "text": [
            "\n",
            "100%|██████████| 300/300 [00:20<00:00, 14.80it/s]\n"
          ]
        },
        {
          "metadata": {
            "tags": null
          },
          "name": "stdout",
          "output_type": "stream",
          "text": [
            "[MoviePy] Done.\n",
            "[MoviePy] >>>> Video ready: drive/My Drive/Colab Notebooks/using a wrench videos/clipped/日竑 Flare Nut Spanner Ratcheting.mp4 \n",
            "\n",
            "Downloading Master wrench Kit | size = 6.229372 mb\n",
            "[MoviePy] >>>> Building video drive/My Drive/Colab Notebooks/using a wrench videos/clipped/Master wrench Kit.mp4\n",
            "[MoviePy] Writing audio in Master wrench KitTEMP_MPY_wvf_snd.mp3\n"
          ]
        },
        {
          "metadata": {
            "tags": null
          },
          "name": "stderr",
          "output_type": "stream",
          "text": [
            "100%|██████████| 221/221 [00:00<00:00, 448.57it/s]\n"
          ]
        },
        {
          "metadata": {
            "tags": null
          },
          "name": "stdout",
          "output_type": "stream",
          "text": [
            "[MoviePy] Done.\n",
            "[MoviePy] Writing video drive/My Drive/Colab Notebooks/using a wrench videos/clipped/Master wrench Kit.mp4\n"
          ]
        },
        {
          "metadata": {
            "tags": null
          },
          "name": "stderr",
          "output_type": "stream",
          "text": [
            "100%|█████████▉| 250/251 [00:01<00:00, 169.73it/s]\n"
          ]
        },
        {
          "metadata": {
            "tags": null
          },
          "name": "stdout",
          "output_type": "stream",
          "text": [
            "[MoviePy] Done.\n",
            "[MoviePy] >>>> Video ready: drive/My Drive/Colab Notebooks/using a wrench videos/clipped/Master wrench Kit.mp4 \n",
            "\n",
            "Downloading Magic Wrench | size = 3.395381 mb\n",
            "[MoviePy] >>>> Building video drive/My Drive/Colab Notebooks/using a wrench videos/clipped/Magic Wrench.mp4\n",
            "[MoviePy] Writing audio in Magic WrenchTEMP_MPY_wvf_snd.mp3\n"
          ]
        },
        {
          "metadata": {
            "tags": null
          },
          "name": "stderr",
          "output_type": "stream",
          "text": [
            "100%|██████████| 221/221 [00:00<00:00, 401.73it/s]"
          ]
        },
        {
          "metadata": {
            "tags": null
          },
          "name": "stdout",
          "output_type": "stream",
          "text": [
            "[MoviePy] Done.\n",
            "[MoviePy] Writing video drive/My Drive/Colab Notebooks/using a wrench videos/clipped/Magic Wrench.mp4\n"
          ]
        },
        {
          "metadata": {
            "tags": null
          },
          "name": "stderr",
          "output_type": "stream",
          "text": [
            "\n",
            "100%|█████████▉| 300/301 [00:01<00:00, 188.94it/s]\n"
          ]
        },
        {
          "metadata": {
            "tags": null
          },
          "name": "stdout",
          "output_type": "stream",
          "text": [
            "[MoviePy] Done.\n",
            "[MoviePy] >>>> Video ready: drive/My Drive/Colab Notebooks/using a wrench videos/clipped/Magic Wrench.mp4 \n",
            "\n",
            "Downloading Magna Wrench Comparison 4 | size = 1.776391 mb\n",
            "[MoviePy] >>>> Building video drive/My Drive/Colab Notebooks/using a wrench videos/clipped/Magna Wrench Comparison 4.mp4\n",
            "[MoviePy] Writing audio in Magna Wrench Comparison 4TEMP_MPY_wvf_snd.mp3\n"
          ]
        },
        {
          "metadata": {
            "tags": null
          },
          "name": "stderr",
          "output_type": "stream",
          "text": [
            "100%|██████████| 221/221 [00:00<00:00, 804.92it/s]"
          ]
        },
        {
          "metadata": {
            "tags": null
          },
          "name": "stdout",
          "output_type": "stream",
          "text": [
            "[MoviePy] Done.\n",
            "[MoviePy] Writing video drive/My Drive/Colab Notebooks/using a wrench videos/clipped/Magna Wrench Comparison 4.mp4\n"
          ]
        },
        {
          "metadata": {
            "tags": null
          },
          "name": "stderr",
          "output_type": "stream",
          "text": [
            "\n",
            "100%|██████████| 300/300 [00:02<00:00, 109.83it/s]\n"
          ]
        },
        {
          "metadata": {
            "tags": null
          },
          "name": "stdout",
          "output_type": "stream",
          "text": [
            "[MoviePy] Done.\n",
            "[MoviePy] >>>> Video ready: drive/My Drive/Colab Notebooks/using a wrench videos/clipped/Magna Wrench Comparison 4.mp4 \n",
            "\n",
            "Downloading Turning a wrench | size = 0.428463 mb\n",
            "[MoviePy] >>>> Building video drive/My Drive/Colab Notebooks/using a wrench videos/clipped/Turning a wrench.mp4\n",
            "[MoviePy] Writing audio in Turning a wrenchTEMP_MPY_wvf_snd.mp3\n"
          ]
        },
        {
          "metadata": {
            "tags": null
          },
          "name": "stderr",
          "output_type": "stream",
          "text": [
            " 95%|█████████▌| 211/221 [00:00<00:00, 834.99it/s]\n"
          ]
        },
        {
          "metadata": {
            "tags": null
          },
          "name": "stdout",
          "output_type": "stream",
          "text": [
            "Error in file drive/My Drive/Colab Notebooks/using a wrench videos/Turning a wrench.mp4, Accessing time t=10.55-10.59 seconds, with clip duration=10 seconds, \n",
            "Downloading Goods Tiger Wrench | size = 5.503403 mb\n",
            "[MoviePy] >>>> Building video drive/My Drive/Colab Notebooks/using a wrench videos/clipped/Goods Tiger Wrench.mp4\n",
            "[MoviePy] Writing audio in Goods Tiger WrenchTEMP_MPY_wvf_snd.mp3\n"
          ]
        },
        {
          "metadata": {
            "tags": null
          },
          "name": "stderr",
          "output_type": "stream",
          "text": [
            "100%|██████████| 221/221 [00:00<00:00, 448.95it/s]\n"
          ]
        },
        {
          "metadata": {
            "tags": null
          },
          "name": "stdout",
          "output_type": "stream",
          "text": [
            "[MoviePy] Done.\n",
            "[MoviePy] Writing video drive/My Drive/Colab Notebooks/using a wrench videos/clipped/Goods Tiger Wrench.mp4\n"
          ]
        },
        {
          "metadata": {
            "tags": null
          },
          "name": "stderr",
          "output_type": "stream",
          "text": [
            "100%|██████████| 240/240 [00:03<00:00, 61.80it/s]\n"
          ]
        },
        {
          "metadata": {
            "tags": null
          },
          "name": "stdout",
          "output_type": "stream",
          "text": [
            "[MoviePy] Done.\n",
            "[MoviePy] >>>> Video ready: drive/My Drive/Colab Notebooks/using a wrench videos/clipped/Goods Tiger Wrench.mp4 \n",
            "\n",
            "Downloading How to use spanner on radiator | size = 1.412332 mb\n",
            "[MoviePy] >>>> Building video drive/My Drive/Colab Notebooks/using a wrench videos/clipped/How to use spanner on radiator.mp4\n",
            "[MoviePy] Writing audio in How to use spanner on radiatorTEMP_MPY_wvf_snd.mp3\n"
          ]
        },
        {
          "metadata": {
            "tags": null
          },
          "name": "stderr",
          "output_type": "stream",
          "text": [
            " 94%|█████████▎| 207/221 [00:00<00:00, 729.71it/s]\n"
          ]
        },
        {
          "metadata": {
            "tags": null
          },
          "name": "stdout",
          "output_type": "stream",
          "text": [
            "Error in file drive/My Drive/Colab Notebooks/using a wrench videos/How to use spanner on radiator.mp4, Accessing time t=29.37-29.41 seconds, with clip duration=29 seconds, \n",
            "Downloading Kraftwerk quick-adjusting adjustable wrench 3582 | size = 18.462168 mb\n",
            "[MoviePy] >>>> Building video drive/My Drive/Colab Notebooks/using a wrench videos/clipped/Kraftwerk quick-adjusting adjustable wrench 3582.mp4\n",
            "[MoviePy] Writing audio in Kraftwerk quick-adjusting adjustable wrench 3582TEMP_MPY_wvf_snd.mp3\n"
          ]
        },
        {
          "metadata": {
            "tags": null
          },
          "name": "stderr",
          "output_type": "stream",
          "text": [
            "100%|██████████| 221/221 [00:00<00:00, 423.02it/s]"
          ]
        },
        {
          "metadata": {
            "tags": null
          },
          "name": "stdout",
          "output_type": "stream",
          "text": [
            "[MoviePy] Done.\n",
            "[MoviePy] Writing video drive/My Drive/Colab Notebooks/using a wrench videos/clipped/Kraftwerk quick-adjusting adjustable wrench 3582.mp4\n"
          ]
        },
        {
          "metadata": {
            "tags": null
          },
          "name": "stderr",
          "output_type": "stream",
          "text": [
            "\n",
            "100%|█████████▉| 250/251 [00:14<00:00, 17.17it/s]\n"
          ]
        },
        {
          "metadata": {
            "tags": null
          },
          "name": "stdout",
          "output_type": "stream",
          "text": [
            "[MoviePy] Done.\n",
            "[MoviePy] >>>> Video ready: drive/My Drive/Colab Notebooks/using a wrench videos/clipped/Kraftwerk quick-adjusting adjustable wrench 3582.mp4 \n",
            "\n",
            "Downloading BM Adj Wrench | size = 12.14521 mb\n",
            "[MoviePy] >>>> Building video drive/My Drive/Colab Notebooks/using a wrench videos/clipped/BM Adj Wrench.mp4\n",
            "[MoviePy] Writing audio in BM Adj WrenchTEMP_MPY_wvf_snd.mp3\n"
          ]
        },
        {
          "metadata": {
            "tags": null
          },
          "name": "stderr",
          "output_type": "stream",
          "text": [
            "100%|██████████| 221/221 [00:00<00:00, 526.44it/s]"
          ]
        },
        {
          "metadata": {
            "tags": null
          },
          "name": "stdout",
          "output_type": "stream",
          "text": [
            "[MoviePy] Done.\n",
            "[MoviePy] Writing video drive/My Drive/Colab Notebooks/using a wrench videos/clipped/BM Adj Wrench.mp4\n"
          ]
        },
        {
          "metadata": {
            "tags": null
          },
          "name": "stderr",
          "output_type": "stream",
          "text": [
            "\n",
            "100%|██████████| 300/300 [00:17<00:00, 16.93it/s]\n"
          ]
        },
        {
          "metadata": {
            "tags": null
          },
          "name": "stdout",
          "output_type": "stream",
          "text": [
            "[MoviePy] Done.\n",
            "[MoviePy] >>>> Video ready: drive/My Drive/Colab Notebooks/using a wrench videos/clipped/BM Adj Wrench.mp4 \n",
            "\n",
            "Downloading Wrenches & Ratchets Buying Guide From Canadian Tire | size = 15.232156 mb\n",
            "[MoviePy] >>>> Building video drive/My Drive/Colab Notebooks/using a wrench videos/clipped/Wrenches & Ratchets Buying Guide From Canadian Tire.mp4\n",
            "[MoviePy] Writing audio in Wrenches & Ratchets Buying Guide From Canadian TireTEMP_MPY_wvf_snd.mp3\n"
          ]
        },
        {
          "metadata": {
            "tags": null
          },
          "name": "stderr",
          "output_type": "stream",
          "text": [
            "100%|██████████| 221/221 [00:00<00:00, 438.46it/s]"
          ]
        },
        {
          "metadata": {
            "tags": null
          },
          "name": "stdout",
          "output_type": "stream",
          "text": [
            "[MoviePy] Done.\n",
            "[MoviePy] Writing video drive/My Drive/Colab Notebooks/using a wrench videos/clipped/Wrenches & Ratchets Buying Guide From Canadian Tire.mp4\n"
          ]
        },
        {
          "metadata": {
            "tags": null
          },
          "name": "stderr",
          "output_type": "stream",
          "text": [
            "\n",
            "100%|██████████| 300/300 [00:16<00:00, 17.85it/s]\n"
          ]
        },
        {
          "metadata": {
            "tags": null
          },
          "name": "stdout",
          "output_type": "stream",
          "text": [
            "[MoviePy] Done.\n",
            "[MoviePy] >>>> Video ready: drive/My Drive/Colab Notebooks/using a wrench videos/clipped/Wrenches & Ratchets Buying Guide From Canadian Tire.mp4 \n",
            "\n",
            "SiI4mDgHXbw is unavailable\n",
            "Downloading Big wrench at Deer Creek Station | size = 33.989333 mb\n",
            "[MoviePy] >>>> Building video drive/My Drive/Colab Notebooks/using a wrench videos/clipped/Big wrench at Deer Creek Station.mp4\n",
            "[MoviePy] Writing audio in Big wrench at Deer Creek StationTEMP_MPY_wvf_snd.mp3\n"
          ]
        },
        {
          "metadata": {
            "tags": null
          },
          "name": "stderr",
          "output_type": "stream",
          "text": [
            "100%|██████████| 221/221 [00:00<00:00, 440.96it/s]"
          ]
        },
        {
          "metadata": {
            "tags": null
          },
          "name": "stdout",
          "output_type": "stream",
          "text": [
            "[MoviePy] Done.\n"
          ]
        },
        {
          "metadata": {
            "tags": null
          },
          "name": "stderr",
          "output_type": "stream",
          "text": [
            "\n"
          ]
        },
        {
          "metadata": {
            "tags": null
          },
          "name": "stdout",
          "output_type": "stream",
          "text": [
            "[MoviePy] Writing video drive/My Drive/Colab Notebooks/using a wrench videos/clipped/Big wrench at Deer Creek Station.mp4\n"
          ]
        },
        {
          "metadata": {
            "tags": null
          },
          "name": "stderr",
          "output_type": "stream",
          "text": [
            "100%|█████████▉| 300/301 [00:21<00:00, 13.70it/s]\n"
          ]
        },
        {
          "metadata": {
            "tags": null
          },
          "name": "stdout",
          "output_type": "stream",
          "text": [
            "[MoviePy] Done.\n",
            "[MoviePy] >>>> Video ready: drive/My Drive/Colab Notebooks/using a wrench videos/clipped/Big wrench at Deer Creek Station.mp4 \n",
            "\n",
            "Downloading Multifunctional Adjustable Hexagon Open Spanner Wrench   BLACK | size = 0.937492 mb\n",
            "[MoviePy] >>>> Building video drive/My Drive/Colab Notebooks/using a wrench videos/clipped/Multifunctional Adjustable Hexagon Open Spanner Wrench   BLACK.mp4\n",
            "[MoviePy] Writing audio in Multifunctional Adjustable Hexagon Open Spanner Wrench   BLACKTEMP_MPY_wvf_snd.mp3\n"
          ]
        },
        {
          "metadata": {
            "tags": null
          },
          "name": "stderr",
          "output_type": "stream",
          "text": [
            "100%|██████████| 221/221 [00:00<00:00, 534.65it/s]"
          ]
        },
        {
          "metadata": {
            "tags": null
          },
          "name": "stdout",
          "output_type": "stream",
          "text": [
            "[MoviePy] Done.\n",
            "[MoviePy] Writing video drive/My Drive/Colab Notebooks/using a wrench videos/clipped/Multifunctional Adjustable Hexagon Open Spanner Wrench   BLACK.mp4\n"
          ]
        },
        {
          "metadata": {
            "tags": null
          },
          "name": "stderr",
          "output_type": "stream",
          "text": [
            "\n",
            "100%|█████████▉| 250/251 [00:02<00:00, 107.66it/s]\n"
          ]
        },
        {
          "metadata": {
            "tags": null
          },
          "name": "stdout",
          "output_type": "stream",
          "text": [
            "[MoviePy] Done.\n",
            "[MoviePy] >>>> Video ready: drive/My Drive/Colab Notebooks/using a wrench videos/clipped/Multifunctional Adjustable Hexagon Open Spanner Wrench   BLACK.mp4 \n",
            "\n",
            "Downloading FÖRCH - JUEGO DE LLAVE DE ESTRELLA CON CARRACA Y  MICROPUNTAS. | size = 6.457462 mb\n",
            "[MoviePy] >>>> Building video drive/My Drive/Colab Notebooks/using a wrench videos/clipped/FÖRCH - JUEGO DE LLAVE DE ESTRELLA CON CARRACA Y  MICROPUNTAS..mp4\n",
            "[MoviePy] Writing audio in FÖRCH - JUEGO DE LLAVE DE ESTRELLA CON CARRACA Y  MICROPUNTAS.TEMP_MPY_wvf_snd.mp3\n"
          ]
        },
        {
          "metadata": {
            "tags": null
          },
          "name": "stderr",
          "output_type": "stream",
          "text": [
            "100%|██████████| 221/221 [00:00<00:00, 802.05it/s]"
          ]
        },
        {
          "metadata": {
            "tags": null
          },
          "name": "stdout",
          "output_type": "stream",
          "text": [
            "[MoviePy] Done.\n",
            "[MoviePy] Writing video drive/My Drive/Colab Notebooks/using a wrench videos/clipped/FÖRCH - JUEGO DE LLAVE DE ESTRELLA CON CARRACA Y  MICROPUNTAS..mp4\n"
          ]
        },
        {
          "metadata": {
            "tags": null
          },
          "name": "stderr",
          "output_type": "stream",
          "text": [
            "\n",
            "100%|█████████▉| 250/251 [00:03<00:00, 73.73it/s]\n"
          ]
        },
        {
          "metadata": {
            "tags": null
          },
          "name": "stdout",
          "output_type": "stream",
          "text": [
            "[MoviePy] Done.\n",
            "[MoviePy] >>>> Video ready: drive/My Drive/Colab Notebooks/using a wrench videos/clipped/FÖRCH - JUEGO DE LLAVE DE ESTRELLA CON CARRACA Y  MICROPUNTAS..mp4 \n",
            "\n",
            "Downloading Alden Wrench １７×１５ | size = 0.969922 mb\n",
            "[MoviePy] >>>> Building video drive/My Drive/Colab Notebooks/using a wrench videos/clipped/Alden Wrench １７×１５.mp4\n",
            "[MoviePy] Writing audio in Alden Wrench １７×１５TEMP_MPY_wvf_snd.mp3\n"
          ]
        },
        {
          "metadata": {
            "tags": null
          },
          "name": "stderr",
          "output_type": "stream",
          "text": [
            "100%|██████████| 221/221 [00:00<00:00, 785.83it/s]"
          ]
        },
        {
          "metadata": {
            "tags": null
          },
          "name": "stdout",
          "output_type": "stream",
          "text": [
            "[MoviePy] Done.\n",
            "[MoviePy] Writing video drive/My Drive/Colab Notebooks/using a wrench videos/clipped/Alden Wrench １７×１５.mp4\n"
          ]
        },
        {
          "metadata": {
            "tags": null
          },
          "name": "stderr",
          "output_type": "stream",
          "text": [
            "\n",
            "100%|█████████▉| 300/301 [00:01<00:00, 159.88it/s]\n"
          ]
        },
        {
          "metadata": {
            "tags": null
          },
          "name": "stdout",
          "output_type": "stream",
          "text": [
            "[MoviePy] Done.\n",
            "[MoviePy] >>>> Video ready: drive/My Drive/Colab Notebooks/using a wrench videos/clipped/Alden Wrench １７×１５.mp4 \n",
            "\n",
            "Downloading CRWS8SA / CRWS12MSA Open Ended Speed Wrench Set | size = 12.102638 mb\n",
            "[MoviePy] >>>> Building video drive/My Drive/Colab Notebooks/using a wrench videos/clipped/CRWS8SA  CRWS12MSA Open Ended Speed Wrench Set.mp4\n",
            "[MoviePy] Writing audio in CRWS8SA  CRWS12MSA Open Ended Speed Wrench SetTEMP_MPY_wvf_snd.mp3\n"
          ]
        },
        {
          "metadata": {
            "tags": null
          },
          "name": "stderr",
          "output_type": "stream",
          "text": [
            "100%|██████████| 221/221 [00:00<00:00, 438.94it/s]"
          ]
        },
        {
          "metadata": {
            "tags": null
          },
          "name": "stdout",
          "output_type": "stream",
          "text": [
            "[MoviePy] Done.\n"
          ]
        },
        {
          "metadata": {
            "tags": null
          },
          "name": "stderr",
          "output_type": "stream",
          "text": [
            "\n"
          ]
        },
        {
          "metadata": {
            "tags": null
          },
          "name": "stdout",
          "output_type": "stream",
          "text": [
            "[MoviePy] Writing video drive/My Drive/Colab Notebooks/using a wrench videos/clipped/CRWS8SA  CRWS12MSA Open Ended Speed Wrench Set.mp4\n"
          ]
        },
        {
          "metadata": {
            "tags": null
          },
          "name": "stderr",
          "output_type": "stream",
          "text": [
            "100%|██████████| 300/300 [00:17<00:00, 17.30it/s]\n"
          ]
        },
        {
          "metadata": {
            "tags": null
          },
          "name": "stdout",
          "output_type": "stream",
          "text": [
            "[MoviePy] Done.\n",
            "[MoviePy] >>>> Video ready: drive/My Drive/Colab Notebooks/using a wrench videos/clipped/CRWS8SA  CRWS12MSA Open Ended Speed Wrench Set.mp4 \n",
            "\n",
            "Downloading Piper BackUp Wrench | size = 3.562584 mb\n",
            "[MoviePy] >>>> Building video drive/My Drive/Colab Notebooks/using a wrench videos/clipped/Piper BackUp Wrench.mp4\n",
            "[MoviePy] Writing audio in Piper BackUp WrenchTEMP_MPY_wvf_snd.mp3\n"
          ]
        },
        {
          "metadata": {
            "tags": null
          },
          "name": "stderr",
          "output_type": "stream",
          "text": [
            "100%|██████████| 221/221 [00:00<00:00, 483.57it/s]"
          ]
        },
        {
          "metadata": {
            "tags": null
          },
          "name": "stdout",
          "output_type": "stream",
          "text": [
            "[MoviePy] Done.\n",
            "[MoviePy] Writing video drive/My Drive/Colab Notebooks/using a wrench videos/clipped/Piper BackUp Wrench.mp4\n"
          ]
        },
        {
          "metadata": {
            "tags": null
          },
          "name": "stderr",
          "output_type": "stream",
          "text": [
            "\n",
            "100%|█████████▉| 250/251 [00:01<00:00, 229.99it/s]\n"
          ]
        },
        {
          "metadata": {
            "tags": null
          },
          "name": "stdout",
          "output_type": "stream",
          "text": [
            "[MoviePy] Done.\n",
            "[MoviePy] >>>> Video ready: drive/My Drive/Colab Notebooks/using a wrench videos/clipped/Piper BackUp Wrench.mp4 \n",
            "\n",
            "Downloading 40840 - Tie Rod Adjust Wrench Set (4) - SPC Alignment | size = 11.790713 mb\n",
            "[MoviePy] >>>> Building video drive/My Drive/Colab Notebooks/using a wrench videos/clipped/40840 - Tie Rod Adjust Wrench Set (4) - SPC Alignment.mp4\n",
            "[MoviePy] Writing audio in 40840 - Tie Rod Adjust Wrench Set (4) - SPC AlignmentTEMP_MPY_wvf_snd.mp3\n"
          ]
        },
        {
          "metadata": {
            "tags": null
          },
          "name": "stderr",
          "output_type": "stream",
          "text": [
            "100%|██████████| 221/221 [00:00<00:00, 457.96it/s]"
          ]
        },
        {
          "metadata": {
            "tags": null
          },
          "name": "stdout",
          "output_type": "stream",
          "text": [
            "[MoviePy] Done.\n",
            "[MoviePy] Writing video drive/My Drive/Colab Notebooks/using a wrench videos/clipped/40840 - Tie Rod Adjust Wrench Set (4) - SPC Alignment.mp4\n"
          ]
        },
        {
          "metadata": {
            "tags": null
          },
          "name": "stderr",
          "output_type": "stream",
          "text": [
            "\n",
            "100%|██████████| 300/300 [00:14<00:00, 20.49it/s]\n"
          ]
        },
        {
          "metadata": {
            "tags": null
          },
          "name": "stdout",
          "output_type": "stream",
          "text": [
            "[MoviePy] Done.\n",
            "[MoviePy] >>>> Video ready: drive/My Drive/Colab Notebooks/using a wrench videos/clipped/40840 - Tie Rod Adjust Wrench Set (4) - SPC Alignment.mp4 \n",
            "\n",
            "TnbxpvtPKAA is unavailable\n",
            "Downloading Angle Stop Combo Wrench From Superior Tool Co. | size = 11.225341 mb\n",
            "[MoviePy] >>>> Building video drive/My Drive/Colab Notebooks/using a wrench videos/clipped/Angle Stop Combo Wrench From Superior Tool Co..mp4\n",
            "[MoviePy] Writing audio in Angle Stop Combo Wrench From Superior Tool Co.TEMP_MPY_wvf_snd.mp3\n"
          ]
        },
        {
          "metadata": {
            "tags": null
          },
          "name": "stderr",
          "output_type": "stream",
          "text": [
            "100%|██████████| 221/221 [00:00<00:00, 575.29it/s]"
          ]
        },
        {
          "metadata": {
            "tags": null
          },
          "name": "stdout",
          "output_type": "stream",
          "text": [
            "[MoviePy] Done.\n",
            "[MoviePy] Writing video drive/My Drive/Colab Notebooks/using a wrench videos/clipped/Angle Stop Combo Wrench From Superior Tool Co..mp4\n"
          ]
        },
        {
          "metadata": {
            "tags": null
          },
          "name": "stderr",
          "output_type": "stream",
          "text": [
            "\n",
            "100%|██████████| 300/300 [00:04<00:00, 62.86it/s]\n"
          ]
        },
        {
          "metadata": {
            "tags": null
          },
          "name": "stdout",
          "output_type": "stream",
          "text": [
            "[MoviePy] Done.\n",
            "[MoviePy] >>>> Video ready: drive/My Drive/Colab Notebooks/using a wrench videos/clipped/Angle Stop Combo Wrench From Superior Tool Co..mp4 \n",
            "\n",
            "Downloading Tube Spanner Kit - Plumbing Solution | size = 4.153394 mb\n",
            "[MoviePy] >>>> Building video drive/My Drive/Colab Notebooks/using a wrench videos/clipped/Tube Spanner Kit - Plumbing Solution.mp4\n",
            "[MoviePy] Writing audio in Tube Spanner Kit - Plumbing SolutionTEMP_MPY_wvf_snd.mp3\n"
          ]
        },
        {
          "metadata": {
            "tags": null
          },
          "name": "stderr",
          "output_type": "stream",
          "text": [
            "100%|██████████| 221/221 [00:00<00:00, 563.92it/s]\n"
          ]
        },
        {
          "metadata": {
            "tags": null
          },
          "name": "stdout",
          "output_type": "stream",
          "text": [
            "[MoviePy] Done.\n",
            "[MoviePy] Writing video drive/My Drive/Colab Notebooks/using a wrench videos/clipped/Tube Spanner Kit - Plumbing Solution.mp4\n"
          ]
        },
        {
          "metadata": {
            "tags": null
          },
          "name": "stderr",
          "output_type": "stream",
          "text": [
            "100%|██████████| 300/300 [00:04<00:00, 63.89it/s]\n"
          ]
        },
        {
          "metadata": {
            "tags": null
          },
          "name": "stdout",
          "output_type": "stream",
          "text": [
            "[MoviePy] Done.\n",
            "[MoviePy] >>>> Video ready: drive/My Drive/Colab Notebooks/using a wrench videos/clipped/Tube Spanner Kit - Plumbing Solution.mp4 \n",
            "\n",
            "Downloading MADI Lineman Lineman Wrench BWS 3 3 16 18 | size = 4.835165 mb\n",
            "[MoviePy] >>>> Building video drive/My Drive/Colab Notebooks/using a wrench videos/clipped/MADI Lineman Lineman Wrench BWS 3 3 16 18.mp4\n",
            "[MoviePy] Writing audio in MADI Lineman Lineman Wrench BWS 3 3 16 18TEMP_MPY_wvf_snd.mp3\n"
          ]
        },
        {
          "metadata": {
            "tags": null
          },
          "name": "stderr",
          "output_type": "stream",
          "text": [
            "100%|██████████| 221/221 [00:00<00:00, 635.65it/s]"
          ]
        },
        {
          "metadata": {
            "tags": null
          },
          "name": "stdout",
          "output_type": "stream",
          "text": [
            "[MoviePy] Done.\n",
            "[MoviePy] Writing video drive/My Drive/Colab Notebooks/using a wrench videos/clipped/MADI Lineman Lineman Wrench BWS 3 3 16 18.mp4\n"
          ]
        },
        {
          "metadata": {
            "tags": null
          },
          "name": "stderr",
          "output_type": "stream",
          "text": [
            "\n",
            "100%|██████████| 300/300 [00:07<00:00, 39.91it/s]\n"
          ]
        },
        {
          "metadata": {
            "tags": null
          },
          "name": "stdout",
          "output_type": "stream",
          "text": [
            "[MoviePy] Done.\n",
            "[MoviePy] >>>> Video ready: drive/My Drive/Colab Notebooks/using a wrench videos/clipped/MADI Lineman Lineman Wrench BWS 3 3 16 18.mp4 \n",
            "\n",
            "Downloading Hose 2   socket wrench | size = 17.755022 mb\n",
            "[MoviePy] >>>> Building video drive/My Drive/Colab Notebooks/using a wrench videos/clipped/Hose 2   socket wrench.mp4\n",
            "[MoviePy] Writing audio in Hose 2   socket wrenchTEMP_MPY_wvf_snd.mp3\n"
          ]
        },
        {
          "metadata": {
            "tags": null
          },
          "name": "stderr",
          "output_type": "stream",
          "text": [
            "100%|██████████| 221/221 [00:00<00:00, 408.58it/s]"
          ]
        },
        {
          "metadata": {
            "tags": null
          },
          "name": "stdout",
          "output_type": "stream",
          "text": [
            "[MoviePy] Done.\n",
            "[MoviePy] Writing video drive/My Drive/Colab Notebooks/using a wrench videos/clipped/Hose 2   socket wrench.mp4\n"
          ]
        },
        {
          "metadata": {
            "tags": null
          },
          "name": "stderr",
          "output_type": "stream",
          "text": [
            "\n",
            " 99%|█████████▉| 127/128 [00:08<00:00, 14.65it/s]\n"
          ]
        },
        {
          "metadata": {
            "tags": null
          },
          "name": "stdout",
          "output_type": "stream",
          "text": [
            "[MoviePy] Done.\n",
            "[MoviePy] >>>> Video ready: drive/My Drive/Colab Notebooks/using a wrench videos/clipped/Hose 2   socket wrench.mp4 \n",
            "\n",
            "Downloading Beginner blacksmith craftsman wrench bottle opener | size = 105.391407 mb\n",
            "[MoviePy] >>>> Building video drive/My Drive/Colab Notebooks/using a wrench videos/clipped/Beginner blacksmith craftsman wrench bottle opener.mp4\n",
            "[MoviePy] Writing audio in Beginner blacksmith craftsman wrench bottle openerTEMP_MPY_wvf_snd.mp3\n"
          ]
        },
        {
          "metadata": {
            "tags": null
          },
          "name": "stderr",
          "output_type": "stream",
          "text": [
            "100%|██████████| 221/221 [00:00<00:00, 400.55it/s]"
          ]
        },
        {
          "metadata": {
            "tags": null
          },
          "name": "stdout",
          "output_type": "stream",
          "text": [
            "[MoviePy] Done.\n",
            "[MoviePy] Writing video drive/My Drive/Colab Notebooks/using a wrench videos/clipped/Beginner blacksmith craftsman wrench bottle opener.mp4\n"
          ]
        },
        {
          "metadata": {
            "tags": null
          },
          "name": "stderr",
          "output_type": "stream",
          "text": [
            "\n",
            "100%|██████████| 300/300 [00:22<00:00, 13.57it/s]\n"
          ]
        },
        {
          "metadata": {
            "tags": null
          },
          "name": "stdout",
          "output_type": "stream",
          "text": [
            "[MoviePy] Done.\n",
            "[MoviePy] >>>> Video ready: drive/My Drive/Colab Notebooks/using a wrench videos/clipped/Beginner blacksmith craftsman wrench bottle opener.mp4 \n",
            "\n",
            "Downloading Spanner Wrench Yield Test | size = 13.326543 mb\n",
            "[MoviePy] >>>> Building video drive/My Drive/Colab Notebooks/using a wrench videos/clipped/Spanner Wrench Yield Test.mp4\n",
            "[MoviePy] Writing audio in Spanner Wrench Yield TestTEMP_MPY_wvf_snd.mp3\n"
          ]
        },
        {
          "metadata": {
            "tags": null
          },
          "name": "stderr",
          "output_type": "stream",
          "text": [
            "100%|██████████| 221/221 [00:00<00:00, 558.79it/s]"
          ]
        },
        {
          "metadata": {
            "tags": null
          },
          "name": "stdout",
          "output_type": "stream",
          "text": [
            "[MoviePy] Done.\n",
            "[MoviePy] Writing video drive/My Drive/Colab Notebooks/using a wrench videos/clipped/Spanner Wrench Yield Test.mp4\n"
          ]
        },
        {
          "metadata": {
            "tags": null
          },
          "name": "stderr",
          "output_type": "stream",
          "text": [
            "\n",
            "100%|██████████| 300/300 [00:16<00:00, 17.79it/s]\n"
          ]
        },
        {
          "metadata": {
            "tags": null
          },
          "name": "stdout",
          "output_type": "stream",
          "text": [
            "[MoviePy] Done.\n",
            "[MoviePy] >>>> Video ready: drive/My Drive/Colab Notebooks/using a wrench videos/clipped/Spanner Wrench Yield Test.mp4 \n",
            "\n",
            "Downloading Crescent ratcheting Shifting Spanner review | size = 32.415411 mb\n",
            "[MoviePy] >>>> Building video drive/My Drive/Colab Notebooks/using a wrench videos/clipped/Crescent ratcheting Shifting Spanner review.mp4\n",
            "[MoviePy] Writing audio in Crescent ratcheting Shifting Spanner reviewTEMP_MPY_wvf_snd.mp3\n"
          ]
        },
        {
          "metadata": {
            "tags": null
          },
          "name": "stderr",
          "output_type": "stream",
          "text": [
            "100%|██████████| 221/221 [00:00<00:00, 390.51it/s]"
          ]
        },
        {
          "metadata": {
            "tags": null
          },
          "name": "stdout",
          "output_type": "stream",
          "text": [
            "[MoviePy] Done.\n",
            "[MoviePy] Writing video drive/My Drive/Colab Notebooks/using a wrench videos/clipped/Crescent ratcheting Shifting Spanner review.mp4\n"
          ]
        },
        {
          "metadata": {
            "tags": null
          },
          "name": "stderr",
          "output_type": "stream",
          "text": [
            "\n",
            "100%|█████████▉| 250/251 [00:13<00:00, 18.12it/s]\n"
          ]
        },
        {
          "output_type": "stream",
          "name": "stdout",
          "text": [
            "[MoviePy] Done.\n",
            "[MoviePy] >>>> Video ready: drive/My Drive/Colab Notebooks/using a wrench videos/clipped/Crescent ratcheting Shifting Spanner review.mp4 \n",
            "\n",
            "Downloading Underwater Slogging Hammer | size = 11.328233 mb\n",
            "[MoviePy] >>>> Building video drive/My Drive/Colab Notebooks/using a wrench videos/clipped/Underwater Slogging Hammer.mp4\n",
            "[MoviePy] Writing audio in Underwater Slogging HammerTEMP_MPY_wvf_snd.mp3\n"
          ]
        },
        {
          "output_type": "stream",
          "name": "stderr",
          "text": [
            "100%|██████████| 221/221 [00:00<00:00, 650.16it/s]"
          ]
        },
        {
          "output_type": "stream",
          "name": "stdout",
          "text": [
            "[MoviePy] Done.\n",
            "[MoviePy] Writing video drive/My Drive/Colab Notebooks/using a wrench videos/clipped/Underwater Slogging Hammer.mp4\n"
          ]
        },
        {
          "output_type": "stream",
          "name": "stderr",
          "text": [
            "\n",
            "100%|██████████| 300/300 [00:22<00:00, 13.27it/s]\n"
          ]
        },
        {
          "output_type": "stream",
          "name": "stdout",
          "text": [
            "[MoviePy] Done.\n",
            "[MoviePy] >>>> Video ready: drive/My Drive/Colab Notebooks/using a wrench videos/clipped/Underwater Slogging Hammer.mp4 \n",
            "\n",
            "Downloading Adjustable Wrench Key Chain Ring Keyring Review from GearBest.com | size = 3.069063 mb\n",
            "[MoviePy] >>>> Building video drive/My Drive/Colab Notebooks/using a wrench videos/clipped/Adjustable Wrench Key Chain Ring Keyring Review from GearBest.com.mp4\n",
            "[MoviePy] Writing audio in Adjustable Wrench Key Chain Ring Keyring Review from GearBest.comTEMP_MPY_wvf_snd.mp3\n"
          ]
        },
        {
          "output_type": "stream",
          "name": "stderr",
          "text": [
            " 96%|█████████▋| 213/221 [00:00<00:00, 567.02it/s]\n"
          ]
        },
        {
          "output_type": "stream",
          "name": "stdout",
          "text": [
            "Error in file drive/My Drive/Colab Notebooks/using a wrench videos/Adjustable Wrench Key Chain Ring Keyring Review from GearBest.com.mp4, Accessing time t=24.64-24.68 seconds, with clip duration=24 seconds, \n",
            "Downloading WRENCH 20131213 | size = 5.03547 mb\n",
            "[MoviePy] >>>> Building video drive/My Drive/Colab Notebooks/using a wrench videos/clipped/WRENCH 20131213.mp4\n",
            "[MoviePy] Writing audio in WRENCH 20131213TEMP_MPY_wvf_snd.mp3\n"
          ]
        },
        {
          "output_type": "stream",
          "name": "stderr",
          "text": [
            "100%|██████████| 221/221 [00:00<00:00, 773.34it/s]"
          ]
        },
        {
          "output_type": "stream",
          "name": "stdout",
          "text": [
            "[MoviePy] Done.\n",
            "[MoviePy] Writing video drive/My Drive/Colab Notebooks/using a wrench videos/clipped/WRENCH 20131213.mp4\n"
          ]
        },
        {
          "output_type": "stream",
          "name": "stderr",
          "text": [
            "\n",
            "100%|██████████| 300/300 [00:03<00:00, 82.10it/s]\n"
          ]
        },
        {
          "output_type": "stream",
          "name": "stdout",
          "text": [
            "[MoviePy] Done.\n",
            "[MoviePy] >>>> Video ready: drive/My Drive/Colab Notebooks/using a wrench videos/clipped/WRENCH 20131213.mp4 \n",
            "\n",
            "Downloading Dog and wrench | size = 4.027731 mb\n",
            "[MoviePy] >>>> Building video drive/My Drive/Colab Notebooks/using a wrench videos/clipped/Dog and wrench.mp4\n",
            "[MoviePy] Writing audio in Dog and wrenchTEMP_MPY_wvf_snd.mp3\n"
          ]
        },
        {
          "output_type": "stream",
          "name": "stderr",
          "text": [
            "100%|██████████| 221/221 [00:00<00:00, 690.98it/s]"
          ]
        },
        {
          "output_type": "stream",
          "name": "stdout",
          "text": [
            "[MoviePy] Done.\n",
            "[MoviePy] Writing video drive/My Drive/Colab Notebooks/using a wrench videos/clipped/Dog and wrench.mp4\n"
          ]
        },
        {
          "output_type": "stream",
          "name": "stderr",
          "text": [
            "\n",
            "100%|█████████▉| 300/301 [00:01<00:00, 183.93it/s]\n"
          ]
        },
        {
          "output_type": "stream",
          "name": "stdout",
          "text": [
            "[MoviePy] Done.\n",
            "[MoviePy] >>>> Video ready: drive/My Drive/Colab Notebooks/using a wrench videos/clipped/Dog and wrench.mp4 \n",
            "\n",
            "Downloading tightening and loosening nuts with socket wrench | size = 21.873662 mb\n",
            "[MoviePy] >>>> Building video drive/My Drive/Colab Notebooks/using a wrench videos/clipped/tightening and loosening nuts with socket wrench.mp4\n",
            "[MoviePy] Writing audio in tightening and loosening nuts with socket wrenchTEMP_MPY_wvf_snd.mp3\n"
          ]
        },
        {
          "output_type": "stream",
          "name": "stderr",
          "text": [
            "100%|██████████| 221/221 [00:00<00:00, 575.01it/s]"
          ]
        },
        {
          "output_type": "stream",
          "name": "stdout",
          "text": [
            "[MoviePy] Done.\n",
            "[MoviePy] Writing video drive/My Drive/Colab Notebooks/using a wrench videos/clipped/tightening and loosening nuts with socket wrench.mp4\n"
          ]
        },
        {
          "output_type": "stream",
          "name": "stderr",
          "text": [
            "\n",
            "100%|█████████▉| 300/301 [00:18<00:00, 16.21it/s]\n"
          ]
        },
        {
          "output_type": "stream",
          "name": "stdout",
          "text": [
            "[MoviePy] Done.\n",
            "[MoviePy] >>>> Video ready: drive/My Drive/Colab Notebooks/using a wrench videos/clipped/tightening and loosening nuts with socket wrench.mp4 \n",
            "\n",
            "Downloading Mini Goat pocket tool! | size = 6.155192 mb\n",
            "[MoviePy] >>>> Building video drive/My Drive/Colab Notebooks/using a wrench videos/clipped/Mini Goat pocket tool!.mp4\n",
            "[MoviePy] Writing audio in Mini Goat pocket tool!TEMP_MPY_wvf_snd.mp3\n"
          ]
        },
        {
          "output_type": "stream",
          "name": "stderr",
          "text": [
            "100%|██████████| 221/221 [00:00<00:00, 581.52it/s]"
          ]
        },
        {
          "output_type": "stream",
          "name": "stdout",
          "text": [
            "[MoviePy] Done.\n",
            "[MoviePy] Writing video drive/My Drive/Colab Notebooks/using a wrench videos/clipped/Mini Goat pocket tool!.mp4\n"
          ]
        },
        {
          "output_type": "stream",
          "name": "stderr",
          "text": [
            "\n",
            "100%|█████████▉| 300/301 [00:02<00:00, 142.04it/s]\n"
          ]
        },
        {
          "output_type": "stream",
          "name": "stdout",
          "text": [
            "[MoviePy] Done.\n",
            "[MoviePy] >>>> Video ready: drive/My Drive/Colab Notebooks/using a wrench videos/clipped/Mini Goat pocket tool!.mp4 \n",
            "\n",
            "Downloading 3/8\" DIY Tite-Reach | size = 4.314463 mb\n",
            "[MoviePy] >>>> Building video drive/My Drive/Colab Notebooks/using a wrench videos/clipped/38 DIY Tite-Reach.mp4\n",
            "[MoviePy] Writing audio in 38 DIY Tite-ReachTEMP_MPY_wvf_snd.mp3\n"
          ]
        },
        {
          "output_type": "stream",
          "name": "stderr",
          "text": [
            "100%|██████████| 221/221 [00:00<00:00, 399.43it/s]"
          ]
        },
        {
          "output_type": "stream",
          "name": "stdout",
          "text": [
            "[MoviePy] Done.\n",
            "[MoviePy] Writing video drive/My Drive/Colab Notebooks/using a wrench videos/clipped/38 DIY Tite-Reach.mp4\n"
          ]
        },
        {
          "output_type": "stream",
          "name": "stderr",
          "text": [
            "\n",
            "100%|██████████| 300/300 [00:04<00:00, 73.07it/s] \n"
          ]
        },
        {
          "output_type": "stream",
          "name": "stdout",
          "text": [
            "[MoviePy] Done.\n",
            "[MoviePy] >>>> Video ready: drive/My Drive/Colab Notebooks/using a wrench videos/clipped/38 DIY Tite-Reach.mp4 \n",
            "\n",
            "Downloading busting master locks with wrenches | size = 25.624215 mb\n",
            "[MoviePy] >>>> Building video drive/My Drive/Colab Notebooks/using a wrench videos/clipped/busting master locks with wrenches.mp4\n",
            "[MoviePy] Writing audio in busting master locks with wrenchesTEMP_MPY_wvf_snd.mp3\n"
          ]
        },
        {
          "output_type": "stream",
          "name": "stderr",
          "text": [
            "100%|██████████| 221/221 [00:00<00:00, 400.01it/s]"
          ]
        },
        {
          "output_type": "stream",
          "name": "stdout",
          "text": [
            "[MoviePy] Done.\n",
            "[MoviePy] Writing video drive/My Drive/Colab Notebooks/using a wrench videos/clipped/busting master locks with wrenches.mp4\n"
          ]
        },
        {
          "output_type": "stream",
          "name": "stderr",
          "text": [
            "\n",
            "100%|█████████▉| 300/301 [00:07<00:00, 38.04it/s]\n"
          ]
        },
        {
          "output_type": "stream",
          "name": "stdout",
          "text": [
            "[MoviePy] Done.\n",
            "[MoviePy] >>>> Video ready: drive/My Drive/Colab Notebooks/using a wrench videos/clipped/busting master locks with wrenches.mp4 \n",
            "\n",
            "Downloading Magic Wrench | size = 2.790327 mb\n",
            "[MoviePy] >>>> Building video drive/My Drive/Colab Notebooks/using a wrench videos/clipped/Magic Wrench.mp4\n",
            "[MoviePy] Writing audio in Magic WrenchTEMP_MPY_wvf_snd.mp3\n"
          ]
        },
        {
          "output_type": "stream",
          "name": "stderr",
          "text": [
            "100%|██████████| 221/221 [00:00<00:00, 528.37it/s]"
          ]
        },
        {
          "output_type": "stream",
          "name": "stdout",
          "text": [
            "[MoviePy] Done.\n",
            "[MoviePy] Writing video drive/My Drive/Colab Notebooks/using a wrench videos/clipped/Magic Wrench.mp4\n"
          ]
        },
        {
          "output_type": "stream",
          "name": "stderr",
          "text": [
            "\n",
            "100%|█████████▉| 300/301 [00:01<00:00, 163.10it/s]\n"
          ]
        },
        {
          "output_type": "stream",
          "name": "stdout",
          "text": [
            "[MoviePy] Done.\n",
            "[MoviePy] >>>> Video ready: drive/My Drive/Colab Notebooks/using a wrench videos/clipped/Magic Wrench.mp4 \n",
            "\n",
            "Downloading BEGO Semados® ratchet / torque spanner | size = 18.476099 mb\n",
            "[MoviePy] >>>> Building video drive/My Drive/Colab Notebooks/using a wrench videos/clipped/BEGO Semados® ratchet  torque spanner.mp4\n",
            "[MoviePy] Writing audio in BEGO Semados® ratchet  torque spannerTEMP_MPY_wvf_snd.mp3\n"
          ]
        },
        {
          "output_type": "stream",
          "name": "stderr",
          "text": [
            "100%|██████████| 221/221 [00:00<00:00, 441.18it/s]"
          ]
        },
        {
          "output_type": "stream",
          "name": "stdout",
          "text": [
            "[MoviePy] Done.\n",
            "[MoviePy] Writing video drive/My Drive/Colab Notebooks/using a wrench videos/clipped/BEGO Semados® ratchet  torque spanner.mp4\n"
          ]
        },
        {
          "output_type": "stream",
          "name": "stderr",
          "text": [
            "\n",
            "100%|█████████▉| 250/251 [00:11<00:00, 21.86it/s]\n"
          ]
        },
        {
          "output_type": "stream",
          "name": "stdout",
          "text": [
            "[MoviePy] Done.\n",
            "[MoviePy] >>>> Video ready: drive/My Drive/Colab Notebooks/using a wrench videos/clipped/BEGO Semados® ratchet  torque spanner.mp4 \n",
            "\n",
            "Downloading Cool Tools from Crescent Tool. Locking Adjustable Wrench & Pass Through Adjustable Wrench | size = 32.46714 mb\n",
            "[MoviePy] >>>> Building video drive/My Drive/Colab Notebooks/using a wrench videos/clipped/Cool Tools from Crescent Tool. Locking Adjustable Wrench & Pass Through Adjustable Wrench.mp4\n",
            "[MoviePy] Writing audio in Cool Tools from Crescent Tool. Locking Adjustable Wrench & Pass Through Adjustable WrenchTEMP_MPY_wvf_snd.mp3\n"
          ]
        },
        {
          "output_type": "stream",
          "name": "stderr",
          "text": [
            "100%|██████████| 221/221 [00:00<00:00, 406.65it/s]"
          ]
        },
        {
          "output_type": "stream",
          "name": "stdout",
          "text": [
            "[MoviePy] Done.\n",
            "[MoviePy] Writing video drive/My Drive/Colab Notebooks/using a wrench videos/clipped/Cool Tools from Crescent Tool. Locking Adjustable Wrench & Pass Through Adjustable Wrench.mp4\n"
          ]
        },
        {
          "output_type": "stream",
          "name": "stderr",
          "text": [
            "\n",
            "100%|██████████| 300/300 [00:14<00:00, 20.21it/s]\n"
          ]
        },
        {
          "output_type": "stream",
          "name": "stdout",
          "text": [
            "[MoviePy] Done.\n",
            "[MoviePy] >>>> Video ready: drive/My Drive/Colab Notebooks/using a wrench videos/clipped/Cool Tools from Crescent Tool. Locking Adjustable Wrench & Pass Through Adjustable Wrench.mp4 \n",
            "\n",
            "Downloading TARW AR-15 Armorer Wrench Tool Overview | size = 39.040018 mb\n",
            "[MoviePy] >>>> Building video drive/My Drive/Colab Notebooks/using a wrench videos/clipped/TARW AR-15 Armorer Wrench Tool Overview.mp4\n",
            "[MoviePy] Writing audio in TARW AR-15 Armorer Wrench Tool OverviewTEMP_MPY_wvf_snd.mp3\n"
          ]
        },
        {
          "output_type": "stream",
          "name": "stderr",
          "text": [
            "100%|██████████| 221/221 [00:00<00:00, 429.74it/s]\n"
          ]
        },
        {
          "output_type": "stream",
          "name": "stdout",
          "text": [
            "[MoviePy] Done.\n",
            "[MoviePy] Writing video drive/My Drive/Colab Notebooks/using a wrench videos/clipped/TARW AR-15 Armorer Wrench Tool Overview.mp4\n"
          ]
        },
        {
          "output_type": "stream",
          "name": "stderr",
          "text": [
            "100%|██████████| 300/300 [00:19<00:00, 15.52it/s]\n"
          ]
        },
        {
          "output_type": "stream",
          "name": "stdout",
          "text": [
            "[MoviePy] Done.\n",
            "[MoviePy] >>>> Video ready: drive/My Drive/Colab Notebooks/using a wrench videos/clipped/TARW AR-15 Armorer Wrench Tool Overview.mp4 \n",
            "\n",
            "Downloading Alyson bending wrenches | size = 2.563322 mb\n",
            "[MoviePy] >>>> Building video drive/My Drive/Colab Notebooks/using a wrench videos/clipped/Alyson bending wrenches.mp4\n",
            "[MoviePy] Writing audio in Alyson bending wrenchesTEMP_MPY_wvf_snd.mp3\n"
          ]
        },
        {
          "output_type": "stream",
          "name": "stderr",
          "text": [
            "100%|██████████| 221/221 [00:00<00:00, 867.40it/s]"
          ]
        },
        {
          "output_type": "stream",
          "name": "stdout",
          "text": [
            "[MoviePy] Done.\n",
            "[MoviePy] Writing video drive/My Drive/Colab Notebooks/using a wrench videos/clipped/Alyson bending wrenches.mp4\n"
          ]
        },
        {
          "output_type": "stream",
          "name": "stderr",
          "text": [
            "\n",
            "100%|█████████▉| 300/301 [00:03<00:00, 77.14it/s]\n"
          ]
        },
        {
          "output_type": "stream",
          "name": "stdout",
          "text": [
            "[MoviePy] Done.\n",
            "[MoviePy] >>>> Video ready: drive/My Drive/Colab Notebooks/using a wrench videos/clipped/Alyson bending wrenches.mp4 \n",
            "\n",
            "Downloading Magic Grip All in one Tool | size = 1.795599 mb\n",
            "[MoviePy] >>>> Building video drive/My Drive/Colab Notebooks/using a wrench videos/clipped/Magic Grip All in one Tool.mp4\n",
            "[MoviePy] Writing audio in Magic Grip All in one ToolTEMP_MPY_wvf_snd.mp3\n"
          ]
        },
        {
          "output_type": "stream",
          "name": "stderr",
          "text": [
            "100%|██████████| 221/221 [00:00<00:00, 576.64it/s]"
          ]
        },
        {
          "output_type": "stream",
          "name": "stdout",
          "text": [
            "[MoviePy] Done.\n"
          ]
        },
        {
          "output_type": "stream",
          "name": "stderr",
          "text": [
            "\n"
          ]
        },
        {
          "output_type": "stream",
          "name": "stdout",
          "text": [
            "[MoviePy] Writing video drive/My Drive/Colab Notebooks/using a wrench videos/clipped/Magic Grip All in one Tool.mp4\n"
          ]
        },
        {
          "output_type": "stream",
          "name": "stderr",
          "text": [
            " 99%|█████████▉| 150/151 [00:01<00:00, 138.19it/s]\n"
          ]
        },
        {
          "output_type": "stream",
          "name": "stdout",
          "text": [
            "[MoviePy] Done.\n",
            "[MoviePy] >>>> Video ready: drive/My Drive/Colab Notebooks/using a wrench videos/clipped/Magic Grip All in one Tool.mp4 \n",
            "\n",
            "Downloading Skil Secure Grip self-adjusting wrench set | size = 24.141788 mb\n",
            "[MoviePy] >>>> Building video drive/My Drive/Colab Notebooks/using a wrench videos/clipped/Skil Secure Grip self-adjusting wrench set.mp4\n",
            "[MoviePy] Writing audio in Skil Secure Grip self-adjusting wrench setTEMP_MPY_wvf_snd.mp3\n"
          ]
        },
        {
          "output_type": "stream",
          "name": "stderr",
          "text": [
            "100%|██████████| 221/221 [00:00<00:00, 670.78it/s]"
          ]
        },
        {
          "output_type": "stream",
          "name": "stdout",
          "text": [
            "[MoviePy] Done.\n",
            "[MoviePy] Writing video drive/My Drive/Colab Notebooks/using a wrench videos/clipped/Skil Secure Grip self-adjusting wrench set.mp4\n"
          ]
        },
        {
          "output_type": "stream",
          "name": "stderr",
          "text": [
            "\n",
            "100%|█████████▉| 300/301 [00:15<00:00, 19.22it/s]\n"
          ]
        },
        {
          "output_type": "stream",
          "name": "stdout",
          "text": [
            "[MoviePy] Done.\n",
            "[MoviePy] >>>> Video ready: drive/My Drive/Colab Notebooks/using a wrench videos/clipped/Skil Secure Grip self-adjusting wrench set.mp4 \n",
            "\n",
            "Downloading HUWE - The revolutionary hammer union wrench | size = 14.641854 mb\n",
            "[MoviePy] >>>> Building video drive/My Drive/Colab Notebooks/using a wrench videos/clipped/HUWE - The revolutionary hammer union wrench.mp4\n",
            "[MoviePy] Writing audio in HUWE - The revolutionary hammer union wrenchTEMP_MPY_wvf_snd.mp3\n"
          ]
        },
        {
          "output_type": "stream",
          "name": "stderr",
          "text": [
            "100%|██████████| 221/221 [00:00<00:00, 443.67it/s]"
          ]
        },
        {
          "output_type": "stream",
          "name": "stdout",
          "text": [
            "[MoviePy] Done.\n",
            "[MoviePy] Writing video drive/My Drive/Colab Notebooks/using a wrench videos/clipped/HUWE - The revolutionary hammer union wrench.mp4\n"
          ]
        },
        {
          "output_type": "stream",
          "name": "stderr",
          "text": [
            "\n",
            "100%|██████████| 300/300 [00:21<00:00, 14.28it/s]\n"
          ]
        },
        {
          "output_type": "stream",
          "name": "stdout",
          "text": [
            "[MoviePy] Done.\n",
            "[MoviePy] >>>> Video ready: drive/My Drive/Colab Notebooks/using a wrench videos/clipped/HUWE - The revolutionary hammer union wrench.mp4 \n",
            "\n",
            "Downloading EZ Spanner Ratcheting Fire Hydrant Wrench | size = 1.115238 mb\n",
            "[MoviePy] >>>> Building video drive/My Drive/Colab Notebooks/using a wrench videos/clipped/EZ Spanner Ratcheting Fire Hydrant Wrench.mp4\n",
            "[MoviePy] Writing audio in EZ Spanner Ratcheting Fire Hydrant WrenchTEMP_MPY_wvf_snd.mp3\n"
          ]
        },
        {
          "output_type": "stream",
          "name": "stderr",
          "text": [
            "100%|██████████| 221/221 [00:00<00:00, 807.46it/s]"
          ]
        },
        {
          "output_type": "stream",
          "name": "stdout",
          "text": [
            "[MoviePy] Done.\n",
            "[MoviePy] Writing video drive/My Drive/Colab Notebooks/using a wrench videos/clipped/EZ Spanner Ratcheting Fire Hydrant Wrench.mp4\n"
          ]
        },
        {
          "output_type": "stream",
          "name": "stderr",
          "text": [
            "\n",
            "100%|█████████▉| 298/299 [00:02<00:00, 116.38it/s]\n"
          ]
        },
        {
          "output_type": "stream",
          "name": "stdout",
          "text": [
            "[MoviePy] Done.\n",
            "[MoviePy] >>>> Video ready: drive/My Drive/Colab Notebooks/using a wrench videos/clipped/EZ Spanner Ratcheting Fire Hydrant Wrench.mp4 \n",
            "\n",
            "Downloading 87 01 300 KNIPEX Cobra® Chave inglesa | size = 14.568093 mb\n",
            "[MoviePy] >>>> Building video drive/My Drive/Colab Notebooks/using a wrench videos/clipped/87 01 300 KNIPEX Cobra® Chave inglesa.mp4\n",
            "[MoviePy] Writing audio in 87 01 300 KNIPEX Cobra® Chave inglesaTEMP_MPY_wvf_snd.mp3\n"
          ]
        },
        {
          "output_type": "stream",
          "name": "stderr",
          "text": [
            "100%|██████████| 221/221 [00:00<00:00, 470.70it/s]"
          ]
        },
        {
          "output_type": "stream",
          "name": "stdout",
          "text": [
            "[MoviePy] Done.\n",
            "[MoviePy] Writing video drive/My Drive/Colab Notebooks/using a wrench videos/clipped/87 01 300 KNIPEX Cobra® Chave inglesa.mp4\n"
          ]
        },
        {
          "output_type": "stream",
          "name": "stderr",
          "text": [
            "\n",
            "100%|█████████▉| 250/251 [00:12<00:00, 19.82it/s]\n"
          ]
        },
        {
          "output_type": "stream",
          "name": "stdout",
          "text": [
            "[MoviePy] Done.\n",
            "[MoviePy] >>>> Video ready: drive/My Drive/Colab Notebooks/using a wrench videos/clipped/87 01 300 KNIPEX Cobra® Chave inglesa.mp4 \n",
            "\n",
            "Downloading Test Review(Super Wrench for All Screws) | size = 2.772794 mb\n",
            "[MoviePy] >>>> Building video drive/My Drive/Colab Notebooks/using a wrench videos/clipped/Test Review(Super Wrench for All Screws).mp4\n",
            "[MoviePy] Writing audio in Test Review(Super Wrench for All Screws)TEMP_MPY_wvf_snd.mp3\n"
          ]
        },
        {
          "output_type": "stream",
          "name": "stderr",
          "text": [
            " 99%|█████████▉| 219/221 [00:00<00:00, 1178.30it/s]\n"
          ]
        },
        {
          "output_type": "stream",
          "name": "stdout",
          "text": [
            "Error in file drive/My Drive/Colab Notebooks/using a wrench videos/Test Review(Super Wrench for All Screws).mp4, Accessing time t=17.91-17.95 seconds, with clip duration=17 seconds, \n",
            "Downloading Precision Torque Wrenches | size = 8.867285 mb\n",
            "[MoviePy] >>>> Building video drive/My Drive/Colab Notebooks/using a wrench videos/clipped/Precision Torque Wrenches.mp4\n",
            "[MoviePy] Writing audio in Precision Torque WrenchesTEMP_MPY_wvf_snd.mp3\n"
          ]
        },
        {
          "output_type": "stream",
          "name": "stderr",
          "text": [
            "100%|██████████| 221/221 [00:00<00:00, 501.50it/s]"
          ]
        },
        {
          "output_type": "stream",
          "name": "stdout",
          "text": [
            "[MoviePy] Done.\n",
            "[MoviePy] Writing video drive/My Drive/Colab Notebooks/using a wrench videos/clipped/Precision Torque Wrenches.mp4\n"
          ]
        },
        {
          "output_type": "stream",
          "name": "stderr",
          "text": [
            "\n",
            "100%|█████████▉| 280/281 [00:04<00:00, 58.20it/s]\n"
          ]
        },
        {
          "output_type": "stream",
          "name": "stdout",
          "text": [
            "[MoviePy] Done.\n",
            "[MoviePy] >>>> Video ready: drive/My Drive/Colab Notebooks/using a wrench videos/clipped/Precision Torque Wrenches.mp4 \n",
            "\n",
            "Downloading hex handle | size = 4.064589 mb\n",
            "[MoviePy] >>>> Building video drive/My Drive/Colab Notebooks/using a wrench videos/clipped/hex handle.mp4\n",
            "[MoviePy] Writing audio in hex handleTEMP_MPY_wvf_snd.mp3\n"
          ]
        },
        {
          "output_type": "stream",
          "name": "stderr",
          "text": [
            "100%|██████████| 221/221 [00:00<00:00, 564.04it/s]"
          ]
        },
        {
          "output_type": "stream",
          "name": "stdout",
          "text": [
            "[MoviePy] Done.\n",
            "[MoviePy] Writing video drive/My Drive/Colab Notebooks/using a wrench videos/clipped/hex handle.mp4\n"
          ]
        },
        {
          "output_type": "stream",
          "name": "stderr",
          "text": [
            "\n",
            "100%|█████████▉| 250/251 [00:03<00:00, 75.32it/s]\n"
          ]
        },
        {
          "output_type": "stream",
          "name": "stdout",
          "text": [
            "[MoviePy] Done.\n",
            "[MoviePy] >>>> Video ready: drive/My Drive/Colab Notebooks/using a wrench videos/clipped/hex handle.mp4 \n",
            "\n",
            "Downloading MAGIC W-wrench | size = 19.381986 mb\n",
            "[MoviePy] >>>> Building video drive/My Drive/Colab Notebooks/using a wrench videos/clipped/MAGIC W-wrench.mp4\n",
            "[MoviePy] Writing audio in MAGIC W-wrenchTEMP_MPY_wvf_snd.mp3\n"
          ]
        },
        {
          "output_type": "stream",
          "name": "stderr",
          "text": [
            "100%|██████████| 221/221 [00:00<00:00, 417.29it/s]"
          ]
        },
        {
          "output_type": "stream",
          "name": "stdout",
          "text": [
            "[MoviePy] Done.\n",
            "[MoviePy] Writing video drive/My Drive/Colab Notebooks/using a wrench videos/clipped/MAGIC W-wrench.mp4\n"
          ]
        },
        {
          "output_type": "stream",
          "name": "stderr",
          "text": [
            "\n",
            "100%|██████████| 300/300 [00:05<00:00, 57.54it/s]\n"
          ]
        },
        {
          "output_type": "stream",
          "name": "stdout",
          "text": [
            "[MoviePy] Done.\n",
            "[MoviePy] >>>> Video ready: drive/My Drive/Colab Notebooks/using a wrench videos/clipped/MAGIC W-wrench.mp4 \n",
            "\n",
            "Downloading Diamondback Safety Tools Flange Wrench | size = 57.142517 mb\n",
            "[MoviePy] >>>> Building video drive/My Drive/Colab Notebooks/using a wrench videos/clipped/Diamondback Safety Tools Flange Wrench.mp4\n",
            "[MoviePy] Writing audio in Diamondback Safety Tools Flange WrenchTEMP_MPY_wvf_snd.mp3\n"
          ]
        },
        {
          "output_type": "stream",
          "name": "stderr",
          "text": [
            "100%|██████████| 221/221 [00:00<00:00, 397.12it/s]"
          ]
        },
        {
          "output_type": "stream",
          "name": "stdout",
          "text": [
            "[MoviePy] Done.\n",
            "[MoviePy] Writing video drive/My Drive/Colab Notebooks/using a wrench videos/clipped/Diamondback Safety Tools Flange Wrench.mp4\n"
          ]
        },
        {
          "output_type": "stream",
          "name": "stderr",
          "text": [
            "\n",
            "100%|█████████▉| 300/301 [00:19<00:00, 15.62it/s]\n"
          ]
        },
        {
          "output_type": "stream",
          "name": "stdout",
          "text": [
            "[MoviePy] Done.\n",
            "[MoviePy] >>>> Video ready: drive/My Drive/Colab Notebooks/using a wrench videos/clipped/Diamondback Safety Tools Flange Wrench.mp4 \n",
            "\n",
            "Downloading Torin Magnetic wrench holder | size = 12.451331 mb\n",
            "[MoviePy] >>>> Building video drive/My Drive/Colab Notebooks/using a wrench videos/clipped/Torin Magnetic wrench holder.mp4\n",
            "[MoviePy] Writing audio in Torin Magnetic wrench holderTEMP_MPY_wvf_snd.mp3\n"
          ]
        },
        {
          "output_type": "stream",
          "name": "stderr",
          "text": [
            "100%|██████████| 221/221 [00:00<00:00, 421.03it/s]"
          ]
        },
        {
          "output_type": "stream",
          "name": "stdout",
          "text": [
            "[MoviePy] Done.\n",
            "[MoviePy] Writing video drive/My Drive/Colab Notebooks/using a wrench videos/clipped/Torin Magnetic wrench holder.mp4\n"
          ]
        },
        {
          "output_type": "stream",
          "name": "stderr",
          "text": [
            "\n",
            "100%|██████████| 240/240 [00:12<00:00, 19.20it/s]\n"
          ]
        },
        {
          "output_type": "stream",
          "name": "stdout",
          "text": [
            "[MoviePy] Done.\n",
            "[MoviePy] >>>> Video ready: drive/My Drive/Colab Notebooks/using a wrench videos/clipped/Torin Magnetic wrench holder.mp4 \n",
            "\n",
            "Downloading Spanners | size = 2.016515 mb\n",
            "[MoviePy] >>>> Building video drive/My Drive/Colab Notebooks/using a wrench videos/clipped/Spanners.mp4\n",
            "[MoviePy] Writing audio in SpannersTEMP_MPY_wvf_snd.mp3\n"
          ]
        },
        {
          "output_type": "stream",
          "name": "stderr",
          "text": [
            "100%|██████████| 221/221 [00:00<00:00, 732.06it/s]"
          ]
        },
        {
          "output_type": "stream",
          "name": "stdout",
          "text": [
            "[MoviePy] Done.\n",
            "[MoviePy] Writing video drive/My Drive/Colab Notebooks/using a wrench videos/clipped/Spanners.mp4\n"
          ]
        },
        {
          "output_type": "stream",
          "name": "stderr",
          "text": [
            "\n",
            "100%|██████████| 277/277 [00:04<00:00, 60.73it/s]\n"
          ]
        },
        {
          "output_type": "stream",
          "name": "stdout",
          "text": [
            "[MoviePy] Done.\n",
            "[MoviePy] >>>> Video ready: drive/My Drive/Colab Notebooks/using a wrench videos/clipped/Spanners.mp4 \n",
            "\n",
            "Downloading Hexagon wrench | size = 13.377865 mb\n",
            "[MoviePy] >>>> Building video drive/My Drive/Colab Notebooks/using a wrench videos/clipped/Hexagon wrench.mp4\n",
            "[MoviePy] Writing audio in Hexagon wrenchTEMP_MPY_wvf_snd.mp3\n"
          ]
        },
        {
          "output_type": "stream",
          "name": "stderr",
          "text": [
            "100%|██████████| 221/221 [00:00<00:00, 435.96it/s]"
          ]
        },
        {
          "output_type": "stream",
          "name": "stdout",
          "text": [
            "[MoviePy] Done.\n",
            "[MoviePy] Writing video drive/My Drive/Colab Notebooks/using a wrench videos/clipped/Hexagon wrench.mp4\n"
          ]
        },
        {
          "output_type": "stream",
          "name": "stderr",
          "text": [
            "\n",
            "100%|██████████| 300/300 [00:18<00:00, 16.50it/s]\n"
          ]
        },
        {
          "output_type": "stream",
          "name": "stdout",
          "text": [
            "[MoviePy] Done.\n",
            "[MoviePy] >>>> Video ready: drive/My Drive/Colab Notebooks/using a wrench videos/clipped/Hexagon wrench.mp4 \n",
            "\n",
            "Downloading TwinTec Ratcheting Multi Wrench | size = 9.436796 mb\n",
            "[MoviePy] >>>> Building video drive/My Drive/Colab Notebooks/using a wrench videos/clipped/TwinTec Ratcheting Multi Wrench.mp4\n",
            "[MoviePy] Writing audio in TwinTec Ratcheting Multi WrenchTEMP_MPY_wvf_snd.mp3\n"
          ]
        },
        {
          "output_type": "stream",
          "name": "stderr",
          "text": [
            "100%|██████████| 221/221 [00:00<00:00, 444.96it/s]"
          ]
        },
        {
          "output_type": "stream",
          "name": "stdout",
          "text": [
            "[MoviePy] Done.\n",
            "[MoviePy] Writing video drive/My Drive/Colab Notebooks/using a wrench videos/clipped/TwinTec Ratcheting Multi Wrench.mp4\n"
          ]
        },
        {
          "output_type": "stream",
          "name": "stderr",
          "text": [
            "\n",
            "100%|██████████| 240/240 [00:14<00:00, 16.04it/s]\n"
          ]
        },
        {
          "output_type": "stream",
          "name": "stdout",
          "text": [
            "[MoviePy] Done.\n",
            "[MoviePy] >>>> Video ready: drive/My Drive/Colab Notebooks/using a wrench videos/clipped/TwinTec Ratcheting Multi Wrench.mp4 \n",
            "\n",
            "Downloading Craftsman Mach series 10pc combination wrench set | size = 10.66559 mb\n",
            "[MoviePy] >>>> Building video drive/My Drive/Colab Notebooks/using a wrench videos/clipped/Craftsman Mach series 10pc combination wrench set.mp4\n",
            "[MoviePy] Writing audio in Craftsman Mach series 10pc combination wrench setTEMP_MPY_wvf_snd.mp3\n"
          ]
        },
        {
          "output_type": "stream",
          "name": "stderr",
          "text": [
            "100%|██████████| 221/221 [00:00<00:00, 532.87it/s]"
          ]
        },
        {
          "output_type": "stream",
          "name": "stdout",
          "text": [
            "[MoviePy] Done.\n",
            "[MoviePy] Writing video drive/My Drive/Colab Notebooks/using a wrench videos/clipped/Craftsman Mach series 10pc combination wrench set.mp4\n"
          ]
        },
        {
          "output_type": "stream",
          "name": "stderr",
          "text": [
            "\n",
            "100%|██████████| 300/300 [00:18<00:00, 16.39it/s]\n"
          ]
        },
        {
          "output_type": "stream",
          "name": "stdout",
          "text": [
            "[MoviePy] Done.\n",
            "[MoviePy] >>>> Video ready: drive/My Drive/Colab Notebooks/using a wrench videos/clipped/Craftsman Mach series 10pc combination wrench set.mp4 \n",
            "\n",
            "Downloading Jonard Tools Ratcheting Speed Wrench | size = 26.90649 mb\n",
            "[MoviePy] >>>> Building video drive/My Drive/Colab Notebooks/using a wrench videos/clipped/Jonard Tools Ratcheting Speed Wrench.mp4\n",
            "[MoviePy] Writing audio in Jonard Tools Ratcheting Speed WrenchTEMP_MPY_wvf_snd.mp3\n"
          ]
        },
        {
          "output_type": "stream",
          "name": "stderr",
          "text": [
            "100%|██████████| 221/221 [00:00<00:00, 412.63it/s]"
          ]
        },
        {
          "output_type": "stream",
          "name": "stdout",
          "text": [
            "[MoviePy] Done.\n",
            "[MoviePy] Writing video drive/My Drive/Colab Notebooks/using a wrench videos/clipped/Jonard Tools Ratcheting Speed Wrench.mp4\n"
          ]
        },
        {
          "output_type": "stream",
          "name": "stderr",
          "text": [
            "\n",
            "100%|██████████| 300/300 [00:20<00:00, 14.52it/s]\n"
          ]
        },
        {
          "output_type": "stream",
          "name": "stdout",
          "text": [
            "[MoviePy] Done.\n",
            "[MoviePy] >>>> Video ready: drive/My Drive/Colab Notebooks/using a wrench videos/clipped/Jonard Tools Ratcheting Speed Wrench.mp4 \n",
            "\n",
            "Downloading Bicycle Porous Wrench | size = 3.83355 mb\n",
            "[MoviePy] >>>> Building video drive/My Drive/Colab Notebooks/using a wrench videos/clipped/Bicycle Porous Wrench.mp4\n",
            "[MoviePy] Writing audio in Bicycle Porous WrenchTEMP_MPY_wvf_snd.mp3\n"
          ]
        },
        {
          "output_type": "stream",
          "name": "stderr",
          "text": [
            "100%|██████████| 221/221 [00:00<00:00, 565.03it/s]"
          ]
        },
        {
          "output_type": "stream",
          "name": "stdout",
          "text": [
            "[MoviePy] Done.\n",
            "[MoviePy] Writing video drive/My Drive/Colab Notebooks/using a wrench videos/clipped/Bicycle Porous Wrench.mp4\n"
          ]
        },
        {
          "output_type": "stream",
          "name": "stderr",
          "text": [
            "\n",
            "100%|█████████▉| 300/301 [00:07<00:00, 39.94it/s]\n"
          ]
        },
        {
          "output_type": "stream",
          "name": "stdout",
          "text": [
            "[MoviePy] Done.\n",
            "[MoviePy] >>>> Video ready: drive/My Drive/Colab Notebooks/using a wrench videos/clipped/Bicycle Porous Wrench.mp4 \n",
            "\n",
            "Downloading open end auto wrench | size = 2.742619 mb\n",
            "[MoviePy] >>>> Building video drive/My Drive/Colab Notebooks/using a wrench videos/clipped/open end auto wrench.mp4\n",
            "[MoviePy] Writing audio in open end auto wrenchTEMP_MPY_wvf_snd.mp3\n"
          ]
        },
        {
          "output_type": "stream",
          "name": "stderr",
          "text": [
            "100%|██████████| 221/221 [00:00<00:00, 655.14it/s]"
          ]
        },
        {
          "output_type": "stream",
          "name": "stdout",
          "text": [
            "[MoviePy] Done.\n",
            "[MoviePy] Writing video drive/My Drive/Colab Notebooks/using a wrench videos/clipped/open end auto wrench.mp4\n"
          ]
        },
        {
          "output_type": "stream",
          "name": "stderr",
          "text": [
            "\n",
            "100%|█████████▉| 300/301 [00:04<00:00, 60.75it/s]\n"
          ]
        },
        {
          "output_type": "stream",
          "name": "stdout",
          "text": [
            "[MoviePy] Done.\n",
            "[MoviePy] >>>> Video ready: drive/My Drive/Colab Notebooks/using a wrench videos/clipped/open end auto wrench.mp4 \n",
            "\n",
            "Downloading Facom 467R double ratcheting combination wrench (1 of 2) | size = 7.031172 mb\n",
            "[MoviePy] >>>> Building video drive/My Drive/Colab Notebooks/using a wrench videos/clipped/Facom 467R double ratcheting combination wrench (1 of 2).mp4\n",
            "[MoviePy] Writing audio in Facom 467R double ratcheting combination wrench (1 of 2)TEMP_MPY_wvf_snd.mp3\n"
          ]
        },
        {
          "output_type": "stream",
          "name": "stderr",
          "text": [
            "100%|██████████| 221/221 [00:00<00:00, 466.93it/s]"
          ]
        },
        {
          "output_type": "stream",
          "name": "stdout",
          "text": [
            "[MoviePy] Done.\n",
            "[MoviePy] Writing video drive/My Drive/Colab Notebooks/using a wrench videos/clipped/Facom 467R double ratcheting combination wrench (1 of 2).mp4\n"
          ]
        },
        {
          "output_type": "stream",
          "name": "stderr",
          "text": [
            "\n",
            "100%|█████████▉| 250/251 [00:03<00:00, 63.45it/s]\n"
          ]
        },
        {
          "output_type": "stream",
          "name": "stdout",
          "text": [
            "[MoviePy] Done.\n",
            "[MoviePy] >>>> Video ready: drive/My Drive/Colab Notebooks/using a wrench videos/clipped/Facom 467R double ratcheting combination wrench (1 of 2).mp4 \n",
            "\n",
            "Downloading Chaves De Cano (Grifo) Emborrachada Lee Tools | size = 3.662556 mb\n",
            "[MoviePy] >>>> Building video drive/My Drive/Colab Notebooks/using a wrench videos/clipped/Chaves De Cano (Grifo) Emborrachada Lee Tools.mp4\n",
            "[MoviePy] Writing audio in Chaves De Cano (Grifo) Emborrachada Lee ToolsTEMP_MPY_wvf_snd.mp3\n"
          ]
        },
        {
          "output_type": "stream",
          "name": "stderr",
          "text": [
            "100%|██████████| 221/221 [00:00<00:00, 572.20it/s]"
          ]
        },
        {
          "output_type": "stream",
          "name": "stdout",
          "text": [
            "[MoviePy] Done.\n",
            "[MoviePy] Writing video drive/My Drive/Colab Notebooks/using a wrench videos/clipped/Chaves De Cano (Grifo) Emborrachada Lee Tools.mp4\n"
          ]
        },
        {
          "output_type": "stream",
          "name": "stderr",
          "text": [
            "\n",
            "100%|█████████▉| 300/301 [00:03<00:00, 80.57it/s]\n"
          ]
        },
        {
          "output_type": "stream",
          "name": "stdout",
          "text": [
            "[MoviePy] Done.\n",
            "[MoviePy] >>>> Video ready: drive/My Drive/Colab Notebooks/using a wrench videos/clipped/Chaves De Cano (Grifo) Emborrachada Lee Tools.mp4 \n",
            "\n",
            "Y05azCh1Ijw is unavailable\n",
            "Downloading Adjustable Metal Wrench Keychain for Gift  -  SILVER - Gearbest | size = 19.090828 mb\n",
            "[MoviePy] >>>> Building video drive/My Drive/Colab Notebooks/using a wrench videos/clipped/Adjustable Metal Wrench Keychain for Gift  -  SILVER - Gearbest.mp4\n",
            "[MoviePy] Writing audio in Adjustable Metal Wrench Keychain for Gift  -  SILVER - GearbestTEMP_MPY_wvf_snd.mp3\n"
          ]
        },
        {
          "output_type": "stream",
          "name": "stderr",
          "text": [
            "100%|██████████| 221/221 [00:00<00:00, 514.97it/s]"
          ]
        },
        {
          "output_type": "stream",
          "name": "stdout",
          "text": [
            "[MoviePy] Done.\n",
            "[MoviePy] Writing video drive/My Drive/Colab Notebooks/using a wrench videos/clipped/Adjustable Metal Wrench Keychain for Gift  -  SILVER - Gearbest.mp4\n"
          ]
        },
        {
          "output_type": "stream",
          "name": "stderr",
          "text": [
            "\n",
            "100%|█████████▉| 300/301 [00:21<00:00, 14.16it/s]\n"
          ]
        },
        {
          "output_type": "stream",
          "name": "stdout",
          "text": [
            "[MoviePy] Done.\n",
            "[MoviePy] >>>> Video ready: drive/My Drive/Colab Notebooks/using a wrench videos/clipped/Adjustable Metal Wrench Keychain for Gift  -  SILVER - Gearbest.mp4 \n",
            "\n",
            "Downloading IREGA 92WR adjustable wrench. Reversible Jaw. Nut & Pipe | size = 16.597026 mb\n",
            "[MoviePy] >>>> Building video drive/My Drive/Colab Notebooks/using a wrench videos/clipped/IREGA 92WR adjustable wrench. Reversible Jaw. Nut & Pipe.mp4\n",
            "[MoviePy] Writing audio in IREGA 92WR adjustable wrench. Reversible Jaw. Nut & PipeTEMP_MPY_wvf_snd.mp3\n"
          ]
        },
        {
          "output_type": "stream",
          "name": "stderr",
          "text": [
            "100%|██████████| 221/221 [00:00<00:00, 384.80it/s]"
          ]
        },
        {
          "output_type": "stream",
          "name": "stdout",
          "text": [
            "[MoviePy] Done.\n",
            "[MoviePy] Writing video drive/My Drive/Colab Notebooks/using a wrench videos/clipped/IREGA 92WR adjustable wrench. Reversible Jaw. Nut & Pipe.mp4\n"
          ]
        },
        {
          "output_type": "stream",
          "name": "stderr",
          "text": [
            "\n",
            "100%|█████████▉| 250/251 [00:14<00:00, 17.26it/s]\n"
          ]
        },
        {
          "output_type": "stream",
          "name": "stdout",
          "text": [
            "[MoviePy] Done.\n",
            "[MoviePy] >>>> Video ready: drive/My Drive/Colab Notebooks/using a wrench videos/clipped/IREGA 92WR adjustable wrench. Reversible Jaw. Nut & Pipe.mp4 \n",
            "\n",
            "Downloading Muster Auto Dual Head Quick Wrench 8~32mm | size = 13.221732 mb\n",
            "[MoviePy] >>>> Building video drive/My Drive/Colab Notebooks/using a wrench videos/clipped/Muster Auto Dual Head Quick Wrench 8~32mm.mp4\n",
            "[MoviePy] Writing audio in Muster Auto Dual Head Quick Wrench 8~32mmTEMP_MPY_wvf_snd.mp3\n"
          ]
        },
        {
          "output_type": "stream",
          "name": "stderr",
          "text": [
            "100%|██████████| 221/221 [00:00<00:00, 445.86it/s]"
          ]
        },
        {
          "output_type": "stream",
          "name": "stdout",
          "text": [
            "[MoviePy] Done.\n",
            "[MoviePy] Writing video drive/My Drive/Colab Notebooks/using a wrench videos/clipped/Muster Auto Dual Head Quick Wrench 8~32mm.mp4\n"
          ]
        },
        {
          "output_type": "stream",
          "name": "stderr",
          "text": [
            "\n",
            "100%|██████████| 300/300 [00:19<00:00, 15.03it/s]\n"
          ]
        },
        {
          "output_type": "stream",
          "name": "stdout",
          "text": [
            "[MoviePy] Done.\n",
            "[MoviePy] >>>> Video ready: drive/My Drive/Colab Notebooks/using a wrench videos/clipped/Muster Auto Dual Head Quick Wrench 8~32mm.mp4 \n",
            "\n",
            "Downloading 🔐 How to Open Lock with Pliers and Wrench 🔑 ELITE LIFE HACKS 🛠 | size = 44.147658 mb\n",
            "[MoviePy] >>>> Building video drive/My Drive/Colab Notebooks/using a wrench videos/clipped/🔐 How to Open Lock with Pliers and Wrench 🔑 ELITE LIFE HACKS 🛠.mp4\n",
            "[MoviePy] Writing audio in 🔐 How to Open Lock with Pliers and Wrench 🔑 ELITE LIFE HACKS 🛠TEMP_MPY_wvf_snd.mp3\n"
          ]
        },
        {
          "output_type": "stream",
          "name": "stderr",
          "text": [
            "100%|██████████| 221/221 [00:00<00:00, 394.22it/s]"
          ]
        },
        {
          "output_type": "stream",
          "name": "stdout",
          "text": [
            "[MoviePy] Done.\n",
            "[MoviePy] Writing video drive/My Drive/Colab Notebooks/using a wrench videos/clipped/🔐 How to Open Lock with Pliers and Wrench 🔑 ELITE LIFE HACKS 🛠.mp4\n"
          ]
        },
        {
          "output_type": "stream",
          "name": "stderr",
          "text": [
            "\n",
            "100%|█████████▉| 300/301 [00:16<00:00, 18.22it/s]\n"
          ]
        },
        {
          "output_type": "stream",
          "name": "stdout",
          "text": [
            "[MoviePy] Done.\n",
            "[MoviePy] >>>> Video ready: drive/My Drive/Colab Notebooks/using a wrench videos/clipped/🔐 How to Open Lock with Pliers and Wrench 🔑 ELITE LIFE HACKS 🛠.mp4 \n",
            "\n",
            "Downloading Introduction to Spanners | size = 7.835423 mb\n",
            "[MoviePy] >>>> Building video drive/My Drive/Colab Notebooks/using a wrench videos/clipped/Introduction to Spanners.mp4\n",
            "[MoviePy] Writing audio in Introduction to SpannersTEMP_MPY_wvf_snd.mp3\n"
          ]
        },
        {
          "output_type": "stream",
          "name": "stderr",
          "text": [
            "100%|██████████| 221/221 [00:00<00:00, 461.65it/s]"
          ]
        },
        {
          "output_type": "stream",
          "name": "stdout",
          "text": [
            "[MoviePy] Done.\n",
            "[MoviePy] Writing video drive/My Drive/Colab Notebooks/using a wrench videos/clipped/Introduction to Spanners.mp4\n"
          ]
        },
        {
          "output_type": "stream",
          "name": "stderr",
          "text": [
            "\n",
            "100%|█████████▉| 300/301 [00:02<00:00, 136.58it/s]\n"
          ]
        },
        {
          "output_type": "stream",
          "name": "stdout",
          "text": [
            "[MoviePy] Done.\n",
            "[MoviePy] >>>> Video ready: drive/My Drive/Colab Notebooks/using a wrench videos/clipped/Introduction to Spanners.mp4 \n",
            "\n",
            "Downloading Tiger Wrench Deluxe Socket Wrench | size = 110.567744 mb\n",
            "[MoviePy] >>>> Building video drive/My Drive/Colab Notebooks/using a wrench videos/clipped/Tiger Wrench Deluxe Socket Wrench.mp4\n",
            "[MoviePy] Writing audio in Tiger Wrench Deluxe Socket WrenchTEMP_MPY_wvf_snd.mp3\n"
          ]
        },
        {
          "output_type": "stream",
          "name": "stderr",
          "text": [
            "100%|██████████| 221/221 [00:00<00:00, 640.85it/s]"
          ]
        },
        {
          "output_type": "stream",
          "name": "stdout",
          "text": [
            "[MoviePy] Done.\n",
            "[MoviePy] Writing video drive/My Drive/Colab Notebooks/using a wrench videos/clipped/Tiger Wrench Deluxe Socket Wrench.mp4\n"
          ]
        },
        {
          "output_type": "stream",
          "name": "stderr",
          "text": [
            "\n",
            "100%|██████████| 300/300 [00:17<00:00, 17.12it/s]\n"
          ]
        },
        {
          "output_type": "stream",
          "name": "stdout",
          "text": [
            "[MoviePy] Done.\n",
            "[MoviePy] >>>> Video ready: drive/My Drive/Colab Notebooks/using a wrench videos/clipped/Tiger Wrench Deluxe Socket Wrench.mp4 \n",
            "\n",
            "Downloading ~Motorized Open-End Wrench~ | size = 1.174835 mb\n",
            "[MoviePy] >>>> Building video drive/My Drive/Colab Notebooks/using a wrench videos/clipped/~Motorized Open-End Wrench~.mp4\n",
            "[MoviePy] Writing audio in ~Motorized Open-End Wrench~TEMP_MPY_wvf_snd.mp3\n"
          ]
        },
        {
          "output_type": "stream",
          "name": "stderr",
          "text": [
            "100%|██████████| 221/221 [00:00<00:00, 724.54it/s]"
          ]
        },
        {
          "output_type": "stream",
          "name": "stdout",
          "text": [
            "[MoviePy] Done.\n",
            "[MoviePy] Writing video drive/My Drive/Colab Notebooks/using a wrench videos/clipped/~Motorized Open-End Wrench~.mp4\n"
          ]
        },
        {
          "output_type": "stream",
          "name": "stderr",
          "text": [
            "\n",
            "100%|█████████▉| 300/301 [00:02<00:00, 109.26it/s]\n"
          ]
        },
        {
          "output_type": "stream",
          "name": "stdout",
          "text": [
            "[MoviePy] Done.\n",
            "[MoviePy] >>>> Video ready: drive/My Drive/Colab Notebooks/using a wrench videos/clipped/~Motorized Open-End Wrench~.mp4 \n",
            "\n",
            "Downloading Cassette wrench 1670/2BI | Product Overview | Unior Bike Tools | size = 24.791127 mb\n",
            "[MoviePy] >>>> Building video drive/My Drive/Colab Notebooks/using a wrench videos/clipped/Cassette wrench 16702BI  Product Overview  Unior Bike Tools.mp4\n",
            "[MoviePy] Writing audio in Cassette wrench 16702BI  Product Overview  Unior Bike ToolsTEMP_MPY_wvf_snd.mp3\n"
          ]
        },
        {
          "output_type": "stream",
          "name": "stderr",
          "text": [
            "100%|██████████| 221/221 [00:00<00:00, 468.32it/s]"
          ]
        },
        {
          "output_type": "stream",
          "name": "stdout",
          "text": [
            "[MoviePy] Done.\n",
            "[MoviePy] Writing video drive/My Drive/Colab Notebooks/using a wrench videos/clipped/Cassette wrench 16702BI  Product Overview  Unior Bike Tools.mp4\n"
          ]
        },
        {
          "output_type": "stream",
          "name": "stderr",
          "text": [
            "\n",
            "100%|█████████▉| 250/251 [00:11<00:00, 21.48it/s]\n"
          ]
        },
        {
          "output_type": "stream",
          "name": "stdout",
          "text": [
            "[MoviePy] Done.\n",
            "[MoviePy] >>>> Video ready: drive/My Drive/Colab Notebooks/using a wrench videos/clipped/Cassette wrench 16702BI  Product Overview  Unior Bike Tools.mp4 \n",
            "\n",
            "Downloading Diaphragm Wrench cut1.mp4 | size = 0.876208 mb\n",
            "Downloading Juego de 10 llaves planas de carraca | size = 2.831526 mb\n",
            "[MoviePy] >>>> Building video drive/My Drive/Colab Notebooks/using a wrench videos/clipped/Juego de 10 llaves planas de carraca.mp4\n",
            "[MoviePy] Writing audio in Juego de 10 llaves planas de carracaTEMP_MPY_wvf_snd.mp3\n"
          ]
        },
        {
          "output_type": "stream",
          "name": "stderr",
          "text": [
            "100%|██████████| 221/221 [00:00<00:00, 1133.02it/s]\n"
          ]
        },
        {
          "output_type": "stream",
          "name": "stdout",
          "text": [
            "[MoviePy] Done.\n",
            "[MoviePy] Writing video drive/My Drive/Colab Notebooks/using a wrench videos/clipped/Juego de 10 llaves planas de carraca.mp4\n"
          ]
        },
        {
          "output_type": "stream",
          "name": "stderr",
          "text": [
            "100%|█████████▉| 300/301 [00:03<00:00, 77.63it/s]\n"
          ]
        },
        {
          "output_type": "stream",
          "name": "stdout",
          "text": [
            "[MoviePy] Done.\n",
            "[MoviePy] >>>> Video ready: drive/My Drive/Colab Notebooks/using a wrench videos/clipped/Juego de 10 llaves planas de carraca.mp4 \n",
            "\n",
            "Downloading 4 PIECE ADJUSTABLE/REVERSIBLE WRENCH BUNDLE - SAJPW4IR | size = 15.002859 mb\n",
            "[MoviePy] >>>> Building video drive/My Drive/Colab Notebooks/using a wrench videos/clipped/4 PIECE ADJUSTABLEREVERSIBLE WRENCH BUNDLE - SAJPW4IR.mp4\n",
            "[MoviePy] Writing audio in 4 PIECE ADJUSTABLEREVERSIBLE WRENCH BUNDLE - SAJPW4IRTEMP_MPY_wvf_snd.mp3\n"
          ]
        },
        {
          "output_type": "stream",
          "name": "stderr",
          "text": [
            "100%|██████████| 221/221 [00:00<00:00, 360.77it/s]"
          ]
        },
        {
          "output_type": "stream",
          "name": "stdout",
          "text": [
            "[MoviePy] Done.\n",
            "[MoviePy] Writing video drive/My Drive/Colab Notebooks/using a wrench videos/clipped/4 PIECE ADJUSTABLEREVERSIBLE WRENCH BUNDLE - SAJPW4IR.mp4\n"
          ]
        },
        {
          "output_type": "stream",
          "name": "stderr",
          "text": [
            "\n",
            "100%|█████████▉| 250/251 [00:14<00:00, 16.97it/s]\n"
          ]
        },
        {
          "output_type": "stream",
          "name": "stdout",
          "text": [
            "[MoviePy] Done.\n",
            "[MoviePy] >>>> Video ready: drive/My Drive/Colab Notebooks/using a wrench videos/clipped/4 PIECE ADJUSTABLEREVERSIBLE WRENCH BUNDLE - SAJPW4IR.mp4 \n",
            "\n",
            "Downloading Magic Wrench 45 | size = 18.900317 mb\n",
            "[MoviePy] >>>> Building video drive/My Drive/Colab Notebooks/using a wrench videos/clipped/Magic Wrench 45.mp4\n",
            "[MoviePy] Writing audio in Magic Wrench 45TEMP_MPY_wvf_snd.mp3\n"
          ]
        },
        {
          "output_type": "stream",
          "name": "stderr",
          "text": [
            "100%|██████████| 221/221 [00:00<00:00, 491.31it/s]"
          ]
        },
        {
          "output_type": "stream",
          "name": "stdout",
          "text": [
            "[MoviePy] Done.\n"
          ]
        },
        {
          "output_type": "stream",
          "name": "stderr",
          "text": [
            "\n"
          ]
        },
        {
          "output_type": "stream",
          "name": "stdout",
          "text": [
            "[MoviePy] Writing video drive/My Drive/Colab Notebooks/using a wrench videos/clipped/Magic Wrench 45.mp4\n"
          ]
        },
        {
          "output_type": "stream",
          "name": "stderr",
          "text": [
            "100%|██████████| 300/300 [00:21<00:00, 13.77it/s]\n"
          ]
        },
        {
          "output_type": "stream",
          "name": "stdout",
          "text": [
            "[MoviePy] Done.\n",
            "[MoviePy] >>>> Video ready: drive/My Drive/Colab Notebooks/using a wrench videos/clipped/Magic Wrench 45.mp4 \n",
            "\n",
            "Downloading pipe wrench | size = 0.460534 mb\n",
            "[MoviePy] >>>> Building video drive/My Drive/Colab Notebooks/using a wrench videos/clipped/pipe wrench.mp4\n",
            "[MoviePy] Writing audio in pipe wrenchTEMP_MPY_wvf_snd.mp3\n"
          ]
        },
        {
          "output_type": "stream",
          "name": "stderr",
          "text": [
            "100%|██████████| 221/221 [00:00<00:00, 837.06it/s]"
          ]
        },
        {
          "output_type": "stream",
          "name": "stdout",
          "text": [
            "[MoviePy] Done.\n",
            "[MoviePy] Writing video drive/My Drive/Colab Notebooks/using a wrench videos/clipped/pipe wrench.mp4\n"
          ]
        },
        {
          "output_type": "stream",
          "name": "stderr",
          "text": [
            "\n",
            "100%|█████████▉| 300/301 [00:01<00:00, 153.05it/s]\n"
          ]
        },
        {
          "output_type": "stream",
          "name": "stdout",
          "text": [
            "[MoviePy] Done.\n",
            "[MoviePy] >>>> Video ready: drive/My Drive/Colab Notebooks/using a wrench videos/clipped/pipe wrench.mp4 \n",
            "\n",
            "ZAdc2jVbSOQ is unavailable\n",
            "Downloading Mastercraft Twist Power Combination Spanner | size = 4.059314 mb\n",
            "[MoviePy] >>>> Building video drive/My Drive/Colab Notebooks/using a wrench videos/clipped/Mastercraft Twist Power Combination Spanner.mp4\n",
            "[MoviePy] Writing audio in Mastercraft Twist Power Combination SpannerTEMP_MPY_wvf_snd.mp3\n"
          ]
        },
        {
          "output_type": "stream",
          "name": "stderr",
          "text": [
            "100%|██████████| 221/221 [00:00<00:00, 425.44it/s]"
          ]
        },
        {
          "output_type": "stream",
          "name": "stdout",
          "text": [
            "[MoviePy] Done.\n",
            "[MoviePy] Writing video drive/My Drive/Colab Notebooks/using a wrench videos/clipped/Mastercraft Twist Power Combination Spanner.mp4\n"
          ]
        },
        {
          "output_type": "stream",
          "name": "stderr",
          "text": [
            "\n",
            "100%|█████████▉| 250/251 [00:02<00:00, 84.49it/s]\n"
          ]
        },
        {
          "output_type": "stream",
          "name": "stdout",
          "text": [
            "[MoviePy] Done.\n",
            "[MoviePy] >>>> Video ready: drive/My Drive/Colab Notebooks/using a wrench videos/clipped/Mastercraft Twist Power Combination Spanner.mp4 \n",
            "\n",
            "Downloading PROTO Tethering Solutions | size = 35.16826 mb\n",
            "[MoviePy] >>>> Building video drive/My Drive/Colab Notebooks/using a wrench videos/clipped/PROTO Tethering Solutions.mp4\n",
            "[MoviePy] Writing audio in PROTO Tethering SolutionsTEMP_MPY_wvf_snd.mp3\n"
          ]
        },
        {
          "output_type": "stream",
          "name": "stderr",
          "text": [
            "100%|██████████| 221/221 [00:00<00:00, 447.53it/s]"
          ]
        },
        {
          "output_type": "stream",
          "name": "stdout",
          "text": [
            "[MoviePy] Done.\n",
            "[MoviePy] Writing video drive/My Drive/Colab Notebooks/using a wrench videos/clipped/PROTO Tethering Solutions.mp4\n"
          ]
        },
        {
          "output_type": "stream",
          "name": "stderr",
          "text": [
            "\n",
            "100%|██████████| 240/240 [00:03<00:00, 63.33it/s]\n"
          ]
        },
        {
          "output_type": "stream",
          "name": "stdout",
          "text": [
            "[MoviePy] Done.\n",
            "[MoviePy] >>>> Video ready: drive/My Drive/Colab Notebooks/using a wrench videos/clipped/PROTO Tethering Solutions.mp4 \n",
            "\n",
            "Downloading Auto Adjustable wrench(Ratchet function spanner) | size = 2.183917 mb\n",
            "[MoviePy] >>>> Building video drive/My Drive/Colab Notebooks/using a wrench videos/clipped/Auto Adjustable wrench(Ratchet function spanner).mp4\n",
            "[MoviePy] Writing audio in Auto Adjustable wrench(Ratchet function spanner)TEMP_MPY_wvf_snd.mp3\n"
          ]
        },
        {
          "output_type": "stream",
          "name": "stderr",
          "text": [
            "100%|██████████| 221/221 [00:00<00:00, 445.13it/s]"
          ]
        },
        {
          "output_type": "stream",
          "name": "stdout",
          "text": [
            "[MoviePy] Done.\n",
            "[MoviePy] Writing video drive/My Drive/Colab Notebooks/using a wrench videos/clipped/Auto Adjustable wrench(Ratchet function spanner).mp4\n"
          ]
        },
        {
          "output_type": "stream",
          "name": "stderr",
          "text": [
            "\n",
            "100%|██████████| 300/300 [00:07<00:00, 38.88it/s]\n"
          ]
        },
        {
          "output_type": "stream",
          "name": "stdout",
          "text": [
            "[MoviePy] Done.\n",
            "[MoviePy] >>>> Video ready: drive/My Drive/Colab Notebooks/using a wrench videos/clipped/Auto Adjustable wrench(Ratchet function spanner).mp4 \n",
            "\n",
            "Downloading New Snap'n Grip Self-Adjusting Heavy Duty Quick Wrench | size = 1.575743 mb\n",
            "[MoviePy] >>>> Building video drive/My Drive/Colab Notebooks/using a wrench videos/clipped/New Snap'n Grip Self-Adjusting Heavy Duty Quick Wrench.mp4\n",
            "[MoviePy] Writing audio in New Snap'n Grip Self-Adjusting Heavy Duty Quick WrenchTEMP_MPY_wvf_snd.mp3\n"
          ]
        },
        {
          "output_type": "stream",
          "name": "stderr",
          "text": [
            "100%|██████████| 221/221 [00:00<00:00, 744.69it/s]"
          ]
        },
        {
          "output_type": "stream",
          "name": "stdout",
          "text": [
            "[MoviePy] Done.\n",
            "[MoviePy] Writing video drive/My Drive/Colab Notebooks/using a wrench videos/clipped/New Snap'n Grip Self-Adjusting Heavy Duty Quick Wrench.mp4\n"
          ]
        },
        {
          "output_type": "stream",
          "name": "stderr",
          "text": [
            "\n",
            "100%|█████████▉| 300/301 [00:03<00:00, 82.61it/s]\n"
          ]
        },
        {
          "output_type": "stream",
          "name": "stdout",
          "text": [
            "[MoviePy] Done.\n",
            "[MoviePy] >>>> Video ready: drive/My Drive/Colab Notebooks/using a wrench videos/clipped/New Snap'n Grip Self-Adjusting Heavy Duty Quick Wrench.mp4 \n",
            "\n",
            "ZheN38VcZiQ is a private video\n",
            "Downloading Wrench not working | size = 1.909031 mb\n",
            "[MoviePy] >>>> Building video drive/My Drive/Colab Notebooks/using a wrench videos/clipped/Wrench not working.mp4\n",
            "[MoviePy] Writing audio in Wrench not workingTEMP_MPY_wvf_snd.mp3\n"
          ]
        },
        {
          "output_type": "stream",
          "name": "stderr",
          "text": [
            "100%|██████████| 221/221 [00:00<00:00, 585.73it/s]"
          ]
        },
        {
          "output_type": "stream",
          "name": "stdout",
          "text": [
            "[MoviePy] Done.\n",
            "[MoviePy] Writing video drive/My Drive/Colab Notebooks/using a wrench videos/clipped/Wrench not working.mp4\n"
          ]
        },
        {
          "output_type": "stream",
          "name": "stderr",
          "text": [
            "\n",
            "100%|█████████▉| 300/301 [00:07<00:00, 42.83it/s]\n"
          ]
        },
        {
          "output_type": "stream",
          "name": "stdout",
          "text": [
            "[MoviePy] Done.\n",
            "[MoviePy] >>>> Video ready: drive/My Drive/Colab Notebooks/using a wrench videos/clipped/Wrench not working.mp4 \n",
            "\n",
            "Downloading Chave universal Gator Grip ETC - Versátil e Multiuso | size = 11.396339 mb\n",
            "[MoviePy] >>>> Building video drive/My Drive/Colab Notebooks/using a wrench videos/clipped/Chave universal Gator Grip ETC - Versátil e Multiuso.mp4\n",
            "[MoviePy] Writing audio in Chave universal Gator Grip ETC - Versátil e MultiusoTEMP_MPY_wvf_snd.mp3\n"
          ]
        },
        {
          "output_type": "stream",
          "name": "stderr",
          "text": [
            "100%|██████████| 221/221 [00:00<00:00, 397.38it/s]"
          ]
        },
        {
          "output_type": "stream",
          "name": "stdout",
          "text": [
            "[MoviePy] Done.\n",
            "[MoviePy] Writing video drive/My Drive/Colab Notebooks/using a wrench videos/clipped/Chave universal Gator Grip ETC - Versátil e Multiuso.mp4\n"
          ]
        },
        {
          "output_type": "stream",
          "name": "stderr",
          "text": [
            "\n",
            "100%|██████████| 300/300 [00:13<00:00, 21.55it/s]\n"
          ]
        },
        {
          "output_type": "stream",
          "name": "stdout",
          "text": [
            "[MoviePy] Done.\n",
            "[MoviePy] >>>> Video ready: drive/My Drive/Colab Notebooks/using a wrench videos/clipped/Chave universal Gator Grip ETC - Versátil e Multiuso.mp4 \n",
            "\n",
            "Downloading The Size 4 Wrench | size = 17.63755 mb\n",
            "[MoviePy] >>>> Building video drive/My Drive/Colab Notebooks/using a wrench videos/clipped/The Size 4 Wrench.mp4\n",
            "[MoviePy] Writing audio in The Size 4 WrenchTEMP_MPY_wvf_snd.mp3\n"
          ]
        },
        {
          "output_type": "stream",
          "name": "stderr",
          "text": [
            "100%|██████████| 221/221 [00:00<00:00, 752.64it/s]\n"
          ]
        },
        {
          "output_type": "stream",
          "name": "stdout",
          "text": [
            "[MoviePy] Done.\n",
            "[MoviePy] Writing video drive/My Drive/Colab Notebooks/using a wrench videos/clipped/The Size 4 Wrench.mp4\n"
          ]
        },
        {
          "output_type": "stream",
          "name": "stderr",
          "text": [
            "100%|██████████| 240/240 [00:14<00:00, 16.79it/s]\n"
          ]
        },
        {
          "output_type": "stream",
          "name": "stdout",
          "text": [
            "[MoviePy] Done.\n",
            "[MoviePy] >>>> Video ready: drive/My Drive/Colab Notebooks/using a wrench videos/clipped/The Size 4 Wrench.mp4 \n",
            "\n",
            "Downloading Super Wrench | size = 0.965085 mb\n",
            "[MoviePy] >>>> Building video drive/My Drive/Colab Notebooks/using a wrench videos/clipped/Super Wrench.mp4\n",
            "[MoviePy] Writing audio in Super WrenchTEMP_MPY_wvf_snd.mp3\n"
          ]
        },
        {
          "output_type": "stream",
          "name": "stderr",
          "text": [
            "  0%|          | 0/221 [00:00<?, ?it/s]"
          ]
        },
        {
          "output_type": "stream",
          "name": "stdout",
          "text": [
            "index -1 is out of bounds for axis 0 with size 0\n"
          ]
        },
        {
          "output_type": "stream",
          "name": "stderr",
          "text": [
            "\n"
          ]
        },
        {
          "output_type": "stream",
          "name": "stdout",
          "text": [
            "Downloading The king of wrench | size = 4.867705 mb\n",
            "[MoviePy] >>>> Building video drive/My Drive/Colab Notebooks/using a wrench videos/clipped/The king of wrench.mp4\n",
            "[MoviePy] Writing audio in The king of wrenchTEMP_MPY_wvf_snd.mp3\n"
          ]
        },
        {
          "output_type": "stream",
          "name": "stderr",
          "text": [
            "100%|██████████| 221/221 [00:00<00:00, 490.31it/s]"
          ]
        },
        {
          "output_type": "stream",
          "name": "stdout",
          "text": [
            "[MoviePy] Done.\n",
            "[MoviePy] Writing video drive/My Drive/Colab Notebooks/using a wrench videos/clipped/The king of wrench.mp4\n"
          ]
        },
        {
          "output_type": "stream",
          "name": "stderr",
          "text": [
            "\n",
            "100%|██████████| 300/300 [00:09<00:00, 30.03it/s]\n"
          ]
        },
        {
          "output_type": "stream",
          "name": "stdout",
          "text": [
            "[MoviePy] Done.\n",
            "[MoviePy] >>>> Video ready: drive/My Drive/Colab Notebooks/using a wrench videos/clipped/The king of wrench.mp4 \n",
            "\n",
            "Downloading Comic spanner | size = 1.776182 mb\n",
            "[MoviePy] >>>> Building video drive/My Drive/Colab Notebooks/using a wrench videos/clipped/Comic spanner.mp4\n",
            "[MoviePy] Writing audio in Comic spannerTEMP_MPY_wvf_snd.mp3\n"
          ]
        },
        {
          "output_type": "stream",
          "name": "stderr",
          "text": [
            "100%|██████████| 221/221 [00:00<00:00, 554.07it/s]\n"
          ]
        },
        {
          "output_type": "stream",
          "name": "stdout",
          "text": [
            "[MoviePy] Done.\n",
            "[MoviePy] Writing video drive/My Drive/Colab Notebooks/using a wrench videos/clipped/Comic spanner.mp4\n"
          ]
        },
        {
          "output_type": "stream",
          "name": "stderr",
          "text": [
            "100%|█████████▉| 300/301 [00:03<00:00, 97.23it/s]\n"
          ]
        },
        {
          "output_type": "stream",
          "name": "stdout",
          "text": [
            "[MoviePy] Done.\n",
            "[MoviePy] >>>> Video ready: drive/My Drive/Colab Notebooks/using a wrench videos/clipped/Comic spanner.mp4 \n",
            "\n",
            "Downloading Is this the best socket set ever? | size = 85.079693 mb\n",
            "[MoviePy] >>>> Building video drive/My Drive/Colab Notebooks/using a wrench videos/clipped/Is this the best socket set ever.mp4\n",
            "[MoviePy] Writing audio in Is this the best socket set everTEMP_MPY_wvf_snd.mp3\n"
          ]
        },
        {
          "output_type": "stream",
          "name": "stderr",
          "text": [
            "100%|██████████| 221/221 [00:00<00:00, 542.85it/s]"
          ]
        },
        {
          "output_type": "stream",
          "name": "stdout",
          "text": [
            "[MoviePy] Done.\n",
            "[MoviePy] Writing video drive/My Drive/Colab Notebooks/using a wrench videos/clipped/Is this the best socket set ever.mp4\n"
          ]
        },
        {
          "output_type": "stream",
          "name": "stderr",
          "text": [
            "\n",
            "100%|█████████▉| 250/251 [00:16<00:00, 15.03it/s]\n"
          ]
        },
        {
          "output_type": "stream",
          "name": "stdout",
          "text": [
            "[MoviePy] Done.\n",
            "[MoviePy] >>>> Video ready: drive/My Drive/Colab Notebooks/using a wrench videos/clipped/Is this the best socket set ever.mp4 \n",
            "\n",
            "Downloading Llave combinada con carraca 285 KA USAG | size = 25.071122 mb\n",
            "[MoviePy] >>>> Building video drive/My Drive/Colab Notebooks/using a wrench videos/clipped/Llave combinada con carraca 285 KA USAG.mp4\n",
            "[MoviePy] Writing audio in Llave combinada con carraca 285 KA USAGTEMP_MPY_wvf_snd.mp3\n"
          ]
        },
        {
          "output_type": "stream",
          "name": "stderr",
          "text": [
            "100%|██████████| 221/221 [00:00<00:00, 439.14it/s]"
          ]
        },
        {
          "output_type": "stream",
          "name": "stdout",
          "text": [
            "[MoviePy] Done.\n",
            "[MoviePy] Writing video drive/My Drive/Colab Notebooks/using a wrench videos/clipped/Llave combinada con carraca 285 KA USAG.mp4\n"
          ]
        },
        {
          "output_type": "stream",
          "name": "stderr",
          "text": [
            "\n",
            "100%|█████████▉| 250/251 [00:15<00:00, 16.38it/s]\n"
          ]
        },
        {
          "output_type": "stream",
          "name": "stdout",
          "text": [
            "[MoviePy] Done.\n",
            "[MoviePy] >>>> Video ready: drive/My Drive/Colab Notebooks/using a wrench videos/clipped/Llave combinada con carraca 285 KA USAG.mp4 \n",
            "\n",
            "_bWCxkSqH3k is a private video\n",
            "Downloading Combination wrenches | size = 29.934137 mb\n",
            "[MoviePy] >>>> Building video drive/My Drive/Colab Notebooks/using a wrench videos/clipped/Combination wrenches.mp4\n",
            "[MoviePy] Writing audio in Combination wrenchesTEMP_MPY_wvf_snd.mp3\n"
          ]
        },
        {
          "output_type": "stream",
          "name": "stderr",
          "text": [
            "100%|██████████| 221/221 [00:00<00:00, 551.70it/s]"
          ]
        },
        {
          "output_type": "stream",
          "name": "stdout",
          "text": [
            "[MoviePy] Done.\n",
            "[MoviePy] Writing video drive/My Drive/Colab Notebooks/using a wrench videos/clipped/Combination wrenches.mp4\n"
          ]
        },
        {
          "output_type": "stream",
          "name": "stderr",
          "text": [
            "\n",
            "100%|█████████▉| 250/251 [00:03<00:00, 73.92it/s]\n"
          ]
        },
        {
          "output_type": "stream",
          "name": "stdout",
          "text": [
            "[MoviePy] Done.\n",
            "[MoviePy] >>>> Video ready: drive/My Drive/Colab Notebooks/using a wrench videos/clipped/Combination wrenches.mp4 \n",
            "\n",
            "_pexvG3l6js is unavailable\n",
            "Downloading Trick To Extend Your Basic Open End Wrench(not a double open end) | size = 142.48475 mb\n",
            "[MoviePy] >>>> Building video drive/My Drive/Colab Notebooks/using a wrench videos/clipped/Trick To Extend Your Basic Open End Wrench(not a double open end).mp4\n",
            "[MoviePy] Writing audio in Trick To Extend Your Basic Open End Wrench(not a double open end)TEMP_MPY_wvf_snd.mp3\n"
          ]
        },
        {
          "output_type": "stream",
          "name": "stderr",
          "text": [
            "100%|██████████| 221/221 [00:00<00:00, 356.45it/s]"
          ]
        },
        {
          "output_type": "stream",
          "name": "stdout",
          "text": [
            "[MoviePy] Done.\n",
            "[MoviePy] Writing video drive/My Drive/Colab Notebooks/using a wrench videos/clipped/Trick To Extend Your Basic Open End Wrench(not a double open end).mp4\n"
          ]
        },
        {
          "output_type": "stream",
          "name": "stderr",
          "text": [
            "\n",
            "100%|██████████| 299/299 [00:18<00:00, 16.30it/s]\n"
          ]
        },
        {
          "output_type": "stream",
          "name": "stdout",
          "text": [
            "[MoviePy] Done.\n",
            "[MoviePy] >>>> Video ready: drive/My Drive/Colab Notebooks/using a wrench videos/clipped/Trick To Extend Your Basic Open End Wrench(not a double open end).mp4 \n",
            "\n",
            "Downloading Black & Decker Auto Wrench www.alcatools.co.uk | size = 0.835616 mb\n",
            "[MoviePy] >>>> Building video drive/My Drive/Colab Notebooks/using a wrench videos/clipped/Black & Decker Auto Wrench www.alcatools.co.uk.mp4\n",
            "[MoviePy] Writing audio in Black & Decker Auto Wrench www.alcatools.co.ukTEMP_MPY_wvf_snd.mp3\n"
          ]
        },
        {
          "output_type": "stream",
          "name": "stderr",
          "text": [
            " 92%|█████████▏| 204/221 [00:00<00:00, 586.45it/s]\n"
          ]
        },
        {
          "output_type": "stream",
          "name": "stdout",
          "text": [
            "Error in file drive/My Drive/Colab Notebooks/using a wrench videos/Black & Decker Auto Wrench www.alcatools.co.uk.mp4, Accessing time t=21.23-21.28 seconds, with clip duration=21 seconds, \n",
            "Downloading Scrubs   Knife Wrench! | size = 2.104372 mb\n",
            "[MoviePy] >>>> Building video drive/My Drive/Colab Notebooks/using a wrench videos/clipped/Scrubs   Knife Wrench!.mp4\n",
            "[MoviePy] Writing audio in Scrubs   Knife Wrench!TEMP_MPY_wvf_snd.mp3\n"
          ]
        },
        {
          "output_type": "stream",
          "name": "stderr",
          "text": [
            "100%|██████████| 221/221 [00:00<00:00, 630.04it/s]"
          ]
        },
        {
          "output_type": "stream",
          "name": "stdout",
          "text": [
            "[MoviePy] Done.\n",
            "[MoviePy] Writing video drive/My Drive/Colab Notebooks/using a wrench videos/clipped/Scrubs   Knife Wrench!.mp4\n"
          ]
        },
        {
          "output_type": "stream",
          "name": "stderr",
          "text": [
            "\n",
            "100%|█████████▉| 300/301 [00:03<00:00, 85.97it/s]\n"
          ]
        },
        {
          "output_type": "stream",
          "name": "stdout",
          "text": [
            "[MoviePy] Done.\n",
            "[MoviePy] >>>> Video ready: drive/My Drive/Colab Notebooks/using a wrench videos/clipped/Scrubs   Knife Wrench!.mp4 \n",
            "\n",
            "Downloading New spanner | size = 2.224201 mb\n",
            "[MoviePy] >>>> Building video drive/My Drive/Colab Notebooks/using a wrench videos/clipped/New spanner.mp4\n",
            "[MoviePy] Writing audio in New spannerTEMP_MPY_wvf_snd.mp3\n"
          ]
        },
        {
          "output_type": "stream",
          "name": "stderr",
          "text": [
            "100%|██████████| 221/221 [00:00<00:00, 829.69it/s]"
          ]
        },
        {
          "output_type": "stream",
          "name": "stdout",
          "text": [
            "[MoviePy] Done.\n",
            "[MoviePy] Writing video drive/My Drive/Colab Notebooks/using a wrench videos/clipped/New spanner.mp4\n"
          ]
        },
        {
          "output_type": "stream",
          "name": "stderr",
          "text": [
            "\n",
            "100%|██████████| 299/299 [00:06<00:00, 43.36it/s]\n"
          ]
        },
        {
          "output_type": "stream",
          "name": "stdout",
          "text": [
            "[MoviePy] Done.\n",
            "[MoviePy] >>>> Video ready: drive/My Drive/Colab Notebooks/using a wrench videos/clipped/New spanner.mp4 \n",
            "\n",
            "aA3ZpuWD7OE is a private video\n",
            "Downloading Chave Vortex Belzer | size = 26.06506 mb\n",
            "[MoviePy] >>>> Building video drive/My Drive/Colab Notebooks/using a wrench videos/clipped/Chave Vortex Belzer.mp4\n",
            "[MoviePy] Writing audio in Chave Vortex BelzerTEMP_MPY_wvf_snd.mp3\n"
          ]
        },
        {
          "output_type": "stream",
          "name": "stderr",
          "text": [
            "100%|██████████| 221/221 [00:00<00:00, 412.64it/s]\n"
          ]
        },
        {
          "output_type": "stream",
          "name": "stdout",
          "text": [
            "[MoviePy] Done.\n",
            "[MoviePy] Writing video drive/My Drive/Colab Notebooks/using a wrench videos/clipped/Chave Vortex Belzer.mp4\n"
          ]
        },
        {
          "output_type": "stream",
          "name": "stderr",
          "text": [
            "100%|██████████| 300/300 [00:20<00:00, 14.93it/s]\n"
          ]
        },
        {
          "output_type": "stream",
          "name": "stdout",
          "text": [
            "[MoviePy] Done.\n",
            "[MoviePy] >>>> Video ready: drive/My Drive/Colab Notebooks/using a wrench videos/clipped/Chave Vortex Belzer.mp4 \n",
            "\n",
            "'bitrate'\n",
            "Downloading Instant Action Adjustable Wrench/Spanner Demo Video 01.flv | size = 2.514283 mb\n",
            "[MoviePy] >>>> Building video drive/My Drive/Colab Notebooks/using a wrench videos/clipped/Instant Action Adjustable WrenchSpanner Demo Video 01.flv.mp4\n",
            "[MoviePy] Writing audio in Instant Action Adjustable WrenchSpanner Demo Video 01.flvTEMP_MPY_wvf_snd.mp3\n"
          ]
        },
        {
          "output_type": "stream",
          "name": "stderr",
          "text": [
            "100%|██████████| 221/221 [00:00<00:00, 659.84it/s]"
          ]
        },
        {
          "output_type": "stream",
          "name": "stdout",
          "text": [
            "[MoviePy] Done.\n",
            "[MoviePy] Writing video drive/My Drive/Colab Notebooks/using a wrench videos/clipped/Instant Action Adjustable WrenchSpanner Demo Video 01.flv.mp4\n"
          ]
        },
        {
          "output_type": "stream",
          "name": "stderr",
          "text": [
            "\n",
            " 99%|█████████▉| 150/151 [00:01<00:00, 81.07it/s]\n"
          ]
        },
        {
          "output_type": "stream",
          "name": "stdout",
          "text": [
            "[MoviePy] Done.\n",
            "[MoviePy] >>>> Video ready: drive/My Drive/Colab Notebooks/using a wrench videos/clipped/Instant Action Adjustable WrenchSpanner Demo Video 01.flv.mp4 \n",
            "\n",
            "Downloading One Wrench To Rule Them All! | size = 25.211174 mb\n",
            "[MoviePy] >>>> Building video drive/My Drive/Colab Notebooks/using a wrench videos/clipped/One Wrench To Rule Them All!.mp4\n",
            "[MoviePy] Writing audio in One Wrench To Rule Them All!TEMP_MPY_wvf_snd.mp3\n"
          ]
        },
        {
          "output_type": "stream",
          "name": "stderr",
          "text": [
            "100%|██████████| 221/221 [00:00<00:00, 762.05it/s]"
          ]
        },
        {
          "output_type": "stream",
          "name": "stdout",
          "text": [
            "[MoviePy] Done.\n"
          ]
        },
        {
          "output_type": "stream",
          "name": "stderr",
          "text": [
            "\n"
          ]
        },
        {
          "output_type": "stream",
          "name": "stdout",
          "text": [
            "[MoviePy] Writing video drive/My Drive/Colab Notebooks/using a wrench videos/clipped/One Wrench To Rule Them All!.mp4\n"
          ]
        },
        {
          "output_type": "stream",
          "name": "stderr",
          "text": [
            "100%|██████████| 240/240 [00:14<00:00, 16.33it/s]\n"
          ]
        },
        {
          "output_type": "stream",
          "name": "stdout",
          "text": [
            "[MoviePy] Done.\n",
            "[MoviePy] >>>> Video ready: drive/My Drive/Colab Notebooks/using a wrench videos/clipped/One Wrench To Rule Them All!.mp4 \n",
            "\n",
            "Downloading The Bionic Grip 13-in-1 Adjustable Wrench on QVC | size = 77.144611 mb\n",
            "[MoviePy] >>>> Building video drive/My Drive/Colab Notebooks/using a wrench videos/clipped/The Bionic Grip 13-in-1 Adjustable Wrench on QVC.mp4\n",
            "[MoviePy] Writing audio in The Bionic Grip 13-in-1 Adjustable Wrench on QVCTEMP_MPY_wvf_snd.mp3\n"
          ]
        },
        {
          "output_type": "stream",
          "name": "stderr",
          "text": [
            "100%|██████████| 221/221 [00:00<00:00, 551.18it/s]"
          ]
        },
        {
          "output_type": "stream",
          "name": "stdout",
          "text": [
            "[MoviePy] Done.\n",
            "[MoviePy] Writing video drive/My Drive/Colab Notebooks/using a wrench videos/clipped/The Bionic Grip 13-in-1 Adjustable Wrench on QVC.mp4\n"
          ]
        },
        {
          "output_type": "stream",
          "name": "stderr",
          "text": [
            "\n",
            "100%|██████████| 300/300 [00:15<00:00, 18.87it/s]\n"
          ]
        },
        {
          "output_type": "stream",
          "name": "stdout",
          "text": [
            "[MoviePy] Done.\n",
            "[MoviePy] >>>> Video ready: drive/My Drive/Colab Notebooks/using a wrench videos/clipped/The Bionic Grip 13-in-1 Adjustable Wrench on QVC.mp4 \n",
            "\n",
            "Downloading Custom plunger valve wrench | size = 23.684929 mb\n",
            "[MoviePy] >>>> Building video drive/My Drive/Colab Notebooks/using a wrench videos/clipped/Custom plunger valve wrench.mp4\n",
            "[MoviePy] Writing audio in Custom plunger valve wrenchTEMP_MPY_wvf_snd.mp3\n"
          ]
        },
        {
          "output_type": "stream",
          "name": "stderr",
          "text": [
            "100%|██████████| 221/221 [00:00<00:00, 562.69it/s]"
          ]
        },
        {
          "output_type": "stream",
          "name": "stdout",
          "text": [
            "[MoviePy] Done.\n",
            "[MoviePy] Writing video drive/My Drive/Colab Notebooks/using a wrench videos/clipped/Custom plunger valve wrench.mp4\n"
          ]
        },
        {
          "output_type": "stream",
          "name": "stderr",
          "text": [
            "\n",
            "100%|██████████| 297/297 [00:06<00:00, 47.90it/s]\n"
          ]
        },
        {
          "output_type": "stream",
          "name": "stdout",
          "text": [
            "[MoviePy] Done.\n",
            "[MoviePy] >>>> Video ready: drive/My Drive/Colab Notebooks/using a wrench videos/clipped/Custom plunger valve wrench.mp4 \n",
            "\n",
            "Downloading Skil Speed Slide adjustable multi-wrench | size = 20.250558 mb\n",
            "[MoviePy] >>>> Building video drive/My Drive/Colab Notebooks/using a wrench videos/clipped/Skil Speed Slide adjustable multi-wrench.mp4\n",
            "[MoviePy] Writing audio in Skil Speed Slide adjustable multi-wrenchTEMP_MPY_wvf_snd.mp3\n"
          ]
        },
        {
          "output_type": "stream",
          "name": "stderr",
          "text": [
            "100%|██████████| 221/221 [00:00<00:00, 543.02it/s]"
          ]
        },
        {
          "output_type": "stream",
          "name": "stdout",
          "text": [
            "[MoviePy] Done.\n",
            "[MoviePy] Writing video drive/My Drive/Colab Notebooks/using a wrench videos/clipped/Skil Speed Slide adjustable multi-wrench.mp4\n"
          ]
        },
        {
          "output_type": "stream",
          "name": "stderr",
          "text": [
            "\n",
            "100%|█████████▉| 300/301 [00:16<00:00, 18.13it/s]\n"
          ]
        },
        {
          "output_type": "stream",
          "name": "stdout",
          "text": [
            "[MoviePy] Done.\n",
            "[MoviePy] >>>> Video ready: drive/My Drive/Colab Notebooks/using a wrench videos/clipped/Skil Speed Slide adjustable multi-wrench.mp4 \n",
            "\n",
            "Downloading (4頁) 8” fix master wrench fits Sizes:6-19mm;1/4\"-3/4“ | size = 5.215382 mb\n",
            "[MoviePy] >>>> Building video drive/My Drive/Colab Notebooks/using a wrench videos/clipped/(4頁) 8” fix master wrench fits Sizes6-19mm;14-34“.mp4\n",
            "[MoviePy] Writing audio in (4頁) 8” fix master wrench fits Sizes6-19mm;14-34“TEMP_MPY_wvf_snd.mp3\n"
          ]
        },
        {
          "output_type": "stream",
          "name": "stderr",
          "text": [
            "100%|██████████| 221/221 [00:00<00:00, 524.65it/s]"
          ]
        },
        {
          "output_type": "stream",
          "name": "stdout",
          "text": [
            "[MoviePy] Done.\n",
            "[MoviePy] Writing video drive/My Drive/Colab Notebooks/using a wrench videos/clipped/(4頁) 8” fix master wrench fits Sizes6-19mm;14-34“.mp4\n"
          ]
        },
        {
          "output_type": "stream",
          "name": "stderr",
          "text": [
            "\n",
            "100%|██████████| 300/300 [00:14<00:00, 20.04it/s]\n"
          ]
        },
        {
          "output_type": "stream",
          "name": "stdout",
          "text": [
            "[MoviePy] Done.\n",
            "[MoviePy] >>>> Video ready: drive/My Drive/Colab Notebooks/using a wrench videos/clipped/(4頁) 8” fix master wrench fits Sizes6-19mm;14-34“.mp4 \n",
            "\n",
            "Downloading Bionic Wrench Video 2 | size = 7.151065 mb\n",
            "[MoviePy] >>>> Building video drive/My Drive/Colab Notebooks/using a wrench videos/clipped/Bionic Wrench Video 2.mp4\n",
            "[MoviePy] Writing audio in Bionic Wrench Video 2TEMP_MPY_wvf_snd.mp3\n"
          ]
        },
        {
          "output_type": "stream",
          "name": "stderr",
          "text": [
            "100%|██████████| 221/221 [00:00<00:00, 998.05it/s] "
          ]
        },
        {
          "output_type": "stream",
          "name": "stdout",
          "text": [
            "[MoviePy] Done.\n",
            "[MoviePy] Writing video drive/My Drive/Colab Notebooks/using a wrench videos/clipped/Bionic Wrench Video 2.mp4\n"
          ]
        },
        {
          "output_type": "stream",
          "name": "stderr",
          "text": [
            "\n",
            "100%|██████████| 240/240 [00:14<00:00, 16.05it/s]\n"
          ]
        },
        {
          "output_type": "stream",
          "name": "stdout",
          "text": [
            "[MoviePy] Done.\n",
            "[MoviePy] >>>> Video ready: drive/My Drive/Colab Notebooks/using a wrench videos/clipped/Bionic Wrench Video 2.mp4 \n",
            "\n",
            "Downloading Wera Tools: Joker Metric Wrenches by Wera from AutomationDirect.com | size = 36.692435 mb\n",
            "[MoviePy] >>>> Building video drive/My Drive/Colab Notebooks/using a wrench videos/clipped/Wera Tools Joker Metric Wrenches by Wera from AutomationDirect.com.mp4\n",
            "[MoviePy] Writing audio in Wera Tools Joker Metric Wrenches by Wera from AutomationDirect.comTEMP_MPY_wvf_snd.mp3\n"
          ]
        },
        {
          "output_type": "stream",
          "name": "stderr",
          "text": [
            "100%|██████████| 221/221 [00:00<00:00, 555.48it/s]"
          ]
        },
        {
          "output_type": "stream",
          "name": "stdout",
          "text": [
            "[MoviePy] Done.\n",
            "[MoviePy] Writing video drive/My Drive/Colab Notebooks/using a wrench videos/clipped/Wera Tools Joker Metric Wrenches by Wera from AutomationDirect.com.mp4\n"
          ]
        },
        {
          "output_type": "stream",
          "name": "stderr",
          "text": [
            "\n",
            "100%|██████████| 300/300 [00:14<00:00, 20.43it/s]\n"
          ]
        },
        {
          "output_type": "stream",
          "name": "stdout",
          "text": [
            "[MoviePy] Done.\n",
            "[MoviePy] >>>> Video ready: drive/My Drive/Colab Notebooks/using a wrench videos/clipped/Wera Tools Joker Metric Wrenches by Wera from AutomationDirect.com.mp4 \n",
            "\n",
            "Downloading How To Use An Adjustable Crescent Wrench | size = 6.550538 mb\n",
            "[MoviePy] >>>> Building video drive/My Drive/Colab Notebooks/using a wrench videos/clipped/How To Use An Adjustable Crescent Wrench.mp4\n",
            "[MoviePy] Writing audio in How To Use An Adjustable Crescent WrenchTEMP_MPY_wvf_snd.mp3\n"
          ]
        },
        {
          "output_type": "stream",
          "name": "stderr",
          "text": [
            "100%|██████████| 221/221 [00:00<00:00, 790.66it/s]"
          ]
        },
        {
          "output_type": "stream",
          "name": "stdout",
          "text": [
            "[MoviePy] Done.\n",
            "[MoviePy] Writing video drive/My Drive/Colab Notebooks/using a wrench videos/clipped/How To Use An Adjustable Crescent Wrench.mp4\n"
          ]
        },
        {
          "output_type": "stream",
          "name": "stderr",
          "text": [
            "\n",
            "100%|██████████| 300/300 [00:25<00:00, 11.81it/s]\n"
          ]
        },
        {
          "output_type": "stream",
          "name": "stdout",
          "text": [
            "[MoviePy] Done.\n",
            "[MoviePy] >>>> Video ready: drive/My Drive/Colab Notebooks/using a wrench videos/clipped/How To Use An Adjustable Crescent Wrench.mp4 \n",
            "\n",
            "Downloading Pipe wrenches for public speaking | size = 3.09143 mb\n",
            "[MoviePy] >>>> Building video drive/My Drive/Colab Notebooks/using a wrench videos/clipped/Pipe wrenches for public speaking.mp4\n",
            "[MoviePy] Writing audio in Pipe wrenches for public speakingTEMP_MPY_wvf_snd.mp3\n"
          ]
        },
        {
          "output_type": "stream",
          "name": "stderr",
          "text": [
            "100%|██████████| 221/221 [00:00<00:00, 573.93it/s]"
          ]
        },
        {
          "output_type": "stream",
          "name": "stdout",
          "text": [
            "[MoviePy] Done.\n",
            "[MoviePy] Writing video drive/My Drive/Colab Notebooks/using a wrench videos/clipped/Pipe wrenches for public speaking.mp4\n"
          ]
        },
        {
          "output_type": "stream",
          "name": "stderr",
          "text": [
            "\n",
            "100%|██████████| 300/300 [00:02<00:00, 129.01it/s]\n"
          ]
        },
        {
          "output_type": "stream",
          "name": "stdout",
          "text": [
            "[MoviePy] Done.\n",
            "[MoviePy] >>>> Video ready: drive/My Drive/Colab Notebooks/using a wrench videos/clipped/Pipe wrenches for public speaking.mp4 \n",
            "\n",
            "Downloading brandon wrench song | size = 7.725666 mb\n",
            "[MoviePy] >>>> Building video drive/My Drive/Colab Notebooks/using a wrench videos/clipped/brandon wrench song.mp4\n",
            "[MoviePy] Writing audio in brandon wrench songTEMP_MPY_wvf_snd.mp3\n"
          ]
        },
        {
          "output_type": "stream",
          "name": "stderr",
          "text": [
            "100%|██████████| 221/221 [00:00<00:00, 561.68it/s]"
          ]
        },
        {
          "output_type": "stream",
          "name": "stdout",
          "text": [
            "[MoviePy] Done.\n",
            "[MoviePy] Writing video drive/My Drive/Colab Notebooks/using a wrench videos/clipped/brandon wrench song.mp4\n"
          ]
        },
        {
          "output_type": "stream",
          "name": "stderr",
          "text": [
            "\n",
            "100%|█████████▉| 300/301 [00:05<00:00, 52.89it/s]\n"
          ]
        },
        {
          "output_type": "stream",
          "name": "stdout",
          "text": [
            "[MoviePy] Done.\n",
            "[MoviePy] >>>> Video ready: drive/My Drive/Colab Notebooks/using a wrench videos/clipped/brandon wrench song.mp4 \n",
            "\n",
            "Downloading Wrench Xylophone | size = 1.278488 mb\n",
            "[MoviePy] >>>> Building video drive/My Drive/Colab Notebooks/using a wrench videos/clipped/Wrench Xylophone.mp4\n",
            "[MoviePy] Writing audio in Wrench XylophoneTEMP_MPY_wvf_snd.mp3\n"
          ]
        },
        {
          "output_type": "stream",
          "name": "stderr",
          "text": [
            "100%|██████████| 221/221 [00:00<00:00, 849.21it/s]"
          ]
        },
        {
          "output_type": "stream",
          "name": "stdout",
          "text": [
            "[MoviePy] Done.\n",
            "[MoviePy] Writing video drive/My Drive/Colab Notebooks/using a wrench videos/clipped/Wrench Xylophone.mp4\n"
          ]
        },
        {
          "output_type": "stream",
          "name": "stderr",
          "text": [
            "\n",
            " 99%|█████████▉| 150/151 [00:01<00:00, 124.64it/s]\n"
          ]
        },
        {
          "output_type": "stream",
          "name": "stdout",
          "text": [
            "[MoviePy] Done.\n",
            "[MoviePy] >>>> Video ready: drive/My Drive/Colab Notebooks/using a wrench videos/clipped/Wrench Xylophone.mp4 \n",
            "\n",
            "Downloading Stark Crowfoot and Conventional Crowfoot wrench comparison | size = 8.797082 mb\n",
            "[MoviePy] >>>> Building video drive/My Drive/Colab Notebooks/using a wrench videos/clipped/Stark Crowfoot and Conventional Crowfoot wrench comparison.mp4\n",
            "[MoviePy] Writing audio in Stark Crowfoot and Conventional Crowfoot wrench comparisonTEMP_MPY_wvf_snd.mp3\n"
          ]
        },
        {
          "output_type": "stream",
          "name": "stderr",
          "text": [
            "100%|██████████| 221/221 [00:00<00:00, 422.72it/s]\n"
          ]
        },
        {
          "output_type": "stream",
          "name": "stdout",
          "text": [
            "[MoviePy] Done.\n",
            "[MoviePy] Writing video drive/My Drive/Colab Notebooks/using a wrench videos/clipped/Stark Crowfoot and Conventional Crowfoot wrench comparison.mp4\n"
          ]
        },
        {
          "output_type": "stream",
          "name": "stderr",
          "text": [
            "100%|██████████| 300/300 [00:04<00:00, 68.83it/s]\n"
          ]
        },
        {
          "output_type": "stream",
          "name": "stdout",
          "text": [
            "[MoviePy] Done.\n",
            "[MoviePy] >>>> Video ready: drive/My Drive/Colab Notebooks/using a wrench videos/clipped/Stark Crowfoot and Conventional Crowfoot wrench comparison.mp4 \n",
            "\n",
            "Downloading Magic W Wrench | size = 13.333754 mb\n",
            "[MoviePy] >>>> Building video drive/My Drive/Colab Notebooks/using a wrench videos/clipped/Magic W Wrench.mp4\n",
            "[MoviePy] Writing audio in Magic W WrenchTEMP_MPY_wvf_snd.mp3\n"
          ]
        },
        {
          "output_type": "stream",
          "name": "stderr",
          "text": [
            "100%|██████████| 221/221 [00:00<00:00, 442.23it/s]"
          ]
        },
        {
          "output_type": "stream",
          "name": "stdout",
          "text": [
            "[MoviePy] Done.\n",
            "[MoviePy] Writing video drive/My Drive/Colab Notebooks/using a wrench videos/clipped/Magic W Wrench.mp4\n"
          ]
        },
        {
          "output_type": "stream",
          "name": "stderr",
          "text": [
            "\n",
            "100%|█████████▉| 300/301 [00:03<00:00, 88.60it/s]\n"
          ]
        },
        {
          "output_type": "stream",
          "name": "stdout",
          "text": [
            "[MoviePy] Done.\n",
            "[MoviePy] >>>> Video ready: drive/My Drive/Colab Notebooks/using a wrench videos/clipped/Magic W Wrench.mp4 \n",
            "\n",
            "Downloading cozyswan Universial 6 angle Wrench | size = 32.595502 mb\n",
            "[MoviePy] >>>> Building video drive/My Drive/Colab Notebooks/using a wrench videos/clipped/cozyswan Universial 6 angle Wrench.mp4\n",
            "[MoviePy] Writing audio in cozyswan Universial 6 angle WrenchTEMP_MPY_wvf_snd.mp3\n"
          ]
        },
        {
          "output_type": "stream",
          "name": "stderr",
          "text": [
            "100%|██████████| 221/221 [00:00<00:00, 423.16it/s]"
          ]
        },
        {
          "output_type": "stream",
          "name": "stdout",
          "text": [
            "[MoviePy] Done.\n",
            "[MoviePy] Writing video drive/My Drive/Colab Notebooks/using a wrench videos/clipped/cozyswan Universial 6 angle Wrench.mp4\n"
          ]
        },
        {
          "output_type": "stream",
          "name": "stderr",
          "text": [
            "\n",
            "100%|█████████▉| 250/251 [00:19<00:00, 12.76it/s]\n"
          ]
        },
        {
          "output_type": "stream",
          "name": "stdout",
          "text": [
            "[MoviePy] Done.\n",
            "[MoviePy] >>>> Video ready: drive/My Drive/Colab Notebooks/using a wrench videos/clipped/cozyswan Universial 6 angle Wrench.mp4 \n",
            "\n",
            "Downloading Crescent® 8-Inch Locking-Flex Adjustable Ratcheting Wrench | size = 18.301442 mb\n",
            "[MoviePy] >>>> Building video drive/My Drive/Colab Notebooks/using a wrench videos/clipped/Crescent® 8-Inch Locking-Flex Adjustable Ratcheting Wrench.mp4\n",
            "[MoviePy] Writing audio in Crescent® 8-Inch Locking-Flex Adjustable Ratcheting WrenchTEMP_MPY_wvf_snd.mp3\n"
          ]
        },
        {
          "output_type": "stream",
          "name": "stderr",
          "text": [
            "100%|██████████| 221/221 [00:00<00:00, 472.02it/s]"
          ]
        },
        {
          "output_type": "stream",
          "name": "stdout",
          "text": [
            "[MoviePy] Done.\n",
            "[MoviePy] Writing video drive/My Drive/Colab Notebooks/using a wrench videos/clipped/Crescent® 8-Inch Locking-Flex Adjustable Ratcheting Wrench.mp4\n"
          ]
        },
        {
          "output_type": "stream",
          "name": "stderr",
          "text": [
            "\n",
            "100%|██████████| 300/300 [00:19<00:00, 15.61it/s]\n"
          ]
        },
        {
          "output_type": "stream",
          "name": "stdout",
          "text": [
            "[MoviePy] Done.\n",
            "[MoviePy] >>>> Video ready: drive/My Drive/Colab Notebooks/using a wrench videos/clipped/Crescent® 8-Inch Locking-Flex Adjustable Ratcheting Wrench.mp4 \n",
            "\n",
            "Downloading Leverage wrench tools | size = 51.844871 mb\n",
            "[MoviePy] >>>> Building video drive/My Drive/Colab Notebooks/using a wrench videos/clipped/Leverage wrench tools.mp4\n",
            "[MoviePy] Writing audio in Leverage wrench toolsTEMP_MPY_wvf_snd.mp3\n"
          ]
        },
        {
          "output_type": "stream",
          "name": "stderr",
          "text": [
            "100%|██████████| 221/221 [00:00<00:00, 511.48it/s]"
          ]
        },
        {
          "output_type": "stream",
          "name": "stdout",
          "text": [
            "[MoviePy] Done.\n",
            "[MoviePy] Writing video drive/My Drive/Colab Notebooks/using a wrench videos/clipped/Leverage wrench tools.mp4\n"
          ]
        },
        {
          "output_type": "stream",
          "name": "stderr",
          "text": [
            "\n",
            "100%|█████████▉| 290/291 [00:21<00:00, 13.53it/s]\n"
          ]
        },
        {
          "output_type": "stream",
          "name": "stdout",
          "text": [
            "[MoviePy] Done.\n",
            "[MoviePy] >>>> Video ready: drive/My Drive/Colab Notebooks/using a wrench videos/clipped/Leverage wrench tools.mp4 \n",
            "\n",
            "Downloading Lokrite OPENEND Wrench.MPG | size = 4.539334 mb\n",
            "[MoviePy] >>>> Building video drive/My Drive/Colab Notebooks/using a wrench videos/clipped/Lokrite OPENEND Wrench.MPG.mp4\n",
            "[MoviePy] Writing audio in Lokrite OPENEND Wrench.MPGTEMP_MPY_wvf_snd.mp3\n"
          ]
        },
        {
          "output_type": "stream",
          "name": "stderr",
          "text": [
            "100%|██████████| 221/221 [00:00<00:00, 441.46it/s]"
          ]
        },
        {
          "output_type": "stream",
          "name": "stdout",
          "text": [
            "[MoviePy] Done.\n",
            "[MoviePy] Writing video drive/My Drive/Colab Notebooks/using a wrench videos/clipped/Lokrite OPENEND Wrench.MPG.mp4\n"
          ]
        },
        {
          "output_type": "stream",
          "name": "stderr",
          "text": [
            "\n",
            "100%|██████████| 300/300 [00:04<00:00, 63.98it/s]\n"
          ]
        },
        {
          "output_type": "stream",
          "name": "stdout",
          "text": [
            "[MoviePy] Done.\n",
            "[MoviePy] >>>> Video ready: drive/My Drive/Colab Notebooks/using a wrench videos/clipped/Lokrite OPENEND Wrench.MPG.mp4 \n",
            "\n",
            "Downloading Tite-Reach | size = 5.306005 mb\n",
            "[MoviePy] >>>> Building video drive/My Drive/Colab Notebooks/using a wrench videos/clipped/Tite-Reach.mp4\n",
            "[MoviePy] Writing audio in Tite-ReachTEMP_MPY_wvf_snd.mp3\n"
          ]
        },
        {
          "output_type": "stream",
          "name": "stderr",
          "text": [
            "100%|██████████| 221/221 [00:00<00:00, 434.70it/s]"
          ]
        },
        {
          "output_type": "stream",
          "name": "stdout",
          "text": [
            "[MoviePy] Done.\n",
            "[MoviePy] Writing video drive/My Drive/Colab Notebooks/using a wrench videos/clipped/Tite-Reach.mp4\n"
          ]
        },
        {
          "output_type": "stream",
          "name": "stderr",
          "text": [
            "\n",
            "100%|██████████| 300/300 [00:05<00:00, 59.35it/s]\n"
          ]
        },
        {
          "output_type": "stream",
          "name": "stdout",
          "text": [
            "[MoviePy] Done.\n",
            "[MoviePy] >>>> Video ready: drive/My Drive/Colab Notebooks/using a wrench videos/clipped/Tite-Reach.mp4 \n",
            "\n",
            "Downloading Chave Universal 16~32 mm Super B | size = 9.719067 mb\n",
            "[MoviePy] >>>> Building video drive/My Drive/Colab Notebooks/using a wrench videos/clipped/Chave Universal 16~32 mm Super B.mp4\n",
            "[MoviePy] Writing audio in Chave Universal 16~32 mm Super BTEMP_MPY_wvf_snd.mp3\n"
          ]
        },
        {
          "output_type": "stream",
          "name": "stderr",
          "text": [
            "100%|██████████| 221/221 [00:00<00:00, 995.97it/s] "
          ]
        },
        {
          "output_type": "stream",
          "name": "stdout",
          "text": [
            "[MoviePy] Done.\n",
            "[MoviePy] Writing video drive/My Drive/Colab Notebooks/using a wrench videos/clipped/Chave Universal 16~32 mm Super B.mp4\n"
          ]
        },
        {
          "output_type": "stream",
          "name": "stderr",
          "text": [
            "\n",
            "100%|██████████| 300/300 [00:14<00:00, 20.31it/s]\n"
          ]
        },
        {
          "output_type": "stream",
          "name": "stdout",
          "text": [
            "[MoviePy] Done.\n",
            "[MoviePy] >>>> Video ready: drive/My Drive/Colab Notebooks/using a wrench videos/clipped/Chave Universal 16~32 mm Super B.mp4 \n",
            "\n",
            "Downloading Chaves com Catraca Belzer | size = 3.123444 mb\n",
            "[MoviePy] >>>> Building video drive/My Drive/Colab Notebooks/using a wrench videos/clipped/Chaves com Catraca Belzer.mp4\n",
            "[MoviePy] Writing audio in Chaves com Catraca BelzerTEMP_MPY_wvf_snd.mp3\n"
          ]
        },
        {
          "output_type": "stream",
          "name": "stderr",
          "text": [
            "100%|██████████| 221/221 [00:00<00:00, 589.05it/s]"
          ]
        },
        {
          "output_type": "stream",
          "name": "stdout",
          "text": [
            "[MoviePy] Done.\n",
            "[MoviePy] Writing video drive/My Drive/Colab Notebooks/using a wrench videos/clipped/Chaves com Catraca Belzer.mp4\n"
          ]
        },
        {
          "output_type": "stream",
          "name": "stderr",
          "text": [
            "\n",
            "100%|█████████▉| 300/301 [00:02<00:00, 103.81it/s]\n"
          ]
        },
        {
          "output_type": "stream",
          "name": "stdout",
          "text": [
            "[MoviePy] Done.\n",
            "[MoviePy] >>>> Video ready: drive/My Drive/Colab Notebooks/using a wrench videos/clipped/Chaves com Catraca Belzer.mp4 \n",
            "\n",
            "Downloading My wrench wench.... | size = 1.336321 mb\n",
            "[MoviePy] >>>> Building video drive/My Drive/Colab Notebooks/using a wrench videos/clipped/My wrench wench.....mp4\n",
            "[MoviePy] Writing audio in My wrench wench....TEMP_MPY_wvf_snd.mp3\n"
          ]
        },
        {
          "output_type": "stream",
          "name": "stderr",
          "text": [
            "100%|██████████| 221/221 [00:00<00:00, 548.34it/s]\n"
          ]
        },
        {
          "output_type": "stream",
          "name": "stdout",
          "text": [
            "[MoviePy] Done.\n",
            "[MoviePy] Writing video drive/My Drive/Colab Notebooks/using a wrench videos/clipped/My wrench wench.....mp4\n"
          ]
        },
        {
          "output_type": "stream",
          "name": "stderr",
          "text": [
            "100%|██████████| 300/300 [00:07<00:00, 41.87it/s]\n"
          ]
        },
        {
          "output_type": "stream",
          "name": "stdout",
          "text": [
            "[MoviePy] Done.\n",
            "[MoviePy] >>>> Video ready: drive/My Drive/Colab Notebooks/using a wrench videos/clipped/My wrench wench.....mp4 \n",
            "\n",
            "Downloading SocketPro™ - The Award-Winning Patented Adjustable Socket | size = 12.159167 mb\n",
            "[MoviePy] >>>> Building video drive/My Drive/Colab Notebooks/using a wrench videos/clipped/SocketPro™ - The Award-Winning Patented Adjustable Socket.mp4\n",
            "[MoviePy] Writing audio in SocketPro™ - The Award-Winning Patented Adjustable SocketTEMP_MPY_wvf_snd.mp3\n"
          ]
        },
        {
          "output_type": "stream",
          "name": "stderr",
          "text": [
            "100%|██████████| 221/221 [00:00<00:00, 711.50it/s]"
          ]
        },
        {
          "output_type": "stream",
          "name": "stdout",
          "text": [
            "[MoviePy] Done.\n",
            "[MoviePy] Writing video drive/My Drive/Colab Notebooks/using a wrench videos/clipped/SocketPro™ - The Award-Winning Patented Adjustable Socket.mp4\n"
          ]
        },
        {
          "output_type": "stream",
          "name": "stderr",
          "text": [
            "\n",
            "100%|██████████| 300/300 [00:05<00:00, 55.18it/s]\n"
          ]
        },
        {
          "output_type": "stream",
          "name": "stdout",
          "text": [
            "[MoviePy] Done.\n",
            "[MoviePy] >>>> Video ready: drive/My Drive/Colab Notebooks/using a wrench videos/clipped/SocketPro™ - The Award-Winning Patented Adjustable Socket.mp4 \n",
            "\n",
            "Downloading socket wrench toddler | size = 7.435335 mb\n",
            "[MoviePy] >>>> Building video drive/My Drive/Colab Notebooks/using a wrench videos/clipped/socket wrench toddler.mp4\n",
            "[MoviePy] Writing audio in socket wrench toddlerTEMP_MPY_wvf_snd.mp3\n"
          ]
        },
        {
          "output_type": "stream",
          "name": "stderr",
          "text": [
            "100%|██████████| 221/221 [00:00<00:00, 488.43it/s]"
          ]
        },
        {
          "output_type": "stream",
          "name": "stdout",
          "text": [
            "[MoviePy] Done.\n",
            "[MoviePy] Writing video drive/My Drive/Colab Notebooks/using a wrench videos/clipped/socket wrench toddler.mp4\n"
          ]
        },
        {
          "output_type": "stream",
          "name": "stderr",
          "text": [
            "\n",
            "100%|██████████| 300/300 [00:21<00:00, 13.92it/s]\n"
          ]
        },
        {
          "output_type": "stream",
          "name": "stdout",
          "text": [
            "[MoviePy] Done.\n",
            "[MoviePy] >>>> Video ready: drive/My Drive/Colab Notebooks/using a wrench videos/clipped/socket wrench toddler.mp4 \n",
            "\n",
            "Downloading Universal wrench | size = 4.503591 mb\n",
            "[MoviePy] >>>> Building video drive/My Drive/Colab Notebooks/using a wrench videos/clipped/Universal wrench.mp4\n",
            "[MoviePy] Writing audio in Universal wrenchTEMP_MPY_wvf_snd.mp3\n"
          ]
        },
        {
          "output_type": "stream",
          "name": "stderr",
          "text": [
            " 96%|█████████▌| 212/221 [00:00<00:00, 679.61it/s]\n"
          ]
        },
        {
          "output_type": "stream",
          "name": "stdout",
          "text": [
            "Error in file drive/My Drive/Colab Notebooks/using a wrench videos/Universal wrench.mp4, Accessing time t=103.59-103.64 seconds, with clip duration=103 seconds, \n",
            "fFKN2FGTl-Q is a private video\n",
            "Downloading bionicwrench BRoll toilet | size = 1.563942 mb\n",
            "Downloading ADMAN Universal Spanner | size = 3.966359 mb\n",
            "[MoviePy] >>>> Building video drive/My Drive/Colab Notebooks/using a wrench videos/clipped/ADMAN Universal Spanner.mp4\n",
            "[MoviePy] Writing audio in ADMAN Universal SpannerTEMP_MPY_wvf_snd.mp3\n"
          ]
        },
        {
          "output_type": "stream",
          "name": "stderr",
          "text": [
            "100%|██████████| 221/221 [00:00<00:00, 625.92it/s]"
          ]
        },
        {
          "output_type": "stream",
          "name": "stdout",
          "text": [
            "[MoviePy] Done.\n",
            "[MoviePy] Writing video drive/My Drive/Colab Notebooks/using a wrench videos/clipped/ADMAN Universal Spanner.mp4\n"
          ]
        },
        {
          "output_type": "stream",
          "name": "stderr",
          "text": [
            "\n",
            " 99%|█████████▉| 150/151 [00:01<00:00, 141.56it/s]\n"
          ]
        },
        {
          "output_type": "stream",
          "name": "stdout",
          "text": [
            "[MoviePy] Done.\n",
            "[MoviePy] >>>> Video ready: drive/My Drive/Colab Notebooks/using a wrench videos/clipped/ADMAN Universal Spanner.mp4 \n",
            "\n",
            "Downloading Teng Tools TT6508R Ratchetting Combination Spanner Set Product Review | size = 8.004313 mb\n",
            "[MoviePy] >>>> Building video drive/My Drive/Colab Notebooks/using a wrench videos/clipped/Teng Tools TT6508R Ratchetting Combination Spanner Set Product Review.mp4\n",
            "[MoviePy] Writing audio in Teng Tools TT6508R Ratchetting Combination Spanner Set Product ReviewTEMP_MPY_wvf_snd.mp3\n"
          ]
        },
        {
          "output_type": "stream",
          "name": "stderr",
          "text": [
            "100%|██████████| 221/221 [00:00<00:00, 463.90it/s]"
          ]
        },
        {
          "output_type": "stream",
          "name": "stdout",
          "text": [
            "[MoviePy] Done.\n",
            "[MoviePy] Writing video drive/My Drive/Colab Notebooks/using a wrench videos/clipped/Teng Tools TT6508R Ratchetting Combination Spanner Set Product Review.mp4\n"
          ]
        },
        {
          "output_type": "stream",
          "name": "stderr",
          "text": [
            "\n",
            "100%|█████████▉| 250/251 [00:03<00:00, 66.23it/s]\n"
          ]
        },
        {
          "output_type": "stream",
          "name": "stdout",
          "text": [
            "[MoviePy] Done.\n",
            "[MoviePy] >>>> Video ready: drive/My Drive/Colab Notebooks/using a wrench videos/clipped/Teng Tools TT6508R Ratchetting Combination Spanner Set Product Review.mp4 \n",
            "\n",
            "Downloading MultiPro Multi function Wrench  No.1 in the world | size = 32.764418 mb\n",
            "[MoviePy] >>>> Building video drive/My Drive/Colab Notebooks/using a wrench videos/clipped/MultiPro Multi function Wrench  No.1 in the world.mp4\n",
            "[MoviePy] Writing audio in MultiPro Multi function Wrench  No.1 in the worldTEMP_MPY_wvf_snd.mp3\n"
          ]
        },
        {
          "output_type": "stream",
          "name": "stderr",
          "text": [
            "100%|██████████| 221/221 [00:00<00:00, 424.45it/s]"
          ]
        },
        {
          "output_type": "stream",
          "name": "stdout",
          "text": [
            "[MoviePy] Done.\n"
          ]
        },
        {
          "output_type": "stream",
          "name": "stderr",
          "text": [
            "\n"
          ]
        },
        {
          "output_type": "stream",
          "name": "stdout",
          "text": [
            "[MoviePy] Writing video drive/My Drive/Colab Notebooks/using a wrench videos/clipped/MultiPro Multi function Wrench  No.1 in the world.mp4\n"
          ]
        },
        {
          "output_type": "stream",
          "name": "stderr",
          "text": [
            "100%|██████████| 300/300 [00:21<00:00, 14.14it/s]\n"
          ]
        },
        {
          "output_type": "stream",
          "name": "stdout",
          "text": [
            "[MoviePy] Done.\n",
            "[MoviePy] >>>> Video ready: drive/My Drive/Colab Notebooks/using a wrench videos/clipped/MultiPro Multi function Wrench  No.1 in the world.mp4 \n",
            "\n",
            "Downloading Bicycle | size = 1.025643 mb\n",
            "Downloading Universal Elbow Wrench  2014 | size = 8.12497 mb\n",
            "[MoviePy] >>>> Building video drive/My Drive/Colab Notebooks/using a wrench videos/clipped/Universal Elbow Wrench  2014.mp4\n",
            "[MoviePy] Writing audio in Universal Elbow Wrench  2014TEMP_MPY_wvf_snd.mp3\n"
          ]
        },
        {
          "output_type": "stream",
          "name": "stderr",
          "text": [
            "100%|██████████| 221/221 [00:00<00:00, 575.79it/s]"
          ]
        },
        {
          "output_type": "stream",
          "name": "stdout",
          "text": [
            "[MoviePy] Done.\n",
            "[MoviePy] Writing video drive/My Drive/Colab Notebooks/using a wrench videos/clipped/Universal Elbow Wrench  2014.mp4\n"
          ]
        },
        {
          "output_type": "stream",
          "name": "stderr",
          "text": [
            "\n",
            "100%|██████████| 300/300 [00:03<00:00, 86.43it/s]\n"
          ]
        },
        {
          "output_type": "stream",
          "name": "stdout",
          "text": [
            "[MoviePy] Done.\n",
            "[MoviePy] >>>> Video ready: drive/My Drive/Colab Notebooks/using a wrench videos/clipped/Universal Elbow Wrench  2014.mp4 \n",
            "\n",
            "Downloading Harmonica Reed Wrench with Nibs Demo | size = 1.679122 mb\n",
            "[MoviePy] >>>> Building video drive/My Drive/Colab Notebooks/using a wrench videos/clipped/Harmonica Reed Wrench with Nibs Demo.mp4\n",
            "[MoviePy] Writing audio in Harmonica Reed Wrench with Nibs DemoTEMP_MPY_wvf_snd.mp3\n"
          ]
        },
        {
          "output_type": "stream",
          "name": "stderr",
          "text": [
            "100%|██████████| 221/221 [00:00<00:00, 573.91it/s]\n"
          ]
        },
        {
          "output_type": "stream",
          "name": "stdout",
          "text": [
            "[MoviePy] Done.\n",
            "[MoviePy] Writing video drive/My Drive/Colab Notebooks/using a wrench videos/clipped/Harmonica Reed Wrench with Nibs Demo.mp4\n"
          ]
        },
        {
          "output_type": "stream",
          "name": "stderr",
          "text": [
            " 99%|█████████▉| 120/121 [00:00<00:00, 266.66it/s]\n"
          ]
        },
        {
          "output_type": "stream",
          "name": "stdout",
          "text": [
            "[MoviePy] Done.\n",
            "[MoviePy] >>>> Video ready: drive/My Drive/Colab Notebooks/using a wrench videos/clipped/Harmonica Reed Wrench with Nibs Demo.mp4 \n",
            "\n",
            "Downloading The EZ Red Swivel Socket Wrench | size = 7.015289 mb\n",
            "[MoviePy] >>>> Building video drive/My Drive/Colab Notebooks/using a wrench videos/clipped/The EZ Red Swivel Socket Wrench.mp4\n",
            "[MoviePy] Writing audio in The EZ Red Swivel Socket WrenchTEMP_MPY_wvf_snd.mp3\n"
          ]
        },
        {
          "output_type": "stream",
          "name": "stderr",
          "text": [
            "100%|██████████| 221/221 [00:00<00:00, 540.59it/s]"
          ]
        },
        {
          "output_type": "stream",
          "name": "stdout",
          "text": [
            "[MoviePy] Done.\n",
            "[MoviePy] Writing video drive/My Drive/Colab Notebooks/using a wrench videos/clipped/The EZ Red Swivel Socket Wrench.mp4\n"
          ]
        },
        {
          "output_type": "stream",
          "name": "stderr",
          "text": [
            "\n",
            "100%|██████████| 300/300 [00:04<00:00, 65.12it/s]\n"
          ]
        },
        {
          "output_type": "stream",
          "name": "stdout",
          "text": [
            "[MoviePy] Done.\n",
            "[MoviePy] >>>> Video ready: drive/My Drive/Colab Notebooks/using a wrench videos/clipped/The EZ Red Swivel Socket Wrench.mp4 \n",
            "\n",
            "Downloading Jonard ratcheting combination speed wrenches ASW-R | size = 25.019187 mb\n",
            "[MoviePy] >>>> Building video drive/My Drive/Colab Notebooks/using a wrench videos/clipped/Jonard ratcheting combination speed wrenches ASW-R.mp4\n",
            "[MoviePy] Writing audio in Jonard ratcheting combination speed wrenches ASW-RTEMP_MPY_wvf_snd.mp3\n"
          ]
        },
        {
          "output_type": "stream",
          "name": "stderr",
          "text": [
            "100%|██████████| 221/221 [00:00<00:00, 398.64it/s]"
          ]
        },
        {
          "output_type": "stream",
          "name": "stdout",
          "text": [
            "[MoviePy] Done.\n",
            "[MoviePy] Writing video drive/My Drive/Colab Notebooks/using a wrench videos/clipped/Jonard ratcheting combination speed wrenches ASW-R.mp4\n"
          ]
        },
        {
          "output_type": "stream",
          "name": "stderr",
          "text": [
            "\n",
            "100%|██████████| 300/300 [00:16<00:00, 17.76it/s]\n"
          ]
        },
        {
          "output_type": "stream",
          "name": "stdout",
          "text": [
            "[MoviePy] Done.\n",
            "[MoviePy] >>>> Video ready: drive/My Drive/Colab Notebooks/using a wrench videos/clipped/Jonard ratcheting combination speed wrenches ASW-R.mp4 \n",
            "\n",
            "fr6REksxH9M is unavailable\n",
            "Downloading Magic wrench_01_Intro | size = 21.116296 mb\n",
            "[MoviePy] >>>> Building video drive/My Drive/Colab Notebooks/using a wrench videos/clipped/Magic wrench_01_Intro.mp4\n",
            "[MoviePy] Writing audio in Magic wrench_01_IntroTEMP_MPY_wvf_snd.mp3\n"
          ]
        },
        {
          "output_type": "stream",
          "name": "stderr",
          "text": [
            "100%|██████████| 221/221 [00:00<00:00, 663.74it/s]"
          ]
        },
        {
          "output_type": "stream",
          "name": "stdout",
          "text": [
            "[MoviePy] Done.\n",
            "[MoviePy] Writing video drive/My Drive/Colab Notebooks/using a wrench videos/clipped/Magic wrench_01_Intro.mp4\n"
          ]
        },
        {
          "output_type": "stream",
          "name": "stderr",
          "text": [
            "\n",
            "100%|██████████| 300/300 [00:17<00:00, 17.42it/s]\n"
          ]
        },
        {
          "output_type": "stream",
          "name": "stdout",
          "text": [
            "[MoviePy] Done.\n",
            "[MoviePy] >>>> Video ready: drive/My Drive/Colab Notebooks/using a wrench videos/clipped/Magic wrench_01_Intro.mp4 \n",
            "\n",
            "Downloading Instead of turning steering wheel, Chinese man spotted driving with a wrench | size = 4.184205 mb\n",
            "[MoviePy] >>>> Building video drive/My Drive/Colab Notebooks/using a wrench videos/clipped/Instead of turning steering wheel, Chinese man spotted driving with a wrench.mp4\n",
            "[MoviePy] Writing audio in Instead of turning steering wheel, Chinese man spotted driving with a wrenchTEMP_MPY_wvf_snd.mp3\n"
          ]
        },
        {
          "output_type": "stream",
          "name": "stderr",
          "text": [
            "100%|██████████| 221/221 [00:00<00:00, 681.38it/s]"
          ]
        },
        {
          "output_type": "stream",
          "name": "stdout",
          "text": [
            "[MoviePy] Done.\n",
            "[MoviePy] Writing video drive/My Drive/Colab Notebooks/using a wrench videos/clipped/Instead of turning steering wheel, Chinese man spotted driving with a wrench.mp4\n"
          ]
        },
        {
          "output_type": "stream",
          "name": "stderr",
          "text": [
            "\n",
            "100%|█████████▉| 240/241 [00:07<00:00, 31.34it/s]\n"
          ]
        },
        {
          "output_type": "stream",
          "name": "stdout",
          "text": [
            "[MoviePy] Done.\n",
            "[MoviePy] >>>> Video ready: drive/My Drive/Colab Notebooks/using a wrench videos/clipped/Instead of turning steering wheel, Chinese man spotted driving with a wrench.mp4 \n",
            "\n",
            "Downloading Wrench xlyophone | size = 1.996421 mb\n",
            "[MoviePy] >>>> Building video drive/My Drive/Colab Notebooks/using a wrench videos/clipped/Wrench xlyophone.mp4\n",
            "[MoviePy] Writing audio in Wrench xlyophoneTEMP_MPY_wvf_snd.mp3\n"
          ]
        },
        {
          "output_type": "stream",
          "name": "stderr",
          "text": [
            " 95%|█████████▌| 210/221 [00:00<00:00, 513.36it/s]\n"
          ]
        },
        {
          "output_type": "stream",
          "name": "stdout",
          "text": [
            "Error in file drive/My Drive/Colab Notebooks/using a wrench videos/Wrench xlyophone.mp4, Accessing time t=18.50-18.55 seconds, with clip duration=18 seconds, \n",
            "Downloading SINOLIFT TY10 Drum Wrenches | size = 4.365436 mb\n",
            "[MoviePy] >>>> Building video drive/My Drive/Colab Notebooks/using a wrench videos/clipped/SINOLIFT TY10 Drum Wrenches.mp4\n",
            "[MoviePy] Writing audio in SINOLIFT TY10 Drum WrenchesTEMP_MPY_wvf_snd.mp3\n"
          ]
        },
        {
          "output_type": "stream",
          "name": "stderr",
          "text": [
            "100%|██████████| 221/221 [00:00<00:00, 589.64it/s]"
          ]
        },
        {
          "output_type": "stream",
          "name": "stdout",
          "text": [
            "[MoviePy] Done.\n",
            "[MoviePy] Writing video drive/My Drive/Colab Notebooks/using a wrench videos/clipped/SINOLIFT TY10 Drum Wrenches.mp4\n"
          ]
        },
        {
          "output_type": "stream",
          "name": "stderr",
          "text": [
            "\n",
            "100%|█████████▉| 250/251 [00:01<00:00, 125.63it/s]\n"
          ]
        },
        {
          "output_type": "stream",
          "name": "stdout",
          "text": [
            "[MoviePy] Done.\n",
            "[MoviePy] >>>> Video ready: drive/My Drive/Colab Notebooks/using a wrench videos/clipped/SINOLIFT TY10 Drum Wrenches.mp4 \n",
            "\n",
            "Downloading Unboxing of the craftsman 28pc 6-point wrench set (44098)& 14 pocket Wrench Roll | size = 27.644522 mb\n",
            "[MoviePy] >>>> Building video drive/My Drive/Colab Notebooks/using a wrench videos/clipped/Unboxing of the craftsman 28pc 6-point wrench set (44098)& 14 pocket Wrench Roll.mp4\n",
            "[MoviePy] Writing audio in Unboxing of the craftsman 28pc 6-point wrench set (44098)& 14 pocket Wrench RollTEMP_MPY_wvf_snd.mp3\n"
          ]
        },
        {
          "output_type": "stream",
          "name": "stderr",
          "text": [
            "100%|██████████| 221/221 [00:00<00:00, 392.32it/s]"
          ]
        },
        {
          "output_type": "stream",
          "name": "stdout",
          "text": [
            "[MoviePy] Done.\n",
            "[MoviePy] Writing video drive/My Drive/Colab Notebooks/using a wrench videos/clipped/Unboxing of the craftsman 28pc 6-point wrench set (44098)& 14 pocket Wrench Roll.mp4\n"
          ]
        },
        {
          "output_type": "stream",
          "name": "stderr",
          "text": [
            "\n",
            " 99%|█████████▉| 150/151 [00:00<00:00, 176.34it/s]\n"
          ]
        },
        {
          "output_type": "stream",
          "name": "stdout",
          "text": [
            "[MoviePy] Done.\n",
            "[MoviePy] >>>> Video ready: drive/My Drive/Colab Notebooks/using a wrench videos/clipped/Unboxing of the craftsman 28pc 6-point wrench set (44098)& 14 pocket Wrench Roll.mp4 \n",
            "\n",
            "Downloading Titanium wrench demonstration.AVI | size = 23.403263 mb\n",
            "[MoviePy] >>>> Building video drive/My Drive/Colab Notebooks/using a wrench videos/clipped/Titanium wrench demonstration.AVI.mp4\n",
            "[MoviePy] Writing audio in Titanium wrench demonstration.AVITEMP_MPY_wvf_snd.mp3\n"
          ]
        },
        {
          "output_type": "stream",
          "name": "stderr",
          "text": [
            "100%|██████████| 221/221 [00:00<00:00, 554.91it/s]"
          ]
        },
        {
          "output_type": "stream",
          "name": "stdout",
          "text": [
            "[MoviePy] Done.\n",
            "[MoviePy] Writing video drive/My Drive/Colab Notebooks/using a wrench videos/clipped/Titanium wrench demonstration.AVI.mp4\n"
          ]
        },
        {
          "output_type": "stream",
          "name": "stderr",
          "text": [
            "\n",
            "100%|█████████▉| 300/301 [00:04<00:00, 65.71it/s]\n"
          ]
        },
        {
          "output_type": "stream",
          "name": "stdout",
          "text": [
            "[MoviePy] Done.\n",
            "[MoviePy] >>>> Video ready: drive/My Drive/Colab Notebooks/using a wrench videos/clipped/Titanium wrench demonstration.AVI.mp4 \n",
            "\n",
            "Downloading 19 EZ Red Spline Wrench Sets | size = 3.534843 mb\n",
            "[MoviePy] >>>> Building video drive/My Drive/Colab Notebooks/using a wrench videos/clipped/19 EZ Red Spline Wrench Sets.mp4\n",
            "[MoviePy] Writing audio in 19 EZ Red Spline Wrench SetsTEMP_MPY_wvf_snd.mp3\n"
          ]
        },
        {
          "output_type": "stream",
          "name": "stderr",
          "text": [
            "100%|██████████| 221/221 [00:00<00:00, 786.88it/s]"
          ]
        },
        {
          "output_type": "stream",
          "name": "stdout",
          "text": [
            "[MoviePy] Done.\n",
            "[MoviePy] Writing video drive/My Drive/Colab Notebooks/using a wrench videos/clipped/19 EZ Red Spline Wrench Sets.mp4\n"
          ]
        },
        {
          "output_type": "stream",
          "name": "stderr",
          "text": [
            "\n",
            "100%|█████████▉| 300/301 [00:03<00:00, 88.43it/s]\n"
          ]
        },
        {
          "output_type": "stream",
          "name": "stdout",
          "text": [
            "[MoviePy] Done.\n",
            "[MoviePy] >>>> Video ready: drive/My Drive/Colab Notebooks/using a wrench videos/clipped/19 EZ Red Spline Wrench Sets.mp4 \n",
            "\n",
            "Downloading Wrench Extender for improved leverage | size = 1.854581 mb\n",
            "[MoviePy] >>>> Building video drive/My Drive/Colab Notebooks/using a wrench videos/clipped/Wrench Extender for improved leverage.mp4\n",
            "[MoviePy] Writing audio in Wrench Extender for improved leverageTEMP_MPY_wvf_snd.mp3\n"
          ]
        },
        {
          "output_type": "stream",
          "name": "stderr",
          "text": [
            " 92%|█████████▏| 203/221 [00:00<00:00, 753.09it/s]\n"
          ]
        },
        {
          "output_type": "stream",
          "name": "stdout",
          "text": [
            "Error in file drive/My Drive/Colab Notebooks/using a wrench videos/Wrench Extender for improved leverage.mp4, Accessing time t=26.19-26.23 seconds, with clip duration=26 seconds, \n",
            "Downloading wrench | size = 0.194489 mb\n",
            "Downloading Mastercraft Reversible Ratcheting Spanner | size = 4.165901 mb\n",
            "[MoviePy] >>>> Building video drive/My Drive/Colab Notebooks/using a wrench videos/clipped/Mastercraft Reversible Ratcheting Spanner.mp4\n",
            "[MoviePy] Writing audio in Mastercraft Reversible Ratcheting SpannerTEMP_MPY_wvf_snd.mp3\n"
          ]
        },
        {
          "output_type": "stream",
          "name": "stderr",
          "text": [
            "100%|██████████| 221/221 [00:00<00:00, 428.11it/s]"
          ]
        },
        {
          "output_type": "stream",
          "name": "stdout",
          "text": [
            "[MoviePy] Done.\n",
            "[MoviePy] Writing video drive/My Drive/Colab Notebooks/using a wrench videos/clipped/Mastercraft Reversible Ratcheting Spanner.mp4\n"
          ]
        },
        {
          "output_type": "stream",
          "name": "stderr",
          "text": [
            "\n",
            "100%|█████████▉| 250/251 [00:02<00:00, 93.28it/s]\n"
          ]
        },
        {
          "output_type": "stream",
          "name": "stdout",
          "text": [
            "[MoviePy] Done.\n",
            "[MoviePy] >>>> Video ready: drive/My Drive/Colab Notebooks/using a wrench videos/clipped/Mastercraft Reversible Ratcheting Spanner.mp4 \n",
            "\n",
            "Downloading bens magic spanner | size = 0.438069 mb\n",
            "[MoviePy] >>>> Building video drive/My Drive/Colab Notebooks/using a wrench videos/clipped/bens magic spanner.mp4\n",
            "[MoviePy] Writing audio in bens magic spannerTEMP_MPY_wvf_snd.mp3\n"
          ]
        },
        {
          "output_type": "stream",
          "name": "stderr",
          "text": [
            "100%|██████████| 221/221 [00:00<00:00, 804.48it/s]"
          ]
        },
        {
          "output_type": "stream",
          "name": "stdout",
          "text": [
            "[MoviePy] Done.\n",
            "[MoviePy] Writing video drive/My Drive/Colab Notebooks/using a wrench videos/clipped/bens magic spanner.mp4\n"
          ]
        },
        {
          "output_type": "stream",
          "name": "stderr",
          "text": [
            "\n",
            "100%|█████████▉| 250/251 [00:00<00:00, 369.39it/s]\n"
          ]
        },
        {
          "output_type": "stream",
          "name": "stdout",
          "text": [
            "[MoviePy] Done.\n",
            "[MoviePy] >>>> Video ready: drive/My Drive/Colab Notebooks/using a wrench videos/clipped/bens magic spanner.mp4 \n",
            "\n",
            "Downloading EZ Spanner Ratcheting Hydrant Wrench | size = 7.819265 mb\n",
            "[MoviePy] >>>> Building video drive/My Drive/Colab Notebooks/using a wrench videos/clipped/EZ Spanner Ratcheting Hydrant Wrench.mp4\n",
            "[MoviePy] Writing audio in EZ Spanner Ratcheting Hydrant WrenchTEMP_MPY_wvf_snd.mp3\n"
          ]
        },
        {
          "output_type": "stream",
          "name": "stderr",
          "text": [
            " 96%|█████████▋| 213/221 [00:00<00:00, 668.78it/s]\n"
          ]
        },
        {
          "output_type": "stream",
          "name": "stdout",
          "text": [
            "Error in file drive/My Drive/Colab Notebooks/using a wrench videos/EZ Spanner Ratcheting Hydrant Wrench.mp4, Accessing time t=25.64-25.68 seconds, with clip duration=25 seconds, \n",
            "Downloading New 2.5° Ratchet Wrench | size = 13.391482 mb\n",
            "[MoviePy] >>>> Building video drive/My Drive/Colab Notebooks/using a wrench videos/clipped/New 2.5° Ratchet Wrench.mp4\n",
            "[MoviePy] Writing audio in New 2.5° Ratchet WrenchTEMP_MPY_wvf_snd.mp3\n"
          ]
        },
        {
          "output_type": "stream",
          "name": "stderr",
          "text": [
            "100%|██████████| 221/221 [00:00<00:00, 378.29it/s]"
          ]
        },
        {
          "output_type": "stream",
          "name": "stdout",
          "text": [
            "[MoviePy] Done.\n",
            "[MoviePy] Writing video drive/My Drive/Colab Notebooks/using a wrench videos/clipped/New 2.5° Ratchet Wrench.mp4\n"
          ]
        },
        {
          "output_type": "stream",
          "name": "stderr",
          "text": [
            "\n",
            "100%|██████████| 300/300 [00:03<00:00, 79.95it/s]\n"
          ]
        },
        {
          "output_type": "stream",
          "name": "stdout",
          "text": [
            "[MoviePy] Done.\n",
            "[MoviePy] >>>> Video ready: drive/My Drive/Colab Notebooks/using a wrench videos/clipped/New 2.5° Ratchet Wrench.mp4 \n",
            "\n",
            "Downloading Bionic Grip Wrenches | size = 4.990576 mb\n",
            "[MoviePy] >>>> Building video drive/My Drive/Colab Notebooks/using a wrench videos/clipped/Bionic Grip Wrenches.mp4\n",
            "[MoviePy] Writing audio in Bionic Grip WrenchesTEMP_MPY_wvf_snd.mp3\n"
          ]
        },
        {
          "output_type": "stream",
          "name": "stderr",
          "text": [
            "100%|██████████| 221/221 [00:00<00:00, 720.78it/s]"
          ]
        },
        {
          "output_type": "stream",
          "name": "stdout",
          "text": [
            "[MoviePy] Done.\n",
            "[MoviePy] Writing video drive/My Drive/Colab Notebooks/using a wrench videos/clipped/Bionic Grip Wrenches.mp4\n"
          ]
        },
        {
          "output_type": "stream",
          "name": "stderr",
          "text": [
            "\n",
            "100%|██████████| 300/300 [00:15<00:00, 19.81it/s]\n"
          ]
        },
        {
          "output_type": "stream",
          "name": "stdout",
          "text": [
            "[MoviePy] Done.\n",
            "[MoviePy] >>>> Video ready: drive/My Drive/Colab Notebooks/using a wrench videos/clipped/Bionic Grip Wrenches.mp4 \n",
            "\n",
            "Downloading EZ-Spanner Mini Goat Standpipe Use Video | size = 2.156166 mb\n",
            "[MoviePy] >>>> Building video drive/My Drive/Colab Notebooks/using a wrench videos/clipped/EZ-Spanner Mini Goat Standpipe Use Video.mp4\n",
            "[MoviePy] Writing audio in EZ-Spanner Mini Goat Standpipe Use VideoTEMP_MPY_wvf_snd.mp3\n"
          ]
        },
        {
          "output_type": "stream",
          "name": "stderr",
          "text": [
            "100%|██████████| 221/221 [00:00<00:00, 783.08it/s]"
          ]
        },
        {
          "output_type": "stream",
          "name": "stdout",
          "text": [
            "[MoviePy] Done.\n",
            "[MoviePy] Writing video drive/My Drive/Colab Notebooks/using a wrench videos/clipped/EZ-Spanner Mini Goat Standpipe Use Video.mp4\n"
          ]
        },
        {
          "output_type": "stream",
          "name": "stderr",
          "text": [
            "\n",
            "100%|█████████▉| 300/301 [00:11<00:00, 25.82it/s]\n"
          ]
        },
        {
          "output_type": "stream",
          "name": "stdout",
          "text": [
            "[MoviePy] Done.\n",
            "[MoviePy] >>>> Video ready: drive/My Drive/Colab Notebooks/using a wrench videos/clipped/EZ-Spanner Mini Goat Standpipe Use Video.mp4 \n",
            "\n",
            "Downloading Multi Wrench | size = 4.892427 mb\n",
            "[MoviePy] >>>> Building video drive/My Drive/Colab Notebooks/using a wrench videos/clipped/Multi Wrench.mp4\n",
            "[MoviePy] Writing audio in Multi WrenchTEMP_MPY_wvf_snd.mp3\n"
          ]
        },
        {
          "output_type": "stream",
          "name": "stderr",
          "text": [
            "100%|██████████| 221/221 [00:00<00:00, 523.76it/s]"
          ]
        },
        {
          "output_type": "stream",
          "name": "stdout",
          "text": [
            "[MoviePy] Done.\n",
            "[MoviePy] Writing video drive/My Drive/Colab Notebooks/using a wrench videos/clipped/Multi Wrench.mp4\n"
          ]
        },
        {
          "output_type": "stream",
          "name": "stderr",
          "text": [
            "\n",
            "100%|█████████▉| 250/251 [00:03<00:00, 75.75it/s]\n"
          ]
        },
        {
          "output_type": "stream",
          "name": "stdout",
          "text": [
            "[MoviePy] Done.\n",
            "[MoviePy] >>>> Video ready: drive/My Drive/Colab Notebooks/using a wrench videos/clipped/Multi Wrench.mp4 \n",
            "\n",
            "Downloading Faithfull 6 Piece Ratchet Combination Spanner Set Flex Head | size = 22.107192 mb\n",
            "[MoviePy] >>>> Building video drive/My Drive/Colab Notebooks/using a wrench videos/clipped/Faithfull 6 Piece Ratchet Combination Spanner Set Flex Head.mp4\n",
            "[MoviePy] Writing audio in Faithfull 6 Piece Ratchet Combination Spanner Set Flex HeadTEMP_MPY_wvf_snd.mp3\n"
          ]
        },
        {
          "output_type": "stream",
          "name": "stderr",
          "text": [
            "100%|██████████| 221/221 [00:00<00:00, 485.67it/s]"
          ]
        },
        {
          "output_type": "stream",
          "name": "stdout",
          "text": [
            "[MoviePy] Done.\n",
            "[MoviePy] Writing video drive/My Drive/Colab Notebooks/using a wrench videos/clipped/Faithfull 6 Piece Ratchet Combination Spanner Set Flex Head.mp4\n"
          ]
        },
        {
          "output_type": "stream",
          "name": "stderr",
          "text": [
            "\n",
            "100%|██████████| 249/249 [00:13<00:00, 17.89it/s]\n"
          ]
        },
        {
          "output_type": "stream",
          "name": "stdout",
          "text": [
            "[MoviePy] Done.\n",
            "[MoviePy] >>>> Video ready: drive/My Drive/Colab Notebooks/using a wrench videos/clipped/Faithfull 6 Piece Ratchet Combination Spanner Set Flex Head.mp4 \n",
            "\n",
            "Downloading Warren & Brown Precision Tools - Ratcheting Drive Spanner | size = 17.202392 mb\n",
            "[MoviePy] >>>> Building video drive/My Drive/Colab Notebooks/using a wrench videos/clipped/Warren & Brown Precision Tools - Ratcheting Drive Spanner.mp4\n",
            "[MoviePy] Writing audio in Warren & Brown Precision Tools - Ratcheting Drive SpannerTEMP_MPY_wvf_snd.mp3\n"
          ]
        },
        {
          "output_type": "stream",
          "name": "stderr",
          "text": [
            "100%|██████████| 221/221 [00:00<00:00, 372.11it/s]\n"
          ]
        },
        {
          "output_type": "stream",
          "name": "stdout",
          "text": [
            "[MoviePy] Done.\n",
            "[MoviePy] Writing video drive/My Drive/Colab Notebooks/using a wrench videos/clipped/Warren & Brown Precision Tools - Ratcheting Drive Spanner.mp4\n"
          ]
        },
        {
          "output_type": "stream",
          "name": "stderr",
          "text": [
            "100%|█████████▉| 250/251 [00:21<00:00, 11.38it/s]\n"
          ]
        },
        {
          "output_type": "stream",
          "name": "stdout",
          "text": [
            "[MoviePy] Done.\n",
            "[MoviePy] >>>> Video ready: drive/My Drive/Colab Notebooks/using a wrench videos/clipped/Warren & Brown Precision Tools - Ratcheting Drive Spanner.mp4 \n",
            "\n",
            "Downloading 46600 Universal Inner Tie Rod Wrench | size = 1.530671 mb\n",
            "[MoviePy] >>>> Building video drive/My Drive/Colab Notebooks/using a wrench videos/clipped/46600 Universal Inner Tie Rod Wrench.mp4\n",
            "[MoviePy] Writing audio in 46600 Universal Inner Tie Rod WrenchTEMP_MPY_wvf_snd.mp3\n"
          ]
        },
        {
          "output_type": "stream",
          "name": "stderr",
          "text": [
            "100%|██████████| 221/221 [00:00<00:00, 1141.97it/s]\n"
          ]
        },
        {
          "output_type": "stream",
          "name": "stdout",
          "text": [
            "[MoviePy] Done.\n",
            "[MoviePy] Writing video drive/My Drive/Colab Notebooks/using a wrench videos/clipped/46600 Universal Inner Tie Rod Wrench.mp4\n"
          ]
        },
        {
          "output_type": "stream",
          "name": "stderr",
          "text": [
            "100%|██████████| 300/300 [00:04<00:00, 69.19it/s]\n"
          ]
        },
        {
          "output_type": "stream",
          "name": "stdout",
          "text": [
            "[MoviePy] Done.\n",
            "[MoviePy] >>>> Video ready: drive/My Drive/Colab Notebooks/using a wrench videos/clipped/46600 Universal Inner Tie Rod Wrench.mp4 \n",
            "\n",
            "Downloading Snap-on Hammer Tight striking wrench holder part 2 | size = 13.220921 mb\n",
            "[MoviePy] >>>> Building video drive/My Drive/Colab Notebooks/using a wrench videos/clipped/Snap-on Hammer Tight striking wrench holder part 2.mp4\n",
            "[MoviePy] Writing audio in Snap-on Hammer Tight striking wrench holder part 2TEMP_MPY_wvf_snd.mp3\n"
          ]
        },
        {
          "output_type": "stream",
          "name": "stderr",
          "text": [
            "100%|██████████| 221/221 [00:00<00:00, 845.14it/s]"
          ]
        },
        {
          "output_type": "stream",
          "name": "stdout",
          "text": [
            "[MoviePy] Done.\n",
            "[MoviePy] Writing video drive/My Drive/Colab Notebooks/using a wrench videos/clipped/Snap-on Hammer Tight striking wrench holder part 2.mp4\n"
          ]
        },
        {
          "output_type": "stream",
          "name": "stderr",
          "text": [
            "\n",
            "100%|██████████| 300/300 [00:22<00:00, 13.54it/s]\n"
          ]
        },
        {
          "output_type": "stream",
          "name": "stdout",
          "text": [
            "[MoviePy] Done.\n",
            "[MoviePy] >>>> Video ready: drive/My Drive/Colab Notebooks/using a wrench videos/clipped/Snap-on Hammer Tight striking wrench holder part 2.mp4 \n",
            "\n",
            "Downloading THIRD HAND TOOL TRICK | size = 11.199399 mb\n",
            "[MoviePy] >>>> Building video drive/My Drive/Colab Notebooks/using a wrench videos/clipped/THIRD HAND TOOL TRICK.mp4\n",
            "[MoviePy] Writing audio in THIRD HAND TOOL TRICKTEMP_MPY_wvf_snd.mp3\n"
          ]
        },
        {
          "output_type": "stream",
          "name": "stderr",
          "text": [
            "100%|██████████| 221/221 [00:00<00:00, 528.77it/s]"
          ]
        },
        {
          "output_type": "stream",
          "name": "stdout",
          "text": [
            "[MoviePy] Done.\n",
            "[MoviePy] Writing video drive/My Drive/Colab Notebooks/using a wrench videos/clipped/THIRD HAND TOOL TRICK.mp4\n"
          ]
        },
        {
          "output_type": "stream",
          "name": "stderr",
          "text": [
            "\n",
            "100%|█████████▉| 300/301 [00:17<00:00, 17.59it/s]\n"
          ]
        },
        {
          "output_type": "stream",
          "name": "stdout",
          "text": [
            "[MoviePy] Done.\n",
            "[MoviePy] >>>> Video ready: drive/My Drive/Colab Notebooks/using a wrench videos/clipped/THIRD HAND TOOL TRICK.mp4 \n",
            "\n",
            "Downloading Universal Snap'N Grip Wrench Set from everbuying | size = 43.455833 mb\n",
            "[MoviePy] >>>> Building video drive/My Drive/Colab Notebooks/using a wrench videos/clipped/Universal Snap'N Grip Wrench Set from everbuying.mp4\n",
            "[MoviePy] Writing audio in Universal Snap'N Grip Wrench Set from everbuyingTEMP_MPY_wvf_snd.mp3\n"
          ]
        },
        {
          "output_type": "stream",
          "name": "stderr",
          "text": [
            "100%|██████████| 221/221 [00:00<00:00, 532.36it/s]"
          ]
        },
        {
          "output_type": "stream",
          "name": "stdout",
          "text": [
            "[MoviePy] Done.\n",
            "[MoviePy] Writing video drive/My Drive/Colab Notebooks/using a wrench videos/clipped/Universal Snap'N Grip Wrench Set from everbuying.mp4\n"
          ]
        },
        {
          "output_type": "stream",
          "name": "stderr",
          "text": [
            "\n",
            "100%|█████████▉| 300/301 [00:20<00:00, 14.71it/s]\n"
          ]
        },
        {
          "output_type": "stream",
          "name": "stdout",
          "text": [
            "[MoviePy] Done.\n",
            "[MoviePy] >>>> Video ready: drive/My Drive/Colab Notebooks/using a wrench videos/clipped/Universal Snap'N Grip Wrench Set from everbuying.mp4 \n",
            "\n",
            "Downloading How to turn Crank Pulley manually with open-ended Wrench and remove lower timing belt cover | size = 38.362479 mb\n",
            "[MoviePy] >>>> Building video drive/My Drive/Colab Notebooks/using a wrench videos/clipped/How to turn Crank Pulley manually with open-ended Wrench and remove lower timing belt cover.mp4\n",
            "[MoviePy] Writing audio in How to turn Crank Pulley manually with open-ended Wrench and remove lower timing belt coverTEMP_MPY_wvf_snd.mp3\n"
          ]
        },
        {
          "output_type": "stream",
          "name": "stderr",
          "text": [
            "100%|██████████| 221/221 [00:00<00:00, 522.78it/s]"
          ]
        },
        {
          "output_type": "stream",
          "name": "stdout",
          "text": [
            "[MoviePy] Done.\n",
            "[MoviePy] Writing video drive/My Drive/Colab Notebooks/using a wrench videos/clipped/How to turn Crank Pulley manually with open-ended Wrench and remove lower timing belt cover.mp4\n"
          ]
        },
        {
          "output_type": "stream",
          "name": "stderr",
          "text": [
            "\n",
            "100%|██████████| 300/300 [00:22<00:00, 13.30it/s]\n"
          ]
        },
        {
          "output_type": "stream",
          "name": "stdout",
          "text": [
            "[MoviePy] Done.\n",
            "[MoviePy] >>>> Video ready: drive/My Drive/Colab Notebooks/using a wrench videos/clipped/How to turn Crank Pulley manually with open-ended Wrench and remove lower timing belt cover.mp4 \n",
            "\n",
            "Downloading Drum Wrench Socket 3 | size = 5.180478 mb\n",
            "[MoviePy] >>>> Building video drive/My Drive/Colab Notebooks/using a wrench videos/clipped/Drum Wrench Socket 3.mp4\n",
            "[MoviePy] Writing audio in Drum Wrench Socket 3TEMP_MPY_wvf_snd.mp3\n"
          ]
        },
        {
          "output_type": "stream",
          "name": "stderr",
          "text": [
            "100%|██████████| 221/221 [00:00<00:00, 402.84it/s]"
          ]
        },
        {
          "output_type": "stream",
          "name": "stdout",
          "text": [
            "[MoviePy] Done.\n",
            "[MoviePy] Writing video drive/My Drive/Colab Notebooks/using a wrench videos/clipped/Drum Wrench Socket 3.mp4\n"
          ]
        },
        {
          "output_type": "stream",
          "name": "stderr",
          "text": [
            "\n",
            "100%|██████████| 300/300 [00:03<00:00, 75.78it/s]\n"
          ]
        },
        {
          "output_type": "stream",
          "name": "stdout",
          "text": [
            "[MoviePy] Done.\n",
            "[MoviePy] >>>> Video ready: drive/My Drive/Colab Notebooks/using a wrench videos/clipped/Drum Wrench Socket 3.mp4 \n",
            "\n",
            "Downloading Leon spanner | size = 1.499871 mb\n",
            "[MoviePy] >>>> Building video drive/My Drive/Colab Notebooks/using a wrench videos/clipped/Leon spanner.mp4\n",
            "[MoviePy] Writing audio in Leon spannerTEMP_MPY_wvf_snd.mp3\n"
          ]
        },
        {
          "output_type": "stream",
          "name": "stderr",
          "text": [
            "100%|██████████| 221/221 [00:00<00:00, 771.47it/s]"
          ]
        },
        {
          "output_type": "stream",
          "name": "stdout",
          "text": [
            "[MoviePy] Done.\n",
            "[MoviePy] Writing video drive/My Drive/Colab Notebooks/using a wrench videos/clipped/Leon spanner.mp4\n"
          ]
        },
        {
          "output_type": "stream",
          "name": "stderr",
          "text": [
            "\n",
            "100%|█████████▉| 300/301 [00:02<00:00, 145.35it/s]\n"
          ]
        },
        {
          "output_type": "stream",
          "name": "stdout",
          "text": [
            "[MoviePy] Done.\n",
            "[MoviePy] >>>> Video ready: drive/My Drive/Colab Notebooks/using a wrench videos/clipped/Leon spanner.mp4 \n",
            "\n",
            "Downloading 33 Gear Wrench Ratcheting Videos | size = 33.690752 mb\n",
            "[MoviePy] >>>> Building video drive/My Drive/Colab Notebooks/using a wrench videos/clipped/33 Gear Wrench Ratcheting Videos.mp4\n",
            "[MoviePy] Writing audio in 33 Gear Wrench Ratcheting VideosTEMP_MPY_wvf_snd.mp3\n"
          ]
        },
        {
          "output_type": "stream",
          "name": "stderr",
          "text": [
            "100%|██████████| 221/221 [00:00<00:00, 427.10it/s]"
          ]
        },
        {
          "output_type": "stream",
          "name": "stdout",
          "text": [
            "[MoviePy] Done.\n",
            "[MoviePy] Writing video drive/My Drive/Colab Notebooks/using a wrench videos/clipped/33 Gear Wrench Ratcheting Videos.mp4\n"
          ]
        },
        {
          "output_type": "stream",
          "name": "stderr",
          "text": [
            "\n",
            " 99%|█████████▉| 150/151 [00:01<00:00, 80.36it/s]\n"
          ]
        },
        {
          "output_type": "stream",
          "name": "stdout",
          "text": [
            "[MoviePy] Done.\n",
            "[MoviePy] >>>> Video ready: drive/My Drive/Colab Notebooks/using a wrench videos/clipped/33 Gear Wrench Ratcheting Videos.mp4 \n",
            "\n",
            "Downloading Wrench 1 | size = 56.212644 mb\n",
            "[MoviePy] >>>> Building video drive/My Drive/Colab Notebooks/using a wrench videos/clipped/Wrench 1.mp4\n",
            "[MoviePy] Writing audio in Wrench 1TEMP_MPY_wvf_snd.mp3\n"
          ]
        },
        {
          "output_type": "stream",
          "name": "stderr",
          "text": [
            "100%|██████████| 221/221 [00:00<00:00, 427.24it/s]"
          ]
        },
        {
          "output_type": "stream",
          "name": "stdout",
          "text": [
            "[MoviePy] Done.\n"
          ]
        },
        {
          "output_type": "stream",
          "name": "stderr",
          "text": [
            "\n"
          ]
        },
        {
          "output_type": "stream",
          "name": "stdout",
          "text": [
            "[MoviePy] Writing video drive/My Drive/Colab Notebooks/using a wrench videos/clipped/Wrench 1.mp4\n"
          ]
        },
        {
          "output_type": "stream",
          "name": "stderr",
          "text": [
            "100%|██████████| 300/300 [00:22<00:00, 13.56it/s]\n"
          ]
        },
        {
          "output_type": "stream",
          "name": "stdout",
          "text": [
            "[MoviePy] Done.\n",
            "[MoviePy] >>>> Video ready: drive/My Drive/Colab Notebooks/using a wrench videos/clipped/Wrench 1.mp4 \n",
            "\n",
            "jH5M-RYy_Q0 is a private video\n",
            "Downloading HOW TO USE YOUR WRENCH AS A HAMMER.. IF YOU FORGOT YOUR HAMMER | size = 38.811137 mb\n",
            "[MoviePy] >>>> Building video drive/My Drive/Colab Notebooks/using a wrench videos/clipped/HOW TO USE YOUR WRENCH AS A HAMMER.. IF YOU FORGOT YOUR HAMMER.mp4\n",
            "[MoviePy] Writing audio in HOW TO USE YOUR WRENCH AS A HAMMER.. IF YOU FORGOT YOUR HAMMERTEMP_MPY_wvf_snd.mp3\n"
          ]
        },
        {
          "output_type": "stream",
          "name": "stderr",
          "text": [
            "100%|██████████| 221/221 [00:00<00:00, 773.42it/s]"
          ]
        },
        {
          "output_type": "stream",
          "name": "stdout",
          "text": [
            "[MoviePy] Done.\n",
            "[MoviePy] Writing video drive/My Drive/Colab Notebooks/using a wrench videos/clipped/HOW TO USE YOUR WRENCH AS A HAMMER.. IF YOU FORGOT YOUR HAMMER.mp4\n"
          ]
        },
        {
          "output_type": "stream",
          "name": "stderr",
          "text": [
            "\n",
            "100%|██████████| 300/300 [00:24<00:00, 12.50it/s]\n"
          ]
        },
        {
          "output_type": "stream",
          "name": "stdout",
          "text": [
            "[MoviePy] Done.\n",
            "[MoviePy] >>>> Video ready: drive/My Drive/Colab Notebooks/using a wrench videos/clipped/HOW TO USE YOUR WRENCH AS A HAMMER.. IF YOU FORGOT YOUR HAMMER.mp4 \n",
            "\n",
            "Downloading Valve Wrench Tool | size = 0.485848 mb\n",
            "[MoviePy] >>>> Building video drive/My Drive/Colab Notebooks/using a wrench videos/clipped/Valve Wrench Tool.mp4\n",
            "[MoviePy] Writing audio in Valve Wrench ToolTEMP_MPY_wvf_snd.mp3\n"
          ]
        },
        {
          "output_type": "stream",
          "name": "stderr",
          "text": [
            " 99%|█████████▊| 218/221 [00:00<00:00, 1263.38it/s]\n"
          ]
        },
        {
          "output_type": "stream",
          "name": "stdout",
          "text": [
            "Error in file drive/My Drive/Colab Notebooks/using a wrench videos/Valve Wrench Tool.mp4, Accessing time t=10.86-10.91 seconds, with clip duration=10 seconds, \n",
            "Downloading Elbow Wrench | size = 1.165354 mb\n",
            "[MoviePy] >>>> Building video drive/My Drive/Colab Notebooks/using a wrench videos/clipped/Elbow Wrench.mp4\n",
            "[MoviePy] Writing audio in Elbow WrenchTEMP_MPY_wvf_snd.mp3\n"
          ]
        },
        {
          "output_type": "stream",
          "name": "stderr",
          "text": [
            "100%|██████████| 221/221 [00:00<00:00, 555.43it/s]\n"
          ]
        },
        {
          "output_type": "stream",
          "name": "stdout",
          "text": [
            "[MoviePy] Done.\n",
            "[MoviePy] Writing video drive/My Drive/Colab Notebooks/using a wrench videos/clipped/Elbow Wrench.mp4\n"
          ]
        },
        {
          "output_type": "stream",
          "name": "stderr",
          "text": [
            "100%|██████████| 300/300 [00:03<00:00, 78.72it/s] \n"
          ]
        },
        {
          "output_type": "stream",
          "name": "stdout",
          "text": [
            "[MoviePy] Done.\n",
            "[MoviePy] >>>> Video ready: drive/My Drive/Colab Notebooks/using a wrench videos/clipped/Elbow Wrench.mp4 \n",
            "\n",
            "Downloading Bahco Adjustable Wrench Triple Pack - BAHADJ3 Sealants and Tools Direct | size = 24.185943 mb\n",
            "[MoviePy] >>>> Building video drive/My Drive/Colab Notebooks/using a wrench videos/clipped/Bahco Adjustable Wrench Triple Pack - BAHADJ3 Sealants and Tools Direct.mp4\n",
            "[MoviePy] Writing audio in Bahco Adjustable Wrench Triple Pack - BAHADJ3 Sealants and Tools DirectTEMP_MPY_wvf_snd.mp3\n"
          ]
        },
        {
          "output_type": "stream",
          "name": "stderr",
          "text": [
            "100%|██████████| 221/221 [00:00<00:00, 477.76it/s]"
          ]
        },
        {
          "output_type": "stream",
          "name": "stdout",
          "text": [
            "[MoviePy] Done.\n",
            "[MoviePy] Writing video drive/My Drive/Colab Notebooks/using a wrench videos/clipped/Bahco Adjustable Wrench Triple Pack - BAHADJ3 Sealants and Tools Direct.mp4\n"
          ]
        },
        {
          "output_type": "stream",
          "name": "stderr",
          "text": [
            "\n",
            "100%|█████████▉| 250/251 [00:16<00:00, 14.81it/s]\n"
          ]
        },
        {
          "output_type": "stream",
          "name": "stdout",
          "text": [
            "[MoviePy] Done.\n",
            "[MoviePy] >>>> Video ready: drive/My Drive/Colab Notebooks/using a wrench videos/clipped/Bahco Adjustable Wrench Triple Pack - BAHADJ3 Sealants and Tools Direct.mp4 \n",
            "\n",
            "Downloading Tite Reach Extension Wrenches | size = 12.88929 mb\n",
            "[MoviePy] >>>> Building video drive/My Drive/Colab Notebooks/using a wrench videos/clipped/Tite Reach Extension Wrenches.mp4\n",
            "[MoviePy] Writing audio in Tite Reach Extension WrenchesTEMP_MPY_wvf_snd.mp3\n"
          ]
        },
        {
          "output_type": "stream",
          "name": "stderr",
          "text": [
            "100%|██████████| 221/221 [00:00<00:00, 562.61it/s]"
          ]
        },
        {
          "output_type": "stream",
          "name": "stdout",
          "text": [
            "[MoviePy] Done.\n",
            "[MoviePy] Writing video drive/My Drive/Colab Notebooks/using a wrench videos/clipped/Tite Reach Extension Wrenches.mp4\n"
          ]
        },
        {
          "output_type": "stream",
          "name": "stderr",
          "text": [
            "\n",
            "100%|██████████| 300/300 [00:19<00:00, 15.42it/s]\n"
          ]
        },
        {
          "output_type": "stream",
          "name": "stdout",
          "text": [
            "[MoviePy] Done.\n",
            "[MoviePy] >>>> Video ready: drive/My Drive/Colab Notebooks/using a wrench videos/clipped/Tite Reach Extension Wrenches.mp4 \n",
            "\n",
            "Downloading Gear wrench Ratcheting line wrench review | size = 138.536964 mb\n",
            "[MoviePy] >>>> Building video drive/My Drive/Colab Notebooks/using a wrench videos/clipped/Gear wrench Ratcheting line wrench review.mp4\n",
            "[MoviePy] Writing audio in Gear wrench Ratcheting line wrench reviewTEMP_MPY_wvf_snd.mp3\n"
          ]
        },
        {
          "output_type": "stream",
          "name": "stderr",
          "text": [
            "100%|██████████| 221/221 [00:00<00:00, 523.90it/s]"
          ]
        },
        {
          "output_type": "stream",
          "name": "stdout",
          "text": [
            "[MoviePy] Done.\n",
            "[MoviePy] Writing video drive/My Drive/Colab Notebooks/using a wrench videos/clipped/Gear wrench Ratcheting line wrench review.mp4\n"
          ]
        },
        {
          "output_type": "stream",
          "name": "stderr",
          "text": [
            "\n",
            "100%|██████████| 293/293 [00:19<00:00, 15.34it/s]\n"
          ]
        },
        {
          "output_type": "stream",
          "name": "stdout",
          "text": [
            "[MoviePy] Done.\n",
            "[MoviePy] >>>> Video ready: drive/My Drive/Colab Notebooks/using a wrench videos/clipped/Gear wrench Ratcheting line wrench review.mp4 \n",
            "\n",
            "Downloading Tools: Allen wrench, crescent wrench | size = 13.510423 mb\n",
            "[MoviePy] >>>> Building video drive/My Drive/Colab Notebooks/using a wrench videos/clipped/Tools Allen wrench, crescent wrench.mp4\n",
            "[MoviePy] Writing audio in Tools Allen wrench, crescent wrenchTEMP_MPY_wvf_snd.mp3\n"
          ]
        },
        {
          "output_type": "stream",
          "name": "stderr",
          "text": [
            "100%|██████████| 221/221 [00:00<00:00, 540.58it/s]"
          ]
        },
        {
          "output_type": "stream",
          "name": "stdout",
          "text": [
            "[MoviePy] Done.\n",
            "[MoviePy] Writing video drive/My Drive/Colab Notebooks/using a wrench videos/clipped/Tools Allen wrench, crescent wrench.mp4\n"
          ]
        },
        {
          "output_type": "stream",
          "name": "stderr",
          "text": [
            "\n",
            "100%|██████████| 287/287 [00:04<00:00, 67.55it/s]\n"
          ]
        },
        {
          "output_type": "stream",
          "name": "stdout",
          "text": [
            "[MoviePy] Done.\n",
            "[MoviePy] >>>> Video ready: drive/My Drive/Colab Notebooks/using a wrench videos/clipped/Tools Allen wrench, crescent wrench.mp4 \n",
            "\n",
            "Downloading Ratchet Speed Wrench, Sealey AK6639 Half Inch Ratchet Speed Wrench | size = 13.671184 mb\n",
            "[MoviePy] >>>> Building video drive/My Drive/Colab Notebooks/using a wrench videos/clipped/Ratchet Speed Wrench, Sealey AK6639 Half Inch Ratchet Speed Wrench.mp4\n",
            "[MoviePy] Writing audio in Ratchet Speed Wrench, Sealey AK6639 Half Inch Ratchet Speed WrenchTEMP_MPY_wvf_snd.mp3\n"
          ]
        },
        {
          "output_type": "stream",
          "name": "stderr",
          "text": [
            "100%|██████████| 221/221 [00:00<00:00, 552.51it/s]\n"
          ]
        },
        {
          "output_type": "stream",
          "name": "stdout",
          "text": [
            "[MoviePy] Done.\n",
            "[MoviePy] Writing video drive/My Drive/Colab Notebooks/using a wrench videos/clipped/Ratchet Speed Wrench, Sealey AK6639 Half Inch Ratchet Speed Wrench.mp4\n"
          ]
        },
        {
          "output_type": "stream",
          "name": "stderr",
          "text": [
            "100%|█████████▉| 250/251 [00:15<00:00, 16.18it/s]\n"
          ]
        },
        {
          "output_type": "stream",
          "name": "stdout",
          "text": [
            "[MoviePy] Done.\n",
            "[MoviePy] >>>> Video ready: drive/My Drive/Colab Notebooks/using a wrench videos/clipped/Ratchet Speed Wrench, Sealey AK6639 Half Inch Ratchet Speed Wrench.mp4 \n",
            "\n",
            "Downloading Big wrench party | size = 12.993835 mb\n",
            "[MoviePy] >>>> Building video drive/My Drive/Colab Notebooks/using a wrench videos/clipped/Big wrench party.mp4\n",
            "[MoviePy] Writing audio in Big wrench partyTEMP_MPY_wvf_snd.mp3\n"
          ]
        },
        {
          "output_type": "stream",
          "name": "stderr",
          "text": [
            "100%|██████████| 221/221 [00:00<00:00, 463.69it/s]"
          ]
        },
        {
          "output_type": "stream",
          "name": "stdout",
          "text": [
            "[MoviePy] Done.\n",
            "[MoviePy] Writing video drive/My Drive/Colab Notebooks/using a wrench videos/clipped/Big wrench party.mp4\n"
          ]
        },
        {
          "output_type": "stream",
          "name": "stderr",
          "text": [
            "\n",
            " 99%|█████████▉| 150/151 [00:11<00:00, 13.58it/s]\n"
          ]
        },
        {
          "output_type": "stream",
          "name": "stdout",
          "text": [
            "[MoviePy] Done.\n",
            "[MoviePy] >>>> Video ready: drive/My Drive/Colab Notebooks/using a wrench videos/clipped/Big wrench party.mp4 \n",
            "\n",
            "Downloading My Favorite Adjustable Wrench... | size = 51.408901 mb\n",
            "[MoviePy] >>>> Building video drive/My Drive/Colab Notebooks/using a wrench videos/clipped/My Favorite Adjustable Wrench....mp4\n",
            "[MoviePy] Writing audio in My Favorite Adjustable Wrench...TEMP_MPY_wvf_snd.mp3\n"
          ]
        },
        {
          "output_type": "stream",
          "name": "stderr",
          "text": [
            "100%|██████████| 221/221 [00:00<00:00, 506.70it/s]"
          ]
        },
        {
          "output_type": "stream",
          "name": "stdout",
          "text": [
            "[MoviePy] Done.\n",
            "[MoviePy] Writing video drive/My Drive/Colab Notebooks/using a wrench videos/clipped/My Favorite Adjustable Wrench....mp4\n"
          ]
        },
        {
          "output_type": "stream",
          "name": "stderr",
          "text": [
            "\n",
            "100%|█████████▉| 300/301 [00:26<00:00, 11.40it/s]\n"
          ]
        },
        {
          "output_type": "stream",
          "name": "stdout",
          "text": [
            "[MoviePy] Done.\n",
            "[MoviePy] >>>> Video ready: drive/My Drive/Colab Notebooks/using a wrench videos/clipped/My Favorite Adjustable Wrench....mp4 \n",
            "\n",
            "Downloading ASW Series Speed Wrenches | size = 15.889799 mb\n",
            "[MoviePy] >>>> Building video drive/My Drive/Colab Notebooks/using a wrench videos/clipped/ASW Series Speed Wrenches.mp4\n",
            "[MoviePy] Writing audio in ASW Series Speed WrenchesTEMP_MPY_wvf_snd.mp3\n"
          ]
        },
        {
          "output_type": "stream",
          "name": "stderr",
          "text": [
            "100%|██████████| 221/221 [00:00<00:00, 380.39it/s]"
          ]
        },
        {
          "output_type": "stream",
          "name": "stdout",
          "text": [
            "[MoviePy] Done.\n",
            "[MoviePy] Writing video drive/My Drive/Colab Notebooks/using a wrench videos/clipped/ASW Series Speed Wrenches.mp4\n"
          ]
        },
        {
          "output_type": "stream",
          "name": "stderr",
          "text": [
            "\n",
            "100%|██████████| 300/300 [00:18<00:00, 16.39it/s]\n"
          ]
        },
        {
          "output_type": "stream",
          "name": "stdout",
          "text": [
            "[MoviePy] Done.\n",
            "[MoviePy] >>>> Video ready: drive/My Drive/Colab Notebooks/using a wrench videos/clipped/ASW Series Speed Wrenches.mp4 \n",
            "\n",
            "kf-rTD3ZuuU is a private video\n",
            "Downloading Crescent® Ratcheting Adjustable Wrench [ATR28] | size = 9.719273 mb\n",
            "[MoviePy] >>>> Building video drive/My Drive/Colab Notebooks/using a wrench videos/clipped/Crescent® Ratcheting Adjustable Wrench [ATR28].mp4\n",
            "[MoviePy] Writing audio in Crescent® Ratcheting Adjustable Wrench [ATR28]TEMP_MPY_wvf_snd.mp3\n"
          ]
        },
        {
          "output_type": "stream",
          "name": "stderr",
          "text": [
            "100%|██████████| 221/221 [00:00<00:00, 464.54it/s]"
          ]
        },
        {
          "output_type": "stream",
          "name": "stdout",
          "text": [
            "[MoviePy] Done.\n",
            "[MoviePy] Writing video drive/My Drive/Colab Notebooks/using a wrench videos/clipped/Crescent® Ratcheting Adjustable Wrench [ATR28].mp4\n"
          ]
        },
        {
          "output_type": "stream",
          "name": "stderr",
          "text": [
            "\n",
            "100%|██████████| 300/300 [00:16<00:00, 18.52it/s]\n"
          ]
        },
        {
          "output_type": "stream",
          "name": "stdout",
          "text": [
            "[MoviePy] Done.\n",
            "[MoviePy] >>>> Video ready: drive/My Drive/Colab Notebooks/using a wrench videos/clipped/Crescent® Ratcheting Adjustable Wrench [ATR28].mp4 \n",
            "\n",
            "Downloading Wera Joker - The Next Generation of Spanners | size = 38.083869 mb\n",
            "[MoviePy] >>>> Building video drive/My Drive/Colab Notebooks/using a wrench videos/clipped/Wera Joker - The Next Generation of Spanners.mp4\n",
            "[MoviePy] Writing audio in Wera Joker - The Next Generation of SpannersTEMP_MPY_wvf_snd.mp3\n"
          ]
        },
        {
          "output_type": "stream",
          "name": "stderr",
          "text": [
            "100%|██████████| 221/221 [00:00<00:00, 590.73it/s]"
          ]
        },
        {
          "output_type": "stream",
          "name": "stdout",
          "text": [
            "[MoviePy] Done.\n",
            "[MoviePy] Writing video drive/My Drive/Colab Notebooks/using a wrench videos/clipped/Wera Joker - The Next Generation of Spanners.mp4\n"
          ]
        },
        {
          "output_type": "stream",
          "name": "stderr",
          "text": [
            "\n",
            "100%|█████████▉| 250/251 [00:10<00:00, 23.89it/s]\n"
          ]
        },
        {
          "output_type": "stream",
          "name": "stdout",
          "text": [
            "[MoviePy] Done.\n",
            "[MoviePy] >>>> Video ready: drive/My Drive/Colab Notebooks/using a wrench videos/clipped/Wera Joker - The Next Generation of Spanners.mp4 \n",
            "\n",
            "Downloading TOTAL bent wrench 9-32mm | size = 4.070879 mb\n",
            "[MoviePy] >>>> Building video drive/My Drive/Colab Notebooks/using a wrench videos/clipped/TOTAL bent wrench 9-32mm.mp4\n",
            "[MoviePy] Writing audio in TOTAL bent wrench 9-32mmTEMP_MPY_wvf_snd.mp3\n"
          ]
        },
        {
          "output_type": "stream",
          "name": "stderr",
          "text": [
            "100%|██████████| 221/221 [00:00<00:00, 994.88it/s] "
          ]
        },
        {
          "output_type": "stream",
          "name": "stdout",
          "text": [
            "[MoviePy] Done.\n",
            "[MoviePy] Writing video drive/My Drive/Colab Notebooks/using a wrench videos/clipped/TOTAL bent wrench 9-32mm.mp4\n"
          ]
        },
        {
          "output_type": "stream",
          "name": "stderr",
          "text": [
            "\n",
            "100%|█████████▉| 250/251 [00:03<00:00, 66.78it/s]\n"
          ]
        },
        {
          "output_type": "stream",
          "name": "stdout",
          "text": [
            "[MoviePy] Done.\n",
            "[MoviePy] >>>> Video ready: drive/My Drive/Colab Notebooks/using a wrench videos/clipped/TOTAL bent wrench 9-32mm.mp4 \n",
            "\n",
            "Downloading Ratchet Tech Wrench Wrestle | size = 24.873044 mb\n",
            "[MoviePy] >>>> Building video drive/My Drive/Colab Notebooks/using a wrench videos/clipped/Ratchet Tech Wrench Wrestle.mp4\n",
            "[MoviePy] Writing audio in Ratchet Tech Wrench WrestleTEMP_MPY_wvf_snd.mp3\n"
          ]
        },
        {
          "output_type": "stream",
          "name": "stderr",
          "text": [
            "100%|██████████| 221/221 [00:00<00:00, 469.82it/s]"
          ]
        },
        {
          "output_type": "stream",
          "name": "stdout",
          "text": [
            "[MoviePy] Done.\n",
            "[MoviePy] Writing video drive/My Drive/Colab Notebooks/using a wrench videos/clipped/Ratchet Tech Wrench Wrestle.mp4\n"
          ]
        },
        {
          "output_type": "stream",
          "name": "stderr",
          "text": [
            "\n",
            "100%|█████████▉| 300/301 [00:20<00:00, 14.91it/s]\n"
          ]
        },
        {
          "output_type": "stream",
          "name": "stdout",
          "text": [
            "[MoviePy] Done.\n",
            "[MoviePy] >>>> Video ready: drive/My Drive/Colab Notebooks/using a wrench videos/clipped/Ratchet Tech Wrench Wrestle.mp4 \n",
            "\n",
            "Downloading Byrd wrench | size = 82.251606 mb\n",
            "[MoviePy] >>>> Building video drive/My Drive/Colab Notebooks/using a wrench videos/clipped/Byrd wrench.mp4\n",
            "[MoviePy] Writing audio in Byrd wrenchTEMP_MPY_wvf_snd.mp3\n"
          ]
        },
        {
          "output_type": "stream",
          "name": "stderr",
          "text": [
            "100%|██████████| 221/221 [00:00<00:00, 449.26it/s]"
          ]
        },
        {
          "output_type": "stream",
          "name": "stdout",
          "text": [
            "[MoviePy] Done.\n",
            "[MoviePy] Writing video drive/My Drive/Colab Notebooks/using a wrench videos/clipped/Byrd wrench.mp4\n"
          ]
        },
        {
          "output_type": "stream",
          "name": "stderr",
          "text": [
            "\n",
            "100%|█████████▉| 300/301 [00:16<00:00, 17.75it/s]\n"
          ]
        },
        {
          "output_type": "stream",
          "name": "stdout",
          "text": [
            "[MoviePy] Done.\n",
            "[MoviePy] >>>> Video ready: drive/My Drive/Colab Notebooks/using a wrench videos/clipped/Byrd wrench.mp4 \n",
            "\n",
            "Downloading MINI Adjustable Wrench + Mod | size = 53.942088 mb\n",
            "[MoviePy] >>>> Building video drive/My Drive/Colab Notebooks/using a wrench videos/clipped/MINI Adjustable Wrench + Mod.mp4\n",
            "[MoviePy] Writing audio in MINI Adjustable Wrench + ModTEMP_MPY_wvf_snd.mp3\n"
          ]
        },
        {
          "output_type": "stream",
          "name": "stderr",
          "text": [
            "100%|██████████| 221/221 [00:00<00:00, 525.26it/s]"
          ]
        },
        {
          "output_type": "stream",
          "name": "stdout",
          "text": [
            "[MoviePy] Done.\n",
            "[MoviePy] Writing video drive/My Drive/Colab Notebooks/using a wrench videos/clipped/MINI Adjustable Wrench + Mod.mp4\n"
          ]
        },
        {
          "output_type": "stream",
          "name": "stderr",
          "text": [
            "\n",
            "100%|██████████| 300/300 [00:12<00:00, 23.34it/s]\n"
          ]
        },
        {
          "output_type": "stream",
          "name": "stdout",
          "text": [
            "[MoviePy] Done.\n",
            "[MoviePy] >>>> Video ready: drive/My Drive/Colab Notebooks/using a wrench videos/clipped/MINI Adjustable Wrench + Mod.mp4 \n",
            "\n",
            "Downloading Snap-on Hammer Tight striking wrench holder.  Holds wrench while striking with hammer. | size = 15.213321 mb\n",
            "[MoviePy] >>>> Building video drive/My Drive/Colab Notebooks/using a wrench videos/clipped/Snap-on Hammer Tight striking wrench holder.  Holds wrench while striking with hammer..mp4\n",
            "[MoviePy] Writing audio in Snap-on Hammer Tight striking wrench holder.  Holds wrench while striking with hammer.TEMP_MPY_wvf_snd.mp3\n"
          ]
        },
        {
          "output_type": "stream",
          "name": "stderr",
          "text": [
            "100%|██████████| 221/221 [00:00<00:00, 776.07it/s]"
          ]
        },
        {
          "output_type": "stream",
          "name": "stdout",
          "text": [
            "[MoviePy] Done.\n",
            "[MoviePy] Writing video drive/My Drive/Colab Notebooks/using a wrench videos/clipped/Snap-on Hammer Tight striking wrench holder.  Holds wrench while striking with hammer..mp4\n"
          ]
        },
        {
          "output_type": "stream",
          "name": "stderr",
          "text": [
            "\n",
            "100%|██████████| 300/300 [00:23<00:00, 12.93it/s]\n"
          ]
        },
        {
          "output_type": "stream",
          "name": "stdout",
          "text": [
            "[MoviePy] Done.\n",
            "[MoviePy] >>>> Video ready: drive/My Drive/Colab Notebooks/using a wrench videos/clipped/Snap-on Hammer Tight striking wrench holder.  Holds wrench while striking with hammer..mp4 \n",
            "\n",
            "Downloading Ford wrench Car kit Antique Model T Jeep Tool | size = 2.415422 mb\n",
            "[MoviePy] >>>> Building video drive/My Drive/Colab Notebooks/using a wrench videos/clipped/Ford wrench Car kit Antique Model T Jeep Tool.mp4\n",
            "[MoviePy] Writing audio in Ford wrench Car kit Antique Model T Jeep ToolTEMP_MPY_wvf_snd.mp3\n"
          ]
        },
        {
          "output_type": "stream",
          "name": "stderr",
          "text": [
            "100%|██████████| 221/221 [00:00<00:00, 379.74it/s]"
          ]
        },
        {
          "output_type": "stream",
          "name": "stdout",
          "text": [
            "[MoviePy] Done.\n",
            "[MoviePy] Writing video drive/My Drive/Colab Notebooks/using a wrench videos/clipped/Ford wrench Car kit Antique Model T Jeep Tool.mp4\n"
          ]
        },
        {
          "output_type": "stream",
          "name": "stderr",
          "text": [
            "\n",
            "100%|██████████| 300/300 [00:03<00:00, 76.15it/s]\n"
          ]
        },
        {
          "output_type": "stream",
          "name": "stdout",
          "text": [
            "[MoviePy] Done.\n",
            "[MoviePy] >>>> Video ready: drive/My Drive/Colab Notebooks/using a wrench videos/clipped/Ford wrench Car kit Antique Model T Jeep Tool.mp4 \n",
            "\n",
            "Downloading Robbie and a wrench | size = 12.647532 mb\n",
            "[MoviePy] >>>> Building video drive/My Drive/Colab Notebooks/using a wrench videos/clipped/Robbie and a wrench.mp4\n",
            "[MoviePy] Writing audio in Robbie and a wrenchTEMP_MPY_wvf_snd.mp3\n"
          ]
        },
        {
          "output_type": "stream",
          "name": "stderr",
          "text": [
            "100%|██████████| 221/221 [00:00<00:00, 533.37it/s]"
          ]
        },
        {
          "output_type": "stream",
          "name": "stdout",
          "text": [
            "[MoviePy] Done.\n",
            "[MoviePy] Writing video drive/My Drive/Colab Notebooks/using a wrench videos/clipped/Robbie and a wrench.mp4\n"
          ]
        },
        {
          "output_type": "stream",
          "name": "stderr",
          "text": [
            "\n",
            "100%|█████████▉| 300/301 [00:07<00:00, 39.01it/s]\n"
          ]
        },
        {
          "output_type": "stream",
          "name": "stdout",
          "text": [
            "[MoviePy] Done.\n",
            "[MoviePy] >>>> Video ready: drive/My Drive/Colab Notebooks/using a wrench videos/clipped/Robbie and a wrench.mp4 \n",
            "\n",
            "Downloading Pocket-size guitar wrench | size = 7.593014 mb\n",
            "[MoviePy] >>>> Building video drive/My Drive/Colab Notebooks/using a wrench videos/clipped/Pocket-size guitar wrench.mp4\n",
            "[MoviePy] Writing audio in Pocket-size guitar wrenchTEMP_MPY_wvf_snd.mp3\n"
          ]
        },
        {
          "output_type": "stream",
          "name": "stderr",
          "text": [
            "100%|██████████| 221/221 [00:00<00:00, 484.56it/s]"
          ]
        },
        {
          "output_type": "stream",
          "name": "stdout",
          "text": [
            "[MoviePy] Done.\n",
            "[MoviePy] Writing video drive/My Drive/Colab Notebooks/using a wrench videos/clipped/Pocket-size guitar wrench.mp4\n"
          ]
        },
        {
          "output_type": "stream",
          "name": "stderr",
          "text": [
            "\n",
            "100%|██████████| 300/300 [00:14<00:00, 20.71it/s]\n"
          ]
        },
        {
          "output_type": "stream",
          "name": "stdout",
          "text": [
            "[MoviePy] Done.\n",
            "[MoviePy] >>>> Video ready: drive/My Drive/Colab Notebooks/using a wrench videos/clipped/Pocket-size guitar wrench.mp4 \n",
            "\n",
            "Downloading Folding Pocket Wrench | Unique Tools with Garrett Wade | size = 12.406569 mb\n",
            "[MoviePy] >>>> Building video drive/My Drive/Colab Notebooks/using a wrench videos/clipped/Folding Pocket Wrench  Unique Tools with Garrett Wade.mp4\n",
            "[MoviePy] Writing audio in Folding Pocket Wrench  Unique Tools with Garrett WadeTEMP_MPY_wvf_snd.mp3\n"
          ]
        },
        {
          "output_type": "stream",
          "name": "stderr",
          "text": [
            "100%|██████████| 221/221 [00:00<00:00, 678.65it/s]"
          ]
        },
        {
          "output_type": "stream",
          "name": "stdout",
          "text": [
            "[MoviePy] Done.\n",
            "[MoviePy] Writing video drive/My Drive/Colab Notebooks/using a wrench videos/clipped/Folding Pocket Wrench  Unique Tools with Garrett Wade.mp4\n"
          ]
        },
        {
          "output_type": "stream",
          "name": "stderr",
          "text": [
            "\n",
            "100%|█████████▉| 250/251 [00:14<00:00, 16.88it/s]\n"
          ]
        },
        {
          "output_type": "stream",
          "name": "stdout",
          "text": [
            "[MoviePy] Done.\n",
            "[MoviePy] >>>> Video ready: drive/My Drive/Colab Notebooks/using a wrench videos/clipped/Folding Pocket Wrench  Unique Tools with Garrett Wade.mp4 \n",
            "\n",
            "Downloading Stanley Bostitch Ratcheting Adjustable Wrench | size = 7.900128 mb\n",
            "[MoviePy] >>>> Building video drive/My Drive/Colab Notebooks/using a wrench videos/clipped/Stanley Bostitch Ratcheting Adjustable Wrench.mp4\n",
            "[MoviePy] Writing audio in Stanley Bostitch Ratcheting Adjustable WrenchTEMP_MPY_wvf_snd.mp3\n"
          ]
        },
        {
          "output_type": "stream",
          "name": "stderr",
          "text": [
            "100%|██████████| 221/221 [00:00<00:00, 389.09it/s]"
          ]
        },
        {
          "output_type": "stream",
          "name": "stdout",
          "text": [
            "[MoviePy] Done.\n",
            "[MoviePy] Writing video drive/My Drive/Colab Notebooks/using a wrench videos/clipped/Stanley Bostitch Ratcheting Adjustable Wrench.mp4\n"
          ]
        },
        {
          "output_type": "stream",
          "name": "stderr",
          "text": [
            "\n",
            "100%|██████████| 300/300 [00:03<00:00, 85.52it/s]\n"
          ]
        },
        {
          "output_type": "stream",
          "name": "stdout",
          "text": [
            "[MoviePy] Done.\n",
            "[MoviePy] >>>> Video ready: drive/My Drive/Colab Notebooks/using a wrench videos/clipped/Stanley Bostitch Ratcheting Adjustable Wrench.mp4 \n",
            "\n",
            "Downloading 24inch crecent wrench and s water bottle | size = 7.940233 mb\n"
          ]
        }
      ],
      "source": [
        "# importing the module \n",
        "import sys\n",
        "import os\n",
        "import shutil\n",
        "import pandas as pd\n",
        "from moviepy.editor import *\n",
        "import pytube \n",
        "from google.colab import drive\n",
        "drive.mount('/content/drive')\n",
        "\n",
        "\n",
        "def read_csv(PATH,label):\n",
        "    try:\n",
        "        df = pd.read_csv(PATH)\n",
        "    except:\n",
        "        print('ERROR :File not found, check file path again')\n",
        "      \n",
        "    lables = df['label'].tolist()\n",
        "    youtube_ids = df['youtube_id'].tolist()\n",
        "    time_start = df['time_start'].tolist()\n",
        "    time_end = df['time_end'].tolist()\n",
        "    l = []\n",
        "\n",
        "    for i in range(len(lables)):\n",
        "        if label in lables[i]:\n",
        "            l.append(lables[i] + \",\" + f'https://www.youtube.com/watch?v={youtube_ids[i]}' + \",\" + str(time_start[i]) + \",\" + str(time_end[i]))    \n",
        "    return l\n",
        "\n",
        "def clip(path,file_name,start_time,end_time):\n",
        "    video = VideoFileClip(f'{path}/{file_name}.mp4').subclip(start_time,end_time)\n",
        "    frames = video.fps\n",
        "    video.write_videofile(f'{path}/clipped/{file_name}.mp4',fps=frames)\n",
        "\n",
        "def remove_special_characters(name):\n",
        "    l = [\"\\\\\",\"/\",\"*\",\":\",\"|\",\"?\",\"<\",\">\",'\"']\n",
        "    for letter in l:\n",
        "        if letter in name:\n",
        "            name = name.replace(letter,\"\")\n",
        "    return name\n",
        "\n",
        "def downloadVideo(urls,label):\n",
        "    cwd = 'drive/My Drive/Colab Notebooks' \n",
        "    PATH = f'{cwd}/{label} videos'\n",
        "    print(f'Total Links found :{len(urls)}')\n",
        "    try:\n",
        "      file = open(f'{cwd}/{label}.txt' , 'r')\n",
        "      x = int(file.read())\n",
        "      file.close()\n",
        "    except FileNotFoundError:\n",
        "      x = 0\n",
        "    print(\"Starting from\",x)\n",
        "    for i in range(x,len(urls)):\n",
        "        file = open(f'{cwd}/{label}.txt' , 'w')\n",
        "        file.write(str(i))\n",
        "        file.close()\n",
        "        url = urls[i]   \n",
        "        try:\n",
        "            youtube = pytube.YouTube(url.split(',')[1])\n",
        "            video = youtube.streams.get_highest_resolution()\n",
        "            print(f'Downloading {video.title} | size = {video.filesize/1000000} mb')\n",
        "            video.download(filename = f'{PATH}/{remove_special_characters(video.title)}.mp4')\n",
        "            if youtube.length > 10:\n",
        "                clip(PATH,remove_special_characters(video.title),int(url.split(',')[2]),int(url.split(',')[3]))\n",
        "            else:\n",
        "                original = f'{PATH}/{remove_special_characters(video.title)}.mp4'\n",
        "                target = f'{PATH}/clipped\\\\{remove_special_characters(video.title)}.mp4'\n",
        "                shutil.copyfile(original, target)\n",
        "        except Exception as e: print(e)\n",
        "    \n",
        "if __name__ == \"__main__\":\n",
        "    LABEL = sys.argv[1]\n",
        "    cwd = 'drive/My Drive/Colab Notebooks' \n",
        "    try:\n",
        "        os.mkdir(f'{cwd}/{LABEL} videos')\n",
        "    except:\n",
        "        pass\n",
        "    try:\n",
        "        os.mkdir(f'{cwd}/{LABEL} videos/clipped')\n",
        "    except:\n",
        "        pass\n",
        "    urls = read_csv(f'{cwd}/train.csv',LABEL)\n",
        "    downloadVideo(urls,LABEL)"
      ]
    }
  ]
}